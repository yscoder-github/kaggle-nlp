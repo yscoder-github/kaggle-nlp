{
 "cells": [
  {
   "cell_type": "code",
   "execution_count": null,
   "metadata": {
    "collapsed": true
   },
   "outputs": [],
   "source": [
    "import numpy as np\n",
    "import pandas as pd\n",
    "import itertools as it\n",
    "import pickle\n",
    "import glob\n",
    "import os\n",
    "import string\n",
    "import gc\n",
    "import re\n",
    "import time\n",
    "import nltk\n",
    "import spacy\n",
    "import textacy\n",
    "import en_core_web_md\n",
    "import sematch\n",
    "import gensim\n",
    "import networkx as nx\n",
    "import matplotlib.pyplot as plt\n",
    "%matplotlib inline\n",
    "\n",
    "from nltk import word_tokenize\n",
    "from nltk.corpus import wordnet as wn\n",
    "from tqdm import tqdm, tqdm_notebook\n",
    "\n",
    "from cleaning_utils import *\n",
    "\n",
    "import warnings\n",
    "warnings.filterwarnings('ignore')"
   ]
  },
  {
   "cell_type": "code",
   "execution_count": null,
   "metadata": {},
   "outputs": [],
   "source": [
    "src = '/media/w/1c392724-ecf3-4615-8f3c-79368ec36380/DS Projects/Kaggle/Quora/scripts/features/'\n",
    "\n",
    "trdf =  pd.read_csv(src + 'df_test_lemmatfullcleanSTEMMED.csv').iloc[:, :-1]\n",
    "tedf =  pd.read_csv(src + 'df_train_lemmatfullcleanSTEMMED.csv').iloc[:, 4:]\n",
    "\n",
    "#trdf =  pd.read_csv(src + 'df_train_spacylemmat_fullclean.csv').iloc[:, :-1]\n",
    "#tedf =  pd.read_csv(src + 'df_test_spacylemmat_fullclean.csv').iloc[:, 4:]\n",
    "\n",
    "trdf.fillna('NULL', inplace = True)\n",
    "tedf.fillna('NULL', inplace = True)\n",
    "\n",
    "questions = trdf.question1.tolist() + trdf.question2.tolist() + \\\n",
    "    tedf.question1.tolist() + tedf.question2.tolist()\n",
    "    \n",
    "tr_questions = trdf.question1.tolist() + trdf.question2.tolist()"
   ]
  },
  {
   "cell_type": "code",
   "execution_count": null,
   "metadata": {},
   "outputs": [],
   "source": [
    "corpus = textacy.Corpus(en_core_web_md.load(), texts = questions)\n",
    "\n",
    "doc_term_matrix, id2term = textacy.vsm.doc_term_matrix(\n",
    "    (doc.to_terms_list(ngrams=3, named_entities=True, as_strings=True) for doc in corpus),\n",
    "     weighting='tfidf', normalize=True, smooth_idf=True, min_df=2, max_df=0.95)\n",
    "\n",
    "print(corpus, doc_term_matrix.shape)"
   ]
  },
  {
   "cell_type": "code",
   "execution_count": null,
   "metadata": {
    "collapsed": true
   },
   "outputs": [],
   "source": [
    "info_content = textacy.vsm.get_information_content(doc_term_matrix)\n",
    "doc_freq = textacy.vsm.get_doc_freqs(doc_term_matrix)\n",
    "term_freq = textacy.vsm.get_term_freqs(doc_term_matrix)"
   ]
  },
  {
   "cell_type": "code",
   "execution_count": null,
   "metadata": {
    "collapsed": true,
    "scrolled": true
   },
   "outputs": [],
   "source": [
    "tr_feats = pd.DataFrame()\n",
    "tr_feats['textacy_jarowinkler'] = trdf.apply(lambda x: textacy.similarity.jaro_winkler(x['question1'], x['question2']), axis = 1)\n",
    "tr_feats['textacy_token_sort_ratio'] = trdf.apply(lambda x: textacy.similarity.token_sort_ratio(x['question1'], x['question2']), axis = 1)\n",
    "tr_feats['textacy_word2vec'] = trdf.apply(lambda x: textacy.similarity.word2vec(textacy.Doc(x['question1'], lang = 'en'), textacy.Doc(x['question2'], lang = 'en')), axis = 1)\n",
    "tr_feats.to_csv('train_textacy_similarity_feats.csv', index = False)"
   ]
  },
  {
   "cell_type": "code",
   "execution_count": null,
   "metadata": {
    "collapsed": true
   },
   "outputs": [],
   "source": [
    "te_feats = pd.DataFrame()\n",
    "te_feats['textacy_jarowinkler'] = tedf.apply(lambda x: textacy.similarity.jaro_winkler(x['question1'], x['question2']), axis = 1)\n",
    "te_feats['textacy_token_sort_ratio'] = tedf.apply(lambda x: textacy.similarity.token_sort_ratio(x['question1'], x['question2']), axis = 1)\n",
    "te_feats['textacy_word2vec'] = tedf.apply(lambda x: textacy.similarity.word2vec(textacy.Doc(x['question1'], lang = 'en'), textacy.Doc(x['question2'], lang = 'en')), axis = 1)\n",
    "te_feats.to_csv('test_textacy_similarity_feats.csv', index = False)"
   ]
  },
  {
   "cell_type": "code",
   "execution_count": null,
   "metadata": {
    "collapsed": true
   },
   "outputs": [],
   "source": [
    "t = time.time()\n",
    "\n",
    "docfreq_dict = {}\n",
    "for i, val in id2term.items():\n",
    "    docfreq_dict[val] = doc_freq[i]\n",
    "    \n",
    "termfreq_dict = {}\n",
    "for i, val in id2term.items():\n",
    "    termfreq_dict[val] = term_freq[i]\n",
    "    \n",
    "info_dict = {}\n",
    "for i, val in id2term.items():\n",
    "    info_dict[val] = info_content[i]\n",
    "    \n",
    "    \n",
    "keyterms_dict = {}\n",
    "for i in corpus:\n",
    "    try:\n",
    "        keyterms_dict[i.text] = textacy.keyterms.key_terms_from_semantic_network(i)[0][1]\n",
    "    except IndexError:\n",
    "        keyterms_dict[i.text] = 0.0\n",
    "        \n",
    "\n",
    "keyterms_sgrank_dict = {}\n",
    "for i in corpus:\n",
    "    try:\n",
    "        keyterms_sgrank_dict[i.text] = textacy.keyterms.sgrank(i)[0][1]\n",
    "    except IndexError:\n",
    "        keyterms_sgrank_dict[i.text] = 0.0\n",
    "\n",
    "print('Time it took to create dictionaries:', time.time() - t)"
   ]
  },
  {
   "cell_type": "code",
   "execution_count": null,
   "metadata": {
    "collapsed": true
   },
   "outputs": [],
   "source": [
    "def apply_dict(x, dict_to_apply):\n",
    "    new_x = []\n",
    "    for i in x:\n",
    "        try:\n",
    "            i = dict_to_apply[(str(i))]\n",
    "        except KeyError:\n",
    "            i = 0\n",
    "        new_x.append(i)\n",
    "    return np.array(new_x)"
   ]
  },
  {
   "cell_type": "code",
   "execution_count": null,
   "metadata": {
    "collapsed": true,
    "scrolled": true
   },
   "outputs": [],
   "source": [
    "trdf =  pd.read_csv(src + 'df_train_spacylemmat_fullclean.csv').iloc[:, :-1]\n",
    "trdf.fillna('NULL', inplace = True)\n",
    "df = trdf.copy()\n",
    "\n",
    "t = time.time()\n",
    "\n",
    "df['question1_doc'] = df['question1'].apply(lambda x: textacy.doc.Doc(x, lang = 'en'))\n",
    "df['question1_doc'] = df['question1_doc'].apply(lambda x: list(textacy.extract.ngrams(x, 3)))\n",
    "\n",
    "df['q1_docfreq_max'] = df['question1_doc'].apply(lambda x: np.max(apply_dict(x, docfreq_dict)) if len(x) > 0 else 0)\n",
    "df['q1_termfreq_max'] = df['question1_doc'].apply(lambda x: np.max(apply_dict(x, termfreq_dict)) if len(x) > 0 else 0)\n",
    "df['q1_infocontent_max'] = df['question1_doc'].apply(lambda x: np.max(apply_dict(x, info_dict)) if len(x) > 0 else 0)\n",
    "\n",
    "df['q1_keyterms_max'] = df['question1'].map(keyterms_dict)\n",
    "df['q1_sgrank_max'] = df['question1'].map(keyterms_sgrank_dict)\n",
    "\n",
    "\n",
    "df['question2_doc'] = df['question2'].apply(lambda x: textacy.doc.Doc(x, lang = 'en'))\n",
    "df['question2_doc'] = df['question2_doc'].apply(lambda x: list(textacy.extract.ngrams(x, 3)))\n",
    "\n",
    "df['q2_docfreq_max'] = df['question2_doc'].apply(lambda x: np.max(apply_dict(x, docfreq_dict)) if len(x) > 0 else 0)\n",
    "df['q2_termfreq_max'] = df['question2_doc'].apply(lambda x: np.max(apply_dict(x, termfreq_dict)) if len(x) > 0 else 0)\n",
    "df['q2_infocontent_max'] = df['question2_doc'].apply(lambda x: np.max(apply_dict(x, info_dict)) if len(x) > 0 else 0)\n",
    "\n",
    "df['q2_keyterms_max'] = df['question2'].map(keyterms_dict)\n",
    "df['q2_sgrank_max'] = df['question2'].map(keyterms_sgrank_dict)\n",
    "\n",
    "df2 = df.iloc[:, 7:]\n",
    "df2.drop(['question2_doc'], axis = 1, inplace = True)\n",
    "df2.to_csv('train_textacymax_features.csv', index = False)\n",
    "\n",
    "print('Time it took:', time.time() - t)"
   ]
  },
  {
   "cell_type": "code",
   "execution_count": null,
   "metadata": {
    "collapsed": true
   },
   "outputs": [],
   "source": [
    "trdf =  pd.read_csv(src + 'df_train_spacylemmat_fullclean.csv').iloc[:, :-1]\n",
    "trdf.fillna('NULL', inplace = True)\n",
    "df = trdf.copy()\n",
    "\n",
    "t = time.time()\n",
    "\n",
    "df['question1_doc'] = df['question1'].apply(lambda x: textacy.doc.Doc(x, lang = 'en'))\n",
    "df['question1_doc'] = df['question1_doc'].apply(lambda x: list(textacy.extract.ngrams(x, 3)))\n",
    "\n",
    "df['q1_docfreq_mean'] = df['question1_doc'].apply(lambda x: np.mean(apply_dict(x, docfreq_dict)) if len(x) > 0 else 0)\n",
    "df['q1_termfreq_mean'] = df['question1_doc'].apply(lambda x: np.mean(apply_dict(x, termfreq_dict)) if len(x) > 0 else 0)\n",
    "df['q1_infocontent_mean'] = df['question1_doc'].apply(lambda x: np.mean(apply_dict(x, info_dict)) if len(x) > 0 else 0)\n",
    "\n",
    "df['q1_keyterms_mean'] = df['question1'].map(keyterms_dict)\n",
    "df['q1_sgrank_mean'] = df['question1'].map(keyterms_sgrank_dict)\n",
    "\n",
    "\n",
    "df['question2_doc'] = df['question2'].apply(lambda x: textacy.doc.Doc(x, lang = 'en'))\n",
    "df['question2_doc'] = df['question2_doc'].apply(lambda x: list(textacy.extract.ngrams(x, 3)))\n",
    "\n",
    "df['q2_docfreq_mean'] = df['question2_doc'].apply(lambda x: np.mean(apply_dict(x, docfreq_dict)) if len(x) > 0 else 0)\n",
    "df['q2_termfreq_mean'] = df['question2_doc'].apply(lambda x: np.mean(apply_dict(x, termfreq_dict)) if len(x) > 0 else 0)\n",
    "df['q2_infocontent_mean'] = df['question2_doc'].apply(lambda x: np.mean(apply_dict(x, info_dict)) if len(x) > 0 else 0)\n",
    "\n",
    "df['q2_keyterms_mean'] = df['question2'].map(keyterms_dict)\n",
    "df['q2_sgrank_mean'] = df['question2'].map(keyterms_sgrank_dict)\n",
    "\n",
    "df2 = df.iloc[:, 7:]\n",
    "df2.drop(['question2_doc'], axis = 1, inplace = True)\n",
    "df2.to_csv('train_textacymean_features.csv', index = False)\n",
    "\n",
    "print('Time it took:', time.time() - t)"
   ]
  },
  {
   "cell_type": "raw",
   "metadata": {},
   "source": [
    "nmf_model = textacy.tm.TopicModel('lda', n_topics = 10)\n",
    "nmf_model.fit(doc_term_matrix)\n",
    "nmf_transformed = nmf_model.transform(doc_term_matrix)"
   ]
  }
 ],
 "metadata": {
  "kernelspec": {
   "display_name": "Python 3",
   "language": "python",
   "name": "python3"
  },
  "language_info": {
   "codemirror_mode": {
    "name": "ipython",
    "version": 3
   },
   "file_extension": ".py",
   "mimetype": "text/x-python",
   "name": "python",
   "nbconvert_exporter": "python",
   "pygments_lexer": "ipython3",
   "version": "3.5.2"
  }
 },
 "nbformat": 4,
 "nbformat_minor": 2
}
