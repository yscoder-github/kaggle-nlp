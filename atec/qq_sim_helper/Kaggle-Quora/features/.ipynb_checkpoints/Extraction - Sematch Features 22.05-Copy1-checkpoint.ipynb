{
 "cells": [
  {
   "cell_type": "code",
   "execution_count": 1,
   "metadata": {},
   "outputs": [],
   "source": [
    "import numpy as np\n",
    "import pandas as pd\n",
    "import sematch\n",
    "\n",
    "from nltk import word_tokenize\n",
    "from nltk.corpus import wordnet as wn\n",
    "from tqdm import tqdm, tqdm_notebook\n",
    "from sematch.semantic.similarity import WordNetSimilarity\n",
    "from sematch.semantic.graph import SimGraph\n",
    "from sematch.semantic.similarity import WordNetSimilarity\n",
    "from sematch.nlp import Extraction, word_process\n",
    "from sematch.semantic.sparql import EntityFeatures\n",
    "from collections import Counter\n",
    "\n",
    "import warnings\n",
    "warnings.filterwarnings('ignore')"
   ]
  },
  {
   "cell_type": "code",
   "execution_count": 2,
   "metadata": {
    "collapsed": true
   },
   "outputs": [],
   "source": [
    "src = '/media/w/1c392724-ecf3-4615-8f3c-79368ec36380/DS Projects/Kaggle/Quora/scripts/features/'\n",
    "\n",
    "trdf =  pd.read_csv(src + 'df_train_spacylemmat_fullclean.csv').iloc[:, :-1]\n",
    "tedf =  pd.read_csv(src + 'df_test_spacylemmat_fullclean.csv').iloc[:, 4:]\n",
    "trdfs =  pd.read_csv(src + 'df_test_lemmatfullcleanSTEMMED.csv').iloc[:, :-1]\n",
    "tedfs =  pd.read_csv(src + 'df_train_lemmatfullcleanSTEMMED.csv').iloc[:, 4:]\n",
    "\n",
    "trdf.fillna('NULL', inplace = True)\n",
    "tedf.fillna('NULL', inplace = True)\n",
    "trdfs.fillna('NULL', inplace = True)\n",
    "tedfs.fillna('NULL', inplace = True)"
   ]
  },
  {
   "cell_type": "code",
   "execution_count": 3,
   "metadata": {
    "collapsed": true,
    "scrolled": true
   },
   "outputs": [],
   "source": [
    "def wns_similarity(q1, q2):\n",
    "    min_len = len(q1) if len(q1) < len(q2) else len(q2)\n",
    "    similarities = []\n",
    "    for i in range(min_len):\n",
    "        similarities.append(wns.word_similarity(q1[i], q2[i]))\n",
    "    return np.array(similarities)\n",
    "\n",
    "def compute_wns_sim(df2):\n",
    "    df = df2.copy()\n",
    "    X = pd.DataFrame()\n",
    "    df['question1'] = df['question1'].apply(lambda x: word_tokenize(x))\n",
    "    df['question2'] = df['question2'].apply(lambda x: word_tokenize(x))\n",
    "    X['wns_similarity_mean'] = df.apply(lambda x: np.mean(wns_similarity(x['question1'], x['question2'])), \n",
    "                                       axis = 1)\n",
    "    return X\n",
    "\n",
    "def tokenize_df(df2):\n",
    "    df = df2.copy()\n",
    "    df['question1'] = df['question1'].apply(lambda x: word_tokenize(x))\n",
    "    df['question2'] = df['question2'].apply(lambda x: word_tokenize(x))\n",
    "    return df\n",
    "\n",
    "def nouns_extraction(row):\n",
    "    que1 = str(row['question1'])\n",
    "    que2 = str(row['question2'])\n",
    "    out_list = []\n",
    "    unigrams_que1 = Extraction().extract_nouns(que1)\n",
    "    unigrams_que2 = Extraction().extract_nouns(que2)\n",
    "    common_unigrams_len = len(set(unigrams_que1).intersection(set(unigrams_que2)))\n",
    "    common_unigrams_ratio = float(common_unigrams_len) / max(len(set(unigrams_que1).union(set(unigrams_que2))),1)\n",
    "    out_list.extend([common_unigrams_len, common_unigrams_ratio])\n",
    "    return out_list"
   ]
  },
  {
   "cell_type": "code",
   "execution_count": null,
   "metadata": {
    "scrolled": true
   },
   "outputs": [],
   "source": [
    "X = pd.DataFrame()\n",
    "X['nouns_match_cleanedDF'] = trdf.apply(lambda x: nouns_extraction(x)[0], axis = 1)\n",
    "X['nouns_match_ratio_cleanedDF'] = trdf.apply(lambda x: nouns_extraction(x)[1], axis = 1)\n",
    "X['nouns_match_stemmedDF'] = trdfs.apply(lambda x: nouns_extraction(x)[0], axis = 1)\n",
    "X['nouns_match_ratio_stemmedDF'] = trdfs.apply(lambda x: nouns_extraction(x)[1], axis = 1)\n",
    "X.to_csv('train_NounsMatch.csv', index = False)"
   ]
  },
  {
   "cell_type": "code",
   "execution_count": null,
   "metadata": {
    "collapsed": true
   },
   "outputs": [],
   "source": []
  }
 ],
 "metadata": {
  "kernelspec": {
   "display_name": "Python 2",
   "language": "python",
   "name": "python2"
  },
  "language_info": {
   "codemirror_mode": {
    "name": "ipython",
    "version": 2
   },
   "file_extension": ".py",
   "mimetype": "text/x-python",
   "name": "python",
   "nbconvert_exporter": "python",
   "pygments_lexer": "ipython2",
   "version": "2.7.12"
  }
 },
 "nbformat": 4,
 "nbformat_minor": 2
}
