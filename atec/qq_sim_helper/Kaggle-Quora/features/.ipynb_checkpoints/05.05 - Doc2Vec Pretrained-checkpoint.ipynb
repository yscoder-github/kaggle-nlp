{
 "cells": [
  {
   "cell_type": "code",
   "execution_count": 1,
   "metadata": {
    "collapsed": true
   },
   "outputs": [],
   "source": [
    "from gensim.models.doc2vec import Doc2Vec\n",
    "from gensim.models import doc2vec\n",
    "\n",
    "from sklearn.feature_extraction.text import TfidfVectorizer\n",
    "from sklearn.metrics.pairwise import cosine_similarity\n",
    "from scipy.spatial.distance import cosine, jaccard, hamming, correlation\n",
    "from collections import Counter\n",
    "import nltk\n",
    "from nltk import word_tokenize\n",
    "from nltk.corpus import stopwords\n",
    "import re\n",
    "\n",
    "from sklearn.model_selection import train_test_split\n",
    "import math\n",
    "import gensim\n",
    "import json\n",
    "import sys\n",
    "import pandas as pd\n",
    "import numpy as np\n",
    "import gc\n",
    "\n",
    "import multiprocessing\n",
    "import functools\n",
    "from tqdm import tqdm"
   ]
  },
  {
   "cell_type": "code",
   "execution_count": 2,
   "metadata": {
    "collapsed": true
   },
   "outputs": [],
   "source": [
    "def cosine(v1, v2):\n",
    "    v1 = np.array(v1)\n",
    "    v2 = np.array(v2)\n",
    "    return np.dot(v1, v2) / (np.sqrt(np.sum(v1**2)) * np.sqrt(np.sum(v2**2)))\n",
    "\n",
    "def concatenate(data):\n",
    "    X_set1 = data['question1']\n",
    "    X_set2 = data['question2']\n",
    "    X = X_set1.append(X_set2, ignore_index=True)\n",
    "    return X\n",
    "\n",
    "class LabeledLineSentence(object):\n",
    "\n",
    "    def __init__(self, doc_list, labels_list):\n",
    "        self.labels_list = labels_list\n",
    "        self.doc_list = doc_list\n",
    "\n",
    "    def __iter__(self):\n",
    "        for idx, doc in enumerate(self.doc_list):\n",
    "            yield doc2vec.TaggedDocument(words=word_tokenize(doc),\n",
    "                                         tags=[self.labels_list[idx]])\n",
    "            \n"
   ]
  },
  {
   "cell_type": "code",
   "execution_count": 3,
   "metadata": {
    "collapsed": true
   },
   "outputs": [],
   "source": [
    "def get_data(src_train, src_test):\n",
    "    df_train = pd.read_csv(src_train)\n",
    "    df_test  = pd.read_csv(src_test)\n",
    "    df_train = df_train.loc[:, ['question1', 'question2']]\n",
    "    df_test = df_test.loc[:, ['question1', 'question2']]\n",
    "    df_train.fillna('NULL', inplace = True)\n",
    "    df_test.fillna('NULL', inplace = True)\n",
    "    data = pd.concat((df_train, df_test))\n",
    "    del df_train, df_test\n",
    "    gc.collect()\n",
    "    return data\n",
    "    \n",
    "def get_dists_doc2vec(data):\n",
    "    docvec1s = np.zeros((data.shape[0], 300), dtype = 'float32')\n",
    "    docvec2s = np.zeros((data.shape[0], 300), dtype = 'float32')\n",
    "    for i in tqdm(range(data.shape[0])):\n",
    "        doc1 = word_tokenize(data.iloc[i, -2])\n",
    "        doc2 = word_tokenize(data.iloc[i, -1])\n",
    "        docvec1 = model1.infer_vector(doc1, alpha=start_alpha, steps=infer_epoch)\n",
    "        docvec2 = model1.infer_vector(doc2, alpha=start_alpha, steps=infer_epoch)\n",
    "        docvec1s[i, :] = docvec1\n",
    "        docvec2s[i, :] = docvec2\n",
    "    return docvec1s, docvec2s"
   ]
  },
  {
   "cell_type": "code",
   "execution_count": 4,
   "metadata": {
    "collapsed": true,
    "scrolled": true
   },
   "outputs": [],
   "source": [
    "src = '/media/w/1c392724-ecf3-4615-8f3c-79368ec36380/DS Projects/Kaggle/Quora/data/embeddings/doc2vec/enwiki_dbow/'\n",
    "model_path = src + 'doc2vec.bin'\n",
    "eng_stopwords = set(stopwords.words('english'))\n",
    "\n",
    "src_train = 'df_train_spacylemmat_fullclean.csv'\n",
    "src_test = 'df_test_spacylemmat_fullclean.csv'\n",
    "\n",
    "model1 = Doc2Vec.load(model_path)\n",
    "data = get_data(src_train, src_test)"
   ]
  },
  {
   "cell_type": "code",
   "execution_count": 5,
   "metadata": {
    "scrolled": true
   },
   "outputs": [
    {
     "name": "stderr",
     "output_type": "stream",
     "text": [
      "100%|██████████| 2750086/2750086 [46:20<00:00, 989.05it/s] \n"
     ]
    }
   ],
   "source": [
    "start_alpha = 0.01\n",
    "infer_epoch = 10\n",
    "\n",
    "results = get_dists_doc2vec(data)"
   ]
  },
  {
   "cell_type": "code",
   "execution_count": 7,
   "metadata": {},
   "outputs": [],
   "source": [
    "df_train = pd.read_csv(src_train)\n",
    "\n",
    "docvec1s, docvec2s = results[0], results[1]\n",
    "\n",
    "docvec1s = np.array(docvec1s)\n",
    "docvec1s_tr = docvec1s[:df_train.shape[0]]\n",
    "docvec1s_te = docvec1s[df_train.shape[0]:]\n",
    "\n",
    "docvec2s = np.array(docvec2s)\n",
    "docvec2s_tr = docvec2s[:df_train.shape[0]]\n",
    "docvec2s_te = docvec2s[df_train.shape[0]:]"
   ]
  },
  {
   "cell_type": "code",
   "execution_count": 8,
   "metadata": {
    "collapsed": true
   },
   "outputs": [],
   "source": [
    "np.save('train_q1_doc2vec_vectors_pretrained_fullcleanDF', docvec1s_tr)\n",
    "np.save('test_q1_doc2vec_vectors_pretrained_fullcleanDF', docvec1s_te)\n",
    "\n",
    "np.save('train_q2_doc2vec_vectors_pretrained_fullcleanDF', docvec2s_tr)\n",
    "np.save('test_q2_doc2vec_vectors_pretrained_fullcleanDF', docvec2s_te)"
   ]
  },
  {
   "cell_type": "code",
   "execution_count": null,
   "metadata": {
    "collapsed": true
   },
   "outputs": [],
   "source": []
  }
 ],
 "metadata": {
  "kernelspec": {
   "display_name": "Python 3",
   "language": "python",
   "name": "python3"
  },
  "language_info": {
   "codemirror_mode": {
    "name": "ipython",
    "version": 3
   },
   "file_extension": ".py",
   "mimetype": "text/x-python",
   "name": "python",
   "nbconvert_exporter": "python",
   "pygments_lexer": "ipython3",
   "version": "3.5.2"
  }
 },
 "nbformat": 4,
 "nbformat_minor": 2
}
