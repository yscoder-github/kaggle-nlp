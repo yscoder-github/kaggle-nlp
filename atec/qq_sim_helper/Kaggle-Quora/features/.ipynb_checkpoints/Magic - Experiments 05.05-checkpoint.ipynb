{
 "cells": [
  {
   "cell_type": "code",
   "execution_count": 1,
   "metadata": {
    "collapsed": true
   },
   "outputs": [],
   "source": [
    "import numpy as np\n",
    "import pandas as pd\n",
    "import gensim\n",
    "import re\n",
    "import nltk\n",
    "import csv\n",
    "import gensim\n",
    "import math\n",
    "import timeit\n",
    "import datetime\n",
    "import operator\n",
    "import matplotlib.pyplot as plt\n",
    "%matplotlib inline\n",
    "import seaborn as sns\n",
    "sns.set_style(\"dark\")\n",
    "\n",
    "from collections import Counter\n",
    "from nltk.corpus import stopwords\n",
    "from nltk import word_tokenize, ngrams\n",
    "from pylab import plot, show, subplot, specgram, imshow, savefig\n",
    "from gensim import corpora, models, similarities\n",
    "import category_encoders as ce"
   ]
  },
  {
   "cell_type": "code",
   "execution_count": 2,
   "metadata": {
    "collapsed": true
   },
   "outputs": [],
   "source": [
    "def labelcount_encode(df2, cols):\n",
    "    df = df2.copy()\n",
    "    categorical_features = cols\n",
    "    new_df = pd.DataFrame()\n",
    "    for cat_feature in categorical_features:\n",
    "        cat_feature_value_counts = df[cat_feature].value_counts()\n",
    "        value_counts_list = cat_feature_value_counts.index.tolist()\n",
    "        value_counts_range_rev = list(reversed(range(len(cat_feature_value_counts)))) # for ascending ordering\n",
    "        value_counts_range = list(range(len(cat_feature_value_counts))) # for descending ordering\n",
    "        labelcount_dict = dict(zip(value_counts_list, value_counts_range))\n",
    "        new_df[cat_feature] = df[cat_feature].map(labelcount_dict)\n",
    "    return new_df\n",
    "\n",
    "def count_encode(df2, cols):\n",
    "    df = df2.copy()\n",
    "    categorical_features = cols\n",
    "    new_df = pd.DataFrame()\n",
    "    for i in categorical_features:\n",
    "        new_df[i] = df[i].astype('object').replace(df[i].value_counts())\n",
    "    return new_df\n",
    "\n",
    "def bin_numerical(df2, cols, step):\n",
    "    df = df2.copy()\n",
    "    numerical_features = cols\n",
    "    new_df = pd.DataFrame()\n",
    "    for i in numerical_features:\n",
    "        feature_range = np.arange(0, np.max(df[i]), step)\n",
    "        new_df[i] = np.digitize(df[i], feature_range, right=True)\n",
    "    return new_df\n",
    "\n",
    "def plot_real_feature(df, fname):\n",
    "    \n",
    "    ix_train = np.where(df['id'] >= 0)[0]\n",
    "    ix_test = np.where(df['id'] == -1)[0]\n",
    "    ix_is_dup = np.where(df['is_duplicate'] == 1)[0]\n",
    "    ix_not_dup = np.where(df['is_duplicate'] == 0)[0]\n",
    "\n",
    "    fig = plt.figure(figsize=(16, 12))\n",
    "    ax1 = plt.subplot2grid((3, 2), (0, 0), colspan=2)\n",
    "    ax2 = plt.subplot2grid((3, 2), (1, 0), colspan=2)\n",
    "    ax3 = plt.subplot2grid((3, 2), (2, 0))\n",
    "    ax4 = plt.subplot2grid((3, 2), (2, 1))\n",
    "    ax1.set_title('Distribution of %s' % fname, fontsize=20)\n",
    "    sns.distplot(df.loc[ix_train][fname], \n",
    "                 bins=50, \n",
    "                 ax=ax1)    \n",
    "    sns.distplot(df.loc[ix_is_dup][fname], \n",
    "                 bins=50, \n",
    "                 ax=ax2,\n",
    "                 label='is dup')    \n",
    "    sns.distplot(df.loc[ix_not_dup][fname], \n",
    "                 bins=50, \n",
    "                 ax=ax2,\n",
    "                 label='not dup')\n",
    "    ax2.legend(loc='upper right', prop={'size': 18})\n",
    "    sns.boxplot(y=fname, \n",
    "                x='is_duplicate', \n",
    "                data=df.loc[ix_train], \n",
    "                ax=ax3)\n",
    "    sns.violinplot(y=fname, \n",
    "                   x='is_duplicate', \n",
    "                   data=df.loc[ix_train], \n",
    "                   ax=ax4)\n",
    "    plt.show()\n",
    "    "
   ]
  },
  {
   "cell_type": "raw",
   "metadata": {},
   "source": [
    "src = '/media/w/1c392724-ecf3-4615-8f3c-79368ec36380/DS Projects/Kaggle/Quora/data/'\n",
    "train_orig =  pd.read_csv(src + 'train.csv', header=0)\n",
    "test_orig =  pd.read_csv(src + 'test.csv', header=0)"
   ]
  },
  {
   "cell_type": "code",
   "execution_count": 3,
   "metadata": {
    "collapsed": true,
    "scrolled": true
   },
   "outputs": [],
   "source": [
    "\n",
    "src = '/media/w/1c392724-ecf3-4615-8f3c-79368ec36380/DS Projects/Kaggle/Quora/scripts/features/'\n",
    "#train_orig =  pd.read_csv(src + 'df_train_spacylemmat_fullclean.csv').iloc[:, :-1]\n",
    "#test_orig =  pd.read_csv(src + 'df_test_spacylemmat_fullclean.csv').iloc[:, 4:]\n",
    "train_orig =  pd.read_csv(src + 'df_train_lemmatfullcleanSTEMMED.csv').iloc[:, :-1]\n",
    "test_orig =  pd.read_csv(src + 'df_test_lemmatfullcleanSTEMMED.csv').iloc[:, 4:]\n",
    "\n",
    "tic0=timeit.default_timer()\n",
    "df1 = train_orig[['question1']].copy()\n",
    "df2 = train_orig[['question2']].copy()\n",
    "df1_test = test_orig[['question1']].copy()\n",
    "df2_test = test_orig[['question2']].copy()\n",
    "\n",
    "df2.rename(columns = {'question2':'question1'},inplace=True)\n",
    "df2_test.rename(columns = {'question2':'question1'},inplace=True)\n",
    "\n",
    "train_questions = df1.append(df2)\n",
    "train_questions = train_questions.append(df1_test)\n",
    "train_questions = train_questions.append(df2_test)\n",
    "#train_questions.drop_duplicates(subset = ['qid1'],inplace=True)\n",
    "train_questions.drop_duplicates(subset = ['question1'],inplace=True)\n",
    "\n",
    "train_questions.reset_index(inplace=True,drop=True)\n",
    "questions_dict = pd.Series(train_questions.index.values,index=train_questions.question1.values).to_dict()\n",
    "train_cp = train_orig.copy()\n",
    "test_cp = test_orig.copy()\n",
    "train_cp.drop(['qid1','qid2'],axis=1,inplace=True)\n",
    "\n",
    "test_cp['is_duplicate'] = -1\n",
    "test_cp.rename(columns={'test_id':'id'},inplace=True)\n",
    "comb = pd.concat([train_cp,test_cp])"
   ]
  },
  {
   "cell_type": "code",
   "execution_count": 4,
   "metadata": {
    "collapsed": true
   },
   "outputs": [],
   "source": [
    "comb['q1_hash'] = comb['question1'].map(questions_dict)\n",
    "comb['q2_hash'] = comb['question2'].map(questions_dict)\n",
    "\n",
    "q1_vc = comb.q1_hash.value_counts().to_dict()\n",
    "q2_vc = comb.q2_hash.value_counts().to_dict()\n",
    "\n",
    "def try_apply_dict(x,dict_to_apply):\n",
    "    try:\n",
    "        return dict_to_apply[x]\n",
    "    except KeyError:\n",
    "        return 0\n",
    "#map to frequency space\n",
    "comb['q1_freq'] = comb['q1_hash'].map(lambda x: try_apply_dict(x,q1_vc) + try_apply_dict(x,q2_vc))\n",
    "comb['q2_freq'] = comb['q2_hash'].map(lambda x: try_apply_dict(x,q1_vc) + try_apply_dict(x,q2_vc))\n",
    "\n",
    "train_comb = comb[comb['is_duplicate'] >= 0][['id','q1_hash','q2_hash','q1_freq','q2_freq','is_duplicate']]\n",
    "test_comb = comb[comb['is_duplicate'] < 0][['id','q1_hash','q2_hash','q1_freq','q2_freq']]\n"
   ]
  },
  {
   "cell_type": "code",
   "execution_count": null,
   "metadata": {
    "collapsed": true
   },
   "outputs": [],
   "source": [
    "train_comb.to_csv('train_turkewitz_features_fullcleanSTEMMED.csv', index = False)\n",
    "test_comb.to_csv('test_turkewitz_features_fullcleanSTEMMED.csv', index = False)"
   ]
  },
  {
   "cell_type": "code",
   "execution_count": null,
   "metadata": {
    "collapsed": true,
    "scrolled": true
   },
   "outputs": [],
   "source": [
    "train_bin = bin_numerical(train_orig, ['qid2'], 5000)"
   ]
  }
 ],
 "metadata": {
  "kernelspec": {
   "display_name": "Python 3",
   "language": "python",
   "name": "python3"
  },
  "language_info": {
   "codemirror_mode": {
    "name": "ipython",
    "version": 3
   },
   "file_extension": ".py",
   "mimetype": "text/x-python",
   "name": "python",
   "nbconvert_exporter": "python",
   "pygments_lexer": "ipython3",
   "version": "3.5.2"
  }
 },
 "nbformat": 4,
 "nbformat_minor": 2
}
