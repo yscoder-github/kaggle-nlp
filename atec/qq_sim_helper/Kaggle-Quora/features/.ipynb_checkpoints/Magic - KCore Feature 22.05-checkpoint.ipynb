{
 "cells": [
  {
   "cell_type": "code",
   "execution_count": 3,
   "metadata": {},
   "outputs": [
    {
     "name": "stdout",
     "output_type": "stream",
     "text": [
      "df.shape: (2750086, 2)\n"
     ]
    }
   ],
   "source": [
    "import networkx as nx\n",
    "import numpy as np\n",
    "import pandas as pd\n",
    "\n",
    "src = '/media/w/1c392724-ecf3-4615-8f3c-79368ec36380/DS Projects/Kaggle/Quora/scripts/features/'\n",
    "\n",
    "df_train = pd.read_csv(src + \"df_train_spacylemmat_fullclean.csv\", usecols=[\"qid1\", \"qid2\"])\n",
    "df_test = pd.read_csv(src + \"df_test_spacylemmat_fullclean_QUESTIONIDS.csv\", usecols=[\"qid1\", \"qid2\"])\n",
    "df = pd.concat([df_train, df_test])\n",
    "print(\"df.shape:\", df.shape) # df.shape: (2750086, 2)"
   ]
  },
  {
   "cell_type": "code",
   "execution_count": null,
   "metadata": {
    "collapsed": true
   },
   "outputs": [],
   "source": [
    "g = nx.Graph()\n",
    "g.add_nodes_from(df.qid1)\n",
    "edges = list(df[['qid1', 'qid2']].to_records(index=False))\n",
    "g.add_edges_from(edges)\n",
    "g.remove_edges_from(g.selfloop_edges())\n",
    "print(len(set(df.qid1)), g.number_of_nodes()) # 4789604\n",
    "print(len(df), g.number_of_edges()) # 2743365 (after self-edges)\n",
    "\n",
    "df_output = pd.DataFrame(data=g.nodes(), columns=[\"qid\"])\n",
    "print(\"df_output.shape:\", df_output.shape)\n",
    "\n",
    "NB_CORES = 20\n",
    "for k in range(2, NB_CORES + 1):\n",
    "    fieldname = \"kcore{}\".format(k)\n",
    "    print(\"fieldname = \", fieldname)\n",
    "    ck = nx.k_core(g, k=k).nodes()\n",
    "    print(\"len(ck) = \", len(ck))\n",
    "    df_output[fieldname] = 0\n",
    "    df_output.ix[df_output.qid.isin(ck), fieldname] = k\n",
    "    \n",
    "df_output.to_csv(\"question_kcores.csv\", index=None)\n",
    "df_cores = pd.read_csv(\"question_kcores.csv\", index_col=\"qid\")\n",
    "df_cores.index.names = [\"qid\"]\n",
    "df_cores['max_kcore'] = df_cores.apply(lambda row: max(row), axis=1)\n",
    "df_cores[['max_kcore']].to_csv(\"question_max_kcores.csv\") # with index"
   ]
  },
  {
   "cell_type": "code",
   "execution_count": 6,
   "metadata": {
    "scrolled": true
   },
   "outputs": [
    {
     "name": "stderr",
     "output_type": "stream",
     "text": [
      "\n",
      "  0%|          | 0/29 [00:00<?, ?it/s]\u001b[A\n",
      "/home/w/anaconda3/envs/idp3/lib/python3.5/site-packages/ipykernel_launcher.py:35: SettingWithCopyWarning: \n",
      "A value is trying to be set on a copy of a slice from a DataFrame\n",
      "\n",
      "See the caveats in the documentation: http://pandas.pydata.org/pandas-docs/stable/indexing.html#indexing-view-versus-copy\n",
      "100%|██████████| 29/29 [24:57<00:00, 50.24s/it]"
     ]
    },
    {
     "name": "stdout",
     "output_type": "stream",
     "text": [
      "1     4637331\n",
      "2       65639\n",
      "3       15945\n",
      "4        6811\n",
      "5        3502\n",
      "6        2299\n",
      "7        1406\n",
      "8        1018\n",
      "9         932\n",
      "11        624\n",
      "10        496\n",
      "12        414\n",
      "14        395\n",
      "13        306\n",
      "30        236\n",
      "17        201\n",
      "16        164\n",
      "19        140\n",
      "20        131\n",
      "15        123\n",
      "22        120\n",
      "21        110\n",
      "18        107\n",
      "25         86\n",
      "23         82\n",
      "28         70\n",
      "29         33\n",
      "26         30\n",
      "24         22\n",
      "27         13\n",
      "Name: kcores, dtype: int64\n"
     ]
    },
    {
     "name": "stderr",
     "output_type": "stream",
     "text": [
      "\n"
     ]
    }
   ],
   "source": [
    "import networkx as nx\n",
    "import numpy as np\n",
    "import pandas as pd\n",
    "from tqdm import tqdm\n",
    "\n",
    "src = '/media/w/1c392724-ecf3-4615-8f3c-79368ec36380/DS Projects/Kaggle/Quora/scripts/features/'\n",
    "\n",
    "df_train = pd.read_csv(src + \"df_train_spacylemmat_fullclean.csv\", usecols=[\"question1\", \"question2\"])\n",
    "df_test = pd.read_csv(src + \"df_test_spacylemmat_fullclean.csv\", usecols=[\"question1\", \"question2\"])\n",
    "df_train.fillna('NULL', inplace = True)\n",
    "df_test.fillna('NULL', inplace = True)\n",
    "\n",
    "dfs = (df_train, df_test)\n",
    "questions = []\n",
    "for df in dfs:\n",
    "    df['question1'] = df['question1'].str.lower()\n",
    "    df['question2'] = df['question2'].str.lower()\n",
    "    questions += df['question1'].tolist()\n",
    "    questions += df['question2'].tolist()\n",
    "\n",
    "graph = nx.Graph()\n",
    "graph.add_nodes_from(questions)\n",
    "\n",
    "for df in [df_train, df_test]:\n",
    "    edges = list(df[['question1', 'question2']].to_records(index=False))\n",
    "    graph.add_edges_from(edges)\n",
    "\n",
    "graph.remove_edges_from(graph.selfloop_edges())\n",
    "\n",
    "df = pd.DataFrame(data=graph.nodes(), columns=[\"question\"])\n",
    "df['kcores'] = 1\n",
    "n_cores = 30\n",
    "for k in tqdm(range(2, n_cores + 1)):\n",
    "    ck = nx.k_core(graph, k=k).nodes()\n",
    "    df['kcores'][df.question.isin(ck)] = k\n",
    "print(df['kcores'].value_counts())"
   ]
  },
  {
   "cell_type": "code",
   "execution_count": 16,
   "metadata": {
    "collapsed": true
   },
   "outputs": [],
   "source": [
    "comb = pd.concat([df_train, df_test])\n",
    "questions_dict = pd.Series(df.kcores.values,index=df.question.values).to_dict()\n",
    "\n",
    "kcores_df = pd.DataFrame()\n",
    "kcores_df['q1_kcores_string'] = comb['question1'].map(questions_dict)\n",
    "kcores_df['q2_kcores_string'] = comb['question2'].map(questions_dict)\n",
    "kcores_df['kcores_string_sum'] = kcores_df['q1_kcores_string'] + kcores_df['q2_kcores_string']\n",
    "kcores_df['kcores_string_diff'] = np.abs(kcores_df['q1_kcores_string'] - kcores_df['q2_kcores_string'])\n",
    "kcores_df['kcores_string_product'] = kcores_df['q1_kcores_string'] * kcores_df['q2_kcores_string']\n",
    "kcores_df['kcores_string_div'] = kcores_df['q1_kcores_string'] / kcores_df['q2_kcores_string']\n",
    "\n",
    "train_kcores = kcores_df.iloc[:df_train.shape[0], :]\n",
    "test_kcores = kcores_df.iloc[df_train.shape[0]:, :]\n",
    "\n",
    "train_kcores.to_pickle('train_Kcores_string.pkl')\n",
    "test_kcores.to_pickle('test_Kcores_string.pkl')"
   ]
  },
  {
   "cell_type": "code",
   "execution_count": null,
   "metadata": {
    "collapsed": true
   },
   "outputs": [],
   "source": []
  }
 ],
 "metadata": {
  "kernelspec": {
   "display_name": "Python 3",
   "language": "python",
   "name": "python3"
  },
  "language_info": {
   "codemirror_mode": {
    "name": "ipython",
    "version": 3
   },
   "file_extension": ".py",
   "mimetype": "text/x-python",
   "name": "python",
   "nbconvert_exporter": "python",
   "pygments_lexer": "ipython3",
   "version": "3.5.2"
  }
 },
 "nbformat": 4,
 "nbformat_minor": 2
}
