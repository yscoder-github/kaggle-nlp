{
 "cells": [
  {
   "cell_type": "code",
   "execution_count": 1,
   "metadata": {
    "collapsed": true
   },
   "outputs": [],
   "source": [
    "import time\n",
    "import numpy as np\n",
    "import pandas as pd\n",
    "from collections import Counter\n",
    "from sklearn.feature_extraction.text import CountVectorizer\n",
    "from sklearn.feature_extraction.text import TfidfTransformer"
   ]
  },
  {
   "cell_type": "code",
   "execution_count": 7,
   "metadata": {
    "collapsed": true
   },
   "outputs": [],
   "source": [
    "def sort_coo(m):\n",
    "    tuples = zip(m.row, m.col, m.data)\n",
    "    return sorted(tuples, key=lambda x: (x[0], x[2]),reverse=True)[:40]"
   ]
  },
  {
   "cell_type": "code",
   "execution_count": 2,
   "metadata": {},
   "outputs": [
    {
     "name": "stdout",
     "output_type": "stream",
     "text": [
      "Original data: trainQ: (404290, 6), testQ: (2345796, 3)\n",
      "open: 5.546654\n"
     ]
    }
   ],
   "source": [
    "start = time.clock() #_________________ measure efficiency timing\n",
    "\n",
    "src = '/media/w/1c392724-ecf3-4615-8f3c-79368ec36380/DS Projects/Kaggle/Quora/scripts/features/'\n",
    "train =  pd.read_csv(src + 'df_train_spacylemmat_fullclean.csv').iloc[:, :-1]\n",
    "test =  pd.read_csv(src + 'df_test_spacylemmat_fullclean.csv').iloc[:, 4:]\n",
    "\n",
    "# lege opvullen\n",
    "train.fillna(value='NULL',inplace=True)\n",
    "test.fillna(value='NULL',inplace=True)\n",
    "\n",
    "print(\"Original data: trainQ: {}, testQ: {}\".format(train.shape, test.shape) )\n",
    "end = time.clock()\n",
    "print('open:',end-start)\n",
    "\n",
    "train_qs = pd.Series(train['question1'].tolist() + train['question2'].tolist())\n",
    "test_qs = pd.Series(test['question1'].tolist() + test['question2'].tolist())\n",
    "all_qs = train_qs.append(test_qs)\n",
    "all_qs = all_qs.tolist()\n"
   ]
  },
  {
   "cell_type": "code",
   "execution_count": 3,
   "metadata": {},
   "outputs": [
    {
     "name": "stdout",
     "output_type": "stream",
     "text": [
      "lengt dictionary 3458909\n",
      "clean and make freq word dict: 304.39799500000004\n"
     ]
    }
   ],
   "source": [
    "count_vectorizer = CountVectorizer(binary=True, ngram_range=(1, 2) )\n",
    "count_vectorizer.fit(all_qs)  #Learn vocabulary and idf, return document freq list.\n",
    "print('lengt dictionary',len(count_vectorizer.vocabulary_))\n",
    "freq_term_matrix = count_vectorizer.transform(all_qs)\n",
    "tfidf = TfidfTransformer(norm=\"l2\")\n",
    "tf_idf_matrix = tfidf.fit_transform(freq_term_matrix)\n",
    "\n",
    "end = time.clock()\n",
    "print('clean and make freq word dict:',end-start)"
   ]
  },
  {
   "cell_type": "code",
   "execution_count": 4,
   "metadata": {
    "collapsed": true
   },
   "outputs": [],
   "source": [
    "all_qs=pd.DataFrame(all_qs)"
   ]
  },
  {
   "cell_type": "code",
   "execution_count": 12,
   "metadata": {
    "scrolled": true
   },
   "outputs": [],
   "source": [
    "corr_dict = {}\n",
    "\n",
    "for i in range(10 - 1):\n",
    "    A=tf_idf_matrix[i:i+1].dot(tf_idf_matrix.T)\n",
    "    Ac=A.tocoo()\n",
    "    At=sort_coo(Ac)\n",
    "\n",
    "    question = all_qs.iloc[i, 0]\n",
    "    high_cors = 0\n",
    "    \n",
    "    for yi in range(len(At)):\n",
    "        if At[yi][2] > 0.8: \n",
    "            high_cors += 1\n",
    "            \n",
    "    corr_dict[question] = high_cors"
   ]
  }
 ],
 "metadata": {
  "kernelspec": {
   "display_name": "Python 3",
   "language": "python",
   "name": "python3"
  },
  "language_info": {
   "codemirror_mode": {
    "name": "ipython",
    "version": 3
   },
   "file_extension": ".py",
   "mimetype": "text/x-python",
   "name": "python",
   "nbconvert_exporter": "python",
   "pygments_lexer": "ipython3",
   "version": "3.5.2"
  }
 },
 "nbformat": 4,
 "nbformat_minor": 2
}
