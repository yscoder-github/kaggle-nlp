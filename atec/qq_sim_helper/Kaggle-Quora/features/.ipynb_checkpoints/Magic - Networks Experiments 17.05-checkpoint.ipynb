{
 "cells": [
  {
   "cell_type": "code",
   "execution_count": 1,
   "metadata": {
    "collapsed": true
   },
   "outputs": [],
   "source": [
    "import numpy as np\n",
    "import pandas as pd\n",
    "import networkx as nx\n",
    "import warnings\n",
    "\n",
    "import matplotlib.pyplot as plt\n",
    "%matplotlib inline\n",
    "import seaborn as sns\n",
    "sns.set_style(\"dark\")\n",
    "import community"
   ]
  },
  {
   "cell_type": "code",
   "execution_count": 2,
   "metadata": {
    "collapsed": true
   },
   "outputs": [],
   "source": [
    "def plot_real_feature(df, fname):\n",
    "    \n",
    "    ix_train = np.where(df['id'] >= 0)[0]\n",
    "    ix_test = np.where(df['id'] == -1)[0]\n",
    "    ix_is_dup = np.where(df['is_duplicate'] == 1)[0]\n",
    "    ix_not_dup = np.where(df['is_duplicate'] == 0)[0]\n",
    "\n",
    "    fig = plt.figure(figsize=(16, 12))\n",
    "    ax1 = plt.subplot2grid((3, 2), (0, 0), colspan=2)\n",
    "    ax2 = plt.subplot2grid((3, 2), (1, 0), colspan=2)\n",
    "    ax3 = plt.subplot2grid((3, 2), (2, 0))\n",
    "    ax4 = plt.subplot2grid((3, 2), (2, 1))\n",
    "    ax1.set_title('Distribution of %s' % fname, fontsize=20)\n",
    "    sns.distplot(df.loc[ix_train][fname], \n",
    "                 bins=50, \n",
    "                 ax=ax1)    \n",
    "    sns.distplot(df.loc[ix_is_dup][fname], \n",
    "                 bins=50, \n",
    "                 ax=ax2,\n",
    "                 label='is dup')    \n",
    "    sns.distplot(df.loc[ix_not_dup][fname], \n",
    "                 bins=50, \n",
    "                 ax=ax2,\n",
    "                 label='not dup')\n",
    "    ax2.legend(loc='upper right', prop={'size': 18})\n",
    "    sns.boxplot(y=fname, \n",
    "                x='is_duplicate', \n",
    "                data=df.loc[ix_train], \n",
    "                ax=ax3)\n",
    "    sns.violinplot(y=fname, \n",
    "                   x='is_duplicate', \n",
    "                   data=df.loc[ix_train], \n",
    "                   ax=ax4)\n",
    "    plt.show()"
   ]
  },
  {
   "cell_type": "code",
   "execution_count": 3,
   "metadata": {
    "collapsed": true
   },
   "outputs": [],
   "source": [
    "src = '/media/w/1c392724-ecf3-4615-8f3c-79368ec36380/DS Projects/Kaggle/Quora/scripts/features/'\n",
    "\n",
    "#trdf =  pd.read_csv(src + 'df_train_spacylemmat_fullclean.csv').iloc[:, :-1]\n",
    "#tedf =  pd.read_csv(src + 'df_test_spacylemmat_fullclean.csv').iloc[:, 4:]\n",
    "\n",
    "trdf =  pd.read_csv(src + 'df_train_NER.csv')\n",
    "tedf =  pd.read_csv(src + 'df_test_NER.csv')\n",
    "\n",
    "#tr =  pd.read_csv(src + 'df_train_lemmatfullcleanSTEMMED.csv').iloc[:, :-1]\n",
    "#te =  pd.read_csv(src + 'df_test_lemmatfullcleanSTEMMED.csv').iloc[:, 4:]\n",
    "\n",
    "tr = pd.concat([trdf, tedf], ignore_index = True)"
   ]
  },
  {
   "cell_type": "code",
   "execution_count": 4,
   "metadata": {},
   "outputs": [
    {
     "name": "stdout",
     "output_type": "stream",
     "text": [
      "Number of unique questions: 4693234 4693234\n",
      "Number of rows in the data: 2750086 2721224\n",
      "Mean number of connections: 1.15963704345\n"
     ]
    }
   ],
   "source": [
    "g = nx.Graph()\n",
    "g.add_nodes_from(tr.question1)\n",
    "g.add_nodes_from(tr.question2)\n",
    "edges = list(tr[['question1', 'question2']].to_records(index=False))\n",
    "g.add_edges_from(edges)\n",
    "\n",
    "print('Number of unique questions:', len(set(tr.question1) | set(tr.question2)), g.number_of_nodes())\n",
    "print('Number of rows in the data:', len(tr), g.number_of_edges())\n",
    "\n",
    "d = g.degree()\n",
    "print('Mean number of connections:', np.mean([d[k] for k in d]))"
   ]
  },
  {
   "cell_type": "markdown",
   "metadata": {},
   "source": [
    "http://networkx.readthedocs.io/en/stable/reference/algorithms.clustering.html"
   ]
  },
  {
   "cell_type": "code",
   "execution_count": 6,
   "metadata": {
    "collapsed": true
   },
   "outputs": [],
   "source": [
    "comb = pd.DataFrame()\n",
    "#comb['id'] = tr['id']\n",
    "#comb['is_duplicate'] = tr['is_duplicate']\n",
    "\n",
    "degrees_dict = g.degree()\n",
    "comb['q1_NER_degrees'] = tr['question1'].map(degrees_dict)\n",
    "comb['q2_NER_degrees'] = tr['question2'].map(degrees_dict)\n",
    "\n",
    "cluster_dict = nx.cluster.clustering(g)\n",
    "comb['q1_NER_cluster'] = tr['question1'].map(cluster_dict)\n",
    "comb['q2_NER_cluster'] = tr['question2'].map(cluster_dict)\n",
    "\n",
    "cluster_square_dict = nx.cluster.square_clustering(g)\n",
    "comb['q1_NER_squared_cluster'] = tr['question1'].map(cluster_square_dict)\n",
    "comb['q2_NER_squared_cluster'] = tr['question2'].map(cluster_square_dict)\n",
    "\n",
    "cluster_triangles_dict = nx.triangles(g)\n",
    "comb['q1_NER_triangles_cluster'] = tr['question1'].map(cluster_triangles_dict)\n",
    "comb['q2_NER_triangles_cluster'] = tr['question2'].map(cluster_triangles_dict)"
   ]
  },
  {
   "cell_type": "code",
   "execution_count": 7,
   "metadata": {},
   "outputs": [],
   "source": [
    "comb_tr = comb.iloc[:trdf.shape[0], :]\n",
    "comb_te = comb.iloc[trdf.shape[0]:, :]\n",
    "\n",
    "comb_tr.to_csv('train_networkfeats_NER.csv', index = False)\n",
    "comb_te.to_csv('test_networkfeats_NER.csv', index = False)"
   ]
  },
  {
   "cell_type": "code",
   "execution_count": null,
   "metadata": {
    "collapsed": true
   },
   "outputs": [],
   "source": [
    "cc = filter(lambda x : (len(x) > 3) and (len(x) < 10), \n",
    "            nx.connected_component_subgraphs(g))\n",
    "\n",
    "g1 = next(cc)\n",
    "g1.nodes()\n",
    "with warnings.catch_warnings():\n",
    "    warnings.simplefilter('ignore')\n",
    "    nx.draw_circular(g1, with_labels=True, alpha=0.5, font_size=8)\n",
    "    plt.show()\n",
    "    \n",
    "g2 = next(cc)\n",
    "g1.nodes()\n",
    "with warnings.catch_warnings():\n",
    "    warnings.simplefilter('ignore')\n",
    "    nx.draw_circular(g1, with_labels=True, alpha=0.5, font_size=8)\n",
    "    plt.show()"
   ]
  },
  {
   "cell_type": "code",
   "execution_count": null,
   "metadata": {
    "collapsed": true
   },
   "outputs": [],
   "source": [
    "cc = nx.connected_component_subgraphs(g)\n",
    "node_cts = list(sub.number_of_nodes() for sub in cc)\n",
    "cc = nx.connected_component_subgraphs(g)\n",
    "edge_cts = list(sub.number_of_edges() for sub in cc)\n",
    "cts = pd.DataFrame({'nodes': node_cts, 'edges': edge_cts})\n",
    "cts['mean_deg'] = 2 * cts.edges / cts.nodes\n",
    "cts.nodes.clip_upper(10).value_counts().sort_index()"
   ]
  },
  {
   "cell_type": "code",
   "execution_count": null,
   "metadata": {
    "collapsed": true
   },
   "outputs": [],
   "source": [
    "cts.plot.scatter('nodes', 'edges')\n",
    "plt.show()"
   ]
  },
  {
   "cell_type": "code",
   "execution_count": null,
   "metadata": {
    "collapsed": true
   },
   "outputs": [],
   "source": []
  }
 ],
 "metadata": {
  "kernelspec": {
   "display_name": "Python 3",
   "language": "python",
   "name": "python3"
  },
  "language_info": {
   "codemirror_mode": {
    "name": "ipython",
    "version": 3
   },
   "file_extension": ".py",
   "mimetype": "text/x-python",
   "name": "python",
   "nbconvert_exporter": "python",
   "pygments_lexer": "ipython3",
   "version": "3.5.2"
  }
 },
 "nbformat": 4,
 "nbformat_minor": 2
}
