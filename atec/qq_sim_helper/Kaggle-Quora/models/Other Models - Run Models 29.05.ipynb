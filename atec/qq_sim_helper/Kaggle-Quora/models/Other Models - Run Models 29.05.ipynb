{
 "cells": [
  {
   "cell_type": "code",
   "execution_count": null,
   "metadata": {
    "collapsed": true,
    "scrolled": false
   },
   "outputs": [],
   "source": [
    "import time\n",
    "import gc\n",
    "import pandas as pd\n",
    "import numpy as np\n",
    "import warnings\n",
    "warnings.filterwarnings('ignore')\n",
    "\n",
    "from scipy import sparse\n",
    "from fastFM import als, sgd\n",
    "from vowpalwabbit.sklearn_vw import VWClassifier, VWRegressor\n",
    "from sklearn.linear_model import LogisticRegression, Ridge\n",
    "from sklearn.ensemble import AdaBoostClassifier, ExtraTreesClassifier, GradientBoostingClassifier, RandomForestClassifier\n",
    "from sklearn.neighbors import KNeighborsClassifier\n",
    "\n",
    "from sklearn.metrics import log_loss\n",
    "from sklearn.model_selection import StratifiedKFold"
   ]
  },
  {
   "cell_type": "code",
   "execution_count": null,
   "metadata": {
    "collapsed": true
   },
   "outputs": [],
   "source": [
    "def model_sklearn_foldrun(model, X, y, name, X_test = None):\n",
    "    skf = StratifiedKFold(n_splits = 10, random_state = 111, shuffle = True)\n",
    "    if isinstance(X, pd.core.frame.DataFrame):\n",
    "        X = X.values\n",
    "    if isinstance(y, pd.core.frame.DataFrame):\n",
    "        y = y.is_duplicate.values\n",
    "    if isinstance(y, pd.core.frame.Series):\n",
    "        y = y.values\n",
    "    print('Running model:', model)\n",
    "    i = 0\n",
    "    losses = []\n",
    "    oof_train = np.zeros((404290, 2))\n",
    "    oof_test = np.zeros((10, 2345796, 2))\n",
    "    for tr_index, val_index in skf.split(X, y):\n",
    "        X_tr, X_val = X[tr_index], X[val_index]\n",
    "        y_tr, y_val = y[tr_index], y[val_index]\n",
    "        t = time.time()\n",
    "        model.fit(X_tr, y_tr)\n",
    "        if 'sklearn' in name or 'Class' in name:\n",
    "            val_pred = model.predict_proba(X_val)\n",
    "        else:\n",
    "            val_pred = model.predict(X_val)\n",
    "        score = log_loss(y_val, val_pred)\n",
    "        losses.append(score)\n",
    "        oof_train[val_index, :] = val_pred\n",
    "        if X_test is not None:\n",
    "            print('Predicting test set.')\n",
    "            if 'sklearn' in name or 'Class' in name:\n",
    "                test_preds = model.predict_proba(X_test)\n",
    "            else:\n",
    "                test_preds = model.predict(X_test)\n",
    "            oof_test[i, :, :] = test_preds\n",
    "        print('Final score for fold {} :'.format(i), score, '\\n',\n",
    "              'Time it took to train and predict on fold:', time.time() - t, '\\n')\n",
    "        i += 1\n",
    "    oof_train = pd.DataFrame(oof_train)\n",
    "    oof_train.to_pickle('OOF_preds/train/train_preds_{}.pkl'.format(name))\n",
    "    oof_train.columns = ['{}_prob0'.format(name), '{}_prob1'.format(name)]\n",
    "    oof_test = oof_test.mean(axis = 0)\n",
    "    oof_test = pd.DataFrame(oof_test)\n",
    "    oof_test.columns = ['{}_prob0'.format(name), '{}_prob1'.format(name)]\n",
    "    oof_test.to_pickle('OOF_preds/test/test_preds_{}.pkl'.format(name))\n",
    "    print(oof_train.shape, oof_test.shape)\n",
    "    return\n",
    "\n",
    "def model_foldrun(model, X, y, name, X_test = None):\n",
    "    skf = StratifiedKFold(n_splits = 10, random_state = 111, shuffle = True)\n",
    "    if isinstance(X, pd.core.frame.DataFrame):\n",
    "        X = X.values\n",
    "    if isinstance(y, pd.core.frame.DataFrame):\n",
    "        y = y.is_duplicate.values\n",
    "    if isinstance(y, pd.core.frame.Series):\n",
    "        y = y.values\n",
    "    print('Running model:', model)\n",
    "    i = 0\n",
    "    losses = []\n",
    "    oof_train = np.zeros((404290))\n",
    "    oof_test = np.zeros((10, 2345796))\n",
    "    for tr_index, val_index in skf.split(X, y):\n",
    "        X_tr, X_val = X[tr_index], X[val_index]\n",
    "        y_tr, y_val = y[tr_index], y[val_index]\n",
    "        t = time.time()\n",
    "        model.fit(X_tr, y_tr)\n",
    "        val_pred = model.predict(X_val)\n",
    "        score = log_loss(y_val, val_pred)\n",
    "        losses.append(score)\n",
    "        oof_train[val_index] = val_pred\n",
    "        if X_test is not None:\n",
    "            print('Predicting test set.')\n",
    "            test_preds = model.predict(X_test)\n",
    "            oof_test[i, :] = test_preds\n",
    "        print('Final score for fold {} :'.format(i), score, '\\n',\n",
    "              'Time it took to train and predict on fold:', time.time() - t, '\\n')\n",
    "        i += 1\n",
    "    oof_train = pd.DataFrame(oof_train)\n",
    "    oof_train.columns = ['{}_prob'.format(name)]\n",
    "    oof_train.to_pickle('OOF_preds/train/train_preds_{}.pkl'.format(name))\n",
    "    oof_test = oof_test.mean(axis = 0)\n",
    "    oof_test = pd.DataFrame(oof_test)\n",
    "    oof_test.columns = ['{}_prob'.format(name)]\n",
    "    oof_test.to_pickle('OOF_preds/test/test_preds_{}.pkl'.format(name))\n",
    "    print(oof_train.shape, oof_test.shape)\n",
    "    return\n"
   ]
  },
  {
   "cell_type": "code",
   "execution_count": null,
   "metadata": {
    "collapsed": true
   },
   "outputs": [],
   "source": [
    "src = '/media/w/1c392724-ecf3-4615-8f3c-79368ec36380/DS Projects/Kaggle/Quora/scripts/features/'\n",
    "feats_src = '/media/w/1c392724-ecf3-4615-8f3c-79368ec36380/DS Projects/Kaggle/Quora/data/features/uncleaned/'\n",
    "trans_src = '/media/w/1c392724-ecf3-4615-8f3c-79368ec36380/DS Projects/Kaggle/Quora/data/features/lemmatized_fullclean/transformations/'\n",
    "\n",
    "tfidf = False\n",
    "if tfidf:\n",
    "    X_traintf = pd.read_pickle('Xtrain_TFIDFstem_othermodels.pkl')\n",
    "    X_testtf = pd.read_pickle('Xtest_TFIDFstem_othermodels.pkl')\n",
    "else:\n",
    "    X_train = pd.read_pickle('Xtrain_825cols_othermodels.pkl')\n",
    "    X_train = X_train.astype('float32')\n",
    "    X_test = pd.read_pickle('Xtest_825cols_othermodels.pkl')\n",
    "    X_test = X_test.astype('float32')\n",
    "    \n",
    "y_train = pd.read_pickle('y_train.pkl')"
   ]
  },
  {
   "cell_type": "code",
   "execution_count": null,
   "metadata": {
    "collapsed": true
   },
   "outputs": [],
   "source": [
    "vw = VWRegressor()\n",
    "lr = LogisticRegression()\n",
    "ridge = Ridge()\n",
    "\n",
    "knn = KNeighborsClassifier(n_neighbors = 10, n_jobs = 8)\n",
    "ada = AdaBoostClassifier()\n",
    "gb = GradientBoostingClassifier(n_estimators=200, subsample=0.85, min_samples_split=10, min_samples_leaf=5, \n",
    "                                min_weight_fraction_leaf=0.0, max_depth=6, random_state=111)\n",
    "et = ExtraTreesClassifier(n_estimators=400, min_samples_split=6, min_samples_leaf=10, \n",
    "                                min_weight_fraction_leaf=0.0, max_depth=8, random_state=111, n_jobs=9)\n",
    "rf = RandomForestClassifier(n_estimators=450, min_samples_split=4, min_samples_leaf=8, \n",
    "                                min_weight_fraction_leaf=0.0, max_depth=9, random_state=111, n_jobs=9)\n"
   ]
  },
  {
   "cell_type": "code",
   "execution_count": null,
   "metadata": {
    "collapsed": true,
    "scrolled": true
   },
   "outputs": [],
   "source": [
    "model_sklearn_foldrun(lr, X_traintf, y_train, 'LogRegClassifier_TFIDF', X_testtf)\n",
    "model_foldrun(vw, X_traintf, y_train, 'VWRegressor_TFIDF', X_testtf)"
   ]
  },
  {
   "cell_type": "code",
   "execution_count": null,
   "metadata": {
    "collapsed": true,
    "scrolled": true
   },
   "outputs": [],
   "source": [
    "#model_sklearn_foldrun(et, X_train, y_train, 'ExtraTreesClassifier_xgbfeats', X_test)\n",
    "#model_sklearn_foldrun(rf, X_train, y_train, 'RandomForestClassifier_xgbfeats', X_test)\n",
    "#model_sklearn_foldrun(gb, X_train, y_train, 'GradientBoostingClassifier_xgbfeats', X_test)\n",
    "model_sklearn_foldrun(ada, X_train, y_train, 'AdaBoostClassifier_xgbfeats', X_test)\n",
    "model_sklearn_foldrun(knn, X_train, y_train, 'KNNClassifier10nn_xgbfeats', X_test)"
   ]
  },
  {
   "cell_type": "code",
   "execution_count": null,
   "metadata": {
    "collapsed": true
   },
   "outputs": [],
   "source": []
  }
 ],
 "metadata": {
  "kernelspec": {
   "display_name": "Python 3",
   "language": "python",
   "name": "python3"
  },
  "language_info": {
   "codemirror_mode": {
    "name": "ipython",
    "version": 3
   },
   "file_extension": ".py",
   "mimetype": "text/x-python",
   "name": "python",
   "nbconvert_exporter": "python",
   "pygments_lexer": "ipython3",
   "version": "3.5.2"
  }
 },
 "nbformat": 4,
 "nbformat_minor": 2
}
