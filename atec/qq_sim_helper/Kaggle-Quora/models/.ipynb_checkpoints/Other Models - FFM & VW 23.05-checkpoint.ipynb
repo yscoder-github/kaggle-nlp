{
 "cells": [
  {
   "cell_type": "code",
   "execution_count": null,
   "metadata": {
    "collapsed": true,
    "scrolled": false
   },
   "outputs": [],
   "source": [
    "import pandas as pd\n",
    "import numpy as np\n",
    "import nltk\n",
    "import multiprocessing\n",
    "import difflib\n",
    "import time\n",
    "import gc\n",
    "import category_encoders as ce\n",
    "import itertools\n",
    "\n",
    "import warnings\n",
    "warnings.filterwarnings('ignore')\n",
    "import matplotlib.pyplot as plt\n",
    "%matplotlib inline\n",
    "import seaborn as sns\n",
    "\n",
    "from scipy import sparse\n",
    "from fastFM import als, sgd\n",
    "from vowpalwabbit.sklearn_vw import VWClassifier, VWRegressor\n",
    "from collections import Counter\n",
    "from sklearn.metrics import log_loss\n",
    "from sklearn.model_selection import train_test_split, StratifiedKFold\n",
    "from sklearn.feature_extraction.text import TfidfVectorizer, CountVectorizer\n",
    "from sklearn.decomposition import PCA, TruncatedSVD, LatentDirichletAllocation\n"
   ]
  },
  {
   "cell_type": "code",
   "execution_count": null,
   "metadata": {
    "collapsed": true
   },
   "outputs": [],
   "source": [
    "def tf_idf(df_full, dftr):\n",
    "    tf = TfidfVectorizer(stop_words = 'english', min_df = 1, max_df = 0.999)\n",
    "    tf.fit(df_full.question1 + df_full.question2)\n",
    "    q1_tfidf = tf.transform(dftr.question1.values)\n",
    "    q2_tfidf = tf.transform(dftr.question2.values)\n",
    "    tr_tfidf = sparse.hstack([q1_tfidf, q2_tfidf])\n",
    "    print('Final shape:', tr_tfidf.shape)\n",
    "    return tr_tfidf\n",
    "\n",
    "def model_foldrun(model, X, y, name, X_test = None):\n",
    "    skf = StratifiedKFold(n_splits = 10, random_state = 111, shuffle = True)\n",
    "    if isinstance(X, pd.core.frame.DataFrame):\n",
    "        X = X.values\n",
    "    if isinstance(y, pd.core.frame.DataFrame):\n",
    "        y = y.is_duplicate.values\n",
    "    if isinstance(y, pd.core.frame.Series):\n",
    "        y = y.values\n",
    "    print('Running model:', model)\n",
    "    i = 1\n",
    "    losses = []\n",
    "    oof_train = np.zeros((X.shape[0],))\n",
    "    for tr_index, val_index in skf.split(X, y):\n",
    "        X_tr, X_val = X[tr_index], X[val_index]\n",
    "        y_tr, y_val = y[tr_index], y[val_index]\n",
    "        t = time.time()\n",
    "        model.fit(X_tr, y_tr)\n",
    "        val_pred = model.predict(X_val)\n",
    "        score = log_loss(y_val, val_pred)\n",
    "        losses.append(score)\n",
    "        oof_train[val_index] = val_pred\n",
    "        print('Final score for fold {} :'.format(i), score, '\\n',\n",
    "              'Time it took to train and predict on fold:', time.time() - t, '\\n')\n",
    "        if Xte is not None:\n",
    "            print('Predicting test set.')\n",
    "            test_preds = model.predict([Xte, Xte2], batch_size = 64)\n",
    "            test_preds = pd.DataFrame(test_preds)\n",
    "            test_preds.columns = ['{}_feat1', '{}_feat2']\n",
    "            test_preds.to_pickle('test_{}preds_fold{}'.format(name, i))\n",
    "            del test_preds\n",
    "            gc.collect()\n",
    "        i += 1\n",
    "    val_pred = pd.DataFrame(val_pred, index = val_index)\n",
    "    val_pred.columns = ['{}_feat1', '{}_feat2']\n",
    "    val_pred.to_pickle('train_{}preds_fold{}'.format(name, i))\n",
    "    return\n",
    "        "
   ]
  },
  {
   "cell_type": "code",
   "execution_count": null,
   "metadata": {
    "collapsed": true,
    "scrolled": true
   },
   "outputs": [],
   "source": [
    "src = '/media/w/1c392724-ecf3-4615-8f3c-79368ec36380/DS Projects/Kaggle/Quora/scripts/features/'\n",
    "feats_src = '/media/w/1c392724-ecf3-4615-8f3c-79368ec36380/DS Projects/Kaggle/Quora/data/features/uncleaned/'\n",
    "trans_src = '/media/w/1c392724-ecf3-4615-8f3c-79368ec36380/DS Projects/Kaggle/Quora/data/features/lemmatized_fullclean/transformations/'\n",
    "\n",
    "X_train = pd.read_pickle('Xtrain_814colsBest.pkl', compression = 'bz2')\n",
    "xgb_feats = pd.read_csv(feats_src + '/the_1owl/owl_train.csv')\n",
    "train_interactions = pd.read_pickle(src + 'train_tony_interaction_gru.pkl')\n",
    "\n",
    "X_train = pd.concat([X_train, train_interactions], axis = 1)\n",
    "X_train = X_train.astype('float32')\n",
    "y_train = xgb_feats[['is_duplicate']]\n",
    "X_train.replace(np.nan, -999, inplace = True)\n",
    "X_train.replace(np.inf, 999, inplace = True)\n",
    "\n",
    "\n",
    "dftr2 = pd.read_csv(src + 'df_train_lemmatfullcleanSTEMMED.csv')[['question1', 'question2']]\n",
    "dfte2 = pd.read_csv(src + 'df_test_lemmatfullcleanSTEMMED.csv')[['question1', 'question2']]\n",
    "df_full = pd.concat((dftr2, dfte2))\n",
    "X_traintf = tf_idf(df_full, dftr2)\n",
    "\n",
    "del xgb_feats, df_full, dftr2, dfte2\n",
    "gc.collect()"
   ]
  },
  {
   "cell_type": "code",
   "execution_count": null,
   "metadata": {
    "collapsed": true,
    "scrolled": true
   },
   "outputs": [],
   "source": [
    "vw = VWRegressor()\n",
    "\n",
    "model_foldrun(vw, X_train, y_train, 'VWRegressor1stRun', X_test)"
   ]
  },
  {
   "cell_type": "code",
   "execution_count": null,
   "metadata": {
    "collapsed": true
   },
   "outputs": [],
   "source": []
  }
 ],
 "metadata": {
  "kernelspec": {
   "display_name": "Python 3",
   "language": "python",
   "name": "python3"
  },
  "language_info": {
   "codemirror_mode": {
    "name": "ipython",
    "version": 3
   },
   "file_extension": ".py",
   "mimetype": "text/x-python",
   "name": "python",
   "nbconvert_exporter": "python",
   "pygments_lexer": "ipython3",
   "version": "3.5.2"
  }
 },
 "nbformat": 4,
 "nbformat_minor": 2
}
