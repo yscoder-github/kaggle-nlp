{
 "cells": [
  {
   "cell_type": "markdown",
   "metadata": {},
   "source": [
    "https://www.kaggle.com/lystdo/quora-question-pairs/lstm-with-word2vec-embeddings"
   ]
  },
  {
   "cell_type": "code",
   "execution_count": 1,
   "metadata": {},
   "outputs": [
    {
     "name": "stderr",
     "output_type": "stream",
     "text": [
      "Using TensorFlow backend.\n"
     ]
    }
   ],
   "source": [
    "import os\n",
    "os.environ['PYTHONIOENCODING']='=utf8'\n",
    "os.environ[\"CUDA_DEVICE_ORDER\"]=\"PCI_BUS_ID\"   # see issue #152\n",
    "os.environ[\"CUDA_VISIBLE_DEVICES\"]=\"0\"\n",
    "\n",
    "import re\n",
    "import csv\n",
    "import codecs\n",
    "import numpy as np\n",
    "import pandas as pd\n",
    "\n",
    "from nltk.corpus import stopwords\n",
    "from nltk.stem import SnowballStemmer\n",
    "from string import punctuation\n",
    "\n",
    "import gensim\n",
    "from gensim.models import KeyedVectors\n",
    "from keras.preprocessing.text import Tokenizer\n",
    "from keras.preprocessing.sequence import pad_sequences\n",
    "from keras.layers import Dense, Input, LSTM, Embedding, Dropout, Activation\n",
    "from keras.layers.merge import concatenate\n",
    "from keras.models import Model\n",
    "from keras.layers.normalization import BatchNormalization\n",
    "from keras.callbacks import EarlyStopping, ModelCheckpoint\n"
   ]
  },
  {
   "cell_type": "code",
   "execution_count": 2,
   "metadata": {
    "collapsed": true
   },
   "outputs": [],
   "source": [
    "BASE_DIR = '/media/w/1c392724-ecf3-4615-8f3c-79368ec36380/DS Projects/Kaggle/Quora/data/'\n",
    "TRAIN_DATA_FILE = BASE_DIR + 'train.csv'\n",
    "TEST_DATA_FILE = BASE_DIR + 'test.csv'\n",
    "CHECK_DIR = BASE_DIR + '../scripts/models/checkpoints/'\n",
    "\n",
    "MAX_SEQUENCE_LENGTH = 36\n",
    "MAX_NB_WORDS = 200000\n",
    "VALIDATION_SPLIT = 0.1"
   ]
  },
  {
   "cell_type": "code",
   "execution_count": 3,
   "metadata": {
    "collapsed": true,
    "scrolled": true
   },
   "outputs": [],
   "source": [
    "train_feats = pd.read_csv('/media/w/1c392724-ecf3-4615-8f3c-79368ec36380/DS Projects/Kaggle/Quora/data/other/abhishek_features/train_features.csv', \n",
    "                         encoding = \"ISO-8859-1\")"
   ]
  },
  {
   "cell_type": "code",
   "execution_count": 4,
   "metadata": {
    "scrolled": true
   },
   "outputs": [
    {
     "name": "stdout",
     "output_type": "stream",
     "text": [
      "Processing text dataset\n",
      "Found 404290 texts in train.csv\n",
      "Found 2345796 texts in test.csv\n",
      "Found 120593 unique tokens\n",
      "Shape of data tensor: (404290, 36)\n",
      "Shape of label tensor: (404290,)\n"
     ]
    }
   ],
   "source": [
    "print('Processing text dataset')\n",
    "def text_to_wordlist(text, remove_stopwords=False, stem_words=False):\n",
    "    \n",
    "    text = text.lower().split()\n",
    "    if remove_stopwords:\n",
    "        stops = set(stopwords.words(\"english\"))\n",
    "        text = [w for w in text if not w in stops]\n",
    "    \n",
    "    text = \" \".join(text)\n",
    "\n",
    "    text = re.sub(r\"[^A-Za-z0-9^,!.\\/'+-=]\", \" \", text)\n",
    "    text = re.sub(r\"what's\", \"what is \", text)\n",
    "    text = re.sub(r\"\\'s\", \" \", text)\n",
    "    text = re.sub(r\"\\'ve\", \" have \", text)\n",
    "    text = re.sub(r\"can't\", \"cannot \", text)\n",
    "    text = re.sub(r\"n't\", \" not \", text)\n",
    "    text = re.sub(r\"i'm\", \"i am \", text)\n",
    "    text = re.sub(r\"\\'re\", \" are \", text)\n",
    "    text = re.sub(r\"\\'d\", \" would \", text)\n",
    "    text = re.sub(r\"\\'ll\", \" will \", text)\n",
    "    text = re.sub(r\",\", \" \", text)\n",
    "    text = re.sub(r\"\\.\", \" \", text)\n",
    "    text = re.sub(r\"!\", \" ! \", text)\n",
    "    text = re.sub(r\"\\/\", \" \", text)\n",
    "    text = re.sub(r\"\\^\", \" ^ \", text)\n",
    "    text = re.sub(r\"\\+\", \" + \", text)\n",
    "    text = re.sub(r\"\\-\", \" - \", text)\n",
    "    text = re.sub(r\"\\=\", \" = \", text)\n",
    "    text = re.sub(r\"'\", \" \", text)\n",
    "    text = re.sub(r\"60k\", \" 60000 \", text)\n",
    "    text = re.sub(r\":\", \" : \", text)\n",
    "    text = re.sub(r\" e g \", \" eg \", text)\n",
    "    text = re.sub(r\" b g \", \" bg \", text)\n",
    "    text = re.sub(r\" u s \", \" american \", text)\n",
    "    text = re.sub(r\"\\0s\", \"0\", text)\n",
    "    text = re.sub(r\" 9 11 \", \"911\", text)\n",
    "    text = re.sub(r\"e - mail\", \"email\", text)\n",
    "    text = re.sub(r\"j k\", \"jk\", text)\n",
    "    text = re.sub(r\"\\s{2,}\", \" \", text)\n",
    "    if stem_words:\n",
    "        text = text.split()\n",
    "        stemmer = SnowballStemmer('english')\n",
    "        stemmed_words = [stemmer.stem(word) for word in text]\n",
    "        text = \" \".join(stemmed_words)\n",
    "    return(text)\n",
    "\n",
    "texts_1 = [] \n",
    "texts_2 = []\n",
    "labels = []\n",
    "with codecs.open(TRAIN_DATA_FILE, encoding='utf-8') as f:\n",
    "    reader = csv.reader(f, delimiter=',')\n",
    "    header = next(reader)\n",
    "    for values in reader:\n",
    "        texts_1.append(text_to_wordlist(values[3]))\n",
    "        texts_2.append(text_to_wordlist(values[4]))\n",
    "        labels.append(int(values[5]))\n",
    "print('Found %s texts in train.csv' % len(texts_1))\n",
    "\n",
    "test_texts_1 = []\n",
    "test_texts_2 = []\n",
    "test_ids = []\n",
    "with codecs.open(TEST_DATA_FILE, encoding='utf-8') as f:\n",
    "    reader = csv.reader(f, delimiter=',')\n",
    "    header = next(reader)\n",
    "    for values in reader:\n",
    "        test_texts_1.append(text_to_wordlist(values[1]))\n",
    "        test_texts_2.append(text_to_wordlist(values[2]))\n",
    "        test_ids.append(values[0])\n",
    "print('Found %s texts in test.csv' % len(test_texts_1))\n",
    "\n",
    "tokenizer = Tokenizer(num_words=MAX_NB_WORDS)\n",
    "tokenizer.fit_on_texts(texts_1 + texts_2 + test_texts_1 + test_texts_2)\n",
    "\n",
    "sequences_1 = tokenizer.texts_to_sequences(texts_1)\n",
    "sequences_2 = tokenizer.texts_to_sequences(texts_2)\n",
    "test_sequences_1 = tokenizer.texts_to_sequences(test_texts_1)\n",
    "test_sequences_2 = tokenizer.texts_to_sequences(test_texts_2)\n",
    "\n",
    "word_index = tokenizer.word_index\n",
    "print('Found %s unique tokens' % len(word_index))\n",
    "\n",
    "data_1 = pad_sequences(sequences_1, maxlen=MAX_SEQUENCE_LENGTH)\n",
    "data_2 = pad_sequences(sequences_2, maxlen=MAX_SEQUENCE_LENGTH)\n",
    "labels = np.array(labels)\n",
    "print('Shape of data tensor:', data_1.shape)\n",
    "print('Shape of label tensor:', labels.shape)\n",
    "\n",
    "test_data_1 = pad_sequences(test_sequences_1, maxlen=MAX_SEQUENCE_LENGTH)\n",
    "test_data_2 = pad_sequences(test_sequences_2, maxlen=MAX_SEQUENCE_LENGTH)\n",
    "test_ids = np.array(test_ids)"
   ]
  },
  {
   "cell_type": "code",
   "execution_count": 5,
   "metadata": {},
   "outputs": [
    {
     "name": "stdout",
     "output_type": "stream",
     "text": [
      "Word embeddings: 2196016\n",
      "Null word embeddings: 33085\n"
     ]
    }
   ],
   "source": [
    "embedding_file = '/media/w/1c392724-ecf3-4615-8f3c-79368ec36380/DS Projects/Kaggle/Quora/data/embeddings/glove_840B/glove.840B.300d.txt'\n",
    "embeddings_index = {}\n",
    "with open(embedding_file, encoding='utf-8') as f:\n",
    "    for line in f:\n",
    "        values = line.split(' ')\n",
    "        word = values[0]\n",
    "        embedding = np.asarray(values[1:], dtype='float32')\n",
    "        embeddings_index[word] = embedding\n",
    "\n",
    "print('Word embeddings:', len(embeddings_index)) #151,250\n",
    "embedding_dim = 300\n",
    "\n",
    "nb_words = len(word_index)\n",
    "word_embedding_matrix = np.zeros((nb_words + 1, embedding_dim))\n",
    "for word, i in word_index.items():\n",
    "    embedding_vector = embeddings_index.get(word)\n",
    "    if embedding_vector is not None:\n",
    "        # words not found in embedding index will be all-zeros.\n",
    "        word_embedding_matrix[i] = embedding_vector\n",
    "\n",
    "print('Null word embeddings: %d' % np.sum(np.sum(word_embedding_matrix, axis=1) == 0)) #75,334"
   ]
  },
  {
   "cell_type": "code",
   "execution_count": 18,
   "metadata": {},
   "outputs": [],
   "source": [
    "data1f = np.concatenate([data_1, train_feats.iloc[:, 2:]], axis = 1)\n",
    "data2f = np.concatenate([data_2, train_feats.iloc[:, 2:]], axis = 1)"
   ]
  },
  {
   "cell_type": "code",
   "execution_count": 19,
   "metadata": {
    "collapsed": true
   },
   "outputs": [],
   "source": [
    "num_lstm = np.random.randint(175, 275)\n",
    "num_dense = np.random.randint(100, 150)\n",
    "rate_drop_lstm = 0.15 + np.random.rand() * 0.25\n",
    "rate_drop_dense = 0.15 + np.random.rand() * 0.25\n",
    "\n",
    "act = 'relu'\n",
    "re_weight = True # whether to re-weight classes to fit the 17.5% share in test set\n",
    "\n",
    "STAMP = 'lstm_%d_%d_%.2f_%.2f'%(num_lstm, num_dense, rate_drop_lstm, \\\n",
    "        rate_drop_dense)\n",
    "\n",
    "\n",
    "def lstm_model():\n",
    "    embedding_layer = Embedding(nb_words + 1,\n",
    "            embedding_dim,\n",
    "            weights=[word_embedding_matrix],\n",
    "            input_length=MAX_SEQUENCE_LENGTH + 28,\n",
    "            trainable=False)\n",
    "    \n",
    "    lstm_layer = LSTM(num_lstm, dropout=rate_drop_lstm, recurrent_dropout=rate_drop_lstm,\n",
    "                     go_backwards = False, implementation = 2)\n",
    "\n",
    "    sequence_1_input = Input(shape=(MAX_SEQUENCE_LENGTH + 28,), dtype='int32')\n",
    "    embedded_sequences_1 = embedding_layer(sequence_1_input)\n",
    "    x1 = lstm_layer(embedded_sequences_1)\n",
    "\n",
    "    sequence_2_input = Input(shape=(MAX_SEQUENCE_LENGTH + 28,), dtype='int32')\n",
    "    embedded_sequences_2 = embedding_layer(sequence_2_input)\n",
    "    y1 = lstm_layer(embedded_sequences_2)\n",
    "\n",
    "    merged = concatenate([x1, y1])\n",
    "    merged = Dropout(rate_drop_dense)(merged)\n",
    "    merged = BatchNormalization()(merged)\n",
    "\n",
    "    merged = Dense(num_dense, activation=act)(merged)\n",
    "    merged = Dropout(rate_drop_dense)(merged)\n",
    "    merged = BatchNormalization()(merged)\n",
    "\n",
    "    preds = Dense(1, activation='sigmoid')(merged)\n",
    "\n",
    "    model = Model(inputs=[sequence_1_input, sequence_2_input], outputs=preds)\n",
    "    model.compile(loss='binary_crossentropy', optimizer='nadam', metrics=['acc'])\n",
    "    return model"
   ]
  },
  {
   "cell_type": "code",
   "execution_count": 20,
   "metadata": {},
   "outputs": [
    {
     "name": "stdout",
     "output_type": "stream",
     "text": [
      "Model stamp: lstm_230_105_0.28_0.31\n"
     ]
    }
   ],
   "source": [
    "np.random.seed(1234)\n",
    "\n",
    "perm = np.random.permutation(len(data1f))\n",
    "idx_train = perm[:int(len(data1f)*(1-VALIDATION_SPLIT))]\n",
    "idx_val = perm[int(len(data1f)*(1-VALIDATION_SPLIT)):]\n",
    "\n",
    "data1f_train = np.vstack((data1f[idx_train], data2f[idx_train]))\n",
    "data2f_train = np.vstack((data2f[idx_train], data1f[idx_train]))\n",
    "labels_train = np.concatenate((labels[idx_train], labels[idx_train]))\n",
    "\n",
    "data1f_val = np.vstack((data1f[idx_val], data2f[idx_val]))\n",
    "data2f_val = np.vstack((data2f[idx_val], data1f[idx_val]))\n",
    "labels_val = np.concatenate((labels[idx_val], labels[idx_val]))\n",
    "\n",
    "weight_val = np.ones(len(labels_val))\n",
    "if re_weight:\n",
    "    weight_val *= 0.472001959\n",
    "    weight_val[labels_val==0] = 1.309028344\n",
    "\n",
    "if re_weight:\n",
    "    class_weight = {0: 1.309028344, 1: 0.472001959}\n",
    "else:\n",
    "    class_weight = None\n",
    "    \n",
    "print('Model stamp:', STAMP)\n",
    "early_stopping = EarlyStopping(monitor='val_loss', patience = 5)\n",
    "check_path = CHECK_DIR + STAMP + '.h5'\n",
    "model_checkpoint = ModelCheckpoint(check_path, save_best_only=True, save_weights_only=True)"
   ]
  },
  {
   "cell_type": "raw",
   "metadata": {},
   "source": [
    "np.random.seed(1234)\n",
    "\n",
    "perm = np.random.permutation(len(data_1))\n",
    "idx_train = perm[:int(len(data_1)*(1-VALIDATION_SPLIT))]\n",
    "idx_val = perm[int(len(data_1)*(1-VALIDATION_SPLIT)):]\n",
    "\n",
    "data_1_train = np.vstack((data_1[idx_train], data_2[idx_train]))\n",
    "data_2_train = np.vstack((data_2[idx_train], data_1[idx_train]))\n",
    "labels_train = np.concatenate((labels[idx_train], labels[idx_train]))\n",
    "\n",
    "data_1_val = np.vstack((data_1[idx_val], data_2[idx_val]))\n",
    "data_2_val = np.vstack((data_2[idx_val], data_1[idx_val]))\n",
    "labels_val = np.concatenate((labels[idx_val], labels[idx_val]))\n",
    "\n",
    "weight_val = np.ones(len(labels_val))\n",
    "if re_weight:\n",
    "    weight_val *= 0.472001959\n",
    "    weight_val[labels_val==0] = 1.309028344\n",
    "\n",
    "if re_weight:\n",
    "    class_weight = {0: 1.309028344, 1: 0.472001959}\n",
    "else:\n",
    "    class_weight = None\n",
    "    \n",
    "print('Model stamp:', STAMP)\n",
    "early_stopping = EarlyStopping(monitor='val_loss', patience = 5)\n",
    "check_path = CHECK_DIR + STAMP + '.h5'\n",
    "model_checkpoint = ModelCheckpoint(check_path, save_best_only=True, save_weights_only=True)"
   ]
  },
  {
   "cell_type": "raw",
   "metadata": {},
   "source": [
    "model = lstm_model()\n",
    "hist = model.fit([data_1_train, data_2_train], labels_train, \\\n",
    "        validation_data=([data_1_val, data_2_val], labels_val, weight_val), \\\n",
    "        epochs=200, batch_size=2048, shuffle=True, \\\n",
    "        class_weight=class_weight, callbacks=[early_stopping, model_checkpoint])"
   ]
  },
  {
   "cell_type": "markdown",
   "metadata": {},
   "source": [
    "val_loss: 0.2488 - val_acc: 0.8175 for standard model concatenated with Abhishek's features"
   ]
  },
  {
   "cell_type": "code",
   "execution_count": 21,
   "metadata": {
    "scrolled": true
   },
   "outputs": [
    {
     "name": "stdout",
     "output_type": "stream",
     "text": [
      "Train on 727722 samples, validate on 80858 samples\n",
      "Epoch 1/200\n",
      "727722/727722 [==============================] - 136s - loss: 0.3891 - acc: 0.6738 - val_loss: 0.3229 - val_acc: 0.6796\n",
      "Epoch 2/200\n",
      "727722/727722 [==============================] - 136s - loss: 0.3120 - acc: 0.7288 - val_loss: 0.2955 - val_acc: 0.7255\n",
      "Epoch 3/200\n",
      "727722/727722 [==============================] - 136s - loss: 0.2935 - acc: 0.7537 - val_loss: 0.2858 - val_acc: 0.7466\n",
      "Epoch 4/200\n",
      "727722/727722 [==============================] - 136s - loss: 0.2805 - acc: 0.7701 - val_loss: 0.2726 - val_acc: 0.7536\n",
      "Epoch 5/200\n",
      "727722/727722 [==============================] - 137s - loss: 0.2709 - acc: 0.7819 - val_loss: 0.2666 - val_acc: 0.8069\n",
      "Epoch 6/200\n",
      "727722/727722 [==============================] - 137s - loss: 0.2624 - acc: 0.7918 - val_loss: 0.2644 - val_acc: 0.7865\n",
      "Epoch 7/200\n",
      "727722/727722 [==============================] - 137s - loss: 0.2552 - acc: 0.8000 - val_loss: 0.2594 - val_acc: 0.7930\n",
      "Epoch 8/200\n",
      "727722/727722 [==============================] - 137s - loss: 0.2493 - acc: 0.8064 - val_loss: 0.2581 - val_acc: 0.8076\n",
      "Epoch 9/200\n",
      "727722/727722 [==============================] - 137s - loss: 0.2440 - acc: 0.8112 - val_loss: 0.2549 - val_acc: 0.8094\n",
      "Epoch 10/200\n",
      "727722/727722 [==============================] - 136s - loss: 0.2395 - acc: 0.8162 - val_loss: 0.2558 - val_acc: 0.8237\n",
      "Epoch 11/200\n",
      "727722/727722 [==============================] - 136s - loss: 0.2354 - acc: 0.8209 - val_loss: 0.2530 - val_acc: 0.8228\n",
      "Epoch 12/200\n",
      "727722/727722 [==============================] - 136s - loss: 0.2320 - acc: 0.8244 - val_loss: 0.2559 - val_acc: 0.8318\n",
      "Epoch 13/200\n",
      "727722/727722 [==============================] - 137s - loss: 0.2294 - acc: 0.8270 - val_loss: 0.2489 - val_acc: 0.8170\n",
      "Epoch 14/200\n",
      "727722/727722 [==============================] - 137s - loss: 0.2263 - acc: 0.8295 - val_loss: 0.2488 - val_acc: 0.8175\n",
      "Epoch 15/200\n",
      "727722/727722 [==============================] - 136s - loss: 0.2236 - acc: 0.8325 - val_loss: 0.2547 - val_acc: 0.8268\n",
      "Epoch 16/200\n",
      "727722/727722 [==============================] - 136s - loss: 0.2212 - acc: 0.8346 - val_loss: 0.2508 - val_acc: 0.8243\n",
      "Epoch 17/200\n",
      "727722/727722 [==============================] - 136s - loss: 0.2192 - acc: 0.8365 - val_loss: 0.2538 - val_acc: 0.8304\n",
      "Epoch 18/200\n",
      "727722/727722 [==============================] - 136s - loss: 0.2176 - acc: 0.8382 - val_loss: 0.2539 - val_acc: 0.8334\n",
      "Epoch 19/200\n",
      "727722/727722 [==============================] - 136s - loss: 0.2156 - acc: 0.8401 - val_loss: 0.2593 - val_acc: 0.8359\n",
      "Epoch 20/200\n",
      "727722/727722 [==============================] - 136s - loss: 0.2143 - acc: 0.8407 - val_loss: 0.2536 - val_acc: 0.8341\n"
     ]
    }
   ],
   "source": [
    "model = lstm_model()\n",
    "hist = model.fit([data1f_train, data2f_train], labels_train, \\\n",
    "        validation_data=([data1f_val, data2f_val], labels_val, weight_val), \\\n",
    "        epochs=200, batch_size=2048, shuffle=True, \\\n",
    "        class_weight=class_weight, callbacks=[early_stopping, model_checkpoint])"
   ]
  },
  {
   "cell_type": "code",
   "execution_count": null,
   "metadata": {
    "collapsed": true
   },
   "outputs": [],
   "source": [
    "model.load_weights(bst_model_path)\n",
    "bst_val_score = min(hist.history['val_loss'])\n",
    "\n",
    "print('Start making the submission before fine-tuning')\n",
    "preds = model.predict([test_data_1, test_data_2], batch_size=8192, verbose=1)\n",
    "preds += model.predict([test_data_2, test_data_1], batch_size=8192, verbose=1)\n",
    "preds /= 2\n",
    "\n",
    "submission = pd.DataFrame({'test_id':test_ids, 'is_duplicate':preds.ravel()})\n",
    "submission.to_csv('%.4f_'%(bst_val_score)+STAMP+'.csv', index=False)"
   ]
  },
  {
   "cell_type": "code",
   "execution_count": null,
   "metadata": {
    "collapsed": true,
    "scrolled": true
   },
   "outputs": [],
   "source": [
    "sub1 = pd.read_csv('0.2615_lstm_223_141_0.31_0.20.csv')\n",
    "sub2 = pd.read_csv('0.2647_lstm_198_127_0.20_0.19.csv')\n",
    "\n",
    "sub_avg = sub1.copy()\n",
    "sub_avg['is_duplicate'] = (sub1['is_duplicate'] + sub2['is_duplicate'] ) / 2\n",
    "sub_avg['test_id'] = sub1['test_id']\n",
    "sub_avg.to_csv('submission_first_two_avg.csv', index = False)"
   ]
  },
  {
   "cell_type": "code",
   "execution_count": null,
   "metadata": {
    "collapsed": true
   },
   "outputs": [],
   "source": []
  }
 ],
 "metadata": {
  "kernelspec": {
   "display_name": "Python 3",
   "language": "python",
   "name": "python3"
  },
  "language_info": {
   "codemirror_mode": {
    "name": "ipython",
    "version": 3
   },
   "file_extension": ".py",
   "mimetype": "text/x-python",
   "name": "python",
   "nbconvert_exporter": "python",
   "pygments_lexer": "ipython3",
   "version": "3.5.2"
  }
 },
 "nbformat": 4,
 "nbformat_minor": 2
}
