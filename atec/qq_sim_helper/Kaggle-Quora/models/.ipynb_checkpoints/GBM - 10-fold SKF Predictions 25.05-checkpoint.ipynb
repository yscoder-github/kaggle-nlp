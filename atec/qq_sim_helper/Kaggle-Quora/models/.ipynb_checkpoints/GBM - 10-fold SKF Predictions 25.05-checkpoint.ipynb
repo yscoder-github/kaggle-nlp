{
 "cells": [
  {
   "cell_type": "code",
   "execution_count": 1,
   "metadata": {
    "collapsed": true,
    "scrolled": false
   },
   "outputs": [],
   "source": [
    "import nltk\n",
    "import difflib\n",
    "import time\n",
    "import gc\n",
    "import itertools\n",
    "import multiprocessing\n",
    "import pandas as pd\n",
    "import numpy as np\n",
    "import xgboost as xgb\n",
    "import lightgbm as lgb\n",
    "\n",
    "import warnings\n",
    "warnings.filterwarnings('ignore')\n",
    "import matplotlib.pyplot as plt\n",
    "%matplotlib inline\n",
    "import seaborn as sns\n",
    "\n",
    "from sklearn.metrics import log_loss\n",
    "from sklearn.model_selection import train_test_split, StratifiedKFold\n",
    "\n",
    "from models_utils_fe import *\n",
    "from models_utils_skf import *"
   ]
  },
  {
   "cell_type": "code",
   "execution_count": 2,
   "metadata": {
    "scrolled": true
   },
   "outputs": [
    {
     "data": {
      "text/plain": [
       "21"
      ]
     },
     "execution_count": 2,
     "metadata": {},
     "output_type": "execute_result"
    }
   ],
   "source": [
    "src = '/media/w/1c392724-ecf3-4615-8f3c-79368ec36380/DS Projects/Kaggle/Quora/scripts/features/'\n",
    "feats_src = '/media/w/1c392724-ecf3-4615-8f3c-79368ec36380/DS Projects/Kaggle/Quora/data/features/uncleaned/'\n",
    "trans_src = '/media/w/1c392724-ecf3-4615-8f3c-79368ec36380/DS Projects/Kaggle/Quora/data/features/lemmatized_fullclean/transformations/'\n",
    "\n",
    "X_train = pd.read_pickle('Xtrain_814colsBest.pkl', compression = 'bz2')\n",
    "xgb_feats = pd.read_csv(feats_src + '/the_1owl/owl_train.csv')\n",
    "y_train = xgb_feats[['is_duplicate']]\n",
    "\n",
    "train_interactions = pd.read_pickle(src + 'train_tony_interaction_gru.pkl')\n",
    "\n",
    "X_train = pd.concat([X_train, train_interactions], axis = 1)\n",
    "X_train = X_train.astype('float32')\n",
    "\n",
    "del xgb_feats\n",
    "gc.collect()"
   ]
  },
  {
   "cell_type": "markdown",
   "metadata": {},
   "source": [
    "XGB: Final score for fold 1 : 0.179168044048 "
   ]
  },
  {
   "cell_type": "code",
   "execution_count": null,
   "metadata": {
    "collapsed": true
   },
   "outputs": [],
   "source": [
    "lgb_params = {\n",
    "    'task' : 'train',\n",
    "    'boosting_type' : 'gbdt',\n",
    "    'objective' : 'binary',\n",
    "    'metric' : {'binary_logloss'},\n",
    "    'learning_rate' : 0.01,\n",
    "    'feature_fraction' : 0.51,\n",
    "    'bagging_fraction': 0.9,\n",
    "    'bagging_freq': 100,\n",
    "    'num_leaves' : 255,\n",
    "    'max_depth': 8,\n",
    "    'min_data_in_leaf': 23,\n",
    "    'subsample': 0.8,\n",
    "    'colsample_bytree': 0.41,\n",
    "    'silent': 1,\n",
    "    'random_state': 1337,\n",
    "    'verbose': 1,\n",
    "    'nthread': 9,\n",
    "}\n",
    "\n",
    "xgb_params = {\n",
    "    'seed': 1337,\n",
    "    'colsample_bytree': 0.42,\n",
    "    'silent': 1,\n",
    "    'subsample': 0.85,\n",
    "    'eta': 0.02,\n",
    "    'objective': 'binary:logistic',\n",
    "    'eval_metric': 'logloss',\n",
    "    'max_depth': 8,\n",
    "    'min_child_weight': 20,\n",
    "    'nthread': 4,\n",
    "    'tree_method': 'hist',\n",
    "    }"
   ]
  },
  {
   "cell_type": "code",
   "execution_count": null,
   "metadata": {},
   "outputs": [
    {
     "name": "stdout",
     "output_type": "stream",
     "text": [
      "Running XGB model with parameters: {'objective': 'binary:logistic', 'max_depth': 8, 'silent': 1, 'subsample': 0.85, 'seed': 1337, 'eval_metric': 'logloss', 'min_child_weight': 20, 'nthread': 4, 'eta': 0.02, 'colsample_bytree': 0.42, 'tree_method': 'hist'}\n",
      "Start training on fold: 1\n",
      "[0]\ttrain-logloss:0.680099\tvalid-logloss:0.680103\n",
      "Multiple eval metrics have been passed: 'valid-logloss' will be used for early stopping.\n",
      "\n",
      "Will train until valid-logloss hasn't improved in 100 rounds.\n",
      "[100]\ttrain-logloss:0.249493\tvalid-logloss:0.25028\n",
      "[200]\ttrain-logloss:0.196358\tvalid-logloss:0.20001\n",
      "[300]\ttrain-logloss:0.18317\tvalid-logloss:0.190368\n",
      "[400]\ttrain-logloss:0.175874\tvalid-logloss:0.187018\n",
      "[500]\ttrain-logloss:0.170269\tvalid-logloss:0.185187\n",
      "[600]\ttrain-logloss:0.165321\tvalid-logloss:0.184081\n",
      "[700]\ttrain-logloss:0.160959\tvalid-logloss:0.183348\n",
      "[800]\ttrain-logloss:0.157128\tvalid-logloss:0.182722\n",
      "[900]\ttrain-logloss:0.152979\tvalid-logloss:0.182246\n",
      "[1000]\ttrain-logloss:0.14926\tvalid-logloss:0.181788\n",
      "[1100]\ttrain-logloss:0.145592\tvalid-logloss:0.181521\n",
      "[1200]\ttrain-logloss:0.142143\tvalid-logloss:0.181242\n",
      "[1300]\ttrain-logloss:0.138822\tvalid-logloss:0.181041\n",
      "[1400]\ttrain-logloss:0.135488\tvalid-logloss:0.180826\n",
      "[1500]\ttrain-logloss:0.13211\tvalid-logloss:0.180591\n",
      "[1600]\ttrain-logloss:0.128927\tvalid-logloss:0.180465\n",
      "[1700]\ttrain-logloss:0.126124\tvalid-logloss:0.180222\n",
      "[1800]\ttrain-logloss:0.123283\tvalid-logloss:0.180016\n",
      "[1900]\ttrain-logloss:0.120383\tvalid-logloss:0.179785\n",
      "[2000]\ttrain-logloss:0.117462\tvalid-logloss:0.179618\n",
      "[2100]\ttrain-logloss:0.114661\tvalid-logloss:0.179441\n",
      "[2200]\ttrain-logloss:0.112172\tvalid-logloss:0.179372\n",
      "[2300]\ttrain-logloss:0.109799\tvalid-logloss:0.179339\n",
      "[2400]\ttrain-logloss:0.10734\tvalid-logloss:0.179183\n",
      "[2500]\ttrain-logloss:0.104905\tvalid-logloss:0.179186\n",
      "Stopping. Best iteration:\n",
      "[2407]\ttrain-logloss:0.107141\tvalid-logloss:0.179168\n",
      "\n",
      "Start predicting...\n",
      "Final score for fold 1 : 0.179168044048 \n",
      " Time it took to train and predict on fold: 2707.2145364284515 \n",
      "\n",
      "Start training on fold: 2\n",
      "[0]\ttrain-logloss:0.680065\tvalid-logloss:0.680195\n",
      "Multiple eval metrics have been passed: 'valid-logloss' will be used for early stopping.\n",
      "\n",
      "Will train until valid-logloss hasn't improved in 100 rounds.\n",
      "[100]\ttrain-logloss:0.248802\tvalid-logloss:0.257355\n"
     ]
    }
   ],
   "source": [
    "xgb_foldrun(X_train, y_train, xgb_params, 'FredFeatsGRU')"
   ]
  },
  {
   "cell_type": "code",
   "execution_count": null,
   "metadata": {
    "collapsed": true
   },
   "outputs": [],
   "source": [
    "lgb_foldrun(X_train, y_train, lgb_params, 'FredFeatsGRU')"
   ]
  },
  {
   "cell_type": "code",
   "execution_count": null,
   "metadata": {
    "collapsed": true
   },
   "outputs": [],
   "source": []
  }
 ],
 "metadata": {
  "kernelspec": {
   "display_name": "Python 3",
   "language": "python",
   "name": "python3"
  },
  "language_info": {
   "codemirror_mode": {
    "name": "ipython",
    "version": 3
   },
   "file_extension": ".py",
   "mimetype": "text/x-python",
   "name": "python",
   "nbconvert_exporter": "python",
   "pygments_lexer": "ipython3",
   "version": "3.5.2"
  }
 },
 "nbformat": 4,
 "nbformat_minor": 2
}
