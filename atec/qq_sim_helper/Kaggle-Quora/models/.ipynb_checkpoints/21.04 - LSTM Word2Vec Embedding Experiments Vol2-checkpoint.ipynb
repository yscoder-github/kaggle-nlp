{
 "cells": [
  {
   "cell_type": "markdown",
   "metadata": {},
   "source": [
    "https://www.kaggle.com/lystdo/quora-question-pairs/lstm-with-word2vec-embeddings"
   ]
  },
  {
   "cell_type": "code",
   "execution_count": 1,
   "metadata": {},
   "outputs": [
    {
     "name": "stderr",
     "output_type": "stream",
     "text": [
      "Using TensorFlow backend.\n"
     ]
    }
   ],
   "source": [
    "import os\n",
    "os.environ['PYTHONIOENCODING']='=utf8'\n",
    "os.environ[\"CUDA_DEVICE_ORDER\"]=\"PCI_BUS_ID\"\n",
    "os.environ[\"CUDA_VISIBLE_DEVICES\"]=\"1\"\n",
    "\n",
    "import re\n",
    "import csv\n",
    "import codecs\n",
    "import numpy as np\n",
    "import pandas as pd\n",
    "import gc\n",
    "\n",
    "from nltk.corpus import stopwords\n",
    "from nltk.stem import SnowballStemmer\n",
    "from string import punctuation\n",
    "\n",
    "import gensim\n",
    "from gensim.models import KeyedVectors\n",
    "from keras.preprocessing.text import Tokenizer\n",
    "from keras.preprocessing.sequence import pad_sequences\n",
    "from keras.layers import Dense, Input, LSTM, Embedding, Dropout, Activation\n",
    "from keras.layers.merge import concatenate\n",
    "from keras.models import Model\n",
    "from keras.layers.normalization import BatchNormalization\n",
    "from keras.callbacks import EarlyStopping, ModelCheckpoint\n",
    "from keras.layers.advanced_activations import PReLU\n",
    "from sklearn.model_selection import train_test_split"
   ]
  },
  {
   "cell_type": "code",
   "execution_count": 2,
   "metadata": {
    "collapsed": true
   },
   "outputs": [],
   "source": [
    "BASE_DIR = '/media/w/1c392724-ecf3-4615-8f3c-79368ec36380/DS Projects/Kaggle/Quora/data/'\n",
    "TRAIN_DATA_FILE = BASE_DIR + 'train.csv'\n",
    "TEST_DATA_FILE = BASE_DIR + 'test.csv'\n",
    "CHECK_DIR = BASE_DIR + '../scripts/models/checkpoints/'\n",
    "\n",
    "MAX_SEQUENCE_LENGTH = 36\n",
    "MAX_NB_WORDS = 200000\n",
    "\n",
    "embedding_dim = 300\n",
    "nb_words = 120593"
   ]
  },
  {
   "cell_type": "code",
   "execution_count": 3,
   "metadata": {
    "collapsed": true
   },
   "outputs": [],
   "source": [
    "def get_train():\n",
    "    keras_q1 = np.load('../../data/transformed/keras_tokenizer/train_q1_transformed.npy')\n",
    "    keras_q2 = np.load('../../data/transformed/keras_tokenizer/train_q2_transformed.npy')\n",
    "    xgb_feats = pd.read_csv('../../data/features/the_1owl/owl_train.csv')\n",
    "    abhishek_feats = pd.read_csv('../../data/features/abhishek/train_features.csv',\n",
    "                              encoding = 'ISO-8859-1').iloc[:, 2:]\n",
    "    text_feats = pd.read_csv('../../data/features/other_features/text_features_train.csv',\n",
    "                            encoding = 'ISO-8859-1')\n",
    "    img_feats = pd.read_csv('../../data/features/other_features/img_features_train.csv')\n",
    "    srk_feats = pd.read_csv('../../data/features/srk/SRK_grams_features_train.csv')\n",
    "\n",
    "    xgb_feats.drop(['z_len1', 'z_len2', 'z_word_len1', 'z_word_len2'], axis = 1, inplace = True)\n",
    "    xgb_feats = xgb_feats.iloc[:, 8:]\n",
    "    \n",
    "    X_train2 = np.concatenate([keras_q1, keras_q2, xgb_feats, abhishek_feats, text_feats, img_feats], axis = 1)\n",
    "    #X_train2 = np.concatenate([keras_q1, keras_q2, xgb_feats, abhishek_feats, text_feats], axis = 1)\n",
    "    return X_train2\n",
    "\n",
    "def concat_feats(data1, data2):\n",
    "    datafeats = get_train()\n",
    "    full1 = np.concatenate([data1, datafeats], axis = 1)\n",
    "    full2 = np.concatenate([data2, datafeats], axis = 1)\n",
    "    del data1, data2, datafeats\n",
    "    gc.collect()\n",
    "    return full1, full2"
   ]
  },
  {
   "cell_type": "code",
   "execution_count": 4,
   "metadata": {
    "collapsed": true
   },
   "outputs": [],
   "source": [
    "def lstm_model(ncols):\n",
    "    embedding_layer = Embedding(nb_words + 1,\n",
    "            embedding_dim,\n",
    "            weights=[word_embedding_matrix],\n",
    "            input_length=ncols,\n",
    "            trainable=False)\n",
    "    \n",
    "    lstm_layer = LSTM(num_lstm, dropout=rate_drop_lstm, recurrent_dropout=rate_drop_lstm,\n",
    "                     go_backwards = False, implementation = 2)\n",
    "\n",
    "    sequence_1_input = Input(shape=(ncols,), dtype='int32')\n",
    "    embedded_sequences_1 = embedding_layer(sequence_1_input)\n",
    "    x1 = lstm_layer(embedded_sequences_1)\n",
    "\n",
    "    sequence_2_input = Input(shape=(ncols,), dtype='int32')\n",
    "    embedded_sequences_2 = embedding_layer(sequence_2_input)\n",
    "    y1 = lstm_layer(embedded_sequences_2)\n",
    "\n",
    "    merged = concatenate([x1, y1])\n",
    "    merged = Dropout(rate_drop_dense)(merged)\n",
    "    merged = BatchNormalization()(merged)\n",
    "\n",
    "    merged = Dense(num_dense, activation=act)(merged)\n",
    "    merged = Dropout(rate_drop_dense)(merged)\n",
    "    merged = BatchNormalization()(merged)\n",
    "\n",
    "    preds = Dense(1, activation='sigmoid')(merged)\n",
    "\n",
    "    model = Model(inputs=[sequence_1_input, sequence_2_input], outputs=preds)\n",
    "    model.compile(loss='binary_crossentropy', optimizer='nadam', metrics=['acc'])\n",
    "    return model\n",
    "\n",
    "\n",
    "def deep_lstm_model():\n",
    "    embedding_layer = Embedding(nb_words + 1,\n",
    "            embedding_dim,\n",
    "            weights=[word_embedding_matrix],\n",
    "            input_length=MAX_SEQUENCE_LENGTH,\n",
    "            trainable=False)\n",
    "    \n",
    "    lstm_layer = LSTM(num_lstm, dropout=rate_drop_lstm, recurrent_dropout=rate_drop_lstm,\n",
    "                     go_backwards = False, implementation = 2, return_sequences = True)\n",
    "    lstm_layer2 = LSTM(96, dropout=rate_drop_lstm, recurrent_dropout=rate_drop_lstm,\n",
    "                     go_backwards = False, implementation = 2)\n",
    "\n",
    "    sequence_1_input = Input(shape=(MAX_SEQUENCE_LENGTH,), dtype='int32')\n",
    "    embedded_sequences_1 = embedding_layer(sequence_1_input)\n",
    "    x1 = lstm_layer(embedded_sequences_1)\n",
    "    x2 = lstm_layer2(x1)\n",
    "\n",
    "    sequence_2_input = Input(shape=(MAX_SEQUENCE_LENGTH,), dtype='int32')\n",
    "    embedded_sequences_2 = embedding_layer(sequence_2_input)\n",
    "    y1 = lstm_layer(embedded_sequences_2)\n",
    "    y2 = lstm_layer2(y1)\n",
    "\n",
    "    merged = concatenate([x2, y2])\n",
    "    merged = Dropout(rate_drop_dense)(merged)\n",
    "    merged = BatchNormalization()(merged)\n",
    "\n",
    "    merged = Dense(num_dense, activation=act)(merged)\n",
    "    merged = Dropout(rate_drop_dense)(merged)\n",
    "    merged = BatchNormalization()(merged)\n",
    "\n",
    "    preds = Dense(1, activation='sigmoid')(merged)\n",
    "\n",
    "    model = Model(inputs=[sequence_1_input, sequence_2_input], outputs=preds)\n",
    "    model.compile(loss='binary_crossentropy', optimizer='nadam', metrics=['acc'])\n",
    "    return model\n",
    "\n",
    "\n",
    "def merged_lstm():\n",
    "    embedding_layer = Embedding(nb_words + 1,\n",
    "            embedding_dim,\n",
    "            weights=[word_embedding_matrix],\n",
    "            input_length=MAX_SEQUENCE_LENGTH,\n",
    "            trainable=False)\n",
    "    \n",
    "    lstm_layer = LSTM(num_lstm, dropout=rate_drop_lstm, recurrent_dropout=rate_drop_lstm,\n",
    "                     go_backwards = False, implementation = 2)\n",
    "\n",
    "    sequence_1_input = Input(shape=(MAX_SEQUENCE_LENGTH,), dtype='int32')\n",
    "    embedded_sequences_1 = embedding_layer(sequence_1_input)\n",
    "    x1 = lstm_layer(embedded_sequences_1)\n",
    "\n",
    "    sequence_2_input = Input(shape=(MAX_SEQUENCE_LENGTH,), dtype='int32')\n",
    "    embedded_sequences_2 = embedding_layer(sequence_2_input)\n",
    "    y1 = lstm_layer(embedded_sequences_2)\n",
    "\n",
    "    dense_input = Input(shape = (ncols,))\n",
    "    d = Dense(512, kernel_initializer = 'he_normal')(dense_input)\n",
    "    d = PReLU()(d)\n",
    "    d = BatchNormalization()(d)\n",
    "    d = Dropout(0.4)(d)\n",
    "    \n",
    "    d2 = Dense(256, kernel_initializer = 'he_normal')(d)\n",
    "    d2 = PReLU()(d2)\n",
    "    d2 = BatchNormalization()(d2)\n",
    "    d2 = Dropout(0.4)(d2)\n",
    "    \n",
    "    d3 = Dense(256, kernel_initializer = 'he_normal')(d2)\n",
    "    d3 = PReLU()(d3)\n",
    "    d3 = BatchNormalization()(d3)\n",
    "    d3 = Dropout(0.4)(d3)\n",
    "    \n",
    "    merged = concatenate([x1, y1, d3])\n",
    "    merged = Dropout(rate_drop_dense)(merged)\n",
    "    merged = BatchNormalization()(merged)\n",
    "\n",
    "    merged = Dense(num_dense)(merged)\n",
    "    merged = PReLU()(merged)\n",
    "    merged = Dropout(rate_drop_dense)(merged)\n",
    "    merged = BatchNormalization()(merged)\n",
    "\n",
    "    preds = Dense(1, activation='sigmoid')(merged)\n",
    "    \n",
    "    model = Model(inputs=[sequence_1_input, sequence_2_input, dense_input], outputs=preds)\n",
    "    model.compile(loss='binary_crossentropy', optimizer='adam', metrics=['acc'])\n",
    "    return model\n"
   ]
  },
  {
   "cell_type": "code",
   "execution_count": 5,
   "metadata": {
    "collapsed": true
   },
   "outputs": [],
   "source": [
    "def create_validset(data_1, data_2, datafeats, labels):\n",
    "    np.random.seed(1234)\n",
    "    perm = np.random.permutation(len(data_1))\n",
    "    idx_train = perm[:int(len(data_1)*(1-VALIDATION_SPLIT))]\n",
    "    idx_val = perm[int(len(data_1)*(1-VALIDATION_SPLIT)):]\n",
    "    \n",
    "    data_1_train = np.vstack((data_1[idx_train], data_2[idx_train]))\n",
    "    data_2_train = np.vstack((data_2[idx_train], data_1[idx_train]))\n",
    "    labels_train = np.concatenate((labels[idx_train], labels[idx_train]))\n",
    "    dataf_train = np.vstack((datafeats[idx_train], datafeats[idx_train]))\n",
    "    \n",
    "    data_1_val = np.vstack((data_1[idx_val], data_2[idx_val]))\n",
    "    data_2_val = np.vstack((data_2[idx_val], data_1[idx_val]))\n",
    "    labels_val = np.concatenate((labels[idx_val], labels[idx_val]))\n",
    "    dataf_val = np.vstack((datafeats[idx_val], datafeats[idx_val]))\n",
    "    return data_1_train, data_2_train, dataf_train, labels_train, data_1_val, data_2_val, dataf_val, labels_val\n",
    "\n",
    "\n",
    "def create_validset2(data_1, data_2, labels):\n",
    "    np.random.seed(1234)\n",
    "    perm = np.random.permutation(len(data_1))\n",
    "    idx_train = perm[:int(len(data_1)*(1-VALIDATION_SPLIT))]\n",
    "    idx_val = perm[int(len(data_1)*(1-VALIDATION_SPLIT)):]\n",
    "\n",
    "    data_1_train = np.vstack((data_1[idx_train], data_2[idx_train]))\n",
    "    data_2_train = np.vstack((data_2[idx_train], data_1[idx_train]))\n",
    "    labels_train = np.concatenate((labels[idx_train], labels[idx_train]))\n",
    "\n",
    "    data_1_val = np.vstack((data_1[idx_val], data_2[idx_val]))\n",
    "    data_2_val = np.vstack((data_2[idx_val], data_1[idx_val]))\n",
    "    labels_val = np.concatenate((labels[idx_val], labels[idx_val]))\n",
    "    return data_1_train, data_2_train, labels_train, data_1_val, data_2_val, labels_val\n"
   ]
  },
  {
   "cell_type": "code",
   "execution_count": 5,
   "metadata": {},
   "outputs": [
    {
     "name": "stdout",
     "output_type": "stream",
     "text": [
      "Shape of data tensor: (404290, 36)\n",
      "Shape of label tensor: (404290,)\n"
     ]
    }
   ],
   "source": [
    "data_src = '/media/w/1c392724-ecf3-4615-8f3c-79368ec36380/DS Projects/Kaggle/Quora/data/transformed/keras_tokenizer/'\n",
    "\n",
    "data_1 = np.load(data_src + 'train_q1_transformed.npy')\n",
    "data_2 = np.load(data_src + 'train_q2_transformed.npy')\n",
    "labels = np.load(data_src + 'train_labels.npy')\n",
    "print('Shape of data tensor:', data_1.shape)\n",
    "print('Shape of label tensor:', labels.shape)\n",
    "\n",
    "test_data_1 = np.load(data_src + 'test_q1_transformed.npy')\n",
    "test_data_2 = np.load(data_src + 'test_q2_transformed.npy')\n",
    "test_ids = np.load(data_src + 'test_ids.npy')\n",
    "print('Shape of test data tensor:', test_data_1.shape)\n",
    "\n",
    "word_embedding_matrix = np.load(data_src + 'embedding_matrix.npy')"
   ]
  },
  {
   "cell_type": "code",
   "execution_count": 7,
   "metadata": {},
   "outputs": [],
   "source": [
    "def create_validset3(data_1, data_2, labels):\n",
    "    data1_tr, data1_val, y1_tr, y1_val = train_test_split(data_1, labels, stratify = labels,\n",
    "                                                        test_size = 0.2, random_state = 111)\n",
    "    data2_tr, data2_val, y2_tr, y2_val = train_test_split(data_2, labels, stratify = labels,\n",
    "                                                        test_size = 0.2, random_state = 111)\n",
    "\n",
    "    data_1_train = np.vstack((data1_tr, data2_tr))\n",
    "    data_2_train = np.vstack((data2_tr, data1_tr))\n",
    "    labels_train = np.concatenate((y1_tr, y2_tr))\n",
    "\n",
    "    data_1_val = np.vstack((data1_val, data2_val))\n",
    "    data_2_val = np.vstack((data2_val, data1_val))\n",
    "    labels_val = np.concatenate((y1_val, y2_val))\n",
    "    return data_1_train, data_2_train, labels_train, data_1_val, data_2_val, labels_val"
   ]
  },
  {
   "cell_type": "raw",
   "metadata": {},
   "source": [
    "full1, full2 = concat_feats(data_1, data_2)\n",
    "data_1_train, data_2_train, labels_train, data_1_val, data_2_val, labels_val = create_validset2(full1, full2, labels)\n",
    "del full1, full2, labels\n",
    "gc.collect()"
   ]
  },
  {
   "cell_type": "code",
   "execution_count": 8,
   "metadata": {},
   "outputs": [
    {
     "data": {
      "text/plain": [
       "96"
      ]
     },
     "execution_count": 8,
     "metadata": {},
     "output_type": "execute_result"
    }
   ],
   "source": [
    "datafeats = get_train()\n",
    "data_1_train, data_2_train, dataf_train, labels_train, data_1_val, data_2_val, dataf_val, labels_val = create_validset(data_1, data_2, datafeats, labels)\n",
    "del data_1, data_2, labels, datafeats\n",
    "gc.collect()"
   ]
  },
  {
   "cell_type": "code",
   "execution_count": 11,
   "metadata": {},
   "outputs": [
    {
     "name": "stdout",
     "output_type": "stream",
     "text": [
      "Model stamp: lstm_mergedfullfeats_220_141_0.36_0.27\n"
     ]
    }
   ],
   "source": [
    "re_weight = True # whether to re-weight classes to fit the 17.5% share in test set\n",
    "weight_val = np.ones(len(labels_val))\n",
    "if re_weight:\n",
    "    weight_val *= 0.472001959\n",
    "    weight_val[labels_val==0] = 1.309028344\n",
    "\n",
    "if re_weight:\n",
    "    class_weight = {0: 1.309028344, 1: 0.472001959}\n",
    "else:\n",
    "    class_weight = None\n",
    "    \n",
    "num_lstm = np.random.randint(175, 275)\n",
    "num_dense = np.random.randint(100, 150)\n",
    "rate_drop_lstm = 0.15 + np.random.rand() * 0.25\n",
    "rate_drop_dense = 0.15 + np.random.rand() * 0.25\n",
    "act = 'relu'\n",
    "ncols = dataf_train.shape[1] \n",
    "\n",
    "STAMP = 'lstm_mergedfullfeats_%d_%d_%.2f_%.2f'%(num_lstm, num_dense, rate_drop_lstm, \\\n",
    "        rate_drop_dense)\n",
    "\n",
    "print('Model stamp:', STAMP)\n",
    "early_stopping = EarlyStopping(monitor='val_loss', patience = 5)\n",
    "check_path = CHECK_DIR + STAMP + '.h5'\n",
    "model_checkpoint = ModelCheckpoint(check_path, save_best_only=True, save_weights_only=True)"
   ]
  },
  {
   "cell_type": "markdown",
   "metadata": {},
   "source": [
    "val_loss: 0.2488 - val_acc: 0.8175 for standard model concatenated with Abhishek's features"
   ]
  },
  {
   "cell_type": "code",
   "execution_count": 12,
   "metadata": {},
   "outputs": [
    {
     "name": "stdout",
     "output_type": "stream",
     "text": [
      "Train on 727722 samples, validate on 80858 samples\n",
      "Epoch 1/200\n",
      "727722/727722 [==============================] - 108s - loss: 0.4252 - acc: 0.6755 - val_loss: 0.3569 - val_acc: 0.7197\n",
      "Epoch 2/200\n",
      "727722/727722 [==============================] - 104s - loss: 0.3581 - acc: 0.7096 - val_loss: 0.3272 - val_acc: 0.7359\n",
      "Epoch 3/200\n",
      "727722/727722 [==============================] - 104s - loss: 0.3377 - acc: 0.7281 - val_loss: 0.3167 - val_acc: 0.7577\n",
      "Epoch 4/200\n",
      "727722/727722 [==============================] - 104s - loss: 0.3240 - acc: 0.7414 - val_loss: 0.3062 - val_acc: 0.7804\n",
      "Epoch 5/200\n",
      "727722/727722 [==============================] - 102s - loss: 0.3135 - acc: 0.7512 - val_loss: 0.2985 - val_acc: 0.7827\n",
      "Epoch 6/200\n",
      "727722/727722 [==============================] - 102s - loss: 0.3053 - acc: 0.7600 - val_loss: 0.2931 - val_acc: 0.7918\n",
      "Epoch 7/200\n",
      "727722/727722 [==============================] - 101s - loss: 0.2983 - acc: 0.7672 - val_loss: 0.2940 - val_acc: 0.7939\n",
      "Epoch 8/200\n",
      "727722/727722 [==============================] - 101s - loss: 0.2921 - acc: 0.7735 - val_loss: 0.2889 - val_acc: 0.8017\n",
      "Epoch 9/200\n",
      "727722/727722 [==============================] - 105s - loss: 0.2866 - acc: 0.7792 - val_loss: 0.2877 - val_acc: 0.8063\n",
      "Epoch 10/200\n",
      "727722/727722 [==============================] - 105s - loss: 0.2826 - acc: 0.7830 - val_loss: 0.2865 - val_acc: 0.8132\n",
      "Epoch 11/200\n",
      "727722/727722 [==============================] - 103s - loss: 0.2787 - acc: 0.7874 - val_loss: 0.2817 - val_acc: 0.8126\n",
      "Epoch 12/200\n",
      "727722/727722 [==============================] - 104s - loss: 0.2754 - acc: 0.7904 - val_loss: 0.2800 - val_acc: 0.8168\n",
      "Epoch 13/200\n",
      "727722/727722 [==============================] - 101s - loss: 0.2725 - acc: 0.7929 - val_loss: 0.2815 - val_acc: 0.8195\n",
      "Epoch 14/200\n",
      "727722/727722 [==============================] - 103s - loss: 0.2697 - acc: 0.7960 - val_loss: 0.2746 - val_acc: 0.8170\n",
      "Epoch 15/200\n",
      "727722/727722 [==============================] - 102s - loss: 0.2674 - acc: 0.7984 - val_loss: 0.2773 - val_acc: 0.8213\n",
      "Epoch 16/200\n",
      "727722/727722 [==============================] - 103s - loss: 0.2655 - acc: 0.8000 - val_loss: 0.2726 - val_acc: 0.8168\n",
      "Epoch 17/200\n",
      "727722/727722 [==============================] - 102s - loss: 0.2630 - acc: 0.8025 - val_loss: 0.2709 - val_acc: 0.8188\n",
      "Epoch 18/200\n",
      "727722/727722 [==============================] - 102s - loss: 0.2617 - acc: 0.8041 - val_loss: 0.2728 - val_acc: 0.8250\n",
      "Epoch 19/200\n",
      "727722/727722 [==============================] - 102s - loss: 0.2600 - acc: 0.8055 - val_loss: 0.2809 - val_acc: 0.8272\n",
      "Epoch 20/200\n",
      "727722/727722 [==============================] - 102s - loss: 0.2585 - acc: 0.8072 - val_loss: 0.2751 - val_acc: 0.8255\n",
      "Epoch 21/200\n",
      "727722/727722 [==============================] - 101s - loss: 0.2568 - acc: 0.8087 - val_loss: 0.2795 - val_acc: 0.8293\n",
      "Epoch 22/200\n",
      "727722/727722 [==============================] - 103s - loss: 0.2559 - acc: 0.8097 - val_loss: 0.2746 - val_acc: 0.8247\n",
      "Epoch 23/200\n",
      "727722/727722 [==============================] - 103s - loss: 0.2546 - acc: 0.8114 - val_loss: 0.2744 - val_acc: 0.8287\n"
     ]
    }
   ],
   "source": [
    "model = merged_lstm()\n",
    "hist = model.fit([data_1_train, data_2_train, dataf_train], labels_train, \\\n",
    "        validation_data=([data_1_val, data_2_val, dataf_val], labels_val, weight_val), \\\n",
    "        epochs=200, batch_size=1024, shuffle=True, \\\n",
    "        class_weight=class_weight, callbacks=[early_stopping, model_checkpoint])"
   ]
  },
  {
   "cell_type": "code",
   "execution_count": null,
   "metadata": {
    "collapsed": true,
    "scrolled": true
   },
   "outputs": [],
   "source": [
    "model = lstm_model(ncols)\n",
    "hist = model.fit([data_1_train, data_2_train], labels_train, \\iiiiiiiii\n",
    "        validation_data=([data_1_val, data_2_val], labels_val, weight_val), \\\n",
    "        epochs=200, batch_size=2048, shuffle=True, \\\n",
    "        class_weight=class_weight, callbacks=[early_stopping, model_checkpoint])"
   ]
  },
  {
   "cell_type": "code",
   "execution_count": null,
   "metadata": {
    "collapsed": true
   },
   "outputs": [],
   "source": [
    "model.load_weights(bst_model_path)\n",
    "bst_val_score = min(hist.history['val_loss'])\n",
    "\n",
    "print('Start making the submission before fine-tuning')\n",
    "preds = model.predict([test_data_1, test_data_2], batch_size=8192, verbose=1)\n",
    "preds += model.predict([test_data_2, test_data_1], batch_size=8192, verbose=1)\n",
    "preds /= 2\n",
    "\n",
    "submission = pd.DataFrame({'test_id':test_ids, 'is_duplicate':preds.ravel()})\n",
    "submission.to_csv('%.4f_'%(bst_val_score)+STAMP+'.csv', index=False)"
   ]
  },
  {
   "cell_type": "code",
   "execution_count": null,
   "metadata": {
    "collapsed": true,
    "scrolled": true
   },
   "outputs": [],
   "source": [
    "sub1 = pd.read_csv('0.2615_lstm_223_141_0.31_0.20.csv')\n",
    "sub2 = pd.read_csv('0.2647_lstm_198_127_0.20_0.19.csv')\n",
    "\n",
    "sub_avg = sub1.copy()\n",
    "sub_avg['is_duplicate'] = (sub1['is_duplicate'] + sub2['is_duplicate'] ) / 2\n",
    "sub_avg['test_id'] = sub1['test_id']\n",
    "sub_avg.to_csv('submission_first_two_avg.csv', index = False)"
   ]
  },
  {
   "cell_type": "code",
   "execution_count": null,
   "metadata": {
    "collapsed": true
   },
   "outputs": [],
   "source": []
  }
 ],
 "metadata": {
  "kernelspec": {
   "display_name": "Python 3",
   "language": "python",
   "name": "python3"
  },
  "language_info": {
   "codemirror_mode": {
    "name": "ipython",
    "version": 3
   },
   "file_extension": ".py",
   "mimetype": "text/x-python",
   "name": "python",
   "nbconvert_exporter": "python",
   "pygments_lexer": "ipython3",
   "version": "3.5.2"
  }
 },
 "nbformat": 4,
 "nbformat_minor": 2
}
