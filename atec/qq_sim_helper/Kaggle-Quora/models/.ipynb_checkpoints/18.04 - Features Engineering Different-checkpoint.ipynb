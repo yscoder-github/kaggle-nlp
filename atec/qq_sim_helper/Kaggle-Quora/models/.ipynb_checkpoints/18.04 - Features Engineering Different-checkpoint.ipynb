{
 "cells": [
  {
   "cell_type": "markdown",
   "metadata": {},
   "source": [
    "### Features:\n",
    "* T-SNE and Word2Vec: https://www.kaggle.com/jeffd23/quora-question-pairs/visualizing-word-vectors-with-t-sne\n",
    "* WMD and Word2Vec: https://github.com/RaRe-Technologies/gensim/blob/develop/docs/notebooks/WMD_tutorial.ipynb\n",
    "\n",
    "\n",
    "\n",
    "### Processing:\n",
    "* Replace abbreviations: https://www.kaggle.com/life2short/quora-question-pairs/data-processing-replace-abbreviation-of-word"
   ]
  },
  {
   "cell_type": "code",
   "execution_count": 1,
   "metadata": {
    "collapsed": true
   },
   "outputs": [],
   "source": [
    "import numpy as np\n",
    "import pandas as pd\n",
    "import gensim\n",
    "import re\n",
    "import nltk\n",
    "import pyemd\n",
    "\n",
    "import datetime\n",
    "import operator\n",
    "from collections import Counter\n",
    "from nltk.corpus import stopwords\n",
    "from nltk import word_tokenize, ngrams\n",
    "import matplotlib.pyplot as plt\n",
    "%matplotlib inline\n",
    "from pylab import plot, show, subplot, specgram, imshow, savefig\n",
    "\n",
    "import csv\n",
    "from gensim import corpora, models, similarities\n",
    "import gensim\n",
    "import math\n",
    "\n",
    "from nltk import word_tokenize\n",
    "from gensim.similarities import WmdSimilarity"
   ]
  },
  {
   "cell_type": "code",
   "execution_count": 4,
   "metadata": {
    "collapsed": true
   },
   "outputs": [],
   "source": [
    "def preprocess(doc):\n",
    "    doc = doc.lower()  # Lower the text.\n",
    "    doc = word_tokenize(doc)  # Split into words.\n",
    "    doc = [w for w in doc if not w in stop_words]  # Remove stopwords.\n",
    "    doc = [w for w in doc if w.isalpha()]  # Remove numbers and punctuation.\n",
    "    return doc\n",
    "\n",
    "def basic_cleaning(string):\n",
    "    string = str(string)\n",
    "    string = string.lower()\n",
    "    string = re.sub('[0-9\\(\\)\\!\\^\\%\\$\\'\\\"\\.;,-\\?\\{\\}\\[\\]\\\\/]', ' ', string)\n",
    "    string = ' '.join([i for i in string.split() if i not in [\"a\", \"and\", \"of\", \"the\", \"to\", \"on\", \"in\", \"at\", \"is\"]])\n",
    "    string = re.sub(' +', ' ', string)\n",
    "    return string\n",
    "\n",
    "def get_sentences(df):\n",
    "    questions = dict()\n",
    "    for row in df.iterrows():\n",
    "        questions[row[1]['qid1']] = row[1]['question1']\n",
    "        questions[row[1]['qid2']] = row[1]['question2']\n",
    "    sentences = []\n",
    "    for i in questions:\n",
    "        sentences.append(nltk.word_tokenize(basic_cleaning(questions[i])))\n",
    "    return sentences\n",
    "\n",
    "def get_dists(df):\n",
    "    s1 = row['question1']\n",
    "    s2 = row['question2']\n",
    "    t1 = list(nltk.word_tokenize(basic_cleaning(s1)))\n",
    "    t2 = list(nltk.word_tokenize(basic_cleaning(s2)))\n",
    "    for i in range(len(t1)):\n",
    "        instance = WmdSimilarity([t1[i], t2[i]], model, num_best=2)\n",
    "        pair_dists.append(instance[t2[i]][1][1])\n",
    "    pair_dists = np.array(pair_dists)\n",
    "    return pair_dists\n",
    "\n",
    "def get_sim(index_1, index_2):\n",
    "    instance = WmdSimilarity([sentences[index_1], sentences[index_2]], model, num_best=2)\n",
    "    sims = instance[sentences[index_2]]\n",
    "    print(sims)\n",
    "    return"
   ]
  },
  {
   "cell_type": "code",
   "execution_count": 3,
   "metadata": {
    "collapsed": true
   },
   "outputs": [],
   "source": [
    "input_folder = '/media/w/1c392724-ecf3-4615-8f3c-79368ec36380/DS Projects/Kaggle/Quora/data/'\n",
    "\n",
    "df_train = pd.read_csv(input_folder + 'train.csv')\n",
    "df_test  = pd.read_csv(input_folder + 'test.csv')\n",
    "stop_words = stopwords.words('english')"
   ]
  },
  {
   "cell_type": "code",
   "execution_count": null,
   "metadata": {},
   "outputs": [],
   "source": [
    "#sentences = get_sentences(df_train)\n",
    "#model = gensim.models.Word2Vec(sentences, size=100, window=5, min_count=5, workers=4)\n",
    "from gensim.models import KeyedVectors\n",
    "BASE_DIR = '/media/w/1c392724-ecf3-4615-8f3c-79368ec36380/DS Projects/Kaggle/Quora/data/'\n",
    "embed_file = BASE_DIR + 'embeddings/GoogleNews-vectors-negative300.bin'\n",
    "\n",
    "model = KeyedVectors.load_word2vec_format(embed_file, binary=True)\n",
    "model.init_sims(replace=True)\n",
    "wmd_dist = df_train.apply(get_dists, axis = 1, raw = True)"
   ]
  }
 ],
 "metadata": {
  "kernelspec": {
   "display_name": "Python 3",
   "language": "python",
   "name": "python3"
  },
  "language_info": {
   "codemirror_mode": {
    "name": "ipython",
    "version": 3
   },
   "file_extension": ".py",
   "mimetype": "text/x-python",
   "name": "python",
   "nbconvert_exporter": "python",
   "pygments_lexer": "ipython3",
   "version": "3.5.2"
  }
 },
 "nbformat": 4,
 "nbformat_minor": 2
}
