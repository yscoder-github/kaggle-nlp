{
 "cells": [
  {
   "cell_type": "code",
   "execution_count": 1,
   "metadata": {
    "collapsed": true,
    "scrolled": false
   },
   "outputs": [],
   "source": [
    "import pandas as pd\n",
    "import numpy as np\n",
    "import nltk\n",
    "import multiprocessing\n",
    "import difflib\n",
    "import time\n",
    "import gc\n",
    "import xgboost as xgb\n",
    "import lightgbm as lgb\n",
    "import warnings\n",
    "import os\n",
    "warnings.filterwarnings('ignore')\n",
    "\n",
    "from tqdm import tqdm\n",
    "from collections import Counter\n",
    "from sklearn.metrics import log_loss\n",
    "from scipy.optimize import minimize\n",
    "from sklearn.cross_validation import train_test_split\n",
    "from sklearn.feature_extraction.text import TfidfVectorizer, CountVectorizer\n",
    "from scipy.spatial.distance import cosine, correlation, canberra, chebyshev, minkowski, jaccard, euclidean\n",
    "\n",
    "from models_utils_gbm import *\n",
    "from models_utils_fe import *"
   ]
  },
  {
   "cell_type": "code",
   "execution_count": 5,
   "metadata": {},
   "outputs": [],
   "source": [
    "def predict_test_xgb(X_test, model_name):\n",
    "    print('Predicting on test set with XGBoost.')\n",
    "    gbm = xgb.Booster(model_file = 'saved_models/XGB/{}.txt'.format(model_name))\n",
    "    X_test = xgb.DMatrix(X_test)\n",
    "    test_preds = gbm.predict(X_test)\n",
    "    sub_src = '/media/w/1c392724-ecf3-4615-8f3c-79368ec36380/DS Projects/Kaggle/Quora/submissions/'\n",
    "    sample_sub = pd.read_csv(sub_src + 'sample_submission.csv')\n",
    "    sample_sub['is_duplicate'] = test_preds\n",
    "    sample_sub.is_duplicate = sample_sub.is_duplicate.apply(transform)\n",
    "    sample_sub.to_csv(sub_src + '{}.csv'.format(model_name), index = False)\n",
    "    return\n",
    "\n",
    "def predict_test_lgbm(X_test, model_name):\n",
    "    print('Predicting on test set with LightGBM.')\n",
    "    gbm = lgb.Booster(model_file = 'saved_models/LGBM/{}.txt'.format(model_name))\n",
    "    test_preds = gbm.predict(X_test)\n",
    "    sub_src = '/media/w/1c392724-ecf3-4615-8f3c-79368ec36380/DS Projects/Kaggle/Quora/submissions/'\n",
    "    sample_sub = pd.read_csv(sub_src + 'sample_submission.csv')\n",
    "    sample_sub['is_duplicate'] = test_preds\n",
    "    sample_sub.is_duplicate = sample_sub.is_duplicate.apply(transform)\n",
    "    sample_sub.to_csv(sub_src + '{}.csv'.format(model_name), index = False)\n",
    "    return\n",
    "\n",
    "\n",
    "def predict_test_xgb_fold(src, X_test):\n",
    "    print('Predicting on test set with XGBoost.')\n",
    "    fold_preds = np.zeros((10, 2345796))\n",
    "    models = sorted([x for x in os.listdir(src) if 'txt' in x])\n",
    "    #X_test = xgb.DMatrix(X_test)\n",
    "    for i in tqdm(range(0, 10)):\n",
    "        gbm = xgb.Booster(model_file = src + models[i])\n",
    "        test_preds = gbm.predict(X_test)\n",
    "        test_preds = np.apply_along_axis(transform, 0, test_preds)\n",
    "        fold_preds[i, :] = test_preds\n",
    "    fold_preds = fold_preds.mean(axis = 0)\n",
    "    sub_src = '/media/w/1c392724-ecf3-4615-8f3c-79368ec36380/DS Projects/Kaggle/Quora/submissions/'\n",
    "    sample_sub = pd.read_csv(sub_src + 'sample_submission.csv')\n",
    "    sample_sub['is_duplicate'] = fold_preds\n",
    "    #sample_sub.is_duplicate = sample_sub.is_duplicate.apply(transform)\n",
    "    sample_sub.to_csv(sub_src + '{}.csv'.format(src.split('/')[-2]), index = False)\n",
    "    return"
   ]
  },
  {
   "cell_type": "code",
   "execution_count": null,
   "metadata": {
    "collapsed": true
   },
   "outputs": [],
   "source": [
    "src = '/media/w/1c392724-ecf3-4615-8f3c-79368ec36380/DS Projects/Kaggle/Quora/scripts/features/'\n",
    "feats_src = '/media/w/1c392724-ecf3-4615-8f3c-79368ec36380/DS Projects/Kaggle/Quora/data/features/uncleaned/'\n",
    "\n",
    "X_test = pd.read_pickle('Xtest_814colsBest.pkl', compression = 'bz2')\n",
    "test_interactions = pd.read_pickle(src + 'test_tony_interaction_gru.pkl')\n",
    "X_test = pd.concat([X_test, test_interactions], axis = 1)\n",
    "new_set = pd.read_pickle('test_NewSubset_BestAbhishek.pkl')\n",
    "new_set.columns = ['{}_lemmat{}'.format(val, i) for i, val in enumerate(new_set.columns)]\n",
    "new_networks = pd.read_pickle('test_networkfeats_weighted_untransformed_30.05.pkl')\n",
    "for col in new_networks.columns:\n",
    "    X_test[col] = new_networks[col]\n",
    "\n",
    "X_test = pd.concat([X_test, new_set], axis = 1)\n",
    "X_test = X_test.astype('float32')\n",
    "\n",
    "to_drop = ['diff_closeness_centrality_network_weighted', 'diff_cluster_network_weighted', 'diff_neighbors_network_weighted', 'diff_squared_cluster_network_weighted', 'max_cluster', 'max_cluster_network_weighted', 'max_neighbors', 'max_squared_cluster', 'max_squared_cluster_network_weighted', 'max_triangles_cluster', 'mean_cluster', 'mean_neighbors', 'mean_squared_cluster', 'min_closeness_centrality_network_weighted', 'min_cluster', 'min_cluster_network_weighted', 'min_degree_centrality', 'min_degrees', 'min_neighbors', 'min_neighbors_network_weighted', 'min_squared_cluster', 'min_squared_cluster_network_weighted', 'min_triangles_cluster', 'q1_closeness_centrality_by_q1_closeness_centrality', 'q1_closeness_centrality_by_q1_eigenvector_centrality_np', 'q1_cluster_tony', 'q1_pagerank_sp_by_q1_eigenvector_centrality_np', 'q1_squared_cluster', 'q1_squared_cluster_by_q1_squared_cluster', 'q2_closeness_centrality_by_q2_closeness_centrality', 'q2_cluster', 'q2_cluster_by_q2_cluster', 'q2_cluster_by_q2_eigenvector_centrality_np', 'q2_pagerank_sp_by_q2_eigenvector_centrality_np', 'q2_squared_cluster_tony', 'q2_triangles_cluster', 'sum_cluster_network_weighted']\n",
    "X_test.drop(to_drop, axis = 1, inplace = True)\n",
    "print(X_test.shape)\n",
    "X_test.to_pickle('Xtest_866BestColsDropped.pkl')\n",
    "\n",
    "del test_interactions, new_set, new_networks\n",
    "gc.collect()"
   ]
  },
  {
   "cell_type": "raw",
   "metadata": {
    "collapsed": true
   },
   "source": [
    "predict_test_xgb(X_test, 'XGB_10SKF_FredFeatsGRUandDecompAttention_loss0.17354_fold1')"
   ]
  },
  {
   "cell_type": "raw",
   "metadata": {
    "collapsed": true
   },
   "source": [
    "predict_test_lgbm(X_test, 'LGBM_10SKF_FredFeatsGRUandDecompAttention_loss0.17440_fold1')"
   ]
  },
  {
   "cell_type": "code",
   "execution_count": 3,
   "metadata": {
    "collapsed": true,
    "scrolled": true
   },
   "outputs": [],
   "source": [
    "src = '/media/w/1c392724-ecf3-4615-8f3c-79368ec36380/DS Projects/Kaggle/Quora/scripts/models/saved_models/XGB/SKF/'\n",
    "X_test = pd.read_pickle('Xtest_866BestColsDropped.pkl')\n",
    "X_test = xgb.DMatrix(X_test)\n",
    "\n",
    "xgb1 = src + '866cols_xgbparams1/'\n",
    "xgb2 = src + '866cols_xgbparams2/'\n",
    "xgb3 = src + '866cols_xgbparams3/'\n",
    "xgb4 = src + '866cols_xgbparams4/'\n",
    "\n",
    "xgbnn = src + 'newNetworks_currentBest/'\n"
   ]
  },
  {
   "cell_type": "code",
   "execution_count": 6,
   "metadata": {
    "scrolled": true
   },
   "outputs": [
    {
     "name": "stderr",
     "output_type": "stream",
     "text": [
      "\n",
      "\r",
      "  0%|          | 0/10 [00:00<?, ?it/s]"
     ]
    },
    {
     "name": "stdout",
     "output_type": "stream",
     "text": [
      "Predicting on test set with XGBoost.\n"
     ]
    },
    {
     "name": "stderr",
     "output_type": "stream",
     "text": [
      "\u001b[A\n",
      "100%|██████████| 10/10 [16:28<00:00, 97.66s/it]\n"
     ]
    }
   ],
   "source": [
    "predict_test_xgb_fold(xgbnn, X_test)"
   ]
  },
  {
   "cell_type": "code",
   "execution_count": null,
   "metadata": {},
   "outputs": [],
   "source": [
    "predict_test_xgb_fold(xgb1, X_test)\n",
    "predict_test_xgb_fold(xgb2, X_test)\n",
    "predict_test_xgb_fold(xgb3, X_test)\n",
    "predict_test_xgb_fold(xgb4, X_test)"
   ]
  }
 ],
 "metadata": {
  "kernelspec": {
   "display_name": "Python 3",
   "language": "python",
   "name": "python3"
  },
  "language_info": {
   "codemirror_mode": {
    "name": "ipython",
    "version": 3
   },
   "file_extension": ".py",
   "mimetype": "text/x-python",
   "name": "python",
   "nbconvert_exporter": "python",
   "pygments_lexer": "ipython3",
   "version": "3.5.2"
  }
 },
 "nbformat": 4,
 "nbformat_minor": 2
}
