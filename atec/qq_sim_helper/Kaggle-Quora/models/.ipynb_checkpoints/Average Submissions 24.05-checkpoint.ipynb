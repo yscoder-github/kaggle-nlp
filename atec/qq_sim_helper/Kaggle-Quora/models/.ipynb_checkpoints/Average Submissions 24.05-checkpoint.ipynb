{
 "cells": [
  {
   "cell_type": "code",
   "execution_count": 8,
   "metadata": {
    "collapsed": true
   },
   "outputs": [],
   "source": [
    "import pandas as pd\n",
    "import numpy as np"
   ]
  },
  {
   "cell_type": "code",
   "execution_count": 9,
   "metadata": {
    "collapsed": true
   },
   "outputs": [],
   "source": [
    "def read_sub(name):\n",
    "    return pd.read_csv(sub_src + '{}.csv'.format(name))\n",
    "\n",
    "def average_sub(name1, name2, save = False):\n",
    "    s1 = read_sub(name1)\n",
    "    s2 = read_sub(name2)\n",
    "    sa = s1.copy()\n",
    "    sa['is_duplicate'] = s1.is_duplicate * 0.5 + s2.is_duplicate * 0.5\n",
    "    if save:\n",
    "        sa.to_csv(sub_src + '{}_plus_{}.csv'.format(name1, name2), index = False)\n",
    "    return s1,s2, sa\n",
    "\n",
    "sub_src = '/media/w/1c392724-ecf3-4615-8f3c-79368ec36380/DS Projects/Kaggle/Quora/submissions/'\n",
    "    \n",
    "name1 = 'stacking_withoutsiamese_loss0.1760'\n",
    "name2 = 'stacking_Attention&BestXGB0.1800_loss.0.1765'\n",
    "s1, s2, sa = average_sub(name1, name2)"
   ]
  },
  {
   "cell_type": "code",
   "execution_count": null,
   "metadata": {
    "collapsed": true
   },
   "outputs": [],
   "source": []
  }
 ],
 "metadata": {
  "kernelspec": {
   "display_name": "Python 3",
   "language": "python",
   "name": "python3"
  },
  "language_info": {
   "codemirror_mode": {
    "name": "ipython",
    "version": 3
   },
   "file_extension": ".py",
   "mimetype": "text/x-python",
   "name": "python",
   "nbconvert_exporter": "python",
   "pygments_lexer": "ipython3",
   "version": "3.5.2"
  }
 },
 "nbformat": 4,
 "nbformat_minor": 2
}
