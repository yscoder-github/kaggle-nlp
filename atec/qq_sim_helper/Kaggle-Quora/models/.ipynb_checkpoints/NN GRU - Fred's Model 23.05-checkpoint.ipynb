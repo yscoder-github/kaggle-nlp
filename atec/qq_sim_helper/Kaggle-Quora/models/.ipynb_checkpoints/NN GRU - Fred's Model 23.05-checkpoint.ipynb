{
 "cells": [
  {
   "cell_type": "code",
   "execution_count": null,
   "metadata": {
    "collapsed": true
   },
   "outputs": [],
   "source": [
    "%matplotlib inline\n",
    "\n",
    "import os\n",
    "import csv\n",
    "import codecs\n",
    "import numpy as np\n",
    "import pandas as pd\n",
    "import matplotlib.image as mpimg\n",
    "import matplotlib.pyplot as plt\n",
    "from sklearn.utils import shuffle\n",
    "from sklearn.model_selection import StratifiedKFold\n",
    "from sklearn.metrics import log_loss\n",
    "import datetime\n",
    "seed = 111\n",
    "np.random.seed(seed)\n",
    "\n",
    "from keras.preprocessing.text import Tokenizer\n",
    "from keras.preprocessing.sequence import pad_sequences\n",
    "from keras.utils.np_utils import to_categorical\n",
    "from keras.layers import Dense, Input, Flatten, Concatenate, LSTM, Lambda, Dropout, Multiply\n",
    "from keras.layers import Conv1D, MaxPooling1D, Embedding, SpatialDropout1D, GRU\n",
    "from keras.layers.merge import _Merge\n",
    "from keras.models import Model\n",
    "from keras.layers.wrappers import TimeDistributed, Bidirectional\n",
    "from keras.layers.normalization import BatchNormalization\n",
    "from keras import backend as K\n",
    "from keras.utils import plot_model\n",
    "from keras.callbacks import EarlyStopping, ModelCheckpoint\n",
    "import sys\n",
    "from keras_tqdm import TQDMNotebookCallback"
   ]
  },
  {
   "cell_type": "code",
   "execution_count": null,
   "metadata": {
    "collapsed": true
   },
   "outputs": [],
   "source": [
    "BASE_DIR = 'input/'\n",
    "GLOVE_DIR = 'WordEmbeddings/Glove/'\n",
    "TRAIN_DATA_FILE = BASE_DIR + 'train.csv'\n",
    "TEST_DATA_FILE = BASE_DIR + 'test.csv'\n",
    "MAX_SEQUENCE_LENGTH = 80\n",
    "MAX_NUM_WORDS = 500000\n",
    "EMBEDDING_DIM = 300\n",
    "STATE_DIM = 300\n",
    "DROP = 0.2\n",
    "NFOLDS = 10"
   ]
  },
  {
   "cell_type": "code",
   "execution_count": null,
   "metadata": {
    "collapsed": true
   },
   "outputs": [],
   "source": [
    "print('Indexing word vectors.')\n",
    "embeddings_index = {}\n",
    "f = codecs.open(os.path.join(GLOVE_DIR, 'glove.840B.300d.txt'), encoding='utf-8')\n",
    "for line in f:\n",
    "    values = line.split(' ')\n",
    "    word = values[0]\n",
    "    coefs = np.asarray(values[1:], dtype='float32')\n",
    "    embeddings_index[word] = coefs\n",
    "f.close()\n",
    "print('Found %s word vectors.' % len(embeddings_index))"
   ]
  },
  {
   "cell_type": "code",
   "execution_count": null,
   "metadata": {
    "collapsed": true
   },
   "outputs": [],
   "source": [
    "print('Processing text dataset')\n",
    "train = pd.read_csv(BASE_DIR + 'train.csv', encoding='utf-8')\n",
    "test = pd.read_csv(BASE_DIR + 'test.csv', encoding='utf-8')\n",
    "ids = train.id\n",
    "texts_1 = train.question1.astype(np.str).tolist()\n",
    "texts_2 = train.question2.astype(np.str).tolist()\n",
    "labels = train.is_duplicate.tolist()  # list of label ids\n",
    "print('Found %s texts.' % len(texts_1))\n",
    "\n",
    "test_texts_1 = test.question1.astype(np.str).tolist()\n",
    "test_texts_2 = test.question2.astype(np.str).tolist()\n",
    "test_labels = [0] * len(test)  # list of label ids\n",
    "print('Found %s texts.' % len(test_texts_1))"
   ]
  },
  {
   "cell_type": "code",
   "execution_count": null,
   "metadata": {
    "collapsed": true
   },
   "outputs": [],
   "source": [
    "tokenizer = Tokenizer(num_words=MAX_NUM_WORDS)\n",
    "tokenizer.fit_on_texts(texts_1 + texts_2 + test_texts_1 + test_texts_2)\n",
    "sequences_1 = tokenizer.texts_to_sequences(texts_1)\n",
    "sequences_2 = tokenizer.texts_to_sequences(texts_2)\n",
    "word_index = tokenizer.word_index\n",
    "print('Found %s unique tokens.' % len(word_index))\n",
    "\n",
    "test_sequences_1 = tokenizer.texts_to_sequences(test_texts_1)\n",
    "test_sequences_2 = tokenizer.texts_to_sequences(test_texts_2)\n",
    "\n",
    "data_1 = pad_sequences(sequences_1, maxlen=MAX_SEQUENCE_LENGTH)\n",
    "data_2 = pad_sequences(sequences_2, maxlen=MAX_SEQUENCE_LENGTH)\n",
    "labels = np.array(labels)\n",
    "print('Shape of data tensor:', data_1.shape)\n",
    "print('Shape of label tensor:', labels.shape)\n",
    "\n",
    "test_data_1 = pad_sequences(test_sequences_1, maxlen=MAX_SEQUENCE_LENGTH)\n",
    "test_data_2 = pad_sequences(test_sequences_2, maxlen=MAX_SEQUENCE_LENGTH)\n",
    "test_labels = np.array(test_labels)\n",
    "del test_sequences_1\n",
    "del test_sequences_2\n",
    "del sequences_1\n",
    "del sequences_2\n",
    "import gc\n",
    "gc.collect()"
   ]
  },
  {
   "cell_type": "code",
   "execution_count": null,
   "metadata": {
    "collapsed": true
   },
   "outputs": [],
   "source": [
    "print('Preparing embedding matrix.')\n",
    "# prepare embedding matrix\n",
    "num_words = min(MAX_NUM_WORDS, len(word_index))\n",
    "\n",
    "embedding_matrix = np.zeros((num_words, EMBEDDING_DIM))\n",
    "count = 0\n",
    "for word, i in word_index.items():\n",
    "    if i >= num_words:\n",
    "        count += 1\n",
    "        continue\n",
    "    embedding_vector = embeddings_index.get(word)\n",
    "    if embedding_vector is not None:\n",
    "        # words not found in embedding index will be zeros\n",
    "        embedding_matrix[i] = embedding_vector\n",
    "        count += 1\n",
    "print('Unknown word embeddings:', num_words - count)"
   ]
  },
  {
   "cell_type": "code",
   "execution_count": null,
   "metadata": {
    "collapsed": true
   },
   "outputs": [],
   "source": [
    "# def euc_dist(x):\n",
    "#     'Merge function: euclidean_distance(u,v)'\n",
    "#     s = x[0] - x[1]\n",
    "#     output = (s ** 2).sum(axis=1)\n",
    "#     output = K.reshape(output, (output.shape[0],1))\n",
    "#     return output\n",
    "\n",
    "# def euc_dist_shape(input_shape):\n",
    "#     'Merge output shape'\n",
    "#     shape = list(input_shape)\n",
    "#     outshape = (shape[0][0],1)\n",
    "#     return tuple(outshape)\n",
    "\n",
    "class Subtract(_Merge):\n",
    "    \"\"\"Layer that adds a list of inputs.\n",
    "    It takes as input a list of tensors,\n",
    "    all of the same shape, and returns\n",
    "    a single tensor (also of the same shape).\n",
    "    \"\"\"\n",
    "    def _merge_function(self, inputs):\n",
    "        return K.square(inputs[0] - inputs[1])\n",
    "\n",
    "embedding_layer = Embedding(num_words, EMBEDDING_DIM, weights=[embedding_matrix],\n",
    "                            input_length=MAX_SEQUENCE_LENGTH, trainable=False)\n",
    "\n",
    "def siamese_architecture(seq_len, embed_len, state_len):\n",
    "    inputs = Input(shape=(seq_len, embed_len))\n",
    "    x = Bidirectional(GRU(units=state_len, dropout=DROP, recurrent_dropout=DROP,\n",
    "                          implementation=2, return_sequences=True))(inputs)\n",
    "    x = Bidirectional(GRU(units=state_len, dropout=DROP, recurrent_dropout=DROP,\n",
    "                          implementation=2))(x)\n",
    "    return Model(inputs=inputs, outputs=x)"
   ]
  },
  {
   "cell_type": "code",
   "execution_count": null,
   "metadata": {
    "collapsed": true
   },
   "outputs": [],
   "source": [
    "# Model Architecture #\n",
    "def create_model():\n",
    "    siamese_arch = siamese_architecture(MAX_SEQUENCE_LENGTH, EMBEDDING_DIM, STATE_DIM)\n",
    "    sequence_1_input = Input(shape=(MAX_SEQUENCE_LENGTH,), dtype='int32')\n",
    "    embedded_sequences_1 = embedding_layer(sequence_1_input)\n",
    "    x1 = siamese_arch(embedded_sequences_1)\n",
    "\n",
    "    sequence_2_input = Input(shape=(MAX_SEQUENCE_LENGTH,), dtype='int32')\n",
    "    embedded_sequences_2 = embedding_layer(sequence_2_input)\n",
    "    y1 = siamese_arch(embedded_sequences_2)\n",
    "\n",
    "#     merged = Concatenate()([x1, y1])\n",
    "    merged_sub = Subtract()([x1, y1])\n",
    "    merged_mult = Multiply()([x1, y1])\n",
    "    merged_comb = Concatenate()([x1, y1, merged_sub, merged_mult])\n",
    "    merged = BatchNormalization()(merged_comb)\n",
    "    merged = Dense(512, activation='relu')(merged)\n",
    "    merged = BatchNormalization()(merged)\n",
    "    merged = Dense(128, activation='relu')(merged)\n",
    "    # merged = Dropout(DROP)(merged)\n",
    "    merged = BatchNormalization()(merged)\n",
    "    preds = Dense(1, activation='sigmoid')(merged)\n",
    "    model = Model(inputs=[sequence_1_input, sequence_2_input], outputs=preds)\n",
    "    model.compile(loss='binary_crossentropy', optimizer='adam', metrics=['acc'])\n",
    "    return model"
   ]
  },
  {
   "cell_type": "code",
   "execution_count": null,
   "metadata": {
    "collapsed": true
   },
   "outputs": [],
   "source": [
    "model = create_model()\n",
    "print(data_1.shape, data_2.shape, labels.shape)\n",
    "model.summary()"
   ]
  },
  {
   "cell_type": "code",
   "execution_count": null,
   "metadata": {
    "collapsed": true
   },
   "outputs": [],
   "source": [
    "plot_model(model, to_file='model.png')\n",
    "img = mpimg.imread('model.png')\n",
    "fig = plt.figure(figsize=(15, 15))\n",
    "plt.imshow(img)"
   ]
  },
  {
   "cell_type": "code",
   "execution_count": null,
   "metadata": {
    "collapsed": true
   },
   "outputs": [],
   "source": [
    "BATCH_SIZE = 512\n",
    "skf = StratifiedKFold(n_splits=NFOLDS, shuffle=True, random_state=seed).split(data_1, labels)\n",
    "test_preds = np.zeros((len(test_data_1), NFOLDS))\n",
    "val_preds = np.zeros(len(data_1))\n",
    "train_rnn_vals = np.zeros((len(data_1), STATE_DIM * 4), dtype=np.float32)\n",
    "test_rnn_vals =  np.zeros((len(test_data_1), STATE_DIM * 4), dtype=np.float32)\n",
    "\n",
    "X_test = [test_data_1, test_data_2]\n",
    "now = datetime.datetime.now()\n",
    "\n",
    "for i, (idx_train, idx_val) in enumerate(skf):\n",
    "    print('Fold', i+1)\n",
    "    X_train = [data_1[idx_train], data_2[idx_train]]\n",
    "    X_val = [data_1[idx_val], data_2[idx_val]]\n",
    "\n",
    "    y_train = labels[idx_train]\n",
    "    y_val = labels[idx_val]\n",
    "\n",
    "    callbacks = [TQDMNotebookCallback(),\n",
    "                 EarlyStopping(patience=0),\n",
    "                 ModelCheckpoint('weights_gru{}.hdf5'.format(i), save_best_only=True, save_weights_only=True)]\n",
    "    \n",
    "    model = create_model()\n",
    "    model.fit(X_train, y_train, validation_data=(X_val, y_val), epochs=50, batch_size=BATCH_SIZE,\n",
    "              callbacks=callbacks, shuffle=True, verbose=0)\n",
    "    model.load_weights('weights_gru{}.hdf5'.format(i))\n",
    "\n",
    "#     feature_extractor = Model(inputs=[model.layers[0].input, model.layers[1].input],\n",
    "#                               outputs=[model.layers[6].input[0], model.layers[6].input[1], model.layers[-1].output])\n",
    "#     feature_extractor.predict_function = K.function(feature_extractor._feed_inputs + [K.learning_phase()],\n",
    "#                                                     feature_extractor.outputs,\n",
    "#                                                     updates=feature_extractor.state_updates,\n",
    "#                                                     name='predict_function',\n",
    "#                                                     **(getattr(feature_extractor, '_function_kwargs', {})))\n",
    "    \n",
    "#     outs = feature_extractor.predict(X_val, batch_size=BATCH_SIZE)\n",
    "#     train_rnn_vals[idx_val, :600] = outs[0]\n",
    "#     train_rnn_vals[idx_val, 600:] = outs[1]\n",
    "    val_preds[idx_val] = model.predict(X_val, batch_size=BATCH_SIZE)\n",
    "#     outs = feature_extractor.predict(X_test, batch_size=BATCH_SIZE)\n",
    "#     test_rnn_vals[:, :600] = outs[0]\n",
    "#     test_rnn_vals[:, 600:] = outs[1]\n",
    "    test_preds[:, i] = model.predict(X_test, batch_size=BATCH_SIZE).reshape((-1,))\n",
    "#     pd.to_pickle(test_rnn_vals, 'GRU_hidden_states_test_{}_{:%Y%m%d_%H%M}.pkl'.format(i+1, now))\n",
    "#     del model, feature_extractor, outs, test_rnn_vals\n",
    "#     gc.collect()"
   ]
  },
  {
   "cell_type": "code",
   "execution_count": null,
   "metadata": {
    "collapsed": true
   },
   "outputs": [],
   "source": [
    "a = 0.165 / 0.369191399096\n",
    "b = (1 - 0.165) / (1 - 0.369191399096)\n",
    "def pred_transform(preds):\n",
    "    return a * preds / (a * preds + b * (1 - preds))"
   ]
  },
  {
   "cell_type": "code",
   "execution_count": null,
   "metadata": {
    "collapsed": true
   },
   "outputs": [],
   "source": [
    "from sklearn.metrics import log_loss\n",
    "test_df = pd.DataFrame({\"test_id\": np.arange(len(test_data_1)), \"is_duplicate\":test_preds.mean(1)})\n",
    "test_preds_mod = pred_transform(test_preds)\n",
    "test_df_mod = pd.DataFrame({\"test_id\": np.arange(len(test_data_1)), \"is_duplicate\":test_preds_mod.mean(1)})\n",
    "val_df = pd.DataFrame({\"id\": np.arange(len(data_1)), \"is_duplicate\": val_preds})\n",
    "\n",
    "loss = log_loss(train.is_duplicate, val_preds)\n",
    "print('Log Loss:', loss)\n",
    "\n",
    "# now = datetime.datetime.now()\n",
    "\n",
    "test_pred_filename = \"model_out/test_preds_gru_{:.4f}_{:%Y%m%d_%H%M}.csv.gz\".format(loss, now)\n",
    "test_df.to_csv(test_pred_filename, index=False, compression='gzip')\n",
    "\n",
    "test_pred_mod_filename = \"model_out/test_preds_gru_{:.4f}_{:%Y%m%d_%H%M}_mod.csv.gz\".format(loss, now)\n",
    "test_df_mod.to_csv(test_pred_mod_filename, index=False, compression='gzip')\n",
    "\n",
    "val_pred_filename = \"model_out/train_preds_gru_{:.4f}_{:%Y%m%d_%H%M}.csv.gz\".format(loss, now)\n",
    "val_df.to_csv(val_pred_filename, index=False, compression='gzip')\n",
    "\n",
    "# pd.to_pickle(train_rnn_vals, 'GRU_hidden_states_train_{:%Y%m%d_%H%M}.pkl'.format(now))"
   ]
  },
  {
   "cell_type": "code",
   "execution_count": null,
   "metadata": {
    "collapsed": true
   },
   "outputs": [],
   "source": []
  }
 ],
 "metadata": {
  "kernelspec": {
   "display_name": "Python 3",
   "language": "python",
   "name": "python3"
  },
  "language_info": {
   "codemirror_mode": {
    "name": "ipython",
    "version": 3
   },
   "file_extension": ".py",
   "mimetype": "text/x-python",
   "name": "python",
   "nbconvert_exporter": "python",
   "pygments_lexer": "ipython3",
   "version": "3.5.2"
  },
  "widgets": {
   "application/vnd.jupyter.widget-state+json": {
    "state": {
     "005d182dcfec46a087512298f55e7df7": {
      "model_module": "jupyter-js-widgets",
      "model_module_version": "~2.1.4",
      "model_name": "LayoutModel",
      "state": {
       "_model_module_version": "~2.1.4",
       "_view_module_version": "~2.1.4"
      }
     },
     "010ae00dc7364b35ad5aadf32329b1db": {
      "model_module": "jupyter-js-widgets",
      "model_module_version": "~2.1.4",
      "model_name": "LayoutModel",
      "state": {
       "_model_module_version": "~2.1.4",
       "_view_module_version": "~2.1.4"
      }
     },
     "0139919eec8146a298c76d920ed334ae": {
      "model_module": "jupyter-js-widgets",
      "model_module_version": "~2.1.4",
      "model_name": "HTMLModel",
      "state": {
       "_model_module_version": "~2.1.4",
       "_view_module_version": "~2.1.4",
       "layout": "IPY_MODEL_c16151109a914632add50ff2a88b5716",
       "value": "[loss: 0.282, acc: 0.874, val_loss: 0.356, val_acc: 0.839] 100% 363860/363860 [22:03&lt;00:00, 33.02it/s]"
      }
     },
     "01c85cce42b946c8bc791dcd7a621d63": {
      "model_module": "jupyter-js-widgets",
      "model_module_version": "~2.1.4",
      "model_name": "LayoutModel",
      "state": {
       "_model_module_version": "~2.1.4",
       "_view_module_version": "~2.1.4"
      }
     },
     "0319109ba90343308a7b57dd3a21fcfb": {
      "model_module": "jupyter-js-widgets",
      "model_module_version": "~2.1.4",
      "model_name": "LayoutModel",
      "state": {
       "_model_module_version": "~2.1.4",
       "_view_module_version": "~2.1.4"
      }
     },
     "033b828d403a49dd945ade39ae3197db": {
      "model_module": "jupyter-js-widgets",
      "model_module_version": "~2.1.4",
      "model_name": "LayoutModel",
      "state": {
       "_model_module_version": "~2.1.4",
       "_view_module_version": "~2.1.4"
      }
     },
     "03b5ebff77ca49fea1c7c90bd22d3cc7": {
      "model_module": "jupyter-js-widgets",
      "model_module_version": "~2.1.4",
      "model_name": "LayoutModel",
      "state": {
       "_model_module_version": "~2.1.4",
       "_view_module_version": "~2.1.4"
      }
     },
     "03c18d214d304b26a8e5fe19fb98b155": {
      "model_module": "jupyter-js-widgets",
      "model_module_version": "~2.1.4",
      "model_name": "ProgressModel",
      "state": {
       "_model_module_version": "~2.1.4",
       "_view_module_version": "~2.1.4",
       "description": "Epoch 1: ",
       "layout": "IPY_MODEL_d65bc2a9d6944db0816033a76782c1f7",
       "max": 363860,
       "style": "IPY_MODEL_704510ac3303409d803045fb181a1fc7",
       "value": 363860
      }
     },
     "042338c461c94d4cad8a0d60fc70e5b5": {
      "model_module": "jupyter-js-widgets",
      "model_module_version": "~2.1.4",
      "model_name": "HBoxModel",
      "state": {
       "_model_module_version": "~2.1.4",
       "_view_module_version": "~2.1.4",
       "children": [
        "IPY_MODEL_bb8280770dfb47f4a4417848e09df583",
        "IPY_MODEL_ff485964a184434685ff14ca3c7a3fab"
       ],
       "layout": "IPY_MODEL_1b2a8317ce214399ba0a8b696bb4605c"
      }
     },
     "042dea88ccaa4d3ba291b678c54bfb05": {
      "model_module": "jupyter-js-widgets",
      "model_module_version": "~2.1.4",
      "model_name": "LayoutModel",
      "state": {
       "_model_module_version": "~2.1.4",
       "_view_module_version": "~2.1.4"
      }
     },
     "0438e12625e64bf19d5c941b4654154b": {
      "model_module": "jupyter-js-widgets",
      "model_module_version": "~2.1.4",
      "model_name": "HBoxModel",
      "state": {
       "_model_module_version": "~2.1.4",
       "_view_module_version": "~2.1.4",
       "children": [
        "IPY_MODEL_87cf9719d5594976bdb8cc6193276252",
        "IPY_MODEL_4983863f49e74745b112509d7c06b473"
       ],
       "layout": "IPY_MODEL_042dea88ccaa4d3ba291b678c54bfb05"
      }
     },
     "04d0fac0323449ebbcfed60a80679b78": {
      "model_module": "jupyter-js-widgets",
      "model_module_version": "~2.1.4",
      "model_name": "LayoutModel",
      "state": {
       "_model_module_version": "~2.1.4",
       "_view_module_version": "~2.1.4"
      }
     },
     "050a0a78cc4e4890bec783f45be69c2c": {
      "model_module": "jupyter-js-widgets",
      "model_module_version": "~2.1.4",
      "model_name": "LayoutModel",
      "state": {
       "_model_module_version": "~2.1.4",
       "_view_module_version": "~2.1.4"
      }
     },
     "050fe26df31c41958aa660d2e1707062": {
      "model_module": "jupyter-js-widgets",
      "model_module_version": "~2.1.4",
      "model_name": "HBoxModel",
      "state": {
       "_model_module_version": "~2.1.4",
       "_view_module_version": "~2.1.4",
       "children": [
        "IPY_MODEL_e6c6adee034649f5b46db8b6a32a1d8b",
        "IPY_MODEL_b3188a85792545988f699b19463ce900"
       ],
       "layout": "IPY_MODEL_4124ffe6a3ef4dbe8f32a6fafe77ce0e"
      }
     },
     "05600268b0544d69b795d948eb314c1d": {
      "model_module": "jupyter-js-widgets",
      "model_module_version": "~2.1.4",
      "model_name": "LayoutModel",
      "state": {
       "_model_module_version": "~2.1.4",
       "_view_module_version": "~2.1.4"
      }
     },
     "059fce2162874a52895dafd29f73e256": {
      "model_module": "jupyter-js-widgets",
      "model_module_version": "~2.1.4",
      "model_name": "LayoutModel",
      "state": {
       "_model_module_version": "~2.1.4",
       "_view_module_version": "~2.1.4"
      }
     },
     "0607e33726264a01a5cdda3ed7936189": {
      "model_module": "jupyter-js-widgets",
      "model_module_version": "~2.1.4",
      "model_name": "ProgressStyleModel",
      "state": {
       "_model_module_version": "~2.1.4",
       "_view_module_version": "~2.1.4"
      }
     },
     "062ae865bd5d4157b334b5699eccbf4b": {
      "model_module": "jupyter-js-widgets",
      "model_module_version": "~2.1.4",
      "model_name": "LayoutModel",
      "state": {
       "_model_module_version": "~2.1.4",
       "_view_module_version": "~2.1.4"
      }
     },
     "07bd27f064974148a6959a3cef5b5378": {
      "model_module": "jupyter-js-widgets",
      "model_module_version": "~2.1.4",
      "model_name": "ProgressStyleModel",
      "state": {
       "_model_module_version": "~2.1.4",
       "_view_module_version": "~2.1.4"
      }
     },
     "07bdf14260ea42bb82bae76dd1e86f20": {
      "model_module": "jupyter-js-widgets",
      "model_module_version": "~2.1.4",
      "model_name": "HBoxModel",
      "state": {
       "_model_module_version": "~2.1.4",
       "_view_module_version": "~2.1.4",
       "children": [
        "IPY_MODEL_7ef44c1de9424f4998bfb2484e4682bd",
        "IPY_MODEL_c49ca43bf9c341848f7e4f121a758bff"
       ],
       "layout": "IPY_MODEL_56d1917c1a1f4f399235bd0d77653867"
      }
     },
     "07e8a32caeac44339b7a1569542c27b6": {
      "model_module": "jupyter-js-widgets",
      "model_module_version": "~2.1.4",
      "model_name": "LayoutModel",
      "state": {
       "_model_module_version": "~2.1.4",
       "_view_module_version": "~2.1.4"
      }
     },
     "089711112a9e4519888d656a6637bdb4": {
      "model_module": "jupyter-js-widgets",
      "model_module_version": "~2.1.4",
      "model_name": "LayoutModel",
      "state": {
       "_model_module_version": "~2.1.4",
       "_view_module_version": "~2.1.4"
      }
     },
     "08e729421dce4febb9310c508005f28c": {
      "model_module": "jupyter-js-widgets",
      "model_module_version": "~2.1.4",
      "model_name": "LayoutModel",
      "state": {
       "_model_module_version": "~2.1.4",
       "_view_module_version": "~2.1.4"
      }
     },
     "090ec5ad24394ca79b495838464cb4ee": {
      "model_module": "jupyter-js-widgets",
      "model_module_version": "~2.1.4",
      "model_name": "ProgressStyleModel",
      "state": {
       "_model_module_version": "~2.1.4",
       "_view_module_version": "~2.1.4"
      }
     },
     "09a1a1d47a604614a9179d7b97431424": {
      "model_module": "jupyter-js-widgets",
      "model_module_version": "~2.1.4",
      "model_name": "LayoutModel",
      "state": {
       "_model_module_version": "~2.1.4",
       "_view_module_version": "~2.1.4"
      }
     },
     "09c37a4b99cd44aeae55529c0f60ce06": {
      "model_module": "jupyter-js-widgets",
      "model_module_version": "~2.1.4",
      "model_name": "HBoxModel",
      "state": {
       "_model_module_version": "~2.1.4",
       "_view_module_version": "~2.1.4",
       "children": [
        "IPY_MODEL_b07aa6ff416b4f37bbeb3da9282741fd",
        "IPY_MODEL_f6d7169fd14a461898eb8e565596a9f9"
       ],
       "layout": "IPY_MODEL_e2e46561d69347f58c43aff89d3afb12"
      }
     },
     "09d747ccccc1416d927eaf014542a94b": {
      "model_module": "jupyter-js-widgets",
      "model_module_version": "~2.1.4",
      "model_name": "LayoutModel",
      "state": {
       "_model_module_version": "~2.1.4",
       "_view_module_version": "~2.1.4"
      }
     },
     "0a27c723731b43a7944628322ec9a86a": {
      "model_module": "jupyter-js-widgets",
      "model_module_version": "~2.1.4",
      "model_name": "ProgressModel",
      "state": {
       "_model_module_version": "~2.1.4",
       "_view_module_version": "~2.1.4",
       "description": "Epoch 4: ",
       "layout": "IPY_MODEL_114f770aa54443858f376a3bbb473011",
       "max": 363860,
       "style": "IPY_MODEL_6e711a1088714ab59d001ac9734e23e2",
       "value": 363860
      }
     },
     "0b88f3b1a1db4f3181a3fa411449ca91": {
      "model_module": "jupyter-js-widgets",
      "model_module_version": "~2.1.4",
      "model_name": "LayoutModel",
      "state": {
       "_model_module_version": "~2.1.4",
       "_view_module_version": "~2.1.4"
      }
     },
     "0ba3338d3f5247e18ddad174b5ed17e1": {
      "model_module": "jupyter-js-widgets",
      "model_module_version": "~2.1.4",
      "model_name": "LayoutModel",
      "state": {
       "_model_module_version": "~2.1.4",
       "_view_module_version": "~2.1.4"
      }
     },
     "0bfe2da3f8fc4ba39b039ad483de8bea": {
      "model_module": "jupyter-js-widgets",
      "model_module_version": "~2.1.4",
      "model_name": "LayoutModel",
      "state": {
       "_model_module_version": "~2.1.4",
       "_view_module_version": "~2.1.4"
      }
     },
     "0cdbd03841314dbeabb59059aa61a69f": {
      "model_module": "jupyter-js-widgets",
      "model_module_version": "~2.1.4",
      "model_name": "ProgressStyleModel",
      "state": {
       "_model_module_version": "~2.1.4",
       "_view_module_version": "~2.1.4"
      }
     },
     "0d5f67e0034d483b8be30f9d951d9075": {
      "model_module": "jupyter-js-widgets",
      "model_module_version": "~2.1.4",
      "model_name": "LayoutModel",
      "state": {
       "_model_module_version": "~2.1.4",
       "_view_module_version": "~2.1.4"
      }
     },
     "0d659ca9e67e441999c9c8afba513351": {
      "model_module": "jupyter-js-widgets",
      "model_module_version": "~2.1.4",
      "model_name": "ProgressModel",
      "state": {
       "_model_module_version": "~2.1.4",
       "_view_module_version": "~2.1.4",
       "description": "Training: ",
       "layout": "IPY_MODEL_de6782c34d3d4190851501b0b34877b8",
       "max": 50,
       "style": "IPY_MODEL_f12fa114807f4dfab886ab3cc8859612",
       "value": 3
      }
     },
     "0da558895fc949a6a2b20b489dd13ebc": {
      "model_module": "jupyter-js-widgets",
      "model_module_version": "~2.1.4",
      "model_name": "LayoutModel",
      "state": {
       "_model_module_version": "~2.1.4",
       "_view_module_version": "~2.1.4"
      }
     },
     "0da8a274f0194ffc901f90ddb2f11d1d": {
      "model_module": "jupyter-js-widgets",
      "model_module_version": "~2.1.4",
      "model_name": "HTMLModel",
      "state": {
       "_model_module_version": "~2.1.4",
       "_view_module_version": "~2.1.4",
       "layout": "IPY_MODEL_7b9fc68fee244b578fbc01498e57cec4",
       "value": " 10% 5/50 [1:34:50&lt;14:14:01, 1138.69s/it]"
      }
     },
     "0de1e4b5b367468d9161777cd09fcf1f": {
      "model_module": "jupyter-js-widgets",
      "model_module_version": "~2.1.4",
      "model_name": "ProgressStyleModel",
      "state": {
       "_model_module_version": "~2.1.4",
       "_view_module_version": "~2.1.4"
      }
     },
     "0e05f9b541a84fbebba8c78faaf0938e": {
      "model_module": "jupyter-js-widgets",
      "model_module_version": "~2.1.4",
      "model_name": "HBoxModel",
      "state": {
       "_model_module_version": "~2.1.4",
       "_view_module_version": "~2.1.4",
       "children": [
        "IPY_MODEL_b8055d27151947b48a439c584892cfaf",
        "IPY_MODEL_c8ccc1890049462db6dff578af4b7aba"
       ],
       "layout": "IPY_MODEL_38d7dad48bd64489b9bbc18513ef5ef5"
      }
     },
     "0e5906834aa4401ab12fdb967634a07e": {
      "model_module": "jupyter-js-widgets",
      "model_module_version": "~2.1.4",
      "model_name": "HBoxModel",
      "state": {
       "_model_module_version": "~2.1.4",
       "_view_module_version": "~2.1.4",
       "children": [
        "IPY_MODEL_31b454eda4ae434a802fd7ef9b1b838d",
        "IPY_MODEL_fd953b2312d54d2490f97ebd97429a7b"
       ],
       "layout": "IPY_MODEL_649094cc25194edea95bbb192ddc2ce6"
      }
     },
     "0f3bb6b9f39247a99792aee75b048a01": {
      "model_module": "jupyter-js-widgets",
      "model_module_version": "~2.1.4",
      "model_name": "HTMLModel",
      "state": {
       "_model_module_version": "~2.1.4",
       "_view_module_version": "~2.1.4",
       "layout": "IPY_MODEL_d789382514a5409eb443c7c28ed63929",
       "value": "[loss: 0.233, acc: 0.900, val_loss: 0.319, val_acc: 0.863] 100% 363860/363860 [19:43&lt;00:00, 33.05it/s]"
      }
     },
     "10034ede1024404187f67179e8943069": {
      "model_module": "jupyter-js-widgets",
      "model_module_version": "~2.1.4",
      "model_name": "LayoutModel",
      "state": {
       "_model_module_version": "~2.1.4",
       "_view_module_version": "~2.1.4"
      }
     },
     "10247f9120194304aac9a44a9bd9527b": {
      "model_module": "jupyter-js-widgets",
      "model_module_version": "~2.1.4",
      "model_name": "ProgressStyleModel",
      "state": {
       "_model_module_version": "~2.1.4",
       "_view_module_version": "~2.1.4"
      }
     },
     "10495e7f6fdd463193266b9baa6f7523": {
      "model_module": "jupyter-js-widgets",
      "model_module_version": "~2.1.4",
      "model_name": "HTMLModel",
      "state": {
       "_model_module_version": "~2.1.4",
       "_view_module_version": "~2.1.4",
       "layout": "IPY_MODEL_7d8b34dcaaf84e5dbdeb4733ca7cf2a1",
       "value": "[loss: 0.295, acc: 0.886, val_loss: 0.646, val_acc: 0.620] 100% 900/900 [00:02&lt;00:00, 315.53it/s]"
      }
     },
     "111434b514c844909c9f79fe3505a681": {
      "model_module": "jupyter-js-widgets",
      "model_module_version": "~2.1.4",
      "model_name": "LayoutModel",
      "state": {
       "_model_module_version": "~2.1.4",
       "_view_module_version": "~2.1.4"
      }
     },
     "111e3d9a54dc4e67a38fe858bfbe2978": {
      "model_module": "jupyter-js-widgets",
      "model_module_version": "~2.1.4",
      "model_name": "ProgressModel",
      "state": {
       "_model_module_version": "~2.1.4",
       "_view_module_version": "~2.1.4",
       "description": "Epoch 4: ",
       "layout": "IPY_MODEL_ea53fc9d09154ef79036146354152c4c",
       "max": 363862,
       "style": "IPY_MODEL_1ed3330f61bc482d93199dcd16b6a2c7",
       "value": 363862
      }
     },
     "1142e0aa58cd4d3085eebdb8c38931a0": {
      "model_module": "jupyter-js-widgets",
      "model_module_version": "~2.1.4",
      "model_name": "LayoutModel",
      "state": {
       "_model_module_version": "~2.1.4",
       "_view_module_version": "~2.1.4"
      }
     },
     "114f770aa54443858f376a3bbb473011": {
      "model_module": "jupyter-js-widgets",
      "model_module_version": "~2.1.4",
      "model_name": "LayoutModel",
      "state": {
       "_model_module_version": "~2.1.4",
       "_view_module_version": "~2.1.4"
      }
     },
     "115c639d834a4d1b98689607cf0bf8a2": {
      "model_module": "jupyter-js-widgets",
      "model_module_version": "~2.1.4",
      "model_name": "ProgressStyleModel",
      "state": {
       "_model_module_version": "~2.1.4",
       "_view_module_version": "~2.1.4"
      }
     },
     "118c3c6c554b447897121c0591fcdf3e": {
      "model_module": "jupyter-js-widgets",
      "model_module_version": "~2.1.4",
      "model_name": "HTMLModel",
      "state": {
       "_model_module_version": "~2.1.4",
       "_view_module_version": "~2.1.4",
       "layout": "IPY_MODEL_a867a050e8014404a0463aa205acf8b4",
       "value": "[loss: 0.191, acc: 0.920, val_loss: 0.328, val_acc: 0.863] 100% 363861/363861 [20:16&lt;00:00, 34.88it/s]"
      }
     },
     "1196d827c73b49a88c890bb2cdf4cc88": {
      "model_module": "jupyter-js-widgets",
      "model_module_version": "~2.1.4",
      "model_name": "HBoxModel",
      "state": {
       "_model_module_version": "~2.1.4",
       "_view_module_version": "~2.1.4",
       "children": [
        "IPY_MODEL_f2c4bde60f1742c6a562a744fcd5b620",
        "IPY_MODEL_c3d1ae85dae14ae28b95373390de278f"
       ],
       "layout": "IPY_MODEL_9f9db70cabea4cbca83e653d342d3f85"
      }
     },
     "11afa7c7bc6c4918b1fe13c51a146fe7": {
      "model_module": "jupyter-js-widgets",
      "model_module_version": "~2.1.4",
      "model_name": "LayoutModel",
      "state": {
       "_model_module_version": "~2.1.4",
       "_view_module_version": "~2.1.4"
      }
     },
     "11e33109129d4af9876f0a3988fb3b25": {
      "model_module": "jupyter-js-widgets",
      "model_module_version": "~2.1.4",
      "model_name": "LayoutModel",
      "state": {
       "_model_module_version": "~2.1.4",
       "_view_module_version": "~2.1.4"
      }
     },
     "1238827a06d84182b6fa8361d3c4d08a": {
      "model_module": "jupyter-js-widgets",
      "model_module_version": "~2.1.4",
      "model_name": "HBoxModel",
      "state": {
       "_model_module_version": "~2.1.4",
       "_view_module_version": "~2.1.4",
       "children": [
        "IPY_MODEL_e70c74d28a0f4b9bb9887efce07bcb77",
        "IPY_MODEL_40163b430fc14d99a540d4bad02ca200"
       ],
       "layout": "IPY_MODEL_6d6c350034244f6f8de30ff32ebd7cd2"
      }
     },
     "138aef497d744e6f905263aa88008722": {
      "model_module": "jupyter-js-widgets",
      "model_module_version": "~2.1.4",
      "model_name": "HBoxModel",
      "state": {
       "_model_module_version": "~2.1.4",
       "_view_module_version": "~2.1.4",
       "children": [
        "IPY_MODEL_289e583e08a4494db4b45d3a7851d46b",
        "IPY_MODEL_de1e13f30cd54420a8dea198e42fd6ac"
       ],
       "layout": "IPY_MODEL_e58dfb63019b411981bfc0fb56a8d4cf"
      }
     },
     "139319a8600942c294381ea1d79ef5f7": {
      "model_module": "jupyter-js-widgets",
      "model_module_version": "~2.1.4",
      "model_name": "ProgressModel",
      "state": {
       "_model_module_version": "~2.1.4",
       "_view_module_version": "~2.1.4",
       "description": "Epoch 3: ",
       "layout": "IPY_MODEL_5d0ade43a2a74329a0485a4ebae65ff0",
       "max": 363862,
       "style": "IPY_MODEL_10247f9120194304aac9a44a9bd9527b",
       "value": 363862
      }
     },
     "139af96336ae44de8e34c7fc7eeabf92": {
      "model_module": "jupyter-js-widgets",
      "model_module_version": "~2.1.4",
      "model_name": "LayoutModel",
      "state": {
       "_model_module_version": "~2.1.4",
       "_view_module_version": "~2.1.4"
      }
     },
     "146799eddb914ff7b22332e25532d397": {
      "model_module": "jupyter-js-widgets",
      "model_module_version": "~2.1.4",
      "model_name": "LayoutModel",
      "state": {
       "_model_module_version": "~2.1.4",
       "_view_module_version": "~2.1.4"
      }
     },
     "14b228552018459596a6ffc44c3825a1": {
      "model_module": "jupyter-js-widgets",
      "model_module_version": "~2.1.4",
      "model_name": "LayoutModel",
      "state": {
       "_model_module_version": "~2.1.4",
       "_view_module_version": "~2.1.4"
      }
     },
     "14c289158ed24df9b473b62d49faae43": {
      "model_module": "jupyter-js-widgets",
      "model_module_version": "~2.1.4",
      "model_name": "ProgressModel",
      "state": {
       "_model_module_version": "~2.1.4",
       "_view_module_version": "~2.1.4",
       "description": "Epoch 6: ",
       "layout": "IPY_MODEL_bc1928e0a05b4597967fcad77fd82703",
       "max": 900,
       "style": "IPY_MODEL_50126110fad84d59a68d1a2b5d7bcb28",
       "value": 900
      }
     },
     "14fbb95c089c454a845715c54a907e52": {
      "model_module": "jupyter-js-widgets",
      "model_module_version": "~2.1.4",
      "model_name": "LayoutModel",
      "state": {
       "_model_module_version": "~2.1.4",
       "_view_module_version": "~2.1.4"
      }
     },
     "15356195fcd145249a7ce1a61a5b5b9d": {
      "model_module": "jupyter-js-widgets",
      "model_module_version": "~2.1.4",
      "model_name": "LayoutModel",
      "state": {
       "_model_module_version": "~2.1.4",
       "_view_module_version": "~2.1.4"
      }
     },
     "15bf4a8c4c404bba8a785bebf6a39297": {
      "model_module": "jupyter-js-widgets",
      "model_module_version": "~2.1.4",
      "model_name": "LayoutModel",
      "state": {
       "_model_module_version": "~2.1.4",
       "_view_module_version": "~2.1.4"
      }
     },
     "1684dcd0f8394072868c6efc4f1db1de": {
      "model_module": "jupyter-js-widgets",
      "model_module_version": "~2.1.4",
      "model_name": "HTMLModel",
      "state": {
       "_model_module_version": "~2.1.4",
       "_view_module_version": "~2.1.4",
       "layout": "IPY_MODEL_668b51a88c674b74b91e6acdd75b66c6",
       "value": "[loss: 0.193, acc: 0.919, val_loss: 0.319, val_acc: 0.869] 100% 363862/363862 [20:15&lt;00:00, 34.79it/s]"
      }
     },
     "169187a45ada40e7a464b1de1d4f1282": {
      "model_module": "jupyter-js-widgets",
      "model_module_version": "~2.1.4",
      "model_name": "LayoutModel",
      "state": {
       "_model_module_version": "~2.1.4",
       "_view_module_version": "~2.1.4"
      }
     },
     "16e06c118838452bb4a8249394bea874": {
      "model_module": "jupyter-js-widgets",
      "model_module_version": "~2.1.4",
      "model_name": "LayoutModel",
      "state": {
       "_model_module_version": "~2.1.4",
       "_view_module_version": "~2.1.4"
      }
     },
     "1717d2554dd341d190f0485a25cf0ca5": {
      "model_module": "jupyter-js-widgets",
      "model_module_version": "~2.1.4",
      "model_name": "LayoutModel",
      "state": {
       "_model_module_version": "~2.1.4",
       "_view_module_version": "~2.1.4"
      }
     },
     "1728579444574d20992f39462245e92d": {
      "model_module": "jupyter-js-widgets",
      "model_module_version": "~2.1.4",
      "model_name": "ProgressModel",
      "state": {
       "_model_module_version": "~2.1.4",
       "_view_module_version": "~2.1.4",
       "description": "Epoch 0: ",
       "layout": "IPY_MODEL_59d5b5bd60b74719a28cdce9c4e5b62c",
       "max": 363860,
       "style": "IPY_MODEL_c5cafc8f4f1143da995d917b4966ca5b",
       "value": 363860
      }
     },
     "1751d5db21f44e329c7e8f44754e3c0c": {
      "model_module": "jupyter-js-widgets",
      "model_module_version": "~2.1.4",
      "model_name": "HTMLModel",
      "state": {
       "_model_module_version": "~2.1.4",
       "_view_module_version": "~2.1.4",
       "layout": "IPY_MODEL_bea60457ebad4ed0a3126dbbfd7ebc3f",
       "value": "[loss: 0.332, acc: 0.847, val_loss: 0.335, val_acc: 0.848] 100% 363862/363862 [19:00&lt;00:00, 35.14it/s]"
      }
     },
     "178c968331b6470ba7b7ee5886284db5": {
      "model_module": "jupyter-js-widgets",
      "model_module_version": "~2.1.4",
      "model_name": "LayoutModel",
      "state": {
       "_model_module_version": "~2.1.4",
       "_view_module_version": "~2.1.4"
      }
     },
     "17b218861a7443f1a7c396e1230875e5": {
      "model_module": "jupyter-js-widgets",
      "model_module_version": "~2.1.4",
      "model_name": "HBoxModel",
      "state": {
       "_model_module_version": "~2.1.4",
       "_view_module_version": "~2.1.4",
       "children": [
        "IPY_MODEL_b56195acef654b4dbd7696a87643af6e",
        "IPY_MODEL_f22b1772e66a45649a06e3baebbeeae4"
       ],
       "layout": "IPY_MODEL_77d02bfc4add4c0796810c2586eb4714"
      }
     },
     "17b581b314634c1788bfee8aad5869e9": {
      "model_module": "jupyter-js-widgets",
      "model_module_version": "~2.1.4",
      "model_name": "LayoutModel",
      "state": {
       "_model_module_version": "~2.1.4",
       "_view_module_version": "~2.1.4"
      }
     },
     "17db7c6552b94020bf6852eb37160dc8": {
      "model_module": "jupyter-js-widgets",
      "model_module_version": "~2.1.4",
      "model_name": "ProgressStyleModel",
      "state": {
       "_model_module_version": "~2.1.4",
       "_view_module_version": "~2.1.4"
      }
     },
     "18454dc82aa44539b4ec51f53b1b9871": {
      "model_module": "jupyter-js-widgets",
      "model_module_version": "~2.1.4",
      "model_name": "LayoutModel",
      "state": {
       "_model_module_version": "~2.1.4",
       "_view_module_version": "~2.1.4"
      }
     },
     "193d775fcaa043ae8e6dbf0b6220e63a": {
      "model_module": "jupyter-js-widgets",
      "model_module_version": "~2.1.4",
      "model_name": "ProgressModel",
      "state": {
       "_model_module_version": "~2.1.4",
       "_view_module_version": "~2.1.4",
       "description": "Epoch 1: ",
       "layout": "IPY_MODEL_f5a6dacdf499497ca73cd9c2bc5e71ad",
       "max": 900,
       "style": "IPY_MODEL_e3f04cc2d94747e58fac2e6edc89c4ad",
       "value": 900
      }
     },
     "19a893be727247529bfa81dc421c9f7d": {
      "model_module": "jupyter-js-widgets",
      "model_module_version": "~2.1.4",
      "model_name": "LayoutModel",
      "state": {
       "_model_module_version": "~2.1.4",
       "_view_module_version": "~2.1.4"
      }
     },
     "1a1e364238894a55916eb11b22dee84d": {
      "model_module": "jupyter-js-widgets",
      "model_module_version": "~2.1.4",
      "model_name": "ProgressModel",
      "state": {
       "_model_module_version": "~2.1.4",
       "_view_module_version": "~2.1.4",
       "description": "Epoch 0: ",
       "layout": "IPY_MODEL_04d0fac0323449ebbcfed60a80679b78",
       "max": 363861,
       "style": "IPY_MODEL_8248cd6bac6a4a60b69cf835533544fa",
       "value": 363861
      }
     },
     "1aba66e53be3454685defbb70d7a0e3a": {
      "model_module": "jupyter-js-widgets",
      "model_module_version": "~2.1.4",
      "model_name": "HBoxModel",
      "state": {
       "_model_module_version": "~2.1.4",
       "_view_module_version": "~2.1.4",
       "children": [
        "IPY_MODEL_3c92cf03721e4b14acb92b2081fffdd5",
        "IPY_MODEL_3438f3ce607441f18482d87fe169b2c1"
       ],
       "layout": "IPY_MODEL_19a893be727247529bfa81dc421c9f7d"
      }
     },
     "1b2a8317ce214399ba0a8b696bb4605c": {
      "model_module": "jupyter-js-widgets",
      "model_module_version": "~2.1.4",
      "model_name": "LayoutModel",
      "state": {
       "_model_module_version": "~2.1.4",
       "_view_module_version": "~2.1.4"
      }
     },
     "1b648570c89f455785337163b3d07644": {
      "model_module": "jupyter-js-widgets",
      "model_module_version": "~2.1.4",
      "model_name": "LayoutModel",
      "state": {
       "_model_module_version": "~2.1.4",
       "_view_module_version": "~2.1.4"
      }
     },
     "1c943761f9364b05a9725612ece43fd5": {
      "model_module": "jupyter-js-widgets",
      "model_module_version": "~2.1.4",
      "model_name": "LayoutModel",
      "state": {
       "_model_module_version": "~2.1.4",
       "_view_module_version": "~2.1.4"
      }
     },
     "1ce362aa4aff4e3ea9a9b7f4f5c6f446": {
      "model_module": "jupyter-js-widgets",
      "model_module_version": "~2.1.4",
      "model_name": "HTMLModel",
      "state": {
       "_model_module_version": "~2.1.4",
       "_view_module_version": "~2.1.4",
       "layout": "IPY_MODEL_5fa6b47d37464e01b058b03c02f1fed7",
       "value": "[loss: 0.427, acc: 0.793, val_loss: 0.375, val_acc: 0.825] 100% 363861/363861 [20:10&lt;00:00, 34.60it/s]"
      }
     },
     "1d1af118653f416da970d40b9c7e419f": {
      "model_module": "jupyter-js-widgets",
      "model_module_version": "~2.1.4",
      "model_name": "LayoutModel",
      "state": {
       "_model_module_version": "~2.1.4",
       "_view_module_version": "~2.1.4"
      }
     },
     "1d3b8bb101a7453480b4bc0d1b696326": {
      "model_module": "jupyter-js-widgets",
      "model_module_version": "~2.1.4",
      "model_name": "LayoutModel",
      "state": {
       "_model_module_version": "~2.1.4",
       "_view_module_version": "~2.1.4"
      }
     },
     "1d7afaf6ff674326bc6e3cf587b96c36": {
      "model_module": "jupyter-js-widgets",
      "model_module_version": "~2.1.4",
      "model_name": "HTMLModel",
      "state": {
       "_model_module_version": "~2.1.4",
       "_view_module_version": "~2.1.4",
       "layout": "IPY_MODEL_8829cd0296664b36a75aad807ad46f9d",
       "value": "[loss: 0.280, acc: 0.875, val_loss: 0.320, val_acc: 0.859] 100% 363860/363860 [20:18&lt;00:00, 34.16it/s]"
      }
     },
     "1d9199d8dd8b431fbf79c15f62936cdd": {
      "model_module": "jupyter-js-widgets",
      "model_module_version": "~2.1.4",
      "model_name": "ProgressModel",
      "state": {
       "_model_module_version": "~2.1.4",
       "_view_module_version": "~2.1.4",
       "description": "Epoch 4: ",
       "layout": "IPY_MODEL_d63ceab0dbfa40e9bd698be13622e6be",
       "max": 363861,
       "style": "IPY_MODEL_76a26b1590964e52b1a245c209edb883",
       "value": 363861
      }
     },
     "1dfb5f4ef1d54bd6a3ea15226cc1f461": {
      "model_module": "jupyter-js-widgets",
      "model_module_version": "~2.1.4",
      "model_name": "HBoxModel",
      "state": {
       "_model_module_version": "~2.1.4",
       "_view_module_version": "~2.1.4",
       "children": [
        "IPY_MODEL_bb383b45252b4f76ae4755d9b37a6228",
        "IPY_MODEL_c210b546d60f4735bf725e14ef30776f"
       ],
       "layout": "IPY_MODEL_615b0c33aaf24c2c9a75ccf6246b990c"
      }
     },
     "1e71c83c7b3c468c9a83517f0e74db7b": {
      "model_module": "jupyter-js-widgets",
      "model_module_version": "~2.1.4",
      "model_name": "LayoutModel",
      "state": {
       "_model_module_version": "~2.1.4",
       "_view_module_version": "~2.1.4"
      }
     },
     "1ecb4e498fa44f8da2a4554ebb288ca6": {
      "model_module": "jupyter-js-widgets",
      "model_module_version": "~2.1.4",
      "model_name": "HTMLModel",
      "state": {
       "_model_module_version": "~2.1.4",
       "_view_module_version": "~2.1.4",
       "layout": "IPY_MODEL_dc2a27758d21480ba1e96eed06514500",
       "value": "[loss: 0.157, acc: 0.936, val_loss: 0.368, val_acc: 0.859] 100% 363860/363860 [20:11&lt;00:00, 34.71it/s]"
      }
     },
     "1ed3330f61bc482d93199dcd16b6a2c7": {
      "model_module": "jupyter-js-widgets",
      "model_module_version": "~2.1.4",
      "model_name": "ProgressStyleModel",
      "state": {
       "_model_module_version": "~2.1.4",
       "_view_module_version": "~2.1.4"
      }
     },
     "1f0d3ed418e14aaabf91f07cf118f48b": {
      "model_module": "jupyter-js-widgets",
      "model_module_version": "~2.1.4",
      "model_name": "LayoutModel",
      "state": {
       "_model_module_version": "~2.1.4",
       "_view_module_version": "~2.1.4"
      }
     },
     "1f449a35cf3f4a5394317c22fe1fe024": {
      "model_module": "jupyter-js-widgets",
      "model_module_version": "~2.1.4",
      "model_name": "ProgressStyleModel",
      "state": {
       "_model_module_version": "~2.1.4",
       "_view_module_version": "~2.1.4"
      }
     },
     "1fbb135bbfde4697b5c70fbbaeafa373": {
      "model_module": "jupyter-js-widgets",
      "model_module_version": "~2.1.4",
      "model_name": "ProgressStyleModel",
      "state": {
       "_model_module_version": "~2.1.4",
       "_view_module_version": "~2.1.4"
      }
     },
     "2006daa70d5c447082bf72cae0991646": {
      "model_module": "jupyter-js-widgets",
      "model_module_version": "~2.1.4",
      "model_name": "LayoutModel",
      "state": {
       "_model_module_version": "~2.1.4",
       "_view_module_version": "~2.1.4"
      }
     },
     "2016f72dbbc3403c9b667852a4fa5d91": {
      "model_module": "jupyter-js-widgets",
      "model_module_version": "~2.1.4",
      "model_name": "ProgressModel",
      "state": {
       "_model_module_version": "~2.1.4",
       "_view_module_version": "~2.1.4",
       "description": "Epoch 1: ",
       "layout": "IPY_MODEL_c9402ece52c24af987f3cf57267adcfc",
       "max": 363860,
       "style": "IPY_MODEL_0de1e4b5b367468d9161777cd09fcf1f",
       "value": 363860
      }
     },
     "20888b34e6794e0380c8661b00bedc08": {
      "model_module": "jupyter-js-widgets",
      "model_module_version": "~2.1.4",
      "model_name": "HTMLModel",
      "state": {
       "_model_module_version": "~2.1.4",
       "_view_module_version": "~2.1.4",
       "layout": "IPY_MODEL_ea5b303f9f084a18a16241cd117479aa",
       "value": "[loss: 0.430, acc: 0.792, val_loss: 0.376, val_acc: 0.821] 100% 363860/363860 [19:45&lt;00:00, 33.89it/s]"
      }
     },
     "209516eeb07c4421ad3fb44526a511c1": {
      "model_module": "jupyter-js-widgets",
      "model_module_version": "~2.1.4",
      "model_name": "ProgressModel",
      "state": {
       "_model_module_version": "~2.1.4",
       "_view_module_version": "~2.1.4",
       "description": "Training: ",
       "layout": "IPY_MODEL_33c23b7025a84f78a5c502764786920d",
       "max": 50,
       "style": "IPY_MODEL_443d30a995a74952b2f4aa20dcb0b483",
       "value": 1
      }
     },
     "20e94a51f5d247b694077594be548212": {
      "model_module": "jupyter-js-widgets",
      "model_module_version": "~2.1.4",
      "model_name": "LayoutModel",
      "state": {
       "_model_module_version": "~2.1.4",
       "_view_module_version": "~2.1.4"
      }
     },
     "210187e137b14eef8073f4bbd0c5903b": {
      "model_module": "jupyter-js-widgets",
      "model_module_version": "~2.1.4",
      "model_name": "HBoxModel",
      "state": {
       "_model_module_version": "~2.1.4",
       "_view_module_version": "~2.1.4",
       "children": [
        "IPY_MODEL_8ca29215960c4ebca3214d7fb511cc4e",
        "IPY_MODEL_41dbf53f116d4becb6f21488044a2d13"
       ],
       "layout": "IPY_MODEL_7df03e5b1afe484baf7b7a728f404c55"
      }
     },
     "211a2b5877a44073998410970bd225b5": {
      "model_module": "jupyter-js-widgets",
      "model_module_version": "~2.1.4",
      "model_name": "ProgressModel",
      "state": {
       "_model_module_version": "~2.1.4",
       "_view_module_version": "~2.1.4",
       "description": "Epoch 5: ",
       "layout": "IPY_MODEL_9a8d36c6b58a47bfb5cd13f69d1d4c27",
       "max": 900,
       "style": "IPY_MODEL_2b9daab1dc4e4f358fb73bff0526d069",
       "value": 900
      }
     },
     "214045ca00d0480d8353b384095543e5": {
      "model_module": "jupyter-js-widgets",
      "model_module_version": "~2.1.4",
      "model_name": "ProgressModel",
      "state": {
       "_model_module_version": "~2.1.4",
       "_view_module_version": "~2.1.4",
       "description": "Epoch 1: ",
       "layout": "IPY_MODEL_b6088b8070964f699f18185c5179c98c",
       "max": 363861,
       "style": "IPY_MODEL_d49463b6a92649ae9d7255e7e04761de",
       "value": 363861
      }
     },
     "21c52b5486bf4e86a4b73f68cb31bcb5": {
      "model_module": "jupyter-js-widgets",
      "model_module_version": "~2.1.4",
      "model_name": "HBoxModel",
      "state": {
       "_model_module_version": "~2.1.4",
       "_view_module_version": "~2.1.4",
       "children": [
        "IPY_MODEL_9e41d218b92d49e0a35f9735c8d19357",
        "IPY_MODEL_e09d0c52bb074f019ac3ee0bc4748022"
       ],
       "layout": "IPY_MODEL_8ae62beaa4394588b51ccb7ae957f98b"
      }
     },
     "229914f9b2c448cdb8a88d838cd5a9c9": {
      "model_module": "jupyter-js-widgets",
      "model_module_version": "~2.1.4",
      "model_name": "ProgressStyleModel",
      "state": {
       "_model_module_version": "~2.1.4",
       "_view_module_version": "~2.1.4"
      }
     },
     "22bc2012bb8a4ad998975c5263371d26": {
      "model_module": "jupyter-js-widgets",
      "model_module_version": "~2.1.4",
      "model_name": "HBoxModel",
      "state": {
       "_model_module_version": "~2.1.4",
       "_view_module_version": "~2.1.4",
       "children": [
        "IPY_MODEL_514ed8bdcca642fd8c0c4b6368d2161d",
        "IPY_MODEL_a55507a844c04146930bde91e4934e80"
       ],
       "layout": "IPY_MODEL_ea72fcb1b8b747fcb6955971b425c73b"
      }
     },
     "23b1dbe9061b4cedb78352c5718fd4e1": {
      "model_module": "jupyter-js-widgets",
      "model_module_version": "~2.1.4",
      "model_name": "LayoutModel",
      "state": {
       "_model_module_version": "~2.1.4",
       "_view_module_version": "~2.1.4"
      }
     },
     "246c5ecb36e44f75909a0ab15dcface4": {
      "model_module": "jupyter-js-widgets",
      "model_module_version": "~2.1.4",
      "model_name": "LayoutModel",
      "state": {
       "_model_module_version": "~2.1.4",
       "_view_module_version": "~2.1.4"
      }
     },
     "24a85539f448480faf27d6af0956f67e": {
      "model_module": "jupyter-js-widgets",
      "model_module_version": "~2.1.4",
      "model_name": "HTMLModel",
      "state": {
       "_model_module_version": "~2.1.4",
       "_view_module_version": "~2.1.4",
       "layout": "IPY_MODEL_c892d62193bc4801adbc0b282be9b623",
       "value": "[loss: 0.171, acc: 0.948, val_loss: 0.628, val_acc: 0.660] 100% 900/900 [00:02&lt;00:00, 305.38it/s]"
      }
     },
     "24c7f2e8f1f34430ad86ee02df415e01": {
      "model_module": "jupyter-js-widgets",
      "model_module_version": "~2.1.4",
      "model_name": "HBoxModel",
      "state": {
       "_model_module_version": "~2.1.4",
       "_view_module_version": "~2.1.4",
       "children": [
        "IPY_MODEL_b14adcc7e7c942138e92e028a3602389",
        "IPY_MODEL_d6d2559e6d82428b86df305dd7a83099"
       ],
       "layout": "IPY_MODEL_2d505303b9ca4a1cbc0a1788658d41e8"
      }
     },
     "252d8a342d0c43809f7079bd113a90a4": {
      "model_module": "jupyter-js-widgets",
      "model_module_version": "~2.1.4",
      "model_name": "LayoutModel",
      "state": {
       "_model_module_version": "~2.1.4",
       "_view_module_version": "~2.1.4"
      }
     },
     "2553faad1478458e988c2d2109e17862": {
      "model_module": "jupyter-js-widgets",
      "model_module_version": "~2.1.4",
      "model_name": "LayoutModel",
      "state": {
       "_model_module_version": "~2.1.4",
       "_view_module_version": "~2.1.4"
      }
     },
     "255ec64e64cd4c66918cfdffa415210d": {
      "model_module": "jupyter-js-widgets",
      "model_module_version": "~2.1.4",
      "model_name": "HBoxModel",
      "state": {
       "_model_module_version": "~2.1.4",
       "_view_module_version": "~2.1.4",
       "children": [
        "IPY_MODEL_93aefc1e49b34f1393e713a7facd1715",
        "IPY_MODEL_2b27db12186740bcb2eb581365a91fb2"
       ],
       "layout": "IPY_MODEL_f4f102228a7044fea403dc047a52752f"
      }
     },
     "257311bc7c3f4ce0b13cfb3ee39a3ed8": {
      "model_module": "jupyter-js-widgets",
      "model_module_version": "~2.1.4",
      "model_name": "HBoxModel",
      "state": {
       "_model_module_version": "~2.1.4",
       "_view_module_version": "~2.1.4",
       "children": [
        "IPY_MODEL_49b6d2e9741443ceb6f0b948f6515071",
        "IPY_MODEL_0139919eec8146a298c76d920ed334ae"
       ],
       "layout": "IPY_MODEL_7af78a6751c54842baafe19067bfe655"
      }
     },
     "25e4e4c4274c49ef92059893e6569862": {
      "model_module": "jupyter-js-widgets",
      "model_module_version": "~2.1.4",
      "model_name": "HBoxModel",
      "state": {
       "_model_module_version": "~2.1.4",
       "_view_module_version": "~2.1.4",
       "children": [
        "IPY_MODEL_b1474809242b4f6da212098362e7a658",
        "IPY_MODEL_118c3c6c554b447897121c0591fcdf3e"
       ],
       "layout": "IPY_MODEL_6e3b1bccd9fd43f0a39d967c038e2e8c"
      }
     },
     "261b2abca3b344948023ef50d64b2feb": {
      "model_module": "jupyter-js-widgets",
      "model_module_version": "~2.1.4",
      "model_name": "LayoutModel",
      "state": {
       "_model_module_version": "~2.1.4",
       "_view_module_version": "~2.1.4"
      }
     },
     "263cd78f2ef74c4a84a8d78463aa4de4": {
      "model_module": "jupyter-js-widgets",
      "model_module_version": "~2.1.4",
      "model_name": "LayoutModel",
      "state": {
       "_model_module_version": "~2.1.4",
       "_view_module_version": "~2.1.4"
      }
     },
     "2675ee95ab9449ae8f7c020463f6bec7": {
      "model_module": "jupyter-js-widgets",
      "model_module_version": "~2.1.4",
      "model_name": "HBoxModel",
      "state": {
       "_model_module_version": "~2.1.4",
       "_view_module_version": "~2.1.4",
       "children": [
        "IPY_MODEL_313e9f0425024f3aa3b96371a3d91bab",
        "IPY_MODEL_335be4ac392a44aabf851019f9354c19"
       ],
       "layout": "IPY_MODEL_e37a61538b1e441b95e7c06387b05645"
      }
     },
     "26dc23c19ae14467bebd438d5807cdbc": {
      "model_module": "jupyter-js-widgets",
      "model_module_version": "~2.1.4",
      "model_name": "LayoutModel",
      "state": {
       "_model_module_version": "~2.1.4",
       "_view_module_version": "~2.1.4"
      }
     },
     "277c2543f27e4ecebd3ff5e425ee519e": {
      "model_module": "jupyter-js-widgets",
      "model_module_version": "~2.1.4",
      "model_name": "ProgressModel",
      "state": {
       "_model_module_version": "~2.1.4",
       "_view_module_version": "~2.1.4",
       "description": "Epoch 2: ",
       "layout": "IPY_MODEL_2795d8103edc432ca6cbd88b5f6b07ff",
       "max": 363861,
       "style": "IPY_MODEL_090ec5ad24394ca79b495838464cb4ee",
       "value": 363861
      }
     },
     "2795d8103edc432ca6cbd88b5f6b07ff": {
      "model_module": "jupyter-js-widgets",
      "model_module_version": "~2.1.4",
      "model_name": "LayoutModel",
      "state": {
       "_model_module_version": "~2.1.4",
       "_view_module_version": "~2.1.4"
      }
     },
     "27c1f411a76a480c8e36ab5be473a85b": {
      "model_module": "jupyter-js-widgets",
      "model_module_version": "~2.1.4",
      "model_name": "ProgressModel",
      "state": {
       "_model_module_version": "~2.1.4",
       "_view_module_version": "~2.1.4",
       "description": "Epoch 2: ",
       "layout": "IPY_MODEL_e4e618c740bd4b57970ff1e16086ea12",
       "max": 363861,
       "style": "IPY_MODEL_8b4fa8cb26314d7ebaf5014c4e5c2087",
       "value": 363861
      }
     },
     "27c23e78246c416b9aea8ddad64074a0": {
      "model_module": "jupyter-js-widgets",
      "model_module_version": "~2.1.4",
      "model_name": "HBoxModel",
      "state": {
       "_model_module_version": "~2.1.4",
       "_view_module_version": "~2.1.4",
       "children": [
        "IPY_MODEL_1728579444574d20992f39462245e92d",
        "IPY_MODEL_e6326edde3034879ad4a3c5e6d544630"
       ],
       "layout": "IPY_MODEL_4bf34f94f8374ee78f40e48ce6121416"
      }
     },
     "289e583e08a4494db4b45d3a7851d46b": {
      "model_module": "jupyter-js-widgets",
      "model_module_version": "~2.1.4",
      "model_name": "ProgressModel",
      "state": {
       "_model_module_version": "~2.1.4",
       "_view_module_version": "~2.1.4",
       "description": "Epoch 1: ",
       "layout": "IPY_MODEL_20e94a51f5d247b694077594be548212",
       "max": 363860,
       "style": "IPY_MODEL_351999927ec4451180778cfa15a27595",
       "value": 244736
      }
     },
     "28b7eafa6f1b4829bdd8a6c58babd954": {
      "model_module": "jupyter-js-widgets",
      "model_module_version": "~2.1.4",
      "model_name": "ProgressStyleModel",
      "state": {
       "_model_module_version": "~2.1.4",
       "_view_module_version": "~2.1.4"
      }
     },
     "28dbbb205754401586491455a1922b08": {
      "model_module": "jupyter-js-widgets",
      "model_module_version": "~2.1.4",
      "model_name": "LayoutModel",
      "state": {
       "_model_module_version": "~2.1.4",
       "_view_module_version": "~2.1.4"
      }
     },
     "29eafdd4078142b1b74dc58517cda1a2": {
      "model_module": "jupyter-js-widgets",
      "model_module_version": "~2.1.4",
      "model_name": "ProgressStyleModel",
      "state": {
       "_model_module_version": "~2.1.4",
       "_view_module_version": "~2.1.4"
      }
     },
     "29f7a725c21445bc85e260b1dcedab7a": {
      "model_module": "jupyter-js-widgets",
      "model_module_version": "~2.1.4",
      "model_name": "ProgressModel",
      "state": {
       "_model_module_version": "~2.1.4",
       "_view_module_version": "~2.1.4",
       "description": "Epoch 3: ",
       "layout": "IPY_MODEL_4f55c6d1c0d048f8976c3793a6d52412",
       "max": 363860,
       "style": "IPY_MODEL_ce34540432a54127846171c04b4dd710",
       "value": 93184
      }
     },
     "2a89fbce358b4bc4a69b68082ef2458f": {
      "model_module": "jupyter-js-widgets",
      "model_module_version": "~2.1.4",
      "model_name": "HTMLModel",
      "state": {
       "_model_module_version": "~2.1.4",
       "_view_module_version": "~2.1.4",
       "layout": "IPY_MODEL_c54c89e750c2414497b800ae3459d1e2",
       "value": "[loss: 0.323, acc: 0.852]  75% 271872/363860 [14:52&lt;05:09, 297.06it/s]"
      }
     },
     "2b27db12186740bcb2eb581365a91fb2": {
      "model_module": "jupyter-js-widgets",
      "model_module_version": "~2.1.4",
      "model_name": "HTMLModel",
      "state": {
       "_model_module_version": "~2.1.4",
       "_view_module_version": "~2.1.4",
       "layout": "IPY_MODEL_823b7d60c2d245ac857f9a9cd9c02740",
       "value": "[loss: 0.352, acc: 0.836, val_loss: 0.440, val_acc: 0.795] 100% 363860/363860 [20:35&lt;00:00, 33.06it/s]"
      }
     },
     "2b3290c2238345f886c2cafedddcd60c": {
      "model_module": "jupyter-js-widgets",
      "model_module_version": "~2.1.4",
      "model_name": "HTMLModel",
      "state": {
       "_model_module_version": "~2.1.4",
       "_view_module_version": "~2.1.4",
       "layout": "IPY_MODEL_ab0bdb736292451e9e00c564791353d9",
       "value": "[loss: 0.478, acc: 0.760, val_loss: 0.477, val_acc: 0.763] 100% 363860/363860 [20:55&lt;00:00, 32.89it/s]"
      }
     },
     "2b356aa549274eadb948dd23dca8fd2a": {
      "model_module": "jupyter-js-widgets",
      "model_module_version": "~2.1.4",
      "model_name": "HTMLModel",
      "state": {
       "_model_module_version": "~2.1.4",
       "_view_module_version": "~2.1.4",
       "layout": "IPY_MODEL_a3ec3987af9a41fd980bf5685e36ff20",
       "value": "  6% 3/50 [57:14&lt;15:01:56, 1151.42s/it]"
      }
     },
     "2b783812a5ee4b89911b66823c7fb060": {
      "model_module": "jupyter-js-widgets",
      "model_module_version": "~2.1.4",
      "model_name": "LayoutModel",
      "state": {
       "_model_module_version": "~2.1.4",
       "_view_module_version": "~2.1.4"
      }
     },
     "2b836d04faa9402084dd89ad7c4dfe39": {
      "model_module": "jupyter-js-widgets",
      "model_module_version": "~2.1.4",
      "model_name": "HBoxModel",
      "state": {
       "_model_module_version": "~2.1.4",
       "_view_module_version": "~2.1.4",
       "children": [
        "IPY_MODEL_f8f00933bb064ddd9f01db3eedb4f2b9",
        "IPY_MODEL_f7f42ff698bc426c8aa0e893cf9161ea"
       ],
       "layout": "IPY_MODEL_17b581b314634c1788bfee8aad5869e9"
      }
     },
     "2b9daab1dc4e4f358fb73bff0526d069": {
      "model_module": "jupyter-js-widgets",
      "model_module_version": "~2.1.4",
      "model_name": "ProgressStyleModel",
      "state": {
       "_model_module_version": "~2.1.4",
       "_view_module_version": "~2.1.4"
      }
     },
     "2c47daa09fd0460cba53e4e73ec09c1d": {
      "model_module": "jupyter-js-widgets",
      "model_module_version": "~2.1.4",
      "model_name": "LayoutModel",
      "state": {
       "_model_module_version": "~2.1.4",
       "_view_module_version": "~2.1.4"
      }
     },
     "2cc777172da64633b03123d0fb554f0c": {
      "model_module": "jupyter-js-widgets",
      "model_module_version": "~2.1.4",
      "model_name": "HTMLModel",
      "state": {
       "_model_module_version": "~2.1.4",
       "_view_module_version": "~2.1.4",
       "layout": "IPY_MODEL_0d5f67e0034d483b8be30f9d951d9075",
       "value": "[loss: 0.481, acc: 0.759, val_loss: 0.580, val_acc: 0.726] 100% 363860/363860 [20:35&lt;00:00, 33.00it/s]"
      }
     },
     "2cd5d242106141869e3977c8accf214d": {
      "model_module": "jupyter-js-widgets",
      "model_module_version": "~2.1.4",
      "model_name": "LayoutModel",
      "state": {
       "_model_module_version": "~2.1.4",
       "_view_module_version": "~2.1.4"
      }
     },
     "2d505303b9ca4a1cbc0a1788658d41e8": {
      "model_module": "jupyter-js-widgets",
      "model_module_version": "~2.1.4",
      "model_name": "LayoutModel",
      "state": {
       "_model_module_version": "~2.1.4",
       "_view_module_version": "~2.1.4"
      }
     },
     "2d70adaf855a40cd8dd8efe3e7b5c7f1": {
      "model_module": "jupyter-js-widgets",
      "model_module_version": "~2.1.4",
      "model_name": "HTMLModel",
      "state": {
       "_model_module_version": "~2.1.4",
       "_view_module_version": "~2.1.4",
       "layout": "IPY_MODEL_4b5007fe23fa4f0cb690792b4f7451a0",
       "value": "[loss: 0.478, acc: 0.761, val_loss: 0.456, val_acc: 0.773] 100% 363860/363860 [20:19&lt;00:00, 34.07it/s]"
      }
     },
     "2e6af98bbb7446bba9ab33ac55e52018": {
      "model_module": "jupyter-js-widgets",
      "model_module_version": "~2.1.4",
      "model_name": "LayoutModel",
      "state": {
       "_model_module_version": "~2.1.4",
       "_view_module_version": "~2.1.4"
      }
     },
     "2ec392f297d543b0a5ad91722e600699": {
      "model_module": "jupyter-js-widgets",
      "model_module_version": "~2.1.4",
      "model_name": "LayoutModel",
      "state": {
       "_model_module_version": "~2.1.4",
       "_view_module_version": "~2.1.4"
      }
     },
     "2f927689207244668276dad82ac6beb0": {
      "model_module": "jupyter-js-widgets",
      "model_module_version": "~2.1.4",
      "model_name": "LayoutModel",
      "state": {
       "_model_module_version": "~2.1.4",
       "_view_module_version": "~2.1.4"
      }
     },
     "2fbcbd4757084492a81fd72ce2d847c9": {
      "model_module": "jupyter-js-widgets",
      "model_module_version": "~2.1.4",
      "model_name": "HTMLModel",
      "state": {
       "_model_module_version": "~2.1.4",
       "_view_module_version": "~2.1.4",
       "layout": "IPY_MODEL_48ddc0845abc4c469d5d1237b06d5ef8",
       "value": "[loss: 0.301, acc: 0.864, val_loss: 0.378, val_acc: 0.827] 100% 363860/363860 [22:04&lt;00:00, 32.63it/s]"
      }
     },
     "2fcebd18f8a04ebe974bbcf161ad1105": {
      "model_module": "jupyter-js-widgets",
      "model_module_version": "~2.1.4",
      "model_name": "HTMLModel",
      "state": {
       "_model_module_version": "~2.1.4",
       "_view_module_version": "~2.1.4",
       "layout": "IPY_MODEL_98286c9fe1914a618ca3782aa35e25b2",
       "value": "[loss: 0.333, acc: 0.847, val_loss: 0.347, val_acc: 0.840] 100% 363860/363860 [20:32&lt;00:00, 33.86it/s]"
      }
     },
     "300eb8b609b146c4a981daae220af606": {
      "model_module": "jupyter-js-widgets",
      "model_module_version": "~2.1.4",
      "model_name": "ProgressModel",
      "state": {
       "_model_module_version": "~2.1.4",
       "_view_module_version": "~2.1.4",
       "description": "Epoch 1: ",
       "layout": "IPY_MODEL_9ffc862d3c89425190766b49b7beb824",
       "max": 363860,
       "style": "IPY_MODEL_b9f66e909ba243a8a6876db719ed4bb6",
       "value": 363860
      }
     },
     "301094efba394a06aebddc585f4d84dc": {
      "model_module": "jupyter-js-widgets",
      "model_module_version": "~2.1.4",
      "model_name": "LayoutModel",
      "state": {
       "_model_module_version": "~2.1.4",
       "_view_module_version": "~2.1.4"
      }
     },
     "305578d59a8c4a2ab5adc1d40d4becd4": {
      "model_module": "jupyter-js-widgets",
      "model_module_version": "~2.1.4",
      "model_name": "ProgressModel",
      "state": {
       "_model_module_version": "~2.1.4",
       "_view_module_version": "~2.1.4",
       "description": "Epoch 1: ",
       "layout": "IPY_MODEL_926db7e09d60403b86d554ba7f62431e",
       "max": 363860,
       "style": "IPY_MODEL_f44636b633d94e7ea651e911d056e1a5",
       "value": 363860
      }
     },
     "306315550b9c4081b5136c009233d4d7": {
      "model_module": "jupyter-js-widgets",
      "model_module_version": "~2.1.4",
      "model_name": "LayoutModel",
      "state": {
       "_model_module_version": "~2.1.4",
       "_view_module_version": "~2.1.4"
      }
     },
     "313e9f0425024f3aa3b96371a3d91bab": {
      "model_module": "jupyter-js-widgets",
      "model_module_version": "~2.1.4",
      "model_name": "ProgressModel",
      "state": {
       "_model_module_version": "~2.1.4",
       "_view_module_version": "~2.1.4",
       "description": "Epoch 5: ",
       "layout": "IPY_MODEL_261b2abca3b344948023ef50d64b2feb",
       "max": 363862,
       "style": "IPY_MODEL_729557f759c44f288cdd97eb35a5ead0",
       "value": 363862
      }
     },
     "317d95b65c3c488fbda67406e20a119e": {
      "model_module": "jupyter-js-widgets",
      "model_module_version": "~2.1.4",
      "model_name": "HTMLModel",
      "state": {
       "_model_module_version": "~2.1.4",
       "_view_module_version": "~2.1.4",
       "layout": "IPY_MODEL_c2b651f7c3ea474c9f8d374c718ef605",
       "value": "[loss: 0.265, acc: 0.883, val_loss: 0.360, val_acc: 0.841] 100% 363860/363860 [21:41&lt;00:00, 32.84it/s]"
      }
     },
     "31b454eda4ae434a802fd7ef9b1b838d": {
      "model_module": "jupyter-js-widgets",
      "model_module_version": "~2.1.4",
      "model_name": "ProgressModel",
      "state": {
       "_model_module_version": "~2.1.4",
       "_view_module_version": "~2.1.4",
       "description": "Epoch 5: ",
       "layout": "IPY_MODEL_a96ef3ca8a7f4b6180d8369b6c0a2a41",
       "max": 363861,
       "style": "IPY_MODEL_516b87f11c6347c79f268ad22e97d131",
       "value": 363861
      }
     },
     "3252a6e95a664dea9a4df4fe5988ed46": {
      "model_module": "jupyter-js-widgets",
      "model_module_version": "~2.1.4",
      "model_name": "LayoutModel",
      "state": {
       "_model_module_version": "~2.1.4",
       "_view_module_version": "~2.1.4"
      }
     },
     "328fb81085c749298441bbe0fb7750ff": {
      "model_module": "jupyter-js-widgets",
      "model_module_version": "~2.1.4",
      "model_name": "HTMLModel",
      "state": {
       "_model_module_version": "~2.1.4",
       "_view_module_version": "~2.1.4",
       "layout": "IPY_MODEL_ec1d4a9ed4eb42299fc98aaa5785cdfc",
       "value": "[loss: 0.280, acc: 0.876, val_loss: 0.320, val_acc: 0.857] 100% 363860/363860 [19:35&lt;00:00, 33.88it/s]"
      }
     },
     "32ae2ad8a63b45db959f69a92b02fcff": {
      "model_module": "jupyter-js-widgets",
      "model_module_version": "~2.1.4",
      "model_name": "ProgressModel",
      "state": {
       "_model_module_version": "~2.1.4",
       "_view_module_version": "~2.1.4",
       "description": "Epoch 0: ",
       "layout": "IPY_MODEL_b9c60f80116047e6b0f85545e51b25cd",
       "max": 363861,
       "style": "IPY_MODEL_e577e0e9d7eb4320bb5eedadd597d3f9",
       "value": 363861
      }
     },
     "335be4ac392a44aabf851019f9354c19": {
      "model_module": "jupyter-js-widgets",
      "model_module_version": "~2.1.4",
      "model_name": "HTMLModel",
      "state": {
       "_model_module_version": "~2.1.4",
       "_view_module_version": "~2.1.4",
       "layout": "IPY_MODEL_1717d2554dd341d190f0485a25cf0ca5",
       "value": "[loss: 0.157, acc: 0.936, val_loss: 0.335, val_acc: 0.871] 100% 363862/363862 [20:16&lt;00:00, 34.75it/s]"
      }
     },
     "33c23b7025a84f78a5c502764786920d": {
      "model_module": "jupyter-js-widgets",
      "model_module_version": "~2.1.4",
      "model_name": "LayoutModel",
      "state": {
       "_model_module_version": "~2.1.4",
       "_view_module_version": "~2.1.4"
      }
     },
     "3402208c627a413486c03c159a46fab5": {
      "model_module": "jupyter-js-widgets",
      "model_module_version": "~2.1.4",
      "model_name": "HBoxModel",
      "state": {
       "_model_module_version": "~2.1.4",
       "_view_module_version": "~2.1.4",
       "children": [
        "IPY_MODEL_c24c07401e274e148fd27d628e73acd6",
        "IPY_MODEL_503108ddfe604b91a88fd9afd4230bd2"
       ],
       "layout": "IPY_MODEL_1b648570c89f455785337163b3d07644"
      }
     },
     "3438f3ce607441f18482d87fe169b2c1": {
      "model_module": "jupyter-js-widgets",
      "model_module_version": "~2.1.4",
      "model_name": "HTMLModel",
      "state": {
       "_model_module_version": "~2.1.4",
       "_view_module_version": "~2.1.4",
       "layout": "IPY_MODEL_0bfe2da3f8fc4ba39b039ad483de8bea",
       "value": "[loss: 0.464, acc: 0.793, val_loss: 0.668, val_acc: 0.620] 100% 900/900 [00:02&lt;00:00, 311.68it/s]"
      }
     },
     "34f1555a3cba4dc9b1008d3aea14a6c3": {
      "model_module": "jupyter-js-widgets",
      "model_module_version": "~2.1.4",
      "model_name": "LayoutModel",
      "state": {
       "_model_module_version": "~2.1.4",
       "_view_module_version": "~2.1.4"
      }
     },
     "35145e82eb48444d9a5143f697bced58": {
      "model_module": "jupyter-js-widgets",
      "model_module_version": "~2.1.4",
      "model_name": "HBoxModel",
      "state": {
       "_model_module_version": "~2.1.4",
       "_view_module_version": "~2.1.4",
       "children": [
        "IPY_MODEL_dcb56a11afda46fa840ab429a785736b",
        "IPY_MODEL_dba49759e44741b3a0d7a15bd940bd77"
       ],
       "layout": "IPY_MODEL_411f49aabb9d4a388e0088d91e96a099"
      }
     },
     "351999927ec4451180778cfa15a27595": {
      "model_module": "jupyter-js-widgets",
      "model_module_version": "~2.1.4",
      "model_name": "ProgressStyleModel",
      "state": {
       "_model_module_version": "~2.1.4",
       "_view_module_version": "~2.1.4"
      }
     },
     "35a65564cc06408bb8f88cf05ed9c94b": {
      "model_module": "jupyter-js-widgets",
      "model_module_version": "~2.1.4",
      "model_name": "HTMLModel",
      "state": {
       "_model_module_version": "~2.1.4",
       "_view_module_version": "~2.1.4",
       "layout": "IPY_MODEL_827e6ca16e4d4236afff5ebeb0773bab",
       "value": "[loss: 0.234, acc: 0.899, val_loss: 0.331, val_acc: 0.863] 100% 363862/363862 [18:15&lt;00:00, 35.16it/s]"
      }
     },
     "35fcc51ea5b24eb68a28812b0ee08f78": {
      "model_module": "jupyter-js-widgets",
      "model_module_version": "~2.1.4",
      "model_name": "ProgressModel",
      "state": {
       "_model_module_version": "~2.1.4",
       "_view_module_version": "~2.1.4",
       "description": "Epoch 0: ",
       "layout": "IPY_MODEL_7f82a81c178143d28a7decb5abfc6e36",
       "max": 363860,
       "style": "IPY_MODEL_1f449a35cf3f4a5394317c22fe1fe024",
       "value": 363860
      }
     },
     "360c0ca1d4aa49359e2e7437f4fd02f9": {
      "model_module": "jupyter-js-widgets",
      "model_module_version": "~2.1.4",
      "model_name": "HBoxModel",
      "state": {
       "_model_module_version": "~2.1.4",
       "_view_module_version": "~2.1.4",
       "children": [
        "IPY_MODEL_eab45cc528c14ea78998ba20d880fedd",
        "IPY_MODEL_db65745a099946f8b2bd0195c7dc5c34"
       ],
       "layout": "IPY_MODEL_f1d96ae4f5774e609f838034cfa42550"
      }
     },
     "3647cbc27efc4c24ba5c525dc687462c": {
      "model_module": "jupyter-js-widgets",
      "model_module_version": "~2.1.4",
      "model_name": "LayoutModel",
      "state": {
       "_model_module_version": "~2.1.4",
       "_view_module_version": "~2.1.4"
      }
     },
     "373cd7971bad422286f343f704faca7b": {
      "model_module": "jupyter-js-widgets",
      "model_module_version": "~2.1.4",
      "model_name": "HBoxModel",
      "state": {
       "_model_module_version": "~2.1.4",
       "_view_module_version": "~2.1.4",
       "children": [
        "IPY_MODEL_64d4bf31cb774de18731b1e8bcd8c6c1",
        "IPY_MODEL_f77dc01cc34d40dcb0de9c8ba74fe000"
       ],
       "layout": "IPY_MODEL_995f79ecc37343fb9b5782681e77dce4"
      }
     },
     "37abd24776604b79983b51de266736a5": {
      "model_module": "jupyter-js-widgets",
      "model_module_version": "~2.1.4",
      "model_name": "HTMLModel",
      "state": {
       "_model_module_version": "~2.1.4",
       "_view_module_version": "~2.1.4",
       "layout": "IPY_MODEL_bda738aedda44588853733fc3e987eb0",
       "value": "  2% 1/50 [20:57&lt;17:06:47, 1257.30s/it]"
      }
     },
     "37c6172afd254b8691962c64b09bd725": {
      "model_module": "jupyter-js-widgets",
      "model_module_version": "~2.1.4",
      "model_name": "LayoutModel",
      "state": {
       "_model_module_version": "~2.1.4",
       "_view_module_version": "~2.1.4"
      }
     },
     "37cdbe953dc3475bab21e56c30093ab1": {
      "model_module": "jupyter-js-widgets",
      "model_module_version": "~2.1.4",
      "model_name": "LayoutModel",
      "state": {
       "_model_module_version": "~2.1.4",
       "_view_module_version": "~2.1.4"
      }
     },
     "37d35a85aff547d395ba8e70aaf870d6": {
      "model_module": "jupyter-js-widgets",
      "model_module_version": "~2.1.4",
      "model_name": "ProgressStyleModel",
      "state": {
       "_model_module_version": "~2.1.4",
       "_view_module_version": "~2.1.4"
      }
     },
     "381adfae4cd14e2da3bb9843b462001e": {
      "model_module": "jupyter-js-widgets",
      "model_module_version": "~2.1.4",
      "model_name": "LayoutModel",
      "state": {
       "_model_module_version": "~2.1.4",
       "_view_module_version": "~2.1.4"
      }
     },
     "38d7dad48bd64489b9bbc18513ef5ef5": {
      "model_module": "jupyter-js-widgets",
      "model_module_version": "~2.1.4",
      "model_name": "LayoutModel",
      "state": {
       "_model_module_version": "~2.1.4",
       "_view_module_version": "~2.1.4"
      }
     },
     "38e98dc72f6945bc8f91f399433f3138": {
      "model_module": "jupyter-js-widgets",
      "model_module_version": "~2.1.4",
      "model_name": "HTMLModel",
      "state": {
       "_model_module_version": "~2.1.4",
       "_view_module_version": "~2.1.4",
       "layout": "IPY_MODEL_619a935b8987453182a7cb24e225f409",
       "value": "[loss: 0.234, acc: 0.899, val_loss: 0.319, val_acc: 0.865] 100% 363860/363860 [19:29&lt;00:00, 33.47it/s]"
      }
     },
     "399ae56fe02b4869b3fc815b83f8bf17": {
      "model_module": "jupyter-js-widgets",
      "model_module_version": "~2.1.4",
      "model_name": "ProgressStyleModel",
      "state": {
       "_model_module_version": "~2.1.4",
       "_view_module_version": "~2.1.4"
      }
     },
     "3a1ca85421344b028d4d37d0244b0f97": {
      "model_module": "jupyter-js-widgets",
      "model_module_version": "~2.1.4",
      "model_name": "HBoxModel",
      "state": {
       "_model_module_version": "~2.1.4",
       "_view_module_version": "~2.1.4",
       "children": [
        "IPY_MODEL_44ea36d01af0441da7c12e75cea9f25e",
        "IPY_MODEL_2a89fbce358b4bc4a69b68082ef2458f"
       ],
       "layout": "IPY_MODEL_28dbbb205754401586491455a1922b08"
      }
     },
     "3a7f0f902e674e80b82454c4cc5d556b": {
      "model_module": "jupyter-js-widgets",
      "model_module_version": "~2.1.4",
      "model_name": "LayoutModel",
      "state": {
       "_model_module_version": "~2.1.4",
       "_view_module_version": "~2.1.4"
      }
     },
     "3a875a417e284d3ebe72f523a5d00123": {
      "model_module": "jupyter-js-widgets",
      "model_module_version": "~2.1.4",
      "model_name": "HTMLModel",
      "state": {
       "_model_module_version": "~2.1.4",
       "_view_module_version": "~2.1.4",
       "layout": "IPY_MODEL_e53e5369ff2d4c368f234c663cd4e3cc",
       "value": " 14% 7/50 [2:32:03&lt;15:35:44, 1305.69s/it]"
      }
     },
     "3b2ce83fe05c41bc9f8c783e23e5e3ce": {
      "model_module": "jupyter-js-widgets",
      "model_module_version": "~2.1.4",
      "model_name": "LayoutModel",
      "state": {
       "_model_module_version": "~2.1.4",
       "_view_module_version": "~2.1.4"
      }
     },
     "3c6553aa713545f48010784c74246788": {
      "model_module": "jupyter-js-widgets",
      "model_module_version": "~2.1.4",
      "model_name": "HBoxModel",
      "state": {
       "_model_module_version": "~2.1.4",
       "_view_module_version": "~2.1.4",
       "children": [
        "IPY_MODEL_d43a92a8ee4740d3ba4e8a986f310d44",
        "IPY_MODEL_cdda6e95d26745e3a55879ee92fe6030"
       ],
       "layout": "IPY_MODEL_d1b5716226174e049d4652eb01226fbb"
      }
     },
     "3c92cf03721e4b14acb92b2081fffdd5": {
      "model_module": "jupyter-js-widgets",
      "model_module_version": "~2.1.4",
      "model_name": "ProgressModel",
      "state": {
       "_model_module_version": "~2.1.4",
       "_view_module_version": "~2.1.4",
       "description": "Epoch 3: ",
       "layout": "IPY_MODEL_111434b514c844909c9f79fe3505a681",
       "max": 900,
       "style": "IPY_MODEL_c17d9d0014b242beadefd5d3f26524c2",
       "value": 900
      }
     },
     "3c9b06008808489085f8bea469623c36": {
      "model_module": "jupyter-js-widgets",
      "model_module_version": "~2.1.4",
      "model_name": "ProgressStyleModel",
      "state": {
       "_model_module_version": "~2.1.4",
       "_view_module_version": "~2.1.4"
      }
     },
     "3cb9527d7b544403a6188732b6822d3c": {
      "model_module": "jupyter-js-widgets",
      "model_module_version": "~2.1.4",
      "model_name": "LayoutModel",
      "state": {
       "_model_module_version": "~2.1.4",
       "_view_module_version": "~2.1.4"
      }
     },
     "3e2672c8f413406bbbde9c9088167527": {
      "model_module": "jupyter-js-widgets",
      "model_module_version": "~2.1.4",
      "model_name": "HTMLModel",
      "state": {
       "_model_module_version": "~2.1.4",
       "_view_module_version": "~2.1.4",
       "layout": "IPY_MODEL_010ae00dc7364b35ad5aadf32329b1db",
       "value": "[loss: 0.177, acc: 0.958, val_loss: 0.632, val_acc: 0.640] 100% 900/900 [00:02&lt;00:00, 314.68it/s]"
      }
     },
     "3e4d93d158324281aa376d242c625c20": {
      "model_module": "jupyter-js-widgets",
      "model_module_version": "~2.1.4",
      "model_name": "ProgressStyleModel",
      "state": {
       "_model_module_version": "~2.1.4",
       "_view_module_version": "~2.1.4"
      }
     },
     "3e9f88e7c8ab42b2b326bad1beaafc14": {
      "model_module": "jupyter-js-widgets",
      "model_module_version": "~2.1.4",
      "model_name": "ProgressStyleModel",
      "state": {
       "_model_module_version": "~2.1.4",
       "_view_module_version": "~2.1.4"
      }
     },
     "3ef22817fc59498eb12e1c8a47cc9a63": {
      "model_module": "jupyter-js-widgets",
      "model_module_version": "~2.1.4",
      "model_name": "HBoxModel",
      "state": {
       "_model_module_version": "~2.1.4",
       "_view_module_version": "~2.1.4",
       "children": [
        "IPY_MODEL_44d002bdf67c42a1b3a9563f1d0206ef",
        "IPY_MODEL_403d839c269d4f89ab773d723b2e536e"
       ],
       "layout": "IPY_MODEL_de8ab4614cb84c11b28aa4022e4de28d"
      }
     },
     "3f1005394aa540bda76e3cc53b2cdc9f": {
      "model_module": "jupyter-js-widgets",
      "model_module_version": "~2.1.4",
      "model_name": "LayoutModel",
      "state": {
       "_model_module_version": "~2.1.4",
       "_view_module_version": "~2.1.4"
      }
     },
     "3f220d95efd7425cac93aa3608f8791f": {
      "model_module": "jupyter-js-widgets",
      "model_module_version": "~2.1.4",
      "model_name": "HBoxModel",
      "state": {
       "_model_module_version": "~2.1.4",
       "_view_module_version": "~2.1.4",
       "children": [
        "IPY_MODEL_957d70a6c3044d59b9ec8a8978c95b2a",
        "IPY_MODEL_7cc208fd392e4e60b84b921542de9193"
       ],
       "layout": "IPY_MODEL_992d01dc1d6145569794eab6735b7b07"
      }
     },
     "3f62cedc818f4aca93931fe1c2f6614d": {
      "model_module": "jupyter-js-widgets",
      "model_module_version": "~2.1.4",
      "model_name": "ProgressStyleModel",
      "state": {
       "_model_module_version": "~2.1.4",
       "_view_module_version": "~2.1.4"
      }
     },
     "3f9e8ed983144f8da59d512c6c6a8165": {
      "model_module": "jupyter-js-widgets",
      "model_module_version": "~2.1.4",
      "model_name": "HBoxModel",
      "state": {
       "_model_module_version": "~2.1.4",
       "_view_module_version": "~2.1.4",
       "children": [
        "IPY_MODEL_eafb24fb300e4930b225e7cec9581d82",
        "IPY_MODEL_20888b34e6794e0380c8661b00bedc08"
       ],
       "layout": "IPY_MODEL_69d61b07fd984d46923572605127e73a"
      }
     },
     "3fc8e49b4187466d8ce26eba9a88f865": {
      "model_module": "jupyter-js-widgets",
      "model_module_version": "~2.1.4",
      "model_name": "LayoutModel",
      "state": {
       "_model_module_version": "~2.1.4",
       "_view_module_version": "~2.1.4"
      }
     },
     "4013d6bf54a84dc38adee2e1d0e98a0e": {
      "model_module": "jupyter-js-widgets",
      "model_module_version": "~2.1.4",
      "model_name": "ProgressStyleModel",
      "state": {
       "_model_module_version": "~2.1.4",
       "_view_module_version": "~2.1.4"
      }
     },
     "40163b430fc14d99a540d4bad02ca200": {
      "model_module": "jupyter-js-widgets",
      "model_module_version": "~2.1.4",
      "model_name": "HTMLModel",
      "state": {
       "_model_module_version": "~2.1.4",
       "_view_module_version": "~2.1.4",
       "layout": "IPY_MODEL_7b9f957b76d947dfb3d791cd658e4965",
       "value": "[loss: 0.334, acc: 0.846, val_loss: 0.336, val_acc: 0.846] 100% 363860/363860 [20:02&lt;00:00, 33.62it/s]"
      }
     },
     "403d839c269d4f89ab773d723b2e536e": {
      "model_module": "jupyter-js-widgets",
      "model_module_version": "~2.1.4",
      "model_name": "HTMLModel",
      "state": {
       "_model_module_version": "~2.1.4",
       "_view_module_version": "~2.1.4",
       "layout": "IPY_MODEL_e210c519edcc4864b715d8b98a77a43c",
       "value": "[loss: 0.280, acc: 0.876, val_loss: 0.321, val_acc: 0.858] 100% 363860/363860 [19:58&lt;00:00, 34.84it/s]"
      }
     },
     "405588daec674269bb76162ef63c5956": {
      "model_module": "jupyter-js-widgets",
      "model_module_version": "~2.1.4",
      "model_name": "ProgressModel",
      "state": {
       "_model_module_version": "~2.1.4",
       "_view_module_version": "~2.1.4",
       "description": "Epoch 0: ",
       "layout": "IPY_MODEL_739fa17254814b7baf543193d02461fc",
       "max": 363862,
       "style": "IPY_MODEL_fb02990a6304450380f1d5924c578052",
       "value": 363862
      }
     },
     "4088026f0f7e4c65963a1599f488a68e": {
      "model_module": "jupyter-js-widgets",
      "model_module_version": "~2.1.4",
      "model_name": "HBoxModel",
      "state": {
       "_model_module_version": "~2.1.4",
       "_view_module_version": "~2.1.4",
       "children": [
        "IPY_MODEL_f9db284358704f0e8204aaa155c68266",
        "IPY_MODEL_317d95b65c3c488fbda67406e20a119e"
       ],
       "layout": "IPY_MODEL_6a688e9889fe4c07bf07cb1f60e79fda"
      }
     },
     "4088ebd9af2e4c8d8792b79f468bd0fd": {
      "model_module": "jupyter-js-widgets",
      "model_module_version": "~2.1.4",
      "model_name": "ProgressModel",
      "state": {
       "_model_module_version": "~2.1.4",
       "_view_module_version": "~2.1.4",
       "bar_style": "danger",
       "description": "Epoch 0: ",
       "layout": "IPY_MODEL_acecc387e59749c99b4fa9821625c867",
       "max": 363860,
       "style": "IPY_MODEL_bd65c353433f446ba97ac0fc3707216a",
       "value": 51712
      }
     },
     "40dd5fd521cc48f9a1c6c250b42449a6": {
      "model_module": "jupyter-js-widgets",
      "model_module_version": "~2.1.4",
      "model_name": "LayoutModel",
      "state": {
       "_model_module_version": "~2.1.4",
       "_view_module_version": "~2.1.4"
      }
     },
     "411f49aabb9d4a388e0088d91e96a099": {
      "model_module": "jupyter-js-widgets",
      "model_module_version": "~2.1.4",
      "model_name": "LayoutModel",
      "state": {
       "_model_module_version": "~2.1.4",
       "_view_module_version": "~2.1.4"
      }
     },
     "4124ffe6a3ef4dbe8f32a6fafe77ce0e": {
      "model_module": "jupyter-js-widgets",
      "model_module_version": "~2.1.4",
      "model_name": "LayoutModel",
      "state": {
       "_model_module_version": "~2.1.4",
       "_view_module_version": "~2.1.4"
      }
     },
     "41dbf53f116d4becb6f21488044a2d13": {
      "model_module": "jupyter-js-widgets",
      "model_module_version": "~2.1.4",
      "model_name": "HTMLModel",
      "state": {
       "_model_module_version": "~2.1.4",
       "_view_module_version": "~2.1.4",
       "layout": "IPY_MODEL_8db9a8dcb1964faa9259cbd7bd1ab8f8",
       "value": "[loss: 0.480, acc: 0.759, val_loss: 0.433, val_acc: 0.786] 100% 363860/363860 [20:41&lt;00:00, 34.11it/s]"
      }
     },
     "41ec6b79215848eea8c3b6cef70a7a47": {
      "model_module": "jupyter-js-widgets",
      "model_module_version": "~2.1.4",
      "model_name": "ProgressStyleModel",
      "state": {
       "_model_module_version": "~2.1.4",
       "_view_module_version": "~2.1.4"
      }
     },
     "41f47751e38a45a283189565c9de6c0b": {
      "model_module": "jupyter-js-widgets",
      "model_module_version": "~2.1.4",
      "model_name": "HBoxModel",
      "state": {
       "_model_module_version": "~2.1.4",
       "_view_module_version": "~2.1.4",
       "children": [
        "IPY_MODEL_ee26b43562ba463cba34ea39ea550d92",
        "IPY_MODEL_e0e5eb7074c9482890fded7225486d17"
       ],
       "layout": "IPY_MODEL_bf03ee50a2484edcb2f17454e6702b79"
      }
     },
     "42304983d89d42d29ea556221bd76b36": {
      "model_module": "jupyter-js-widgets",
      "model_module_version": "~2.1.4",
      "model_name": "HBoxModel",
      "state": {
       "_model_module_version": "~2.1.4",
       "_view_module_version": "~2.1.4",
       "children": [
        "IPY_MODEL_ef05845b9c1e4a8cae8a8951a83f1deb",
        "IPY_MODEL_8f2669d1bc304faaa9c05d05cc27cdb7"
       ],
       "layout": "IPY_MODEL_15356195fcd145249a7ce1a61a5b5b9d"
      }
     },
     "427daee5532d460ca2e733d47ca098ff": {
      "model_module": "jupyter-js-widgets",
      "model_module_version": "~2.1.4",
      "model_name": "HTMLModel",
      "state": {
       "_model_module_version": "~2.1.4",
       "_view_module_version": "~2.1.4",
       "layout": "IPY_MODEL_9e3a49fbc47f47cdb11c74936c3532c2",
       "value": "[loss: 0.241, acc: 0.912, val_loss: 0.643, val_acc: 0.620] 100% 900/900 [00:02&lt;00:00, 331.14it/s]"
      }
     },
     "438d14d78fde418cad0d49204b6ccc0a": {
      "model_module": "jupyter-js-widgets",
      "model_module_version": "~2.1.4",
      "model_name": "LayoutModel",
      "state": {
       "_model_module_version": "~2.1.4",
       "_view_module_version": "~2.1.4"
      }
     },
     "43b4c4dd6706463298dddaa4e2597f42": {
      "model_module": "jupyter-js-widgets",
      "model_module_version": "~2.1.4",
      "model_name": "ProgressStyleModel",
      "state": {
       "_model_module_version": "~2.1.4",
       "_view_module_version": "~2.1.4"
      }
     },
     "43f4c4b769824d77a592af2e574c1840": {
      "model_module": "jupyter-js-widgets",
      "model_module_version": "~2.1.4",
      "model_name": "HTMLModel",
      "state": {
       "_model_module_version": "~2.1.4",
       "_view_module_version": "~2.1.4",
       "layout": "IPY_MODEL_dcd802b5f55143c2a1511644b5a2774e",
       "value": "[loss: 0.232, acc: 0.900, val_loss: 0.322, val_acc: 0.861] 100% 363861/363861 [20:10&lt;00:00, 34.72it/s]"
      }
     },
     "442674a117834d68867559fe0579327b": {
      "model_module": "jupyter-js-widgets",
      "model_module_version": "~2.1.4",
      "model_name": "HTMLModel",
      "state": {
       "_model_module_version": "~2.1.4",
       "_view_module_version": "~2.1.4",
       "layout": "IPY_MODEL_e850acebf5694a73978ddeb43b3b0d2c",
       "value": "[loss: 0.389, acc: 0.815, val_loss: 0.439, val_acc: 0.797] 100% 363860/363860 [19:34&lt;00:00, 33.54it/s]"
      }
     },
     "4427028f85304d56875d8e7569952319": {
      "model_module": "jupyter-js-widgets",
      "model_module_version": "~2.1.4",
      "model_name": "HTMLModel",
      "state": {
       "_model_module_version": "~2.1.4",
       "_view_module_version": "~2.1.4",
       "layout": "IPY_MODEL_1d1af118653f416da970d40b9c7e419f",
       "value": "[loss: 0.192, acc: 0.920, val_loss: 0.320, val_acc: 0.871] 100% 363861/363861 [20:28&lt;00:00, 34.71it/s]"
      }
     },
     "443d30a995a74952b2f4aa20dcb0b483": {
      "model_module": "jupyter-js-widgets",
      "model_module_version": "~2.1.4",
      "model_name": "ProgressStyleModel",
      "state": {
       "_model_module_version": "~2.1.4",
       "_view_module_version": "~2.1.4"
      }
     },
     "4493e509b8684e2990a141bf6ee9d7fa": {
      "model_module": "jupyter-js-widgets",
      "model_module_version": "~2.1.4",
      "model_name": "ProgressModel",
      "state": {
       "_model_module_version": "~2.1.4",
       "_view_module_version": "~2.1.4",
       "bar_style": "danger",
       "description": "Training: ",
       "layout": "IPY_MODEL_6067cccc89694872802c2fdb3cd6d1c6",
       "max": 50,
       "style": "IPY_MODEL_41ec6b79215848eea8c3b6cef70a7a47",
       "value": 3
      }
     },
     "44d002bdf67c42a1b3a9563f1d0206ef": {
      "model_module": "jupyter-js-widgets",
      "model_module_version": "~2.1.4",
      "model_name": "ProgressModel",
      "state": {
       "_model_module_version": "~2.1.4",
       "_view_module_version": "~2.1.4",
       "description": "Epoch 2: ",
       "layout": "IPY_MODEL_d6420a5e1f724c2b909fcd1783398c67",
       "max": 363860,
       "style": "IPY_MODEL_8e9e9d89555342a688c4389da40725ec",
       "value": 363860
      }
     },
     "44ea36d01af0441da7c12e75cea9f25e": {
      "model_module": "jupyter-js-widgets",
      "model_module_version": "~2.1.4",
      "model_name": "ProgressModel",
      "state": {
       "_model_module_version": "~2.1.4",
       "_view_module_version": "~2.1.4",
       "description": "Epoch 3: ",
       "layout": "IPY_MODEL_45f15e99f9964ac4a40fcd70a1a20cec",
       "max": 363860,
       "style": "IPY_MODEL_7eaa75e6b8494260903d5be715a6f505",
       "value": 271872
      }
     },
     "4518903555da4676840492f3b57c671c": {
      "model_module": "jupyter-js-widgets",
      "model_module_version": "~2.1.4",
      "model_name": "LayoutModel",
      "state": {
       "_model_module_version": "~2.1.4",
       "_view_module_version": "~2.1.4"
      }
     },
     "45ef68cb85e8461fb44c9c5aac093ba2": {
      "model_module": "jupyter-js-widgets",
      "model_module_version": "~2.1.4",
      "model_name": "HTMLModel",
      "state": {
       "_model_module_version": "~2.1.4",
       "_view_module_version": "~2.1.4",
       "layout": "IPY_MODEL_5447d21e173f4793b01ffa47cfea962b",
       "value": "[loss: 0.235, acc: 0.898, val_loss: 0.307, val_acc: 0.866] 100% 363862/363862 [20:08&lt;00:00, 34.76it/s]"
      }
     },
     "45f15e99f9964ac4a40fcd70a1a20cec": {
      "model_module": "jupyter-js-widgets",
      "model_module_version": "~2.1.4",
      "model_name": "LayoutModel",
      "state": {
       "_model_module_version": "~2.1.4",
       "_view_module_version": "~2.1.4"
      }
     },
     "4617197a0e6546c4b1713885aae8bc8a": {
      "model_module": "jupyter-js-widgets",
      "model_module_version": "~2.1.4",
      "model_name": "ProgressStyleModel",
      "state": {
       "_model_module_version": "~2.1.4",
       "_view_module_version": "~2.1.4"
      }
     },
     "466d9b5b2e9b45a292bfafa90cf7c32a": {
      "model_module": "jupyter-js-widgets",
      "model_module_version": "~2.1.4",
      "model_name": "LayoutModel",
      "state": {
       "_model_module_version": "~2.1.4",
       "_view_module_version": "~2.1.4"
      }
     },
     "46e11e60627e465ca278dec6337290fa": {
      "model_module": "jupyter-js-widgets",
      "model_module_version": "~2.1.4",
      "model_name": "HBoxModel",
      "state": {
       "_model_module_version": "~2.1.4",
       "_view_module_version": "~2.1.4",
       "children": [
        "IPY_MODEL_27c1f411a76a480c8e36ab5be473a85b",
        "IPY_MODEL_ff436c31d3284084b7f49555b5d64c3f"
       ],
       "layout": "IPY_MODEL_926c0ef1c2f4496fa77c4be6dbef6650"
      }
     },
     "4738338df42e44439b6703b40fd97acf": {
      "model_module": "jupyter-js-widgets",
      "model_module_version": "~2.1.4",
      "model_name": "HBoxModel",
      "state": {
       "_model_module_version": "~2.1.4",
       "_view_module_version": "~2.1.4",
       "children": [
        "IPY_MODEL_111e3d9a54dc4e67a38fe858bfbe2978",
        "IPY_MODEL_1684dcd0f8394072868c6efc4f1db1de"
       ],
       "layout": "IPY_MODEL_68e8a4f6119d4649b2efc0b303d18787"
      }
     },
     "47a645ba4d97405b908c9e67f774cbdc": {
      "model_module": "jupyter-js-widgets",
      "model_module_version": "~2.1.4",
      "model_name": "LayoutModel",
      "state": {
       "_model_module_version": "~2.1.4",
       "_view_module_version": "~2.1.4"
      }
     },
     "47cf51a0225143ca956bfce4498fda5d": {
      "model_module": "jupyter-js-widgets",
      "model_module_version": "~2.1.4",
      "model_name": "HBoxModel",
      "state": {
       "_model_module_version": "~2.1.4",
       "_view_module_version": "~2.1.4",
       "children": [
        "IPY_MODEL_d72f0fab4a2d4f2abfea69e568010acc",
        "IPY_MODEL_d3eca1a24468485a8096c0676995998e"
       ],
       "layout": "IPY_MODEL_b851870edd78482b934f74a2e2ec4562"
      }
     },
     "48a67a49196f451ab293fbc8df5109a4": {
      "model_module": "jupyter-js-widgets",
      "model_module_version": "~2.1.4",
      "model_name": "LayoutModel",
      "state": {
       "_model_module_version": "~2.1.4",
       "_view_module_version": "~2.1.4"
      }
     },
     "48ddc0845abc4c469d5d1237b06d5ef8": {
      "model_module": "jupyter-js-widgets",
      "model_module_version": "~2.1.4",
      "model_name": "LayoutModel",
      "state": {
       "_model_module_version": "~2.1.4",
       "_view_module_version": "~2.1.4"
      }
     },
     "495fb663a8e24e16bcea2d3ff909422f": {
      "model_module": "jupyter-js-widgets",
      "model_module_version": "~2.1.4",
      "model_name": "HTMLModel",
      "state": {
       "_model_module_version": "~2.1.4",
       "_view_module_version": "~2.1.4",
       "layout": "IPY_MODEL_3647cbc27efc4c24ba5c525dc687462c",
       "value": "[loss: 0.427, acc: 0.793, val_loss: 0.373, val_acc: 0.824] 100% 363861/363861 [20:18&lt;00:00, 34.36it/s]"
      }
     },
     "4983863f49e74745b112509d7c06b473": {
      "model_module": "jupyter-js-widgets",
      "model_module_version": "~2.1.4",
      "model_name": "HTMLModel",
      "state": {
       "_model_module_version": "~2.1.4",
       "_view_module_version": "~2.1.4",
       "layout": "IPY_MODEL_94e03d9d77874eb99cb4bcf3b4d5aa0a",
       "value": "[loss: 0.192, acc: 0.920, val_loss: 0.326, val_acc: 0.863] 100% 363860/363860 [20:02&lt;00:00, 34.88it/s]"
      }
     },
     "49b5f083915e4b178335b430cffac71d": {
      "model_module": "jupyter-js-widgets",
      "model_module_version": "~2.1.4",
      "model_name": "LayoutModel",
      "state": {
       "_model_module_version": "~2.1.4",
       "_view_module_version": "~2.1.4"
      }
     },
     "49b6d2e9741443ceb6f0b948f6515071": {
      "model_module": "jupyter-js-widgets",
      "model_module_version": "~2.1.4",
      "model_name": "ProgressModel",
      "state": {
       "_model_module_version": "~2.1.4",
       "_view_module_version": "~2.1.4",
       "description": "Epoch 5: ",
       "layout": "IPY_MODEL_8860eb09e1564aeebcf3f95ac5a0d520",
       "max": 363860,
       "style": "IPY_MODEL_81f154170d37404086fccde6d1b4fcc6",
       "value": 363860
      }
     },
     "49bd39dbbed646ad89f727eabdeff46e": {
      "model_module": "jupyter-js-widgets",
      "model_module_version": "~2.1.4",
      "model_name": "ProgressStyleModel",
      "state": {
       "_model_module_version": "~2.1.4",
       "_view_module_version": "~2.1.4"
      }
     },
     "4a0231782ea8456d82876215fc2cfa46": {
      "model_module": "jupyter-js-widgets",
      "model_module_version": "~2.1.4",
      "model_name": "LayoutModel",
      "state": {
       "_model_module_version": "~2.1.4",
       "_view_module_version": "~2.1.4"
      }
     },
     "4a70ba0fde0f4867ab52745913365705": {
      "model_module": "jupyter-js-widgets",
      "model_module_version": "~2.1.4",
      "model_name": "LayoutModel",
      "state": {
       "_model_module_version": "~2.1.4",
       "_view_module_version": "~2.1.4"
      }
     },
     "4aaed5f237f94d8d8e0e5bdc0a0ce837": {
      "model_module": "jupyter-js-widgets",
      "model_module_version": "~2.1.4",
      "model_name": "ProgressModel",
      "state": {
       "_model_module_version": "~2.1.4",
       "_view_module_version": "~2.1.4",
       "description": "Epoch 4: ",
       "layout": "IPY_MODEL_6c3fd7c5bccd4c439e00cf1118b1c397",
       "max": 363862,
       "style": "IPY_MODEL_e367150689e9441ba2c63656cb526842",
       "value": 363862
      }
     },
     "4aed97416cc64b50808dbf7a54f5dbca": {
      "model_module": "jupyter-js-widgets",
      "model_module_version": "~2.1.4",
      "model_name": "ProgressModel",
      "state": {
       "_model_module_version": "~2.1.4",
       "_view_module_version": "~2.1.4",
       "description": "Epoch 7: ",
       "layout": "IPY_MODEL_fb8fcca4b1644606b21d4d888268958f",
       "max": 900,
       "style": "IPY_MODEL_4013d6bf54a84dc38adee2e1d0e98a0e",
       "value": 900
      }
     },
     "4b5007fe23fa4f0cb690792b4f7451a0": {
      "model_module": "jupyter-js-widgets",
      "model_module_version": "~2.1.4",
      "model_name": "LayoutModel",
      "state": {
       "_model_module_version": "~2.1.4",
       "_view_module_version": "~2.1.4"
      }
     },
     "4bf34f94f8374ee78f40e48ce6121416": {
      "model_module": "jupyter-js-widgets",
      "model_module_version": "~2.1.4",
      "model_name": "LayoutModel",
      "state": {
       "_model_module_version": "~2.1.4",
       "_view_module_version": "~2.1.4"
      }
     },
     "4bf82c75115a463da949fa54b9a91151": {
      "model_module": "jupyter-js-widgets",
      "model_module_version": "~2.1.4",
      "model_name": "HBoxModel",
      "state": {
       "_model_module_version": "~2.1.4",
       "_view_module_version": "~2.1.4",
       "children": [
        "IPY_MODEL_64925f9e3d704087ac8a8929c7f5fd05",
        "IPY_MODEL_b74399cbfe584a6fb4652f6924f09a5f"
       ],
       "layout": "IPY_MODEL_c9fc115b5cb046399c64a3f72af2805d"
      }
     },
     "4c122b171ea6426a87769cea0f1de8b3": {
      "model_module": "jupyter-js-widgets",
      "model_module_version": "~2.1.4",
      "model_name": "LayoutModel",
      "state": {
       "_model_module_version": "~2.1.4",
       "_view_module_version": "~2.1.4"
      }
     },
     "4c16a07f0bb044f39fdba2a39fc71bd3": {
      "model_module": "jupyter-js-widgets",
      "model_module_version": "~2.1.4",
      "model_name": "ProgressModel",
      "state": {
       "_model_module_version": "~2.1.4",
       "_view_module_version": "~2.1.4",
       "description": "Epoch 3: ",
       "layout": "IPY_MODEL_6d0be8403d084c258a666218057b3aac",
       "max": 363860,
       "style": "IPY_MODEL_9fb3bc6cce9d4f709d68e66868dbaa4f",
       "value": 363860
      }
     },
     "4c59432d44ac44bcb128583c2aa91dec": {
      "model_module": "jupyter-js-widgets",
      "model_module_version": "~2.1.4",
      "model_name": "LayoutModel",
      "state": {
       "_model_module_version": "~2.1.4",
       "_view_module_version": "~2.1.4"
      }
     },
     "4cd4bf9b804a47569f33cf61144f3dad": {
      "model_module": "jupyter-js-widgets",
      "model_module_version": "~2.1.4",
      "model_name": "LayoutModel",
      "state": {
       "_model_module_version": "~2.1.4",
       "_view_module_version": "~2.1.4"
      }
     },
     "4d39c38865024e20b22c7611e54f226b": {
      "model_module": "jupyter-js-widgets",
      "model_module_version": "~2.1.4",
      "model_name": "HBoxModel",
      "state": {
       "_model_module_version": "~2.1.4",
       "_view_module_version": "~2.1.4",
       "children": [
        "IPY_MODEL_5e6daf690d9e4c7187754b55a477c856",
        "IPY_MODEL_660fc6003996451b9624e15a403659a4"
       ],
       "layout": "IPY_MODEL_2b783812a5ee4b89911b66823c7fb060"
      }
     },
     "4d4c01eeaa2c4045b1ff0cb13f6d76e2": {
      "model_module": "jupyter-js-widgets",
      "model_module_version": "~2.1.4",
      "model_name": "LayoutModel",
      "state": {
       "_model_module_version": "~2.1.4",
       "_view_module_version": "~2.1.4"
      }
     },
     "4f1751ae71e9483bb69cfad29aca6fe8": {
      "model_module": "jupyter-js-widgets",
      "model_module_version": "~2.1.4",
      "model_name": "HBoxModel",
      "state": {
       "_model_module_version": "~2.1.4",
       "_view_module_version": "~2.1.4",
       "children": [
        "IPY_MODEL_4aed97416cc64b50808dbf7a54f5dbca",
        "IPY_MODEL_10495e7f6fdd463193266b9baa6f7523"
       ],
       "layout": "IPY_MODEL_fe93a0e83c70428ca1ae0d9577f9c589"
      }
     },
     "4f55c6d1c0d048f8976c3793a6d52412": {
      "model_module": "jupyter-js-widgets",
      "model_module_version": "~2.1.4",
      "model_name": "LayoutModel",
      "state": {
       "_model_module_version": "~2.1.4",
       "_view_module_version": "~2.1.4"
      }
     },
     "50126110fad84d59a68d1a2b5d7bcb28": {
      "model_module": "jupyter-js-widgets",
      "model_module_version": "~2.1.4",
      "model_name": "ProgressStyleModel",
      "state": {
       "_model_module_version": "~2.1.4",
       "_view_module_version": "~2.1.4"
      }
     },
     "503108ddfe604b91a88fd9afd4230bd2": {
      "model_module": "jupyter-js-widgets",
      "model_module_version": "~2.1.4",
      "model_name": "HTMLModel",
      "state": {
       "_model_module_version": "~2.1.4",
       "_view_module_version": "~2.1.4",
       "layout": "IPY_MODEL_16e06c118838452bb4a8249394bea874",
       "value": "[loss: 0.429, acc: 0.791, val_loss: 0.375, val_acc: 0.825] 100% 363862/363862 [20:42&lt;00:00, 34.63it/s]"
      }
     },
     "503da462951c47f6a7f900e5da570c8f": {
      "model_module": "jupyter-js-widgets",
      "model_module_version": "~2.1.4",
      "model_name": "LayoutModel",
      "state": {
       "_model_module_version": "~2.1.4",
       "_view_module_version": "~2.1.4"
      }
     },
     "505c931b36e74063a4e9d19458be9a2f": {
      "model_module": "jupyter-js-widgets",
      "model_module_version": "~2.1.4",
      "model_name": "HBoxModel",
      "state": {
       "_model_module_version": "~2.1.4",
       "_view_module_version": "~2.1.4",
       "children": [
        "IPY_MODEL_03c18d214d304b26a8e5fe19fb98b155",
        "IPY_MODEL_e0acbcf61acc44a492f490ff40bc8bb7"
       ],
       "layout": "IPY_MODEL_2553faad1478458e988c2d2109e17862"
      }
     },
     "50db6ed9295f4e73a1161c18aca1666b": {
      "model_module": "jupyter-js-widgets",
      "model_module_version": "~2.1.4",
      "model_name": "HBoxModel",
      "state": {
       "_model_module_version": "~2.1.4",
       "_view_module_version": "~2.1.4",
       "children": [
        "IPY_MODEL_52118f41b577402799643b8aaf92db7d",
        "IPY_MODEL_f36fe13d0fec4c8581e8ccd396c072de"
       ],
       "layout": "IPY_MODEL_b7c5c1e0810c4df5bb79dce96479ae47"
      }
     },
     "513434a3f76d464dbfb1794d197dfdf0": {
      "model_module": "jupyter-js-widgets",
      "model_module_version": "~2.1.4",
      "model_name": "LayoutModel",
      "state": {
       "_model_module_version": "~2.1.4",
       "_view_module_version": "~2.1.4"
      }
     },
     "514ed8bdcca642fd8c0c4b6368d2161d": {
      "model_module": "jupyter-js-widgets",
      "model_module_version": "~2.1.4",
      "model_name": "ProgressModel",
      "state": {
       "_model_module_version": "~2.1.4",
       "_view_module_version": "~2.1.4",
       "description": "Epoch 5: ",
       "layout": "IPY_MODEL_4518903555da4676840492f3b57c671c",
       "max": 363860,
       "style": "IPY_MODEL_c540374d3f3e4225b287869d6b98ad84",
       "value": 363860
      }
     },
     "516b87f11c6347c79f268ad22e97d131": {
      "model_module": "jupyter-js-widgets",
      "model_module_version": "~2.1.4",
      "model_name": "ProgressStyleModel",
      "state": {
       "_model_module_version": "~2.1.4",
       "_view_module_version": "~2.1.4"
      }
     },
     "52118f41b577402799643b8aaf92db7d": {
      "model_module": "jupyter-js-widgets",
      "model_module_version": "~2.1.4",
      "model_name": "ProgressModel",
      "state": {
       "_model_module_version": "~2.1.4",
       "_view_module_version": "~2.1.4",
       "description": "Epoch 2: ",
       "layout": "IPY_MODEL_2e6af98bbb7446bba9ab33ac55e52018",
       "max": 363860,
       "style": "IPY_MODEL_f08f74d2357d4688ae39e82b0607676a",
       "value": 363860
      }
     },
     "52ba865d53694953bcbf9dd8da2d36f7": {
      "model_module": "jupyter-js-widgets",
      "model_module_version": "~2.1.4",
      "model_name": "ProgressModel",
      "state": {
       "_model_module_version": "~2.1.4",
       "_view_module_version": "~2.1.4",
       "description": "Epoch 2: ",
       "layout": "IPY_MODEL_fd336b0f65e0498092c311dae835c122",
       "max": 363862,
       "style": "IPY_MODEL_17db7c6552b94020bf6852eb37160dc8",
       "value": 363862
      }
     },
     "53358cae5a9146ffa6323a714d513b13": {
      "model_module": "jupyter-js-widgets",
      "model_module_version": "~2.1.4",
      "model_name": "ProgressModel",
      "state": {
       "_model_module_version": "~2.1.4",
       "_view_module_version": "~2.1.4",
       "description": "Epoch 1: ",
       "layout": "IPY_MODEL_f644064f53a449f59c239a6996ac6162",
       "max": 363861,
       "style": "IPY_MODEL_ac11b25ff6d14e36ac1040c169ca0d5d",
       "value": 363861
      }
     },
     "5447d21e173f4793b01ffa47cfea962b": {
      "model_module": "jupyter-js-widgets",
      "model_module_version": "~2.1.4",
      "model_name": "LayoutModel",
      "state": {
       "_model_module_version": "~2.1.4",
       "_view_module_version": "~2.1.4"
      }
     },
     "553625e3dd474d8097364d49b7c3f27e": {
      "model_module": "jupyter-js-widgets",
      "model_module_version": "~2.1.4",
      "model_name": "LayoutModel",
      "state": {
       "_model_module_version": "~2.1.4",
       "_view_module_version": "~2.1.4"
      }
     },
     "56d1917c1a1f4f399235bd0d77653867": {
      "model_module": "jupyter-js-widgets",
      "model_module_version": "~2.1.4",
      "model_name": "LayoutModel",
      "state": {
       "_model_module_version": "~2.1.4",
       "_view_module_version": "~2.1.4"
      }
     },
     "572ca8bbc86c43598b67592327b4ed6a": {
      "model_module": "jupyter-js-widgets",
      "model_module_version": "~2.1.4",
      "model_name": "LayoutModel",
      "state": {
       "_model_module_version": "~2.1.4",
       "_view_module_version": "~2.1.4"
      }
     },
     "579ca2e176e142149f27957de6aeac4f": {
      "model_module": "jupyter-js-widgets",
      "model_module_version": "~2.1.4",
      "model_name": "ProgressStyleModel",
      "state": {
       "_model_module_version": "~2.1.4",
       "_view_module_version": "~2.1.4"
      }
     },
     "584e82e417f24074a078c9776ea833f4": {
      "model_module": "jupyter-js-widgets",
      "model_module_version": "~2.1.4",
      "model_name": "LayoutModel",
      "state": {
       "_model_module_version": "~2.1.4",
       "_view_module_version": "~2.1.4"
      }
     },
     "58d976975cfa4c4697ec1b394d988bfe": {
      "model_module": "jupyter-js-widgets",
      "model_module_version": "~2.1.4",
      "model_name": "HBoxModel",
      "state": {
       "_model_module_version": "~2.1.4",
       "_view_module_version": "~2.1.4",
       "children": [
        "IPY_MODEL_e462411621b24e4fa0770efa52f00a61",
        "IPY_MODEL_cfd1d73a49f24556bca93d5f2d5f9ffc"
       ],
       "layout": "IPY_MODEL_e64eadff4f1944518800b58ad9bfeb76"
      }
     },
     "58f3e7a0d59b4d819f2b012ccbba87ff": {
      "model_module": "jupyter-js-widgets",
      "model_module_version": "~2.1.4",
      "model_name": "LayoutModel",
      "state": {
       "_model_module_version": "~2.1.4",
       "_view_module_version": "~2.1.4"
      }
     },
     "5941b670bdab4e6980335fedda89189e": {
      "model_module": "jupyter-js-widgets",
      "model_module_version": "~2.1.4",
      "model_name": "LayoutModel",
      "state": {
       "_model_module_version": "~2.1.4",
       "_view_module_version": "~2.1.4"
      }
     },
     "5950f81f112147859e3e2cdad44c8274": {
      "model_module": "jupyter-js-widgets",
      "model_module_version": "~2.1.4",
      "model_name": "ProgressModel",
      "state": {
       "_model_module_version": "~2.1.4",
       "_view_module_version": "~2.1.4",
       "description": "Epoch 1: ",
       "layout": "IPY_MODEL_8b4038a898524493baeac333710456a4",
       "max": 363860,
       "style": "IPY_MODEL_cabf17d51ddc4e1bbe41f954040dea38",
       "value": 363860
      }
     },
     "59d5b5bd60b74719a28cdce9c4e5b62c": {
      "model_module": "jupyter-js-widgets",
      "model_module_version": "~2.1.4",
      "model_name": "LayoutModel",
      "state": {
       "_model_module_version": "~2.1.4",
       "_view_module_version": "~2.1.4"
      }
     },
     "5a6b66d4c7474b76b5737985828fc331": {
      "model_module": "jupyter-js-widgets",
      "model_module_version": "~2.1.4",
      "model_name": "HBoxModel",
      "state": {
       "_model_module_version": "~2.1.4",
       "_view_module_version": "~2.1.4",
       "children": [
        "IPY_MODEL_ecf8a726da17434e8030917612c61c87",
        "IPY_MODEL_ee5867744b2e4218b8afb14a710890e6"
       ],
       "layout": "IPY_MODEL_005d182dcfec46a087512298f55e7df7"
      }
     },
     "5a9ea946c27a4304a3c896bd25b91e20": {
      "model_module": "jupyter-js-widgets",
      "model_module_version": "~2.1.4",
      "model_name": "LayoutModel",
      "state": {
       "_model_module_version": "~2.1.4",
       "_view_module_version": "~2.1.4"
      }
     },
     "5a9ec0bd07ea42f498b3ba0f6e5f04b5": {
      "model_module": "jupyter-js-widgets",
      "model_module_version": "~2.1.4",
      "model_name": "ProgressStyleModel",
      "state": {
       "_model_module_version": "~2.1.4",
       "_view_module_version": "~2.1.4"
      }
     },
     "5aaf3168dad94e07950e238d2778e77c": {
      "model_module": "jupyter-js-widgets",
      "model_module_version": "~2.1.4",
      "model_name": "HTMLModel",
      "state": {
       "_model_module_version": "~2.1.4",
       "_view_module_version": "~2.1.4",
       "layout": "IPY_MODEL_c15f28e6bb05484692ee8a913b8198cc",
       "value": "  6% 3/50 [1:01:02&lt;15:50:49, 1213.81s/it]"
      }
     },
     "5ba891f8c31143beaa0fe6ce4591efc4": {
      "model_module": "jupyter-js-widgets",
      "model_module_version": "~2.1.4",
      "model_name": "HBoxModel",
      "state": {
       "_model_module_version": "~2.1.4",
       "_view_module_version": "~2.1.4",
       "children": [
        "IPY_MODEL_f62d075197ab4dc1acccc16f9cc6c58a",
        "IPY_MODEL_0f3bb6b9f39247a99792aee75b048a01"
       ],
       "layout": "IPY_MODEL_a11dcc6a454b4ecdad4db71e4f30d04d"
      }
     },
     "5bffe477a75f4174a5f6a4a33dfe2a1b": {
      "model_module": "jupyter-js-widgets",
      "model_module_version": "~2.1.4",
      "model_name": "HTMLModel",
      "state": {
       "_model_module_version": "~2.1.4",
       "_view_module_version": "~2.1.4",
       "layout": "IPY_MODEL_5c3935e510104a928a630a3250a49b2a",
       "value": "[loss: 0.432, acc: 0.794, val_loss: 0.664, val_acc: 0.660] 100% 900/900 [00:02&lt;00:00, 310.06it/s]"
      }
     },
     "5c3935e510104a928a630a3250a49b2a": {
      "model_module": "jupyter-js-widgets",
      "model_module_version": "~2.1.4",
      "model_name": "LayoutModel",
      "state": {
       "_model_module_version": "~2.1.4",
       "_view_module_version": "~2.1.4"
      }
     },
     "5cc32b5de9084514b6c33632042c3908": {
      "model_module": "jupyter-js-widgets",
      "model_module_version": "~2.1.4",
      "model_name": "HBoxModel",
      "state": {
       "_model_module_version": "~2.1.4",
       "_view_module_version": "~2.1.4",
       "children": [
        "IPY_MODEL_29f7a725c21445bc85e260b1dcedab7a",
        "IPY_MODEL_f1b1448dbbf2415fafa0cf8136317363"
       ],
       "layout": "IPY_MODEL_15bf4a8c4c404bba8a785bebf6a39297"
      }
     },
     "5d0a90759baa420bbd7e8e3964de660c": {
      "model_module": "jupyter-js-widgets",
      "model_module_version": "~2.1.4",
      "model_name": "HTMLModel",
      "state": {
       "_model_module_version": "~2.1.4",
       "_view_module_version": "~2.1.4",
       "layout": "IPY_MODEL_5941b670bdab4e6980335fedda89189e",
       "value": "[loss: 0.429, acc: 0.792, val_loss: 0.379, val_acc: 0.824] 100% 363860/363860 [19:36&lt;00:00, 33.95it/s]"
      }
     },
     "5d0ade43a2a74329a0485a4ebae65ff0": {
      "model_module": "jupyter-js-widgets",
      "model_module_version": "~2.1.4",
      "model_name": "LayoutModel",
      "state": {
       "_model_module_version": "~2.1.4",
       "_view_module_version": "~2.1.4"
      }
     },
     "5d22ee30a8cf428a9c8dec73579c6566": {
      "model_module": "jupyter-js-widgets",
      "model_module_version": "~2.1.4",
      "model_name": "LayoutModel",
      "state": {
       "_model_module_version": "~2.1.4",
       "_view_module_version": "~2.1.4"
      }
     },
     "5e1b8fea83434c37af2ec3ef29915390": {
      "model_module": "jupyter-js-widgets",
      "model_module_version": "~2.1.4",
      "model_name": "HBoxModel",
      "state": {
       "_model_module_version": "~2.1.4",
       "_view_module_version": "~2.1.4",
       "children": [
        "IPY_MODEL_a5852c86bc9e4ecaa6b452f23d0bee9d",
        "IPY_MODEL_495fb663a8e24e16bcea2d3ff909422f"
       ],
       "layout": "IPY_MODEL_ea95c32555344138af358ca88e409c90"
      }
     },
     "5e2b55517fed4919889fa7997bae7274": {
      "model_module": "jupyter-js-widgets",
      "model_module_version": "~2.1.4",
      "model_name": "HTMLModel",
      "state": {
       "_model_module_version": "~2.1.4",
       "_view_module_version": "~2.1.4",
       "layout": "IPY_MODEL_bb0fc9c8664a46709509c68a8d93a78d",
       "value": "[loss: 0.222, acc: 0.929, val_loss: 0.638, val_acc: 0.650] 100% 900/900 [00:02&lt;00:00, 311.97it/s]"
      }
     },
     "5e6daf690d9e4c7187754b55a477c856": {
      "model_module": "jupyter-js-widgets",
      "model_module_version": "~2.1.4",
      "model_name": "ProgressModel",
      "state": {
       "_model_module_version": "~2.1.4",
       "_view_module_version": "~2.1.4",
       "description": "Epoch 0: ",
       "layout": "IPY_MODEL_b2beeaffcdba4b2cbb21607645bdfe3a",
       "max": 363860,
       "style": "IPY_MODEL_07bd27f064974148a6959a3cef5b5378",
       "value": 363860
      }
     },
     "5ed328c0f0c94e1d88c76290be687d36": {
      "model_module": "jupyter-js-widgets",
      "model_module_version": "~2.1.4",
      "model_name": "ProgressStyleModel",
      "state": {
       "_model_module_version": "~2.1.4",
       "_view_module_version": "~2.1.4"
      }
     },
     "5fa6b47d37464e01b058b03c02f1fed7": {
      "model_module": "jupyter-js-widgets",
      "model_module_version": "~2.1.4",
      "model_name": "LayoutModel",
      "state": {
       "_model_module_version": "~2.1.4",
       "_view_module_version": "~2.1.4"
      }
     },
     "604c66d9cb3c491592adf5064052efa5": {
      "model_module": "jupyter-js-widgets",
      "model_module_version": "~2.1.4",
      "model_name": "ProgressStyleModel",
      "state": {
       "_model_module_version": "~2.1.4",
       "_view_module_version": "~2.1.4"
      }
     },
     "6067cccc89694872802c2fdb3cd6d1c6": {
      "model_module": "jupyter-js-widgets",
      "model_module_version": "~2.1.4",
      "model_name": "LayoutModel",
      "state": {
       "_model_module_version": "~2.1.4",
       "_view_module_version": "~2.1.4"
      }
     },
     "60c432bf74ea4757b296262e9af9f7f6": {
      "model_module": "jupyter-js-widgets",
      "model_module_version": "~2.1.4",
      "model_name": "LayoutModel",
      "state": {
       "_model_module_version": "~2.1.4",
       "_view_module_version": "~2.1.4"
      }
     },
     "60cc55cfdba94808b06200e9a0837f94": {
      "model_module": "jupyter-js-widgets",
      "model_module_version": "~2.1.4",
      "model_name": "LayoutModel",
      "state": {
       "_model_module_version": "~2.1.4",
       "_view_module_version": "~2.1.4"
      }
     },
     "60e04cb521314654ab1c5b13f52732b5": {
      "model_module": "jupyter-js-widgets",
      "model_module_version": "~2.1.4",
      "model_name": "HBoxModel",
      "state": {
       "_model_module_version": "~2.1.4",
       "_view_module_version": "~2.1.4",
       "children": [
        "IPY_MODEL_ec8de2e848a44759914af167b0558a2b",
        "IPY_MODEL_3a875a417e284d3ebe72f523a5d00123"
       ],
       "layout": "IPY_MODEL_c23eab22e52745629a8b84e4162bd758"
      }
     },
     "6137ad56090c4bf68123ff8d3609ffa6": {
      "model_module": "jupyter-js-widgets",
      "model_module_version": "~2.1.4",
      "model_name": "LayoutModel",
      "state": {
       "_model_module_version": "~2.1.4",
       "_view_module_version": "~2.1.4"
      }
     },
     "615b0c33aaf24c2c9a75ccf6246b990c": {
      "model_module": "jupyter-js-widgets",
      "model_module_version": "~2.1.4",
      "model_name": "LayoutModel",
      "state": {
       "_model_module_version": "~2.1.4",
       "_view_module_version": "~2.1.4"
      }
     },
     "619a935b8987453182a7cb24e225f409": {
      "model_module": "jupyter-js-widgets",
      "model_module_version": "~2.1.4",
      "model_name": "LayoutModel",
      "state": {
       "_model_module_version": "~2.1.4",
       "_view_module_version": "~2.1.4"
      }
     },
     "61b31c7494724500a49f07b3853f11ce": {
      "model_module": "jupyter-js-widgets",
      "model_module_version": "~2.1.4",
      "model_name": "ProgressStyleModel",
      "state": {
       "_model_module_version": "~2.1.4",
       "_view_module_version": "~2.1.4"
      }
     },
     "61df1ab1fc084fc9abc020c56a2dfc90": {
      "model_module": "jupyter-js-widgets",
      "model_module_version": "~2.1.4",
      "model_name": "LayoutModel",
      "state": {
       "_model_module_version": "~2.1.4",
       "_view_module_version": "~2.1.4"
      }
     },
     "628e7f7d58ba4580ac5c6404734090de": {
      "model_module": "jupyter-js-widgets",
      "model_module_version": "~2.1.4",
      "model_name": "LayoutModel",
      "state": {
       "_model_module_version": "~2.1.4",
       "_view_module_version": "~2.1.4"
      }
     },
     "62b6e686f98e47a29d953728ed22b4fa": {
      "model_module": "jupyter-js-widgets",
      "model_module_version": "~2.1.4",
      "model_name": "LayoutModel",
      "state": {
       "_model_module_version": "~2.1.4",
       "_view_module_version": "~2.1.4"
      }
     },
     "62c26e6df4bc4e00820f656d9109b43d": {
      "model_module": "jupyter-js-widgets",
      "model_module_version": "~2.1.4",
      "model_name": "LayoutModel",
      "state": {
       "_model_module_version": "~2.1.4",
       "_view_module_version": "~2.1.4"
      }
     },
     "630c296e822e46d6bff3d401f73b5d8b": {
      "model_module": "jupyter-js-widgets",
      "model_module_version": "~2.1.4",
      "model_name": "LayoutModel",
      "state": {
       "_model_module_version": "~2.1.4",
       "_view_module_version": "~2.1.4"
      }
     },
     "632ad3df29df48728f285ceb3f8ec066": {
      "model_module": "jupyter-js-widgets",
      "model_module_version": "~2.1.4",
      "model_name": "LayoutModel",
      "state": {
       "_model_module_version": "~2.1.4",
       "_view_module_version": "~2.1.4"
      }
     },
     "645d7bf464b64a61beeaaa01a1f81a18": {
      "model_module": "jupyter-js-widgets",
      "model_module_version": "~2.1.4",
      "model_name": "LayoutModel",
      "state": {
       "_model_module_version": "~2.1.4",
       "_view_module_version": "~2.1.4"
      }
     },
     "649094cc25194edea95bbb192ddc2ce6": {
      "model_module": "jupyter-js-widgets",
      "model_module_version": "~2.1.4",
      "model_name": "LayoutModel",
      "state": {
       "_model_module_version": "~2.1.4",
       "_view_module_version": "~2.1.4"
      }
     },
     "64925f9e3d704087ac8a8929c7f5fd05": {
      "model_module": "jupyter-js-widgets",
      "model_module_version": "~2.1.4",
      "model_name": "ProgressModel",
      "state": {
       "_model_module_version": "~2.1.4",
       "_view_module_version": "~2.1.4",
       "description": "Epoch 2: ",
       "layout": "IPY_MODEL_3cb9527d7b544403a6188732b6822d3c",
       "max": 363861,
       "style": "IPY_MODEL_43b4c4dd6706463298dddaa4e2597f42",
       "value": 363861
      }
     },
     "64d4bf31cb774de18731b1e8bcd8c6c1": {
      "model_module": "jupyter-js-widgets",
      "model_module_version": "~2.1.4",
      "model_name": "ProgressModel",
      "state": {
       "_model_module_version": "~2.1.4",
       "_view_module_version": "~2.1.4",
       "description": "Epoch 5: ",
       "layout": "IPY_MODEL_301094efba394a06aebddc585f4d84dc",
       "max": 363860,
       "style": "IPY_MODEL_3f62cedc818f4aca93931fe1c2f6614d",
       "value": 363860
      }
     },
     "65b7e4181fb74b3d91a4f009e640dbeb": {
      "model_module": "jupyter-js-widgets",
      "model_module_version": "~2.1.4",
      "model_name": "ProgressStyleModel",
      "state": {
       "_model_module_version": "~2.1.4",
       "_view_module_version": "~2.1.4"
      }
     },
     "65f16469182c4f85b79521e1b9fe6aec": {
      "model_module": "jupyter-js-widgets",
      "model_module_version": "~2.1.4",
      "model_name": "LayoutModel",
      "state": {
       "_model_module_version": "~2.1.4",
       "_view_module_version": "~2.1.4"
      }
     },
     "660fc6003996451b9624e15a403659a4": {
      "model_module": "jupyter-js-widgets",
      "model_module_version": "~2.1.4",
      "model_name": "HTMLModel",
      "state": {
       "_model_module_version": "~2.1.4",
       "_view_module_version": "~2.1.4",
       "layout": "IPY_MODEL_d4c8e03867654f43a8ff3d93a830e459",
       "value": "[loss: 0.429, acc: 0.792, val_loss: 0.379, val_acc: 0.826] 100% 363860/363860 [20:22&lt;00:00, 33.65it/s]"
      }
     },
     "663155fcbc0840d49a23939eedc1bcfb": {
      "model_module": "jupyter-js-widgets",
      "model_module_version": "~2.1.4",
      "model_name": "ProgressStyleModel",
      "state": {
       "_model_module_version": "~2.1.4",
       "_view_module_version": "~2.1.4"
      }
     },
     "668b51a88c674b74b91e6acdd75b66c6": {
      "model_module": "jupyter-js-widgets",
      "model_module_version": "~2.1.4",
      "model_name": "LayoutModel",
      "state": {
       "_model_module_version": "~2.1.4",
       "_view_module_version": "~2.1.4"
      }
     },
     "6741075eeec1456db45cc87348f722bc": {
      "model_module": "jupyter-js-widgets",
      "model_module_version": "~2.1.4",
      "model_name": "ProgressModel",
      "state": {
       "_model_module_version": "~2.1.4",
       "_view_module_version": "~2.1.4",
       "description": "Epoch 11: ",
       "layout": "IPY_MODEL_6d3bfd1d97054fa980dfa9dcd637c7a0",
       "max": 900,
       "style": "IPY_MODEL_7e016056f4cf43c09b9e5e5b40cea820",
       "value": 900
      }
     },
     "67441dbf2a3046b8a863905604859f47": {
      "model_module": "jupyter-js-widgets",
      "model_module_version": "~2.1.4",
      "model_name": "ProgressModel",
      "state": {
       "_model_module_version": "~2.1.4",
       "_view_module_version": "~2.1.4",
       "description": "Epoch 5: ",
       "layout": "IPY_MODEL_49b5f083915e4b178335b430cffac71d",
       "max": 363861,
       "style": "IPY_MODEL_604c66d9cb3c491592adf5064052efa5",
       "value": 363861
      }
     },
     "678054a7578043528b397223790985b3": {
      "model_module": "jupyter-js-widgets",
      "model_module_version": "~2.1.4",
      "model_name": "LayoutModel",
      "state": {
       "_model_module_version": "~2.1.4",
       "_view_module_version": "~2.1.4"
      }
     },
     "67bc73f22d5a4427821791dce6b21fd6": {
      "model_module": "jupyter-js-widgets",
      "model_module_version": "~2.1.4",
      "model_name": "HBoxModel",
      "state": {
       "_model_module_version": "~2.1.4",
       "_view_module_version": "~2.1.4",
       "children": [
        "IPY_MODEL_c4ef77661c884671be79a3bebb5de17a",
        "IPY_MODEL_3e2672c8f413406bbbde9c9088167527"
       ],
       "layout": "IPY_MODEL_af92410c92c341f28de312d49b08f799"
      }
     },
     "68d4d614fff14835bd8c5a9851277e26": {
      "model_module": "jupyter-js-widgets",
      "model_module_version": "~2.1.4",
      "model_name": "LayoutModel",
      "state": {
       "_model_module_version": "~2.1.4",
       "_view_module_version": "~2.1.4"
      }
     },
     "68e8a4f6119d4649b2efc0b303d18787": {
      "model_module": "jupyter-js-widgets",
      "model_module_version": "~2.1.4",
      "model_name": "LayoutModel",
      "state": {
       "_model_module_version": "~2.1.4",
       "_view_module_version": "~2.1.4"
      }
     },
     "68f9aeb142544f8b9cb9be368210a4db": {
      "model_module": "jupyter-js-widgets",
      "model_module_version": "~2.1.4",
      "model_name": "HBoxModel",
      "state": {
       "_model_module_version": "~2.1.4",
       "_view_module_version": "~2.1.4",
       "children": [
        "IPY_MODEL_e618d87efa164da8884a3e35c18b6b5a",
        "IPY_MODEL_75f0d5d475364191abb1308ded1e8068"
       ],
       "layout": "IPY_MODEL_246c5ecb36e44f75909a0ab15dcface4"
      }
     },
     "69d61b07fd984d46923572605127e73a": {
      "model_module": "jupyter-js-widgets",
      "model_module_version": "~2.1.4",
      "model_name": "LayoutModel",
      "state": {
       "_model_module_version": "~2.1.4",
       "_view_module_version": "~2.1.4"
      }
     },
     "6a12cb02ded1415d834790a40bf86b7a": {
      "model_module": "jupyter-js-widgets",
      "model_module_version": "~2.1.4",
      "model_name": "ProgressStyleModel",
      "state": {
       "_model_module_version": "~2.1.4",
       "_view_module_version": "~2.1.4"
      }
     },
     "6a2d47bcfd224bb593894c9ea3629606": {
      "model_module": "jupyter-js-widgets",
      "model_module_version": "~2.1.4",
      "model_name": "LayoutModel",
      "state": {
       "_model_module_version": "~2.1.4",
       "_view_module_version": "~2.1.4"
      }
     },
     "6a688e9889fe4c07bf07cb1f60e79fda": {
      "model_module": "jupyter-js-widgets",
      "model_module_version": "~2.1.4",
      "model_name": "LayoutModel",
      "state": {
       "_model_module_version": "~2.1.4",
       "_view_module_version": "~2.1.4"
      }
     },
     "6b42daf9de264a42b4dab59c08524e1b": {
      "model_module": "jupyter-js-widgets",
      "model_module_version": "~2.1.4",
      "model_name": "HTMLModel",
      "state": {
       "_model_module_version": "~2.1.4",
       "_view_module_version": "~2.1.4",
       "layout": "IPY_MODEL_60cc55cfdba94808b06200e9a0837f94",
       "value": "[loss: 0.132, acc: 0.957, val_loss: 0.631, val_acc: 0.630] 100% 900/900 [00:02&lt;00:00, 307.89it/s]"
      }
     },
     "6b49a7e3e87f453f9dacbd4f4c63dcf4": {
      "model_module": "jupyter-js-widgets",
      "model_module_version": "~2.1.4",
      "model_name": "LayoutModel",
      "state": {
       "_model_module_version": "~2.1.4",
       "_view_module_version": "~2.1.4"
      }
     },
     "6b756aaebabe4c798fef70aaeaad345a": {
      "model_module": "jupyter-js-widgets",
      "model_module_version": "~2.1.4",
      "model_name": "HBoxModel",
      "state": {
       "_model_module_version": "~2.1.4",
       "_view_module_version": "~2.1.4",
       "children": [
        "IPY_MODEL_c9b0c21df77f47c0bb6cd786d57d30b8",
        "IPY_MODEL_e9e3bddbd6a24a21b22e08ad4cd2e481"
       ],
       "layout": "IPY_MODEL_306315550b9c4081b5136c009233d4d7"
      }
     },
     "6c1feb91a4eb4a45b09339069fce1aee": {
      "model_module": "jupyter-js-widgets",
      "model_module_version": "~2.1.4",
      "model_name": "HBoxModel",
      "state": {
       "_model_module_version": "~2.1.4",
       "_view_module_version": "~2.1.4",
       "children": [
        "IPY_MODEL_7963b3fa71b743c397cf49f3c0156383",
        "IPY_MODEL_ec1a4d78a1314111894abe78340f48d7"
       ],
       "layout": "IPY_MODEL_a2cbe3fce0264e1287a427b99e000cdb"
      }
     },
     "6c3fd7c5bccd4c439e00cf1118b1c397": {
      "model_module": "jupyter-js-widgets",
      "model_module_version": "~2.1.4",
      "model_name": "LayoutModel",
      "state": {
       "_model_module_version": "~2.1.4",
       "_view_module_version": "~2.1.4"
      }
     },
     "6c680ad2f8da4a2ba0ecd8ce7d36e70d": {
      "model_module": "jupyter-js-widgets",
      "model_module_version": "~2.1.4",
      "model_name": "HBoxModel",
      "state": {
       "_model_module_version": "~2.1.4",
       "_view_module_version": "~2.1.4",
       "children": [
        "IPY_MODEL_211a2b5877a44073998410970bd225b5",
        "IPY_MODEL_7ccd6fdd551043e481d5009e06ae0550"
       ],
       "layout": "IPY_MODEL_139af96336ae44de8e34c7fc7eeabf92"
      }
     },
     "6d0be8403d084c258a666218057b3aac": {
      "model_module": "jupyter-js-widgets",
      "model_module_version": "~2.1.4",
      "model_name": "LayoutModel",
      "state": {
       "_model_module_version": "~2.1.4",
       "_view_module_version": "~2.1.4"
      }
     },
     "6d3bfd1d97054fa980dfa9dcd637c7a0": {
      "model_module": "jupyter-js-widgets",
      "model_module_version": "~2.1.4",
      "model_name": "LayoutModel",
      "state": {
       "_model_module_version": "~2.1.4",
       "_view_module_version": "~2.1.4"
      }
     },
     "6d4957211b0e47ba9881a4770dfc121e": {
      "model_module": "jupyter-js-widgets",
      "model_module_version": "~2.1.4",
      "model_name": "ProgressStyleModel",
      "state": {
       "_model_module_version": "~2.1.4",
       "_view_module_version": "~2.1.4"
      }
     },
     "6d6c350034244f6f8de30ff32ebd7cd2": {
      "model_module": "jupyter-js-widgets",
      "model_module_version": "~2.1.4",
      "model_name": "LayoutModel",
      "state": {
       "_model_module_version": "~2.1.4",
       "_view_module_version": "~2.1.4"
      }
     },
     "6da39a1f7d1843a0beff8360441c1939": {
      "model_module": "jupyter-js-widgets",
      "model_module_version": "~2.1.4",
      "model_name": "HTMLModel",
      "state": {
       "_model_module_version": "~2.1.4",
       "_view_module_version": "~2.1.4",
       "layout": "IPY_MODEL_03b5ebff77ca49fea1c7c90bd22d3cc7",
       "value": "[loss: 0.192, acc: 0.920, val_loss: 0.322, val_acc: 0.868] 100% 363862/363862 [17:59&lt;00:00, 35.22it/s]"
      }
     },
     "6dad3f9c1acd41b6b42cf5fab15e7c5f": {
      "model_module": "jupyter-js-widgets",
      "model_module_version": "~2.1.4",
      "model_name": "HTMLModel",
      "state": {
       "_model_module_version": "~2.1.4",
       "_view_module_version": "~2.1.4",
       "layout": "IPY_MODEL_8e5c296e049d4f5c97641387393be71f",
       "value": "[loss: 0.191, acc: 0.920, val_loss: 0.328, val_acc: 0.863] 100% 363860/363860 [19:47&lt;00:00, 33.97it/s]"
      }
     },
     "6dc1d304db5e42e4a22c51ffdc7c47e7": {
      "model_module": "jupyter-js-widgets",
      "model_module_version": "~2.1.4",
      "model_name": "LayoutModel",
      "state": {
       "_model_module_version": "~2.1.4",
       "_view_module_version": "~2.1.4"
      }
     },
     "6de6d81e216f45569f7e67d3872c497c": {
      "model_module": "jupyter-js-widgets",
      "model_module_version": "~2.1.4",
      "model_name": "ProgressModel",
      "state": {
       "_model_module_version": "~2.1.4",
       "_view_module_version": "~2.1.4",
       "description": "Epoch 1: ",
       "layout": "IPY_MODEL_905f1038a8c24c4c8bf526665c0c687e",
       "max": 363860,
       "style": "IPY_MODEL_8df9b10e0b1b4b8990deee48b73fcc9f",
       "value": 363860
      }
     },
     "6df73f31883349de852d7e654cbfd73a": {
      "model_module": "jupyter-js-widgets",
      "model_module_version": "~2.1.4",
      "model_name": "LayoutModel",
      "state": {
       "_model_module_version": "~2.1.4",
       "_view_module_version": "~2.1.4"
      }
     },
     "6e3b1bccd9fd43f0a39d967c038e2e8c": {
      "model_module": "jupyter-js-widgets",
      "model_module_version": "~2.1.4",
      "model_name": "LayoutModel",
      "state": {
       "_model_module_version": "~2.1.4",
       "_view_module_version": "~2.1.4"
      }
     },
     "6e711a1088714ab59d001ac9734e23e2": {
      "model_module": "jupyter-js-widgets",
      "model_module_version": "~2.1.4",
      "model_name": "ProgressStyleModel",
      "state": {
       "_model_module_version": "~2.1.4",
       "_view_module_version": "~2.1.4"
      }
     },
     "6ea8dee2c423429d874117f2f945ffa8": {
      "model_module": "jupyter-js-widgets",
      "model_module_version": "~2.1.4",
      "model_name": "LayoutModel",
      "state": {
       "_model_module_version": "~2.1.4",
       "_view_module_version": "~2.1.4"
      }
     },
     "6fd7356d57314956aa0e1cf59f7f4e47": {
      "model_module": "jupyter-js-widgets",
      "model_module_version": "~2.1.4",
      "model_name": "LayoutModel",
      "state": {
       "_model_module_version": "~2.1.4",
       "_view_module_version": "~2.1.4"
      }
     },
     "6ff1bb0256924e999389b39318d23d07": {
      "model_module": "jupyter-js-widgets",
      "model_module_version": "~2.1.4",
      "model_name": "HTMLModel",
      "state": {
       "_model_module_version": "~2.1.4",
       "_view_module_version": "~2.1.4",
       "layout": "IPY_MODEL_6df73f31883349de852d7e654cbfd73a",
       "value": "[loss: 0.392, acc: 0.812, val_loss: 0.428, val_acc: 0.795] 100% 363860/363860 [21:21&lt;00:00, 32.90it/s]"
      }
     },
     "704510ac3303409d803045fb181a1fc7": {
      "model_module": "jupyter-js-widgets",
      "model_module_version": "~2.1.4",
      "model_name": "ProgressStyleModel",
      "state": {
       "_model_module_version": "~2.1.4",
       "_view_module_version": "~2.1.4"
      }
     },
     "71134e0b24f54d998da488b3a0332160": {
      "model_module": "jupyter-js-widgets",
      "model_module_version": "~2.1.4",
      "model_name": "ProgressModel",
      "state": {
       "_model_module_version": "~2.1.4",
       "_view_module_version": "~2.1.4",
       "description": "Epoch 2: ",
       "layout": "IPY_MODEL_a942230ee16f4fd8a19ca7eaab47112c",
       "max": 363860,
       "style": "IPY_MODEL_748e16a97a3147cba12426f6fd20d50e",
       "value": 363860
      }
     },
     "71717f781e1c40c294deed144aad83a2": {
      "model_module": "jupyter-js-widgets",
      "model_module_version": "~2.1.4",
      "model_name": "LayoutModel",
      "state": {
       "_model_module_version": "~2.1.4",
       "_view_module_version": "~2.1.4"
      }
     },
     "71ef9aef3d0040ee98033773c312c759": {
      "model_module": "jupyter-js-widgets",
      "model_module_version": "~2.1.4",
      "model_name": "HTMLModel",
      "state": {
       "_model_module_version": "~2.1.4",
       "_view_module_version": "~2.1.4",
       "layout": "IPY_MODEL_553625e3dd474d8097364d49b7c3f27e",
       "value": "[loss: 0.234, acc: 0.899, val_loss: 0.310, val_acc: 0.866] 100% 363861/363861 [20:24&lt;00:00, 34.75it/s]"
      }
     },
     "72487e35066948f88dd99bcff250d74f": {
      "model_module": "jupyter-js-widgets",
      "model_module_version": "~2.1.4",
      "model_name": "LayoutModel",
      "state": {
       "_model_module_version": "~2.1.4",
       "_view_module_version": "~2.1.4"
      }
     },
     "7256fc1baa694d9dade86e2e78a09442": {
      "model_module": "jupyter-js-widgets",
      "model_module_version": "~2.1.4",
      "model_name": "LayoutModel",
      "state": {
       "_model_module_version": "~2.1.4",
       "_view_module_version": "~2.1.4"
      }
     },
     "7266db45729e4ae4a9419ced6f875a30": {
      "model_module": "jupyter-js-widgets",
      "model_module_version": "~2.1.4",
      "model_name": "ProgressStyleModel",
      "state": {
       "_model_module_version": "~2.1.4",
       "_view_module_version": "~2.1.4"
      }
     },
     "729557f759c44f288cdd97eb35a5ead0": {
      "model_module": "jupyter-js-widgets",
      "model_module_version": "~2.1.4",
      "model_name": "ProgressStyleModel",
      "state": {
       "_model_module_version": "~2.1.4",
       "_view_module_version": "~2.1.4"
      }
     },
     "739fa17254814b7baf543193d02461fc": {
      "model_module": "jupyter-js-widgets",
      "model_module_version": "~2.1.4",
      "model_name": "LayoutModel",
      "state": {
       "_model_module_version": "~2.1.4",
       "_view_module_version": "~2.1.4"
      }
     },
     "742837ceca294997ae5998bc2613d1ca": {
      "model_module": "jupyter-js-widgets",
      "model_module_version": "~2.1.4",
      "model_name": "HTMLModel",
      "state": {
       "_model_module_version": "~2.1.4",
       "_view_module_version": "~2.1.4",
       "layout": "IPY_MODEL_584e82e417f24074a078c9776ea833f4",
       "value": "[loss: 0.598, acc: 0.686]  14% 51712/363860 [02:57&lt;16:38, 312.60it/s]"
      }
     },
     "748e16a97a3147cba12426f6fd20d50e": {
      "model_module": "jupyter-js-widgets",
      "model_module_version": "~2.1.4",
      "model_name": "ProgressStyleModel",
      "state": {
       "_model_module_version": "~2.1.4",
       "_view_module_version": "~2.1.4"
      }
     },
     "74a787af713346ef861cf1f0a0833414": {
      "model_module": "jupyter-js-widgets",
      "model_module_version": "~2.1.4",
      "model_name": "LayoutModel",
      "state": {
       "_model_module_version": "~2.1.4",
       "_view_module_version": "~2.1.4"
      }
     },
     "7597df8f381648dab43f4f7197948f14": {
      "model_module": "jupyter-js-widgets",
      "model_module_version": "~2.1.4",
      "model_name": "HBoxModel",
      "state": {
       "_model_module_version": "~2.1.4",
       "_view_module_version": "~2.1.4",
       "children": [
        "IPY_MODEL_277c2543f27e4ecebd3ff5e425ee519e",
        "IPY_MODEL_c1997fcd8b6d4511972608f31cbb5ced"
       ],
       "layout": "IPY_MODEL_6a2d47bcfd224bb593894c9ea3629606"
      }
     },
     "75f0d5d475364191abb1308ded1e8068": {
      "model_module": "jupyter-js-widgets",
      "model_module_version": "~2.1.4",
      "model_name": "HTMLModel",
      "state": {
       "_model_module_version": "~2.1.4",
       "_view_module_version": "~2.1.4",
       "layout": "IPY_MODEL_65f16469182c4f85b79521e1b9fe6aec",
       "value": "[loss: 0.280, acc: 0.876, val_loss: 0.315, val_acc: 0.863] 100% 363861/363861 [20:27&lt;00:00, 34.78it/s]"
      }
     },
     "76a26b1590964e52b1a245c209edb883": {
      "model_module": "jupyter-js-widgets",
      "model_module_version": "~2.1.4",
      "model_name": "ProgressStyleModel",
      "state": {
       "_model_module_version": "~2.1.4",
       "_view_module_version": "~2.1.4"
      }
     },
     "76e638e2a05644258ef01e4f78b0178f": {
      "model_module": "jupyter-js-widgets",
      "model_module_version": "~2.1.4",
      "model_name": "LayoutModel",
      "state": {
       "_model_module_version": "~2.1.4",
       "_view_module_version": "~2.1.4"
      }
     },
     "77226b097507457898e1cbf733105abf": {
      "model_module": "jupyter-js-widgets",
      "model_module_version": "~2.1.4",
      "model_name": "HBoxModel",
      "state": {
       "_model_module_version": "~2.1.4",
       "_view_module_version": "~2.1.4",
       "children": [
        "IPY_MODEL_7e01c5f0907c44a18830b74c139c738b",
        "IPY_MODEL_7aed21b6fa564bf19866f3f84021e5e4"
       ],
       "layout": "IPY_MODEL_4a0231782ea8456d82876215fc2cfa46"
      }
     },
     "7787ba81a65b4fa094fd72bc6650564d": {
      "model_module": "jupyter-js-widgets",
      "model_module_version": "~2.1.4",
      "model_name": "LayoutModel",
      "state": {
       "_model_module_version": "~2.1.4",
       "_view_module_version": "~2.1.4"
      }
     },
     "778e7b4f507241d382e8a1451441b62a": {
      "model_module": "jupyter-js-widgets",
      "model_module_version": "~2.1.4",
      "model_name": "ProgressStyleModel",
      "state": {
       "_model_module_version": "~2.1.4",
       "_view_module_version": "~2.1.4"
      }
     },
     "77d02bfc4add4c0796810c2586eb4714": {
      "model_module": "jupyter-js-widgets",
      "model_module_version": "~2.1.4",
      "model_name": "LayoutModel",
      "state": {
       "_model_module_version": "~2.1.4",
       "_view_module_version": "~2.1.4"
      }
     },
     "77e6aa5f8dea464cbb02b9b1361a05ac": {
      "model_module": "jupyter-js-widgets",
      "model_module_version": "~2.1.4",
      "model_name": "LayoutModel",
      "state": {
       "_model_module_version": "~2.1.4",
       "_view_module_version": "~2.1.4"
      }
     },
     "7802c0a0c64c4d139d411795f8b848a0": {
      "model_module": "jupyter-js-widgets",
      "model_module_version": "~2.1.4",
      "model_name": "ProgressStyleModel",
      "state": {
       "_model_module_version": "~2.1.4",
       "_view_module_version": "~2.1.4"
      }
     },
     "78645c9397644407af2b16b6f1c44a0c": {
      "model_module": "jupyter-js-widgets",
      "model_module_version": "~2.1.4",
      "model_name": "LayoutModel",
      "state": {
       "_model_module_version": "~2.1.4",
       "_view_module_version": "~2.1.4"
      }
     },
     "78fd7210f94245048ad7626d950a2423": {
      "model_module": "jupyter-js-widgets",
      "model_module_version": "~2.1.4",
      "model_name": "ProgressModel",
      "state": {
       "_model_module_version": "~2.1.4",
       "_view_module_version": "~2.1.4",
       "description": "Epoch 2: ",
       "layout": "IPY_MODEL_c559777be758429c8675d2bf1dc7ad88",
       "max": 363860,
       "style": "IPY_MODEL_37d35a85aff547d395ba8e70aaf870d6",
       "value": 363860
      }
     },
     "7931ebdf4a53401ea3edcd3f5b709dd3": {
      "model_module": "jupyter-js-widgets",
      "model_module_version": "~2.1.4",
      "model_name": "LayoutModel",
      "state": {
       "_model_module_version": "~2.1.4",
       "_view_module_version": "~2.1.4"
      }
     },
     "7963b3fa71b743c397cf49f3c0156383": {
      "model_module": "jupyter-js-widgets",
      "model_module_version": "~2.1.4",
      "model_name": "ProgressModel",
      "state": {
       "_model_module_version": "~2.1.4",
       "_view_module_version": "~2.1.4",
       "description": "Epoch 1: ",
       "layout": "IPY_MODEL_1142e0aa58cd4d3085eebdb8c38931a0",
       "max": 363861,
       "style": "IPY_MODEL_a096159fabc1470c855af97667a3b1ad",
       "value": 363861
      }
     },
     "7a79f67c8abb4c068939a81fe6a270d9": {
      "model_module": "jupyter-js-widgets",
      "model_module_version": "~2.1.4",
      "model_name": "HBoxModel",
      "state": {
       "_model_module_version": "~2.1.4",
       "_view_module_version": "~2.1.4",
       "children": [
        "IPY_MODEL_4c16a07f0bb044f39fdba2a39fc71bd3",
        "IPY_MODEL_ed14e9b40c7f44f6b972927287464f2f"
       ],
       "layout": "IPY_MODEL_3b2ce83fe05c41bc9f8c783e23e5e3ce"
      }
     },
     "7aed21b6fa564bf19866f3f84021e5e4": {
      "model_module": "jupyter-js-widgets",
      "model_module_version": "~2.1.4",
      "model_name": "HTMLModel",
      "state": {
       "_model_module_version": "~2.1.4",
       "_view_module_version": "~2.1.4",
       "layout": "IPY_MODEL_14b228552018459596a6ffc44c3825a1",
       "value": " 12% 6/50 [1:57:45&lt;14:23:56, 1178.10s/it]"
      }
     },
     "7af742d7b4924f2bb9bfc4dbc36e78e5": {
      "model_module": "jupyter-js-widgets",
      "model_module_version": "~2.1.4",
      "model_name": "LayoutModel",
      "state": {
       "_model_module_version": "~2.1.4",
       "_view_module_version": "~2.1.4"
      }
     },
     "7af78a6751c54842baafe19067bfe655": {
      "model_module": "jupyter-js-widgets",
      "model_module_version": "~2.1.4",
      "model_name": "LayoutModel",
      "state": {
       "_model_module_version": "~2.1.4",
       "_view_module_version": "~2.1.4"
      }
     },
     "7b36c224e97c4ffbb02846950f382238": {
      "model_module": "jupyter-js-widgets",
      "model_module_version": "~2.1.4",
      "model_name": "ProgressStyleModel",
      "state": {
       "_model_module_version": "~2.1.4",
       "_view_module_version": "~2.1.4"
      }
     },
     "7b9f957b76d947dfb3d791cd658e4965": {
      "model_module": "jupyter-js-widgets",
      "model_module_version": "~2.1.4",
      "model_name": "LayoutModel",
      "state": {
       "_model_module_version": "~2.1.4",
       "_view_module_version": "~2.1.4"
      }
     },
     "7b9fc68fee244b578fbc01498e57cec4": {
      "model_module": "jupyter-js-widgets",
      "model_module_version": "~2.1.4",
      "model_name": "LayoutModel",
      "state": {
       "_model_module_version": "~2.1.4",
       "_view_module_version": "~2.1.4"
      }
     },
     "7bf3af279b1045118204ea9d5d64566d": {
      "model_module": "jupyter-js-widgets",
      "model_module_version": "~2.1.4",
      "model_name": "HBoxModel",
      "state": {
       "_model_module_version": "~2.1.4",
       "_view_module_version": "~2.1.4",
       "children": [
        "IPY_MODEL_0a27c723731b43a7944628322ec9a86a",
        "IPY_MODEL_2fbcbd4757084492a81fd72ce2d847c9"
       ],
       "layout": "IPY_MODEL_87adcdec2f00407db6b0272788ae8b00"
      }
     },
     "7bfc0f1020f943e1ab73eaf81aeb74c5": {
      "model_module": "jupyter-js-widgets",
      "model_module_version": "~2.1.4",
      "model_name": "HTMLModel",
      "state": {
       "_model_module_version": "~2.1.4",
       "_view_module_version": "~2.1.4",
       "layout": "IPY_MODEL_86bf1c1fc03941ad9b1820f8ac821f8d",
       "value": " 10% 5/50 [1:39:51&lt;14:58:41, 1198.26s/it]"
      }
     },
     "7c709777bde44907b32dd75f581244ec": {
      "model_module": "jupyter-js-widgets",
      "model_module_version": "~2.1.4",
      "model_name": "HBoxModel",
      "state": {
       "_model_module_version": "~2.1.4",
       "_view_module_version": "~2.1.4",
       "children": [
        "IPY_MODEL_a0ab6a41999f4bd89548d3a4ad6519e3",
        "IPY_MODEL_b5ab69224aed4e0bb9f236dec1eb885e"
       ],
       "layout": "IPY_MODEL_8e4feacb4a86428ea32d5491ad6f302f"
      }
     },
     "7cc208fd392e4e60b84b921542de9193": {
      "model_module": "jupyter-js-widgets",
      "model_module_version": "~2.1.4",
      "model_name": "HTMLModel",
      "state": {
       "_model_module_version": "~2.1.4",
       "_view_module_version": "~2.1.4",
       "layout": "IPY_MODEL_438d14d78fde418cad0d49204b6ccc0a",
       "value": "  4% 2/50 [39:54&lt;16:05:00, 1206.26s/it]"
      }
     },
     "7ccd6fdd551043e481d5009e06ae0550": {
      "model_module": "jupyter-js-widgets",
      "model_module_version": "~2.1.4",
      "model_name": "HTMLModel",
      "state": {
       "_model_module_version": "~2.1.4",
       "_view_module_version": "~2.1.4",
       "layout": "IPY_MODEL_c8f32e5b92824d968d46181ab71ff582",
       "value": "[loss: 0.364, acc: 0.838, val_loss: 0.655, val_acc: 0.630] 100% 900/900 [00:02&lt;00:00, 310.67it/s]"
      }
     },
     "7d28399bc6c945eda06d8f381e84fae7": {
      "model_module": "jupyter-js-widgets",
      "model_module_version": "~2.1.4",
      "model_name": "LayoutModel",
      "state": {
       "_model_module_version": "~2.1.4",
       "_view_module_version": "~2.1.4"
      }
     },
     "7d41a20f4c7344469789a03914c2a9de": {
      "model_module": "jupyter-js-widgets",
      "model_module_version": "~2.1.4",
      "model_name": "HBoxModel",
      "state": {
       "_model_module_version": "~2.1.4",
       "_view_module_version": "~2.1.4",
       "children": [
        "IPY_MODEL_4493e509b8684e2990a141bf6ee9d7fa",
        "IPY_MODEL_5aaf3168dad94e07950e238d2778e77c"
       ],
       "layout": "IPY_MODEL_09a1a1d47a604614a9179d7b97431424"
      }
     },
     "7d8b34dcaaf84e5dbdeb4733ca7cf2a1": {
      "model_module": "jupyter-js-widgets",
      "model_module_version": "~2.1.4",
      "model_name": "LayoutModel",
      "state": {
       "_model_module_version": "~2.1.4",
       "_view_module_version": "~2.1.4"
      }
     },
     "7df03e5b1afe484baf7b7a728f404c55": {
      "model_module": "jupyter-js-widgets",
      "model_module_version": "~2.1.4",
      "model_name": "LayoutModel",
      "state": {
       "_model_module_version": "~2.1.4",
       "_view_module_version": "~2.1.4"
      }
     },
     "7df8cd3e41304dce90d4f7d123fbb346": {
      "model_module": "jupyter-js-widgets",
      "model_module_version": "~2.1.4",
      "model_name": "ProgressStyleModel",
      "state": {
       "_model_module_version": "~2.1.4",
       "_view_module_version": "~2.1.4"
      }
     },
     "7e016056f4cf43c09b9e5e5b40cea820": {
      "model_module": "jupyter-js-widgets",
      "model_module_version": "~2.1.4",
      "model_name": "ProgressStyleModel",
      "state": {
       "_model_module_version": "~2.1.4",
       "_view_module_version": "~2.1.4"
      }
     },
     "7e01c5f0907c44a18830b74c139c738b": {
      "model_module": "jupyter-js-widgets",
      "model_module_version": "~2.1.4",
      "model_name": "ProgressModel",
      "state": {
       "_model_module_version": "~2.1.4",
       "_view_module_version": "~2.1.4",
       "bar_style": "danger",
       "description": "Training: ",
       "layout": "IPY_MODEL_6137ad56090c4bf68123ff8d3609ffa6",
       "max": 50,
       "style": "IPY_MODEL_f0798596c64b4e79b1f340f2b423ce72",
       "value": 6
      }
     },
     "7e76118bd2744e17a56ef6dfccf3ca2b": {
      "model_module": "jupyter-js-widgets",
      "model_module_version": "~2.1.4",
      "model_name": "ProgressStyleModel",
      "state": {
       "_model_module_version": "~2.1.4",
       "_view_module_version": "~2.1.4"
      }
     },
     "7eaa75e6b8494260903d5be715a6f505": {
      "model_module": "jupyter-js-widgets",
      "model_module_version": "~2.1.4",
      "model_name": "ProgressStyleModel",
      "state": {
       "_model_module_version": "~2.1.4",
       "_view_module_version": "~2.1.4"
      }
     },
     "7ef44c1de9424f4998bfb2484e4682bd": {
      "model_module": "jupyter-js-widgets",
      "model_module_version": "~2.1.4",
      "model_name": "ProgressModel",
      "state": {
       "_model_module_version": "~2.1.4",
       "_view_module_version": "~2.1.4",
       "description": "Epoch 4: ",
       "layout": "IPY_MODEL_77e6aa5f8dea464cbb02b9b1361a05ac",
       "max": 363862,
       "style": "IPY_MODEL_b9bf08cb861b494a9fe9fdf39e2de8c6",
       "value": 363862
      }
     },
     "7f210268b5e44b749424d042f5901c51": {
      "model_module": "jupyter-js-widgets",
      "model_module_version": "~2.1.4",
      "model_name": "LayoutModel",
      "state": {
       "_model_module_version": "~2.1.4",
       "_view_module_version": "~2.1.4"
      }
     },
     "7f82a81c178143d28a7decb5abfc6e36": {
      "model_module": "jupyter-js-widgets",
      "model_module_version": "~2.1.4",
      "model_name": "LayoutModel",
      "state": {
       "_model_module_version": "~2.1.4",
       "_view_module_version": "~2.1.4"
      }
     },
     "804e972083234765b0ca3e67fc12b50c": {
      "model_module": "jupyter-js-widgets",
      "model_module_version": "~2.1.4",
      "model_name": "LayoutModel",
      "state": {
       "_model_module_version": "~2.1.4",
       "_view_module_version": "~2.1.4"
      }
     },
     "806740c0c63a4cb4a6197fc4e0c6c127": {
      "model_module": "jupyter-js-widgets",
      "model_module_version": "~2.1.4",
      "model_name": "HBoxModel",
      "state": {
       "_model_module_version": "~2.1.4",
       "_view_module_version": "~2.1.4",
       "children": [
        "IPY_MODEL_a21b1176556e4458833cf056688b0dd0",
        "IPY_MODEL_fa6aebd68da94f0b89647ff4e6c9460e"
       ],
       "layout": "IPY_MODEL_d64d0fcf0a124a02a980fc8ec52157a4"
      }
     },
     "80d08cde402e41c5895c9e72184ce14e": {
      "model_module": "jupyter-js-widgets",
      "model_module_version": "~2.1.4",
      "model_name": "LayoutModel",
      "state": {
       "_model_module_version": "~2.1.4",
       "_view_module_version": "~2.1.4"
      }
     },
     "80e02fee693a4e4bbd30cc48255ac12a": {
      "model_module": "jupyter-js-widgets",
      "model_module_version": "~2.1.4",
      "model_name": "LayoutModel",
      "state": {
       "_model_module_version": "~2.1.4",
       "_view_module_version": "~2.1.4"
      }
     },
     "8191698a0ee04fae8d10891f6e12eb81": {
      "model_module": "jupyter-js-widgets",
      "model_module_version": "~2.1.4",
      "model_name": "ProgressModel",
      "state": {
       "_model_module_version": "~2.1.4",
       "_view_module_version": "~2.1.4",
       "description": "Epoch 1: ",
       "layout": "IPY_MODEL_68d4d614fff14835bd8c5a9851277e26",
       "max": 363860,
       "style": "IPY_MODEL_5ed328c0f0c94e1d88c76290be687d36",
       "value": 363860
      }
     },
     "81a29d5aa77243b2bc09012d2fda7008": {
      "model_module": "jupyter-js-widgets",
      "model_module_version": "~2.1.4",
      "model_name": "HTMLModel",
      "state": {
       "_model_module_version": "~2.1.4",
       "_view_module_version": "~2.1.4",
       "layout": "IPY_MODEL_26dc23c19ae14467bebd438d5807cdbc",
       "value": "[loss: 0.390, acc: 0.814, val_loss: 0.448, val_acc: 0.784] 100% 363860/363860 [20:49&lt;00:00, 32.74it/s]"
      }
     },
     "81d44cef6abe4b719ccea0451aa355fb": {
      "model_module": "jupyter-js-widgets",
      "model_module_version": "~2.1.4",
      "model_name": "LayoutModel",
      "state": {
       "_model_module_version": "~2.1.4",
       "_view_module_version": "~2.1.4"
      }
     },
     "81e5efe08cb54bbd88a9ba15a0fb9f49": {
      "model_module": "jupyter-js-widgets",
      "model_module_version": "~2.1.4",
      "model_name": "LayoutModel",
      "state": {
       "_model_module_version": "~2.1.4",
       "_view_module_version": "~2.1.4"
      }
     },
     "81f154170d37404086fccde6d1b4fcc6": {
      "model_module": "jupyter-js-widgets",
      "model_module_version": "~2.1.4",
      "model_name": "ProgressStyleModel",
      "state": {
       "_model_module_version": "~2.1.4",
       "_view_module_version": "~2.1.4"
      }
     },
     "822532d17d4b4390a524b8e5ad1950d0": {
      "model_module": "jupyter-js-widgets",
      "model_module_version": "~2.1.4",
      "model_name": "HBoxModel",
      "state": {
       "_model_module_version": "~2.1.4",
       "_view_module_version": "~2.1.4",
       "children": [
        "IPY_MODEL_78fd7210f94245048ad7626d950a2423",
        "IPY_MODEL_1d7afaf6ff674326bc6e3cf587b96c36"
       ],
       "layout": "IPY_MODEL_d14cc254a9484ecf857b7e9d57f9ba85"
      }
     },
     "822d9b7c001d4983abbc5237ca823696": {
      "model_module": "jupyter-js-widgets",
      "model_module_version": "~2.1.4",
      "model_name": "HBoxModel",
      "state": {
       "_model_module_version": "~2.1.4",
       "_view_module_version": "~2.1.4",
       "children": [
        "IPY_MODEL_d11962031d5846da92f006c63275bada",
        "IPY_MODEL_427daee5532d460ca2e733d47ca098ff"
       ],
       "layout": "IPY_MODEL_a7cd4fc9e90d42369cca3d7194b31e47"
      }
     },
     "823b7d60c2d245ac857f9a9cd9c02740": {
      "model_module": "jupyter-js-widgets",
      "model_module_version": "~2.1.4",
      "model_name": "LayoutModel",
      "state": {
       "_model_module_version": "~2.1.4",
       "_view_module_version": "~2.1.4"
      }
     },
     "8247e94236314808aa73544417c910cc": {
      "model_module": "jupyter-js-widgets",
      "model_module_version": "~2.1.4",
      "model_name": "LayoutModel",
      "state": {
       "_model_module_version": "~2.1.4",
       "_view_module_version": "~2.1.4"
      }
     },
     "8248cd6bac6a4a60b69cf835533544fa": {
      "model_module": "jupyter-js-widgets",
      "model_module_version": "~2.1.4",
      "model_name": "ProgressStyleModel",
      "state": {
       "_model_module_version": "~2.1.4",
       "_view_module_version": "~2.1.4"
      }
     },
     "824c3e9ab3084d2b8bc184a7844b2914": {
      "model_module": "jupyter-js-widgets",
      "model_module_version": "~2.1.4",
      "model_name": "HTMLModel",
      "state": {
       "_model_module_version": "~2.1.4",
       "_view_module_version": "~2.1.4",
       "layout": "IPY_MODEL_aea7e88672bd4f89b4e974de9949bb6c",
       "value": "[loss: 0.645, acc: 0.679, val_loss: 0.685, val_acc: 0.620] 100% 900/900 [00:02&lt;00:00, 340.45it/s]"
      }
     },
     "827e6ca16e4d4236afff5ebeb0773bab": {
      "model_module": "jupyter-js-widgets",
      "model_module_version": "~2.1.4",
      "model_name": "LayoutModel",
      "state": {
       "_model_module_version": "~2.1.4",
       "_view_module_version": "~2.1.4"
      }
     },
     "830bfa5bd81545a296cc870297f64d40": {
      "model_module": "jupyter-js-widgets",
      "model_module_version": "~2.1.4",
      "model_name": "HBoxModel",
      "state": {
       "_model_module_version": "~2.1.4",
       "_view_module_version": "~2.1.4",
       "children": [
        "IPY_MODEL_87b06b4a57314943a4b7c2313040978e",
        "IPY_MODEL_f80f87d0b01441e28b3ace7e4af12092"
       ],
       "layout": "IPY_MODEL_a7c376f26e0144889e4fc73d824d4fc2"
      }
     },
     "8311c07cd1c34b6b8edbff34ad542ba3": {
      "model_module": "jupyter-js-widgets",
      "model_module_version": "~2.1.4",
      "model_name": "LayoutModel",
      "state": {
       "_model_module_version": "~2.1.4",
       "_view_module_version": "~2.1.4"
      }
     },
     "8325af9618dd4accbbd4542a9c3ab3e6": {
      "model_module": "jupyter-js-widgets",
      "model_module_version": "~2.1.4",
      "model_name": "LayoutModel",
      "state": {
       "_model_module_version": "~2.1.4",
       "_view_module_version": "~2.1.4"
      }
     },
     "83ccb0cf02ea4e3f845516021ec91f16": {
      "model_module": "jupyter-js-widgets",
      "model_module_version": "~2.1.4",
      "model_name": "HBoxModel",
      "state": {
       "_model_module_version": "~2.1.4",
       "_view_module_version": "~2.1.4",
       "children": [
        "IPY_MODEL_300eb8b609b146c4a981daae220af606",
        "IPY_MODEL_dfeba3c717574ca1ae0803db5a2a7f72"
       ],
       "layout": "IPY_MODEL_adc00371845c4a6c896b6136d1b9d411"
      }
     },
     "8425a98621ef440d9e3912b9ec51adf0": {
      "model_module": "jupyter-js-widgets",
      "model_module_version": "~2.1.4",
      "model_name": "ProgressStyleModel",
      "state": {
       "_model_module_version": "~2.1.4",
       "_view_module_version": "~2.1.4"
      }
     },
     "84ca36a70f9342b58e6bac38be23af84": {
      "model_module": "jupyter-js-widgets",
      "model_module_version": "~2.1.4",
      "model_name": "ProgressModel",
      "state": {
       "_model_module_version": "~2.1.4",
       "_view_module_version": "~2.1.4",
       "description": "Epoch 5: ",
       "layout": "IPY_MODEL_059fce2162874a52895dafd29f73e256",
       "max": 363860,
       "style": "IPY_MODEL_7266db45729e4ae4a9419ced6f875a30",
       "value": 363860
      }
     },
     "84f441635dc84a848f907af5070a816b": {
      "model_module": "jupyter-js-widgets",
      "model_module_version": "~2.1.4",
      "model_name": "LayoutModel",
      "state": {
       "_model_module_version": "~2.1.4",
       "_view_module_version": "~2.1.4"
      }
     },
     "8517006c0c1c4f2da6420591f5ae4910": {
      "model_module": "jupyter-js-widgets",
      "model_module_version": "~2.1.4",
      "model_name": "ProgressStyleModel",
      "state": {
       "_model_module_version": "~2.1.4",
       "_view_module_version": "~2.1.4"
      }
     },
     "865f5d84493b45e2ad9d50fee94bb145": {
      "model_module": "jupyter-js-widgets",
      "model_module_version": "~2.1.4",
      "model_name": "LayoutModel",
      "state": {
       "_model_module_version": "~2.1.4",
       "_view_module_version": "~2.1.4"
      }
     },
     "86bf1c1fc03941ad9b1820f8ac821f8d": {
      "model_module": "jupyter-js-widgets",
      "model_module_version": "~2.1.4",
      "model_name": "LayoutModel",
      "state": {
       "_model_module_version": "~2.1.4",
       "_view_module_version": "~2.1.4"
      }
     },
     "87a4278c83aa43ce8373ea04e637a019": {
      "model_module": "jupyter-js-widgets",
      "model_module_version": "~2.1.4",
      "model_name": "ProgressStyleModel",
      "state": {
       "_model_module_version": "~2.1.4",
       "_view_module_version": "~2.1.4"
      }
     },
     "87adcdec2f00407db6b0272788ae8b00": {
      "model_module": "jupyter-js-widgets",
      "model_module_version": "~2.1.4",
      "model_name": "LayoutModel",
      "state": {
       "_model_module_version": "~2.1.4",
       "_view_module_version": "~2.1.4"
      }
     },
     "87b06b4a57314943a4b7c2313040978e": {
      "model_module": "jupyter-js-widgets",
      "model_module_version": "~2.1.4",
      "model_name": "ProgressModel",
      "state": {
       "_model_module_version": "~2.1.4",
       "_view_module_version": "~2.1.4",
       "bar_style": "danger",
       "description": "Training: ",
       "layout": "IPY_MODEL_adfde7e972cb401cabe4ead697e9b99e",
       "max": 50,
       "style": "IPY_MODEL_d31e38ed60434da8a61342937921fd99",
       "value": 5
      }
     },
     "87cf9719d5594976bdb8cc6193276252": {
      "model_module": "jupyter-js-widgets",
      "model_module_version": "~2.1.4",
      "model_name": "ProgressModel",
      "state": {
       "_model_module_version": "~2.1.4",
       "_view_module_version": "~2.1.4",
       "description": "Epoch 4: ",
       "layout": "IPY_MODEL_11afa7c7bc6c4918b1fe13c51a146fe7",
       "max": 363860,
       "style": "IPY_MODEL_399ae56fe02b4869b3fc815b83f8bf17",
       "value": 363860
      }
     },
     "881cda461c0b4c34815b194fc8168b51": {
      "model_module": "jupyter-js-widgets",
      "model_module_version": "~2.1.4",
      "model_name": "LayoutModel",
      "state": {
       "_model_module_version": "~2.1.4",
       "_view_module_version": "~2.1.4"
      }
     },
     "8829cd0296664b36a75aad807ad46f9d": {
      "model_module": "jupyter-js-widgets",
      "model_module_version": "~2.1.4",
      "model_name": "LayoutModel",
      "state": {
       "_model_module_version": "~2.1.4",
       "_view_module_version": "~2.1.4"
      }
     },
     "8860eb09e1564aeebcf3f95ac5a0d520": {
      "model_module": "jupyter-js-widgets",
      "model_module_version": "~2.1.4",
      "model_name": "LayoutModel",
      "state": {
       "_model_module_version": "~2.1.4",
       "_view_module_version": "~2.1.4"
      }
     },
     "88b960c40b52426190413a42620d80a7": {
      "model_module": "jupyter-js-widgets",
      "model_module_version": "~2.1.4",
      "model_name": "ProgressStyleModel",
      "state": {
       "_model_module_version": "~2.1.4",
       "_view_module_version": "~2.1.4"
      }
     },
     "897ad0b00d33407fbb1d0e37dceb26c2": {
      "model_module": "jupyter-js-widgets",
      "model_module_version": "~2.1.4",
      "model_name": "HBoxModel",
      "state": {
       "_model_module_version": "~2.1.4",
       "_view_module_version": "~2.1.4",
       "children": [
        "IPY_MODEL_305578d59a8c4a2ab5adc1d40d4becd4",
        "IPY_MODEL_9a3812d48168430881f5ee14fc09623d"
       ],
       "layout": "IPY_MODEL_e4f5ff9ad6034ca38fff2b03489a1095"
      }
     },
     "899f63251946426ebbed4811b92bb9f3": {
      "model_module": "jupyter-js-widgets",
      "model_module_version": "~2.1.4",
      "model_name": "HTMLModel",
      "state": {
       "_model_module_version": "~2.1.4",
       "_view_module_version": "~2.1.4",
       "layout": "IPY_MODEL_8f13664efab74912820e26a501fb9896",
       "value": "[loss: 0.477, acc: 0.761, val_loss: 0.465, val_acc: 0.772] 100% 363860/363860 [20:57&lt;00:00, 32.47it/s]"
      }
     },
     "8a66452dbd02456cba5e64ce0ad55737": {
      "model_module": "jupyter-js-widgets",
      "model_module_version": "~2.1.4",
      "model_name": "LayoutModel",
      "state": {
       "_model_module_version": "~2.1.4",
       "_view_module_version": "~2.1.4"
      }
     },
     "8ae62beaa4394588b51ccb7ae957f98b": {
      "model_module": "jupyter-js-widgets",
      "model_module_version": "~2.1.4",
      "model_name": "LayoutModel",
      "state": {
       "_model_module_version": "~2.1.4",
       "_view_module_version": "~2.1.4"
      }
     },
     "8b4038a898524493baeac333710456a4": {
      "model_module": "jupyter-js-widgets",
      "model_module_version": "~2.1.4",
      "model_name": "LayoutModel",
      "state": {
       "_model_module_version": "~2.1.4",
       "_view_module_version": "~2.1.4"
      }
     },
     "8b4fa8cb26314d7ebaf5014c4e5c2087": {
      "model_module": "jupyter-js-widgets",
      "model_module_version": "~2.1.4",
      "model_name": "ProgressStyleModel",
      "state": {
       "_model_module_version": "~2.1.4",
       "_view_module_version": "~2.1.4"
      }
     },
     "8b63f15a4e5f450e87d1df2ea4a1fa19": {
      "model_module": "jupyter-js-widgets",
      "model_module_version": "~2.1.4",
      "model_name": "LayoutModel",
      "state": {
       "_model_module_version": "~2.1.4",
       "_view_module_version": "~2.1.4"
      }
     },
     "8b6d10ee2c9742ed93c01d4bc931fa70": {
      "model_module": "jupyter-js-widgets",
      "model_module_version": "~2.1.4",
      "model_name": "LayoutModel",
      "state": {
       "_model_module_version": "~2.1.4",
       "_view_module_version": "~2.1.4"
      }
     },
     "8b8221d54a0f4b8f849236ed51429e6e": {
      "model_module": "jupyter-js-widgets",
      "model_module_version": "~2.1.4",
      "model_name": "ProgressStyleModel",
      "state": {
       "_model_module_version": "~2.1.4",
       "_view_module_version": "~2.1.4"
      }
     },
     "8c4c25394ee04d6d8f09defd77055f3b": {
      "model_module": "jupyter-js-widgets",
      "model_module_version": "~2.1.4",
      "model_name": "HTMLModel",
      "state": {
       "_model_module_version": "~2.1.4",
       "_view_module_version": "~2.1.4",
       "layout": "IPY_MODEL_07e8a32caeac44339b7a1569542c27b6",
       "value": "[loss: 0.335, acc: 0.866, val_loss: 0.649, val_acc: 0.620] 100% 900/900 [00:02&lt;00:00, 307.70it/s]"
      }
     },
     "8ca29215960c4ebca3214d7fb511cc4e": {
      "model_module": "jupyter-js-widgets",
      "model_module_version": "~2.1.4",
      "model_name": "ProgressModel",
      "state": {
       "_model_module_version": "~2.1.4",
       "_view_module_version": "~2.1.4",
       "description": "Epoch 0: ",
       "layout": "IPY_MODEL_4cd4bf9b804a47569f33cf61144f3dad",
       "max": 363860,
       "style": "IPY_MODEL_9f77f975b3024f3f8cfa1fa1a7feac80",
       "value": 363860
      }
     },
     "8ca61906f3f2484d8b23c2996cdf5708": {
      "model_module": "jupyter-js-widgets",
      "model_module_version": "~2.1.4",
      "model_name": "HBoxModel",
      "state": {
       "_model_module_version": "~2.1.4",
       "_view_module_version": "~2.1.4",
       "children": [
        "IPY_MODEL_fd44f106e4394e3bb47b4c40db5da4ab",
        "IPY_MODEL_dc534155adde41949431a45453656871"
       ],
       "layout": "IPY_MODEL_48a67a49196f451ab293fbc8df5109a4"
      }
     },
     "8d7ddfd1dd844e9e8752dfb070a83699": {
      "model_module": "jupyter-js-widgets",
      "model_module_version": "~2.1.4",
      "model_name": "LayoutModel",
      "state": {
       "_model_module_version": "~2.1.4",
       "_view_module_version": "~2.1.4"
      }
     },
     "8d99b8e296404fb99971444387cfb9ea": {
      "model_module": "jupyter-js-widgets",
      "model_module_version": "~2.1.4",
      "model_name": "ProgressStyleModel",
      "state": {
       "_model_module_version": "~2.1.4",
       "_view_module_version": "~2.1.4"
      }
     },
     "8db9a8dcb1964faa9259cbd7bd1ab8f8": {
      "model_module": "jupyter-js-widgets",
      "model_module_version": "~2.1.4",
      "model_name": "LayoutModel",
      "state": {
       "_model_module_version": "~2.1.4",
       "_view_module_version": "~2.1.4"
      }
     },
     "8df9b10e0b1b4b8990deee48b73fcc9f": {
      "model_module": "jupyter-js-widgets",
      "model_module_version": "~2.1.4",
      "model_name": "ProgressStyleModel",
      "state": {
       "_model_module_version": "~2.1.4",
       "_view_module_version": "~2.1.4"
      }
     },
     "8e2f29334526417c8684bb91d359a4d3": {
      "model_module": "jupyter-js-widgets",
      "model_module_version": "~2.1.4",
      "model_name": "LayoutModel",
      "state": {
       "_model_module_version": "~2.1.4",
       "_view_module_version": "~2.1.4"
      }
     },
     "8e4feacb4a86428ea32d5491ad6f302f": {
      "model_module": "jupyter-js-widgets",
      "model_module_version": "~2.1.4",
      "model_name": "LayoutModel",
      "state": {
       "_model_module_version": "~2.1.4",
       "_view_module_version": "~2.1.4"
      }
     },
     "8e53db0b01d04baea60781683a44ad24": {
      "model_module": "jupyter-js-widgets",
      "model_module_version": "~2.1.4",
      "model_name": "LayoutModel",
      "state": {
       "_model_module_version": "~2.1.4",
       "_view_module_version": "~2.1.4"
      }
     },
     "8e5c296e049d4f5c97641387393be71f": {
      "model_module": "jupyter-js-widgets",
      "model_module_version": "~2.1.4",
      "model_name": "LayoutModel",
      "state": {
       "_model_module_version": "~2.1.4",
       "_view_module_version": "~2.1.4"
      }
     },
     "8e9e9d89555342a688c4389da40725ec": {
      "model_module": "jupyter-js-widgets",
      "model_module_version": "~2.1.4",
      "model_name": "ProgressStyleModel",
      "state": {
       "_model_module_version": "~2.1.4",
       "_view_module_version": "~2.1.4"
      }
     },
     "8eca121e9c41479583feecfa072d70b5": {
      "model_module": "jupyter-js-widgets",
      "model_module_version": "~2.1.4",
      "model_name": "ProgressModel",
      "state": {
       "_model_module_version": "~2.1.4",
       "_view_module_version": "~2.1.4",
       "description": "Epoch 3: ",
       "layout": "IPY_MODEL_74a787af713346ef861cf1f0a0833414",
       "max": 363861,
       "style": "IPY_MODEL_9af5830fe974498ea39534c95900daab",
       "value": 363861
      }
     },
     "8f13664efab74912820e26a501fb9896": {
      "model_module": "jupyter-js-widgets",
      "model_module_version": "~2.1.4",
      "model_name": "LayoutModel",
      "state": {
       "_model_module_version": "~2.1.4",
       "_view_module_version": "~2.1.4"
      }
     },
     "8f2669d1bc304faaa9c05d05cc27cdb7": {
      "model_module": "jupyter-js-widgets",
      "model_module_version": "~2.1.4",
      "model_name": "HTMLModel",
      "state": {
       "_model_module_version": "~2.1.4",
       "_view_module_version": "~2.1.4",
       "layout": "IPY_MODEL_b34a2984e824412ea319dd85f912896c",
       "value": "[loss: 0.190, acc: 0.920, val_loss: 0.323, val_acc: 0.864] 100% 363861/363861 [19:56&lt;00:00, 34.81it/s]"
      }
     },
     "8ff4b25bf9f94ab7a654bb48f94b728d": {
      "model_module": "jupyter-js-widgets",
      "model_module_version": "~2.1.4",
      "model_name": "HBoxModel",
      "state": {
       "_model_module_version": "~2.1.4",
       "_view_module_version": "~2.1.4",
       "children": [
        "IPY_MODEL_6de6d81e216f45569f7e67d3872c497c",
        "IPY_MODEL_2fcebd18f8a04ebe974bbcf161ad1105"
       ],
       "layout": "IPY_MODEL_630c296e822e46d6bff3d401f73b5d8b"
      }
     },
     "900c941756d74032844ddd8e6b8ec4a5": {
      "model_module": "jupyter-js-widgets",
      "model_module_version": "~2.1.4",
      "model_name": "HBoxModel",
      "state": {
       "_model_module_version": "~2.1.4",
       "_view_module_version": "~2.1.4",
       "children": [
        "IPY_MODEL_f343e34f180b4cb3a4fd20ed1600cce4",
        "IPY_MODEL_2cc777172da64633b03123d0fb554f0c"
       ],
       "layout": "IPY_MODEL_2c47daa09fd0460cba53e4e73ec09c1d"
      }
     },
     "905f1038a8c24c4c8bf526665c0c687e": {
      "model_module": "jupyter-js-widgets",
      "model_module_version": "~2.1.4",
      "model_name": "LayoutModel",
      "state": {
       "_model_module_version": "~2.1.4",
       "_view_module_version": "~2.1.4"
      }
     },
     "90f1d00e81064ed5b8344239a3242933": {
      "model_module": "jupyter-js-widgets",
      "model_module_version": "~2.1.4",
      "model_name": "ProgressStyleModel",
      "state": {
       "_model_module_version": "~2.1.4",
       "_view_module_version": "~2.1.4"
      }
     },
     "9163f76f00e94b7283b3138a2a211280": {
      "model_module": "jupyter-js-widgets",
      "model_module_version": "~2.1.4",
      "model_name": "LayoutModel",
      "state": {
       "_model_module_version": "~2.1.4",
       "_view_module_version": "~2.1.4"
      }
     },
     "926c0ef1c2f4496fa77c4be6dbef6650": {
      "model_module": "jupyter-js-widgets",
      "model_module_version": "~2.1.4",
      "model_name": "LayoutModel",
      "state": {
       "_model_module_version": "~2.1.4",
       "_view_module_version": "~2.1.4"
      }
     },
     "926db7e09d60403b86d554ba7f62431e": {
      "model_module": "jupyter-js-widgets",
      "model_module_version": "~2.1.4",
      "model_name": "LayoutModel",
      "state": {
       "_model_module_version": "~2.1.4",
       "_view_module_version": "~2.1.4"
      }
     },
     "92a081e3fdee4cbeaaed5b65be7c5fa5": {
      "model_module": "jupyter-js-widgets",
      "model_module_version": "~2.1.4",
      "model_name": "ProgressStyleModel",
      "state": {
       "_model_module_version": "~2.1.4",
       "_view_module_version": "~2.1.4"
      }
     },
     "9363a833f43a485cb66a281e10be272f": {
      "model_module": "jupyter-js-widgets",
      "model_module_version": "~2.1.4",
      "model_name": "LayoutModel",
      "state": {
       "_model_module_version": "~2.1.4",
       "_view_module_version": "~2.1.4"
      }
     },
     "937052b7b6f8472d977699413525f418": {
      "model_module": "jupyter-js-widgets",
      "model_module_version": "~2.1.4",
      "model_name": "HBoxModel",
      "state": {
       "_model_module_version": "~2.1.4",
       "_view_module_version": "~2.1.4",
       "children": [
        "IPY_MODEL_b3a4d902ac324434ab5da2d782195301",
        "IPY_MODEL_43f4c4b769824d77a592af2e574c1840"
       ],
       "layout": "IPY_MODEL_47a645ba4d97405b908c9e67f774cbdc"
      }
     },
     "93aefc1e49b34f1393e713a7facd1715": {
      "model_module": "jupyter-js-widgets",
      "model_module_version": "~2.1.4",
      "model_name": "ProgressModel",
      "state": {
       "_model_module_version": "~2.1.4",
       "_view_module_version": "~2.1.4",
       "description": "Epoch 2: ",
       "layout": "IPY_MODEL_e6eb974a214c4ec28b3297df706823b2",
       "max": 363860,
       "style": "IPY_MODEL_a555bae87fd240fea1dada592e015ce3",
       "value": 363860
      }
     },
     "93d5df50f95641dcada1e6155eef1d2f": {
      "model_module": "jupyter-js-widgets",
      "model_module_version": "~2.1.4",
      "model_name": "HTMLModel",
      "state": {
       "_model_module_version": "~2.1.4",
       "_view_module_version": "~2.1.4",
       "layout": "IPY_MODEL_e83000846840482e88b0947116c87507",
       "value": "[loss: 0.333, acc: 0.848, val_loss: 0.340, val_acc: 0.845] 100% 363861/363861 [19:55&lt;00:00, 34.75it/s]"
      }
     },
     "9429247338bf45219811aa6f76cafa29": {
      "model_module": "jupyter-js-widgets",
      "model_module_version": "~2.1.4",
      "model_name": "ProgressStyleModel",
      "state": {
       "_model_module_version": "~2.1.4",
       "_view_module_version": "~2.1.4"
      }
     },
     "94e03d9d77874eb99cb4bcf3b4d5aa0a": {
      "model_module": "jupyter-js-widgets",
      "model_module_version": "~2.1.4",
      "model_name": "LayoutModel",
      "state": {
       "_model_module_version": "~2.1.4",
       "_view_module_version": "~2.1.4"
      }
     },
     "952c3b60e0ed4876b6eda546c25d144a": {
      "model_module": "jupyter-js-widgets",
      "model_module_version": "~2.1.4",
      "model_name": "LayoutModel",
      "state": {
       "_model_module_version": "~2.1.4",
       "_view_module_version": "~2.1.4"
      }
     },
     "957d70a6c3044d59b9ec8a8978c95b2a": {
      "model_module": "jupyter-js-widgets",
      "model_module_version": "~2.1.4",
      "model_name": "ProgressModel",
      "state": {
       "_model_module_version": "~2.1.4",
       "_view_module_version": "~2.1.4",
       "description": "Training: ",
       "layout": "IPY_MODEL_0ba3338d3f5247e18ddad174b5ed17e1",
       "max": 50,
       "style": "IPY_MODEL_92a081e3fdee4cbeaaed5b65be7c5fa5",
       "value": 2
      }
     },
     "958b68e70f194b5680c59a051319ad82": {
      "model_module": "jupyter-js-widgets",
      "model_module_version": "~2.1.4",
      "model_name": "HBoxModel",
      "state": {
       "_model_module_version": "~2.1.4",
       "_view_module_version": "~2.1.4",
       "children": [
        "IPY_MODEL_1d9199d8dd8b431fbf79c15f62936cdd",
        "IPY_MODEL_4427028f85304d56875d8e7569952319"
       ],
       "layout": "IPY_MODEL_e38eaaab1f764ae7a52b2916aa1c5d35"
      }
     },
     "95c901e42d364261aca2bdc0dc93cf51": {
      "model_module": "jupyter-js-widgets",
      "model_module_version": "~2.1.4",
      "model_name": "LayoutModel",
      "state": {
       "_model_module_version": "~2.1.4",
       "_view_module_version": "~2.1.4"
      }
     },
     "96012a757c564c12b9df0b45fd9989f2": {
      "model_module": "jupyter-js-widgets",
      "model_module_version": "~2.1.4",
      "model_name": "ProgressStyleModel",
      "state": {
       "_model_module_version": "~2.1.4",
       "_view_module_version": "~2.1.4"
      }
     },
     "967baa0a29ec4f64b52adf5b5951c247": {
      "model_module": "jupyter-js-widgets",
      "model_module_version": "~2.1.4",
      "model_name": "ProgressStyleModel",
      "state": {
       "_model_module_version": "~2.1.4",
       "_view_module_version": "~2.1.4"
      }
     },
     "98286c9fe1914a618ca3782aa35e25b2": {
      "model_module": "jupyter-js-widgets",
      "model_module_version": "~2.1.4",
      "model_name": "LayoutModel",
      "state": {
       "_model_module_version": "~2.1.4",
       "_view_module_version": "~2.1.4"
      }
     },
     "98b13f373bee462a8901cc577998d39e": {
      "model_module": "jupyter-js-widgets",
      "model_module_version": "~2.1.4",
      "model_name": "HTMLModel",
      "state": {
       "_model_module_version": "~2.1.4",
       "_view_module_version": "~2.1.4",
       "layout": "IPY_MODEL_b2abb1f0c82c453aae779d8b2d907a2c",
       "value": " 12% 6/50 [2:00:44&lt;14:44:05, 1205.58s/it]"
      }
     },
     "992d01dc1d6145569794eab6735b7b07": {
      "model_module": "jupyter-js-widgets",
      "model_module_version": "~2.1.4",
      "model_name": "LayoutModel",
      "state": {
       "_model_module_version": "~2.1.4",
       "_view_module_version": "~2.1.4"
      }
     },
     "995a6fa008834056bc9d1826500f760c": {
      "model_module": "jupyter-js-widgets",
      "model_module_version": "~2.1.4",
      "model_name": "HTMLModel",
      "state": {
       "_model_module_version": "~2.1.4",
       "_view_module_version": "~2.1.4",
       "layout": "IPY_MODEL_c4d538a8d4fd490c98d805499defef21",
       "value": "[loss: 0.280, acc: 0.876, val_loss: 0.318, val_acc: 0.861] 100% 363862/363862 [20:17&lt;00:00, 34.71it/s]"
      }
     },
     "995ad610a13d4cf3a7ac7f46a36593af": {
      "model_module": "jupyter-js-widgets",
      "model_module_version": "~2.1.4",
      "model_name": "LayoutModel",
      "state": {
       "_model_module_version": "~2.1.4",
       "_view_module_version": "~2.1.4"
      }
     },
     "995d9a991e6b4c7f86b01dd895c1c7b0": {
      "model_module": "jupyter-js-widgets",
      "model_module_version": "~2.1.4",
      "model_name": "LayoutModel",
      "state": {
       "_model_module_version": "~2.1.4",
       "_view_module_version": "~2.1.4"
      }
     },
     "995f79ecc37343fb9b5782681e77dce4": {
      "model_module": "jupyter-js-widgets",
      "model_module_version": "~2.1.4",
      "model_name": "LayoutModel",
      "state": {
       "_model_module_version": "~2.1.4",
       "_view_module_version": "~2.1.4"
      }
     },
     "9988e1910bc6491a96390b8c2d3a1eaf": {
      "model_module": "jupyter-js-widgets",
      "model_module_version": "~2.1.4",
      "model_name": "ProgressStyleModel",
      "state": {
       "_model_module_version": "~2.1.4",
       "_view_module_version": "~2.1.4"
      }
     },
     "9a3812d48168430881f5ee14fc09623d": {
      "model_module": "jupyter-js-widgets",
      "model_module_version": "~2.1.4",
      "model_name": "HTMLModel",
      "state": {
       "_model_module_version": "~2.1.4",
       "_view_module_version": "~2.1.4",
       "layout": "IPY_MODEL_c0515693064840068da18f9fdaee9cc3",
       "value": "[loss: 0.333, acc: 0.847, val_loss: 0.345, val_acc: 0.842] 100% 363860/363860 [18:47&lt;00:00, 34.61it/s]"
      }
     },
     "9a5165daeac64d349101eecddc6c1f6c": {
      "model_module": "jupyter-js-widgets",
      "model_module_version": "~2.1.4",
      "model_name": "LayoutModel",
      "state": {
       "_model_module_version": "~2.1.4",
       "_view_module_version": "~2.1.4"
      }
     },
     "9a8d36c6b58a47bfb5cd13f69d1d4c27": {
      "model_module": "jupyter-js-widgets",
      "model_module_version": "~2.1.4",
      "model_name": "LayoutModel",
      "state": {
       "_model_module_version": "~2.1.4",
       "_view_module_version": "~2.1.4"
      }
     },
     "9af5830fe974498ea39534c95900daab": {
      "model_module": "jupyter-js-widgets",
      "model_module_version": "~2.1.4",
      "model_name": "ProgressStyleModel",
      "state": {
       "_model_module_version": "~2.1.4",
       "_view_module_version": "~2.1.4"
      }
     },
     "9b78e8514afe4dc2b115316e9fd60985": {
      "model_module": "jupyter-js-widgets",
      "model_module_version": "~2.1.4",
      "model_name": "ProgressModel",
      "state": {
       "_model_module_version": "~2.1.4",
       "_view_module_version": "~2.1.4",
       "description": "Epoch 4: ",
       "layout": "IPY_MODEL_2ec392f297d543b0a5ad91722e600699",
       "max": 900,
       "style": "IPY_MODEL_663155fcbc0840d49a23939eedc1bcfb",
       "value": 900
      }
     },
     "9d22a18034a44c708c526bd3a12db628": {
      "model_module": "jupyter-js-widgets",
      "model_module_version": "~2.1.4",
      "model_name": "HTMLModel",
      "state": {
       "_model_module_version": "~2.1.4",
       "_view_module_version": "~2.1.4",
       "layout": "IPY_MODEL_e4b3c3134cbf436f8267d8398fbd7c21",
       "value": "[loss: 0.427, acc: 0.793, val_loss: 0.385, val_acc: 0.816] 100% 363861/363861 [20:01&lt;00:00, 34.56it/s]"
      }
     },
     "9d7e39521cf24b88a60530299e201725": {
      "model_module": "jupyter-js-widgets",
      "model_module_version": "~2.1.4",
      "model_name": "HBoxModel",
      "state": {
       "_model_module_version": "~2.1.4",
       "_view_module_version": "~2.1.4",
       "children": [
        "IPY_MODEL_ff2d19b9595c4b2f95fb48b04299aa98",
        "IPY_MODEL_d58b4f24f9c3455482687ed22e470973"
       ],
       "layout": "IPY_MODEL_62b6e686f98e47a29d953728ed22b4fa"
      }
     },
     "9d94726f1c9e4502b7a7acd82ff16f96": {
      "model_module": "jupyter-js-widgets",
      "model_module_version": "~2.1.4",
      "model_name": "LayoutModel",
      "state": {
       "_model_module_version": "~2.1.4",
       "_view_module_version": "~2.1.4"
      }
     },
     "9dec653cc6e1429a93c445494961c98c": {
      "model_module": "jupyter-js-widgets",
      "model_module_version": "~2.1.4",
      "model_name": "LayoutModel",
      "state": {
       "_model_module_version": "~2.1.4",
       "_view_module_version": "~2.1.4"
      }
     },
     "9e3a49fbc47f47cdb11c74936c3532c2": {
      "model_module": "jupyter-js-widgets",
      "model_module_version": "~2.1.4",
      "model_name": "LayoutModel",
      "state": {
       "_model_module_version": "~2.1.4",
       "_view_module_version": "~2.1.4"
      }
     },
     "9e41d218b92d49e0a35f9735c8d19357": {
      "model_module": "jupyter-js-widgets",
      "model_module_version": "~2.1.4",
      "model_name": "ProgressModel",
      "state": {
       "_model_module_version": "~2.1.4",
       "_view_module_version": "~2.1.4",
       "description": "Epoch 3: ",
       "layout": "IPY_MODEL_b6e803570d2a4d4dac41d7d714031b95",
       "max": 363860,
       "style": "IPY_MODEL_8d99b8e296404fb99971444387cfb9ea",
       "value": 363860
      }
     },
     "9f77f975b3024f3f8cfa1fa1a7feac80": {
      "model_module": "jupyter-js-widgets",
      "model_module_version": "~2.1.4",
      "model_name": "ProgressStyleModel",
      "state": {
       "_model_module_version": "~2.1.4",
       "_view_module_version": "~2.1.4"
      }
     },
     "9f9db70cabea4cbca83e653d342d3f85": {
      "model_module": "jupyter-js-widgets",
      "model_module_version": "~2.1.4",
      "model_name": "LayoutModel",
      "state": {
       "_model_module_version": "~2.1.4",
       "_view_module_version": "~2.1.4"
      }
     },
     "9fb3bc6cce9d4f709d68e66868dbaa4f": {
      "model_module": "jupyter-js-widgets",
      "model_module_version": "~2.1.4",
      "model_name": "ProgressStyleModel",
      "state": {
       "_model_module_version": "~2.1.4",
       "_view_module_version": "~2.1.4"
      }
     },
     "9fe82fdca5064324bdd65c72c7ae31e4": {
      "model_module": "jupyter-js-widgets",
      "model_module_version": "~2.1.4",
      "model_name": "HBoxModel",
      "state": {
       "_model_module_version": "~2.1.4",
       "_view_module_version": "~2.1.4",
       "children": [
        "IPY_MODEL_b9aca0206c624561aad4a2bfd197bfdf",
        "IPY_MODEL_6dad3f9c1acd41b6b42cf5fab15e7c5f"
       ],
       "layout": "IPY_MODEL_7f210268b5e44b749424d042f5901c51"
      }
     },
     "9ffc862d3c89425190766b49b7beb824": {
      "model_module": "jupyter-js-widgets",
      "model_module_version": "~2.1.4",
      "model_name": "LayoutModel",
      "state": {
       "_model_module_version": "~2.1.4",
       "_view_module_version": "~2.1.4"
      }
     },
     "a096159fabc1470c855af97667a3b1ad": {
      "model_module": "jupyter-js-widgets",
      "model_module_version": "~2.1.4",
      "model_name": "ProgressStyleModel",
      "state": {
       "_model_module_version": "~2.1.4",
       "_view_module_version": "~2.1.4"
      }
     },
     "a0ab6a41999f4bd89548d3a4ad6519e3": {
      "model_module": "jupyter-js-widgets",
      "model_module_version": "~2.1.4",
      "model_name": "ProgressModel",
      "state": {
       "_model_module_version": "~2.1.4",
       "_view_module_version": "~2.1.4",
       "description": "Epoch 2: ",
       "layout": "IPY_MODEL_b9dd2aa0868c44b291fd8a41f5a65ef4",
       "max": 363860,
       "style": "IPY_MODEL_90f1d00e81064ed5b8344239a3242933",
       "value": 363860
      }
     },
     "a0c125f7cd934d429826d2759dde6991": {
      "model_module": "jupyter-js-widgets",
      "model_module_version": "~2.1.4",
      "model_name": "HBoxModel",
      "state": {
       "_model_module_version": "~2.1.4",
       "_view_module_version": "~2.1.4",
       "children": [
        "IPY_MODEL_fe87c9bb4376495b9d97df29352fc47c",
        "IPY_MODEL_0da8a274f0194ffc901f90ddb2f11d1d"
       ],
       "layout": "IPY_MODEL_ac0532eb5b994ec98efbbcb8ddd84645"
      }
     },
     "a0d3fc0424984eac9a247b4484f3cc9c": {
      "model_module": "jupyter-js-widgets",
      "model_module_version": "~2.1.4",
      "model_name": "ProgressStyleModel",
      "state": {
       "_model_module_version": "~2.1.4",
       "_view_module_version": "~2.1.4"
      }
     },
     "a11dcc6a454b4ecdad4db71e4f30d04d": {
      "model_module": "jupyter-js-widgets",
      "model_module_version": "~2.1.4",
      "model_name": "LayoutModel",
      "state": {
       "_model_module_version": "~2.1.4",
       "_view_module_version": "~2.1.4"
      }
     },
     "a21b1176556e4458833cf056688b0dd0": {
      "model_module": "jupyter-js-widgets",
      "model_module_version": "~2.1.4",
      "model_name": "ProgressModel",
      "state": {
       "_model_module_version": "~2.1.4",
       "_view_module_version": "~2.1.4",
       "bar_style": "danger",
       "description": "Training: ",
       "layout": "IPY_MODEL_bb21aebd54e943a8b12354aa24662177",
       "max": 50,
       "style": "IPY_MODEL_7e76118bd2744e17a56ef6dfccf3ca2b",
       "value": 6
      }
     },
     "a2b9a7e12868403db6db0ced5003a598": {
      "model_module": "jupyter-js-widgets",
      "model_module_version": "~2.1.4",
      "model_name": "LayoutModel",
      "state": {
       "_model_module_version": "~2.1.4",
       "_view_module_version": "~2.1.4"
      }
     },
     "a2cbe3fce0264e1287a427b99e000cdb": {
      "model_module": "jupyter-js-widgets",
      "model_module_version": "~2.1.4",
      "model_name": "LayoutModel",
      "state": {
       "_model_module_version": "~2.1.4",
       "_view_module_version": "~2.1.4"
      }
     },
     "a2e2901a161840ad8c4b2fd564eced25": {
      "model_module": "jupyter-js-widgets",
      "model_module_version": "~2.1.4",
      "model_name": "ProgressModel",
      "state": {
       "_model_module_version": "~2.1.4",
       "_view_module_version": "~2.1.4",
       "bar_style": "danger",
       "description": "Training: ",
       "layout": "IPY_MODEL_995ad610a13d4cf3a7ac7f46a36593af",
       "max": 50,
       "style": "IPY_MODEL_d0a077fcefb4408a95a0bafb453642c7",
       "value": 5
      }
     },
     "a34d0d5eace4408f8b7b0f3f6e52a8a8": {
      "model_module": "jupyter-js-widgets",
      "model_module_version": "~2.1.4",
      "model_name": "ProgressModel",
      "state": {
       "_model_module_version": "~2.1.4",
       "_view_module_version": "~2.1.4",
       "description": "Epoch 9: ",
       "layout": "IPY_MODEL_3fc8e49b4187466d8ce26eba9a88f865",
       "max": 900,
       "style": "IPY_MODEL_6a12cb02ded1415d834790a40bf86b7a",
       "value": 900
      }
     },
     "a3e654b432ed42648429f9ab225d416a": {
      "model_module": "jupyter-js-widgets",
      "model_module_version": "~2.1.4",
      "model_name": "HBoxModel",
      "state": {
       "_model_module_version": "~2.1.4",
       "_view_module_version": "~2.1.4",
       "children": [
        "IPY_MODEL_139319a8600942c294381ea1d79ef5f7",
        "IPY_MODEL_45ef68cb85e8461fb44c9c5aac093ba2"
       ],
       "layout": "IPY_MODEL_6ea8dee2c423429d874117f2f945ffa8"
      }
     },
     "a3ec3987af9a41fd980bf5685e36ff20": {
      "model_module": "jupyter-js-widgets",
      "model_module_version": "~2.1.4",
      "model_name": "LayoutModel",
      "state": {
       "_model_module_version": "~2.1.4",
       "_view_module_version": "~2.1.4"
      }
     },
     "a48ff9d8ce7b4a82a5be5de7c48e0187": {
      "model_module": "jupyter-js-widgets",
      "model_module_version": "~2.1.4",
      "model_name": "HBoxModel",
      "state": {
       "_model_module_version": "~2.1.4",
       "_view_module_version": "~2.1.4",
       "children": [
        "IPY_MODEL_bc5b2c6589634c37b3e34bc9fcb16ad8",
        "IPY_MODEL_a5beb88a61be467baca82bbc7fe06f0e"
       ],
       "layout": "IPY_MODEL_169187a45ada40e7a464b1de1d4f1282"
      }
     },
     "a55245533e6b4fad886910e092bdf03c": {
      "model_module": "jupyter-js-widgets",
      "model_module_version": "~2.1.4",
      "model_name": "LayoutModel",
      "state": {
       "_model_module_version": "~2.1.4",
       "_view_module_version": "~2.1.4"
      }
     },
     "a55507a844c04146930bde91e4934e80": {
      "model_module": "jupyter-js-widgets",
      "model_module_version": "~2.1.4",
      "model_name": "HTMLModel",
      "state": {
       "_model_module_version": "~2.1.4",
       "_view_module_version": "~2.1.4",
       "layout": "IPY_MODEL_e40551caa46e41cbb7e02932ca6a64f1",
       "value": "[loss: 0.156, acc: 0.936, val_loss: 0.338, val_acc: 0.871] 100% 363860/363860 [19:55&lt;00:00, 33.64it/s]"
      }
     },
     "a555bae87fd240fea1dada592e015ce3": {
      "model_module": "jupyter-js-widgets",
      "model_module_version": "~2.1.4",
      "model_name": "ProgressStyleModel",
      "state": {
       "_model_module_version": "~2.1.4",
       "_view_module_version": "~2.1.4"
      }
     },
     "a584235ff6d74ba18f5a3c3839783c9d": {
      "model_module": "jupyter-js-widgets",
      "model_module_version": "~2.1.4",
      "model_name": "ProgressStyleModel",
      "state": {
       "_model_module_version": "~2.1.4",
       "_view_module_version": "~2.1.4"
      }
     },
     "a5852c86bc9e4ecaa6b452f23d0bee9d": {
      "model_module": "jupyter-js-widgets",
      "model_module_version": "~2.1.4",
      "model_name": "ProgressModel",
      "state": {
       "_model_module_version": "~2.1.4",
       "_view_module_version": "~2.1.4",
       "description": "Epoch 0: ",
       "layout": "IPY_MODEL_7af742d7b4924f2bb9bfc4dbc36e78e5",
       "max": 363861,
       "style": "IPY_MODEL_8425a98621ef440d9e3912b9ec51adf0",
       "value": 363861
      }
     },
     "a5beb88a61be467baca82bbc7fe06f0e": {
      "model_module": "jupyter-js-widgets",
      "model_module_version": "~2.1.4",
      "model_name": "HTMLModel",
      "state": {
       "_model_module_version": "~2.1.4",
       "_view_module_version": "~2.1.4",
       "layout": "IPY_MODEL_9dec653cc6e1429a93c445494961c98c",
       "value": "[loss: 0.279, acc: 0.876, val_loss: 0.320, val_acc: 0.857] 100% 363862/363862 [18:23&lt;00:00, 35.14it/s]"
      }
     },
     "a71ae3b243d74bd891c957eaeacd90cf": {
      "model_module": "jupyter-js-widgets",
      "model_module_version": "~2.1.4",
      "model_name": "ProgressModel",
      "state": {
       "_model_module_version": "~2.1.4",
       "_view_module_version": "~2.1.4",
       "description": "Epoch 1: ",
       "layout": "IPY_MODEL_80e02fee693a4e4bbd30cc48255ac12a",
       "max": 363862,
       "style": "IPY_MODEL_3c9b06008808489085f8bea469623c36",
       "value": 363862
      }
     },
     "a778142398a940d2946c149fe2907af1": {
      "model_module": "jupyter-js-widgets",
      "model_module_version": "~2.1.4",
      "model_name": "HBoxModel",
      "state": {
       "_model_module_version": "~2.1.4",
       "_view_module_version": "~2.1.4",
       "children": [
        "IPY_MODEL_67441dbf2a3046b8a863905604859f47",
        "IPY_MODEL_e9efd9531e5148989c3b9e96f5ada949"
       ],
       "layout": "IPY_MODEL_78645c9397644407af2b16b6f1c44a0c"
      }
     },
     "a7a5f3fb40d5402f8834c60b614e02aa": {
      "model_module": "jupyter-js-widgets",
      "model_module_version": "~2.1.4",
      "model_name": "ProgressModel",
      "state": {
       "_model_module_version": "~2.1.4",
       "_view_module_version": "~2.1.4",
       "bar_style": "danger",
       "description": "Training: ",
       "layout": "IPY_MODEL_8325af9618dd4accbbd4542a9c3ab3e6",
       "max": 50,
       "style": "IPY_MODEL_c491b9f052374948bca75859126b9bca",
       "value": 6
      }
     },
     "a7c376f26e0144889e4fc73d824d4fc2": {
      "model_module": "jupyter-js-widgets",
      "model_module_version": "~2.1.4",
      "model_name": "LayoutModel",
      "state": {
       "_model_module_version": "~2.1.4",
       "_view_module_version": "~2.1.4"
      }
     },
     "a7cd4fc9e90d42369cca3d7194b31e47": {
      "model_module": "jupyter-js-widgets",
      "model_module_version": "~2.1.4",
      "model_name": "LayoutModel",
      "state": {
       "_model_module_version": "~2.1.4",
       "_view_module_version": "~2.1.4"
      }
     },
     "a867a050e8014404a0463aa205acf8b4": {
      "model_module": "jupyter-js-widgets",
      "model_module_version": "~2.1.4",
      "model_name": "LayoutModel",
      "state": {
       "_model_module_version": "~2.1.4",
       "_view_module_version": "~2.1.4"
      }
     },
     "a942230ee16f4fd8a19ca7eaab47112c": {
      "model_module": "jupyter-js-widgets",
      "model_module_version": "~2.1.4",
      "model_name": "LayoutModel",
      "state": {
       "_model_module_version": "~2.1.4",
       "_view_module_version": "~2.1.4"
      }
     },
     "a96ef3ca8a7f4b6180d8369b6c0a2a41": {
      "model_module": "jupyter-js-widgets",
      "model_module_version": "~2.1.4",
      "model_name": "LayoutModel",
      "state": {
       "_model_module_version": "~2.1.4",
       "_view_module_version": "~2.1.4"
      }
     },
     "a99e86b3deee4b87ba4b2c3af7c960f9": {
      "model_module": "jupyter-js-widgets",
      "model_module_version": "~2.1.4",
      "model_name": "HBoxModel",
      "state": {
       "_model_module_version": "~2.1.4",
       "_view_module_version": "~2.1.4",
       "children": [
        "IPY_MODEL_cb0127aac42947249498fb46350ae6b5",
        "IPY_MODEL_35a65564cc06408bb8f88cf05ed9c94b"
       ],
       "layout": "IPY_MODEL_afad32d8571f4146a4e4d44bb196609e"
      }
     },
     "aa821ca1cd4c4d178f3e3db21488f28b": {
      "model_module": "jupyter-js-widgets",
      "model_module_version": "~2.1.4",
      "model_name": "HTMLModel",
      "state": {
       "_model_module_version": "~2.1.4",
       "_view_module_version": "~2.1.4",
       "layout": "IPY_MODEL_503da462951c47f6a7f900e5da570c8f",
       "value": "  6% 3/50 [1:02:36&lt;16:21:27, 1252.93s/it]"
      }
     },
     "aa843bb6ad2541a8a5174e56329c9e89": {
      "model_module": "jupyter-js-widgets",
      "model_module_version": "~2.1.4",
      "model_name": "HBoxModel",
      "state": {
       "_model_module_version": "~2.1.4",
       "_view_module_version": "~2.1.4",
       "children": [
        "IPY_MODEL_4088ebd9af2e4c8d8792b79f468bd0fd",
        "IPY_MODEL_742837ceca294997ae5998bc2613d1ca"
       ],
       "layout": "IPY_MODEL_9d94726f1c9e4502b7a7acd82ff16f96"
      }
     },
     "ab0bdb736292451e9e00c564791353d9": {
      "model_module": "jupyter-js-widgets",
      "model_module_version": "~2.1.4",
      "model_name": "LayoutModel",
      "state": {
       "_model_module_version": "~2.1.4",
       "_view_module_version": "~2.1.4"
      }
     },
     "ab5c45c002aa4775bdec8ac30a9d1c16": {
      "model_module": "jupyter-js-widgets",
      "model_module_version": "~2.1.4",
      "model_name": "HTMLModel",
      "state": {
       "_model_module_version": "~2.1.4",
       "_view_module_version": "~2.1.4",
       "layout": "IPY_MODEL_f7afac6631ec43d59274b1e4d13435d0",
       "value": "[loss: 0.332, acc: 0.848, val_loss: 0.347, val_acc: 0.838] 100% 363862/363862 [18:24&lt;00:00, 35.12it/s]"
      }
     },
     "ac0532eb5b994ec98efbbcb8ddd84645": {
      "model_module": "jupyter-js-widgets",
      "model_module_version": "~2.1.4",
      "model_name": "LayoutModel",
      "state": {
       "_model_module_version": "~2.1.4",
       "_view_module_version": "~2.1.4"
      }
     },
     "ac11b25ff6d14e36ac1040c169ca0d5d": {
      "model_module": "jupyter-js-widgets",
      "model_module_version": "~2.1.4",
      "model_name": "ProgressStyleModel",
      "state": {
       "_model_module_version": "~2.1.4",
       "_view_module_version": "~2.1.4"
      }
     },
     "acecc387e59749c99b4fa9821625c867": {
      "model_module": "jupyter-js-widgets",
      "model_module_version": "~2.1.4",
      "model_name": "LayoutModel",
      "state": {
       "_model_module_version": "~2.1.4",
       "_view_module_version": "~2.1.4"
      }
     },
     "adc00371845c4a6c896b6136d1b9d411": {
      "model_module": "jupyter-js-widgets",
      "model_module_version": "~2.1.4",
      "model_name": "LayoutModel",
      "state": {
       "_model_module_version": "~2.1.4",
       "_view_module_version": "~2.1.4"
      }
     },
     "ade60ff4552c4f4484f9c8aa8deccc6a": {
      "model_module": "jupyter-js-widgets",
      "model_module_version": "~2.1.4",
      "model_name": "LayoutModel",
      "state": {
       "_model_module_version": "~2.1.4",
       "_view_module_version": "~2.1.4"
      }
     },
     "adfde7e972cb401cabe4ead697e9b99e": {
      "model_module": "jupyter-js-widgets",
      "model_module_version": "~2.1.4",
      "model_name": "LayoutModel",
      "state": {
       "_model_module_version": "~2.1.4",
       "_view_module_version": "~2.1.4"
      }
     },
     "aea7e88672bd4f89b4e974de9949bb6c": {
      "model_module": "jupyter-js-widgets",
      "model_module_version": "~2.1.4",
      "model_name": "LayoutModel",
      "state": {
       "_model_module_version": "~2.1.4",
       "_view_module_version": "~2.1.4"
      }
     },
     "aebddc6ccb3c40ab814bf4165c67921d": {
      "model_module": "jupyter-js-widgets",
      "model_module_version": "~2.1.4",
      "model_name": "LayoutModel",
      "state": {
       "_model_module_version": "~2.1.4",
       "_view_module_version": "~2.1.4"
      }
     },
     "af001453fedf4e10ba2af0cebb49db2d": {
      "model_module": "jupyter-js-widgets",
      "model_module_version": "~2.1.4",
      "model_name": "ProgressStyleModel",
      "state": {
       "_model_module_version": "~2.1.4",
       "_view_module_version": "~2.1.4"
      }
     },
     "af92410c92c341f28de312d49b08f799": {
      "model_module": "jupyter-js-widgets",
      "model_module_version": "~2.1.4",
      "model_name": "LayoutModel",
      "state": {
       "_model_module_version": "~2.1.4",
       "_view_module_version": "~2.1.4"
      }
     },
     "afad32d8571f4146a4e4d44bb196609e": {
      "model_module": "jupyter-js-widgets",
      "model_module_version": "~2.1.4",
      "model_name": "LayoutModel",
      "state": {
       "_model_module_version": "~2.1.4",
       "_view_module_version": "~2.1.4"
      }
     },
     "afcdc48b079048b0a494d8a44e3382a6": {
      "model_module": "jupyter-js-widgets",
      "model_module_version": "~2.1.4",
      "model_name": "ProgressStyleModel",
      "state": {
       "_model_module_version": "~2.1.4",
       "_view_module_version": "~2.1.4"
      }
     },
     "b034cc6796cf4d0faea0a0691288f8bb": {
      "model_module": "jupyter-js-widgets",
      "model_module_version": "~2.1.4",
      "model_name": "LayoutModel",
      "state": {
       "_model_module_version": "~2.1.4",
       "_view_module_version": "~2.1.4"
      }
     },
     "b045c06722ea478daca1a6855e220336": {
      "model_module": "jupyter-js-widgets",
      "model_module_version": "~2.1.4",
      "model_name": "LayoutModel",
      "state": {
       "_model_module_version": "~2.1.4",
       "_view_module_version": "~2.1.4"
      }
     },
     "b07aa6ff416b4f37bbeb3da9282741fd": {
      "model_module": "jupyter-js-widgets",
      "model_module_version": "~2.1.4",
      "model_name": "ProgressModel",
      "state": {
       "_model_module_version": "~2.1.4",
       "_view_module_version": "~2.1.4",
       "description": "Epoch 2: ",
       "layout": "IPY_MODEL_cc6b26fba03f4cc7b631ee29e1be115d",
       "max": 363862,
       "style": "IPY_MODEL_f2a95e1456dc4a2e9fbb9ced974028b7",
       "value": 363862
      }
     },
     "b0d268947364453582fe8a98a4fa732d": {
      "model_module": "jupyter-js-widgets",
      "model_module_version": "~2.1.4",
      "model_name": "HBoxModel",
      "state": {
       "_model_module_version": "~2.1.4",
       "_view_module_version": "~2.1.4",
       "children": [
        "IPY_MODEL_a7a5f3fb40d5402f8834c60b614e02aa",
        "IPY_MODEL_98b13f373bee462a8901cc577998d39e"
       ],
       "layout": "IPY_MODEL_513434a3f76d464dbfb1794d197dfdf0"
      }
     },
     "b1474809242b4f6da212098362e7a658": {
      "model_module": "jupyter-js-widgets",
      "model_module_version": "~2.1.4",
      "model_name": "ProgressModel",
      "state": {
       "_model_module_version": "~2.1.4",
       "_view_module_version": "~2.1.4",
       "description": "Epoch 4: ",
       "layout": "IPY_MODEL_2f927689207244668276dad82ac6beb0",
       "max": 363861,
       "style": "IPY_MODEL_e1507d7dbc6647bca4bfab7229b25453",
       "value": 363861
      }
     },
     "b147cce0b3054684895911be25a67447": {
      "model_module": "jupyter-js-widgets",
      "model_module_version": "~2.1.4",
      "model_name": "HTMLModel",
      "state": {
       "_model_module_version": "~2.1.4",
       "_view_module_version": "~2.1.4",
       "layout": "IPY_MODEL_da8de8ee10c74c0db2c459c198f8da3e",
       "value": "  0% 0/50 [00:00&lt;?, ?it/s]"
      }
     },
     "b14adcc7e7c942138e92e028a3602389": {
      "model_module": "jupyter-js-widgets",
      "model_module_version": "~2.1.4",
      "model_name": "ProgressModel",
      "state": {
       "_model_module_version": "~2.1.4",
       "_view_module_version": "~2.1.4",
       "description": "Epoch 2: ",
       "layout": "IPY_MODEL_062ae865bd5d4157b334b5699eccbf4b",
       "max": 363860,
       "style": "IPY_MODEL_b500b8a58193442cbd4e8123684453a5",
       "value": 130048
      }
     },
     "b235b2eb066b42adae5de2e24c5e02b6": {
      "model_module": "jupyter-js-widgets",
      "model_module_version": "~2.1.4",
      "model_name": "LayoutModel",
      "state": {
       "_model_module_version": "~2.1.4",
       "_view_module_version": "~2.1.4"
      }
     },
     "b23b44d174924e38bf52af4a170cbf69": {
      "model_module": "jupyter-js-widgets",
      "model_module_version": "~2.1.4",
      "model_name": "HTMLModel",
      "state": {
       "_model_module_version": "~2.1.4",
       "_view_module_version": "~2.1.4",
       "layout": "IPY_MODEL_d598c0ee03f149289e99f04410901ae8",
       "value": "[loss: 0.572, acc: 0.713, val_loss: 0.674, val_acc: 0.620] 100% 900/900 [00:02&lt;00:00, 337.91it/s]"
      }
     },
     "b2abb1f0c82c453aae779d8b2d907a2c": {
      "model_module": "jupyter-js-widgets",
      "model_module_version": "~2.1.4",
      "model_name": "LayoutModel",
      "state": {
       "_model_module_version": "~2.1.4",
       "_view_module_version": "~2.1.4"
      }
     },
     "b2ad2a79e2e8462ca65f71aced1e6771": {
      "model_module": "jupyter-js-widgets",
      "model_module_version": "~2.1.4",
      "model_name": "HBoxModel",
      "state": {
       "_model_module_version": "~2.1.4",
       "_view_module_version": "~2.1.4",
       "children": [
        "IPY_MODEL_8eca121e9c41479583feecfa072d70b5",
        "IPY_MODEL_f252af0c24684a0e8d509590f94bcbe6"
       ],
       "layout": "IPY_MODEL_aebddc6ccb3c40ab814bf4165c67921d"
      }
     },
     "b2beeaffcdba4b2cbb21607645bdfe3a": {
      "model_module": "jupyter-js-widgets",
      "model_module_version": "~2.1.4",
      "model_name": "LayoutModel",
      "state": {
       "_model_module_version": "~2.1.4",
       "_view_module_version": "~2.1.4"
      }
     },
     "b3188a85792545988f699b19463ce900": {
      "model_module": "jupyter-js-widgets",
      "model_module_version": "~2.1.4",
      "model_name": "HTMLModel",
      "state": {
       "_model_module_version": "~2.1.4",
       "_view_module_version": "~2.1.4",
       "layout": "IPY_MODEL_089711112a9e4519888d656a6637bdb4",
       "value": " 28% 14/50 [00:48&lt;01:53,  3.14s/it]"
      }
     },
     "b34a2984e824412ea319dd85f912896c": {
      "model_module": "jupyter-js-widgets",
      "model_module_version": "~2.1.4",
      "model_name": "LayoutModel",
      "state": {
       "_model_module_version": "~2.1.4",
       "_view_module_version": "~2.1.4"
      }
     },
     "b3a4d902ac324434ab5da2d782195301": {
      "model_module": "jupyter-js-widgets",
      "model_module_version": "~2.1.4",
      "model_name": "ProgressModel",
      "state": {
       "_model_module_version": "~2.1.4",
       "_view_module_version": "~2.1.4",
       "description": "Epoch 3: ",
       "layout": "IPY_MODEL_881cda461c0b4c34815b194fc8168b51",
       "max": 363861,
       "style": "IPY_MODEL_49bd39dbbed646ad89f727eabdeff46e",
       "value": 363861
      }
     },
     "b4e89c0fae5347cd95bca8de74f6d8ad": {
      "model_module": "jupyter-js-widgets",
      "model_module_version": "~2.1.4",
      "model_name": "HBoxModel",
      "state": {
       "_model_module_version": "~2.1.4",
       "_view_module_version": "~2.1.4",
       "children": [
        "IPY_MODEL_84ca36a70f9342b58e6bac38be23af84",
        "IPY_MODEL_1ecb4e498fa44f8da2a4554ebb288ca6"
       ],
       "layout": "IPY_MODEL_263cd78f2ef74c4a84a8d78463aa4de4"
      }
     },
     "b4f86a30197c404497944b3c6a802bdc": {
      "model_module": "jupyter-js-widgets",
      "model_module_version": "~2.1.4",
      "model_name": "LayoutModel",
      "state": {
       "_model_module_version": "~2.1.4",
       "_view_module_version": "~2.1.4"
      }
     },
     "b500b8a58193442cbd4e8123684453a5": {
      "model_module": "jupyter-js-widgets",
      "model_module_version": "~2.1.4",
      "model_name": "ProgressStyleModel",
      "state": {
       "_model_module_version": "~2.1.4",
       "_view_module_version": "~2.1.4"
      }
     },
     "b56195acef654b4dbd7696a87643af6e": {
      "model_module": "jupyter-js-widgets",
      "model_module_version": "~2.1.4",
      "model_name": "ProgressModel",
      "state": {
       "_model_module_version": "~2.1.4",
       "_view_module_version": "~2.1.4",
       "description": "Epoch 0: ",
       "layout": "IPY_MODEL_5a9ea946c27a4304a3c896bd25b91e20",
       "max": 900,
       "style": "IPY_MODEL_bb46d16e9ce64dd2bc2e8df5a0535850",
       "value": 900
      }
     },
     "b5ab69224aed4e0bb9f236dec1eb885e": {
      "model_module": "jupyter-js-widgets",
      "model_module_version": "~2.1.4",
      "model_name": "HTMLModel",
      "state": {
       "_model_module_version": "~2.1.4",
       "_view_module_version": "~2.1.4",
       "layout": "IPY_MODEL_f2f9b82ae84f42fe96695134652a34b0",
       "value": "[loss: 0.353, acc: 0.835, val_loss: 0.406, val_acc: 0.809] 100% 363860/363860 [22:04&lt;00:00, 32.92it/s]"
      }
     },
     "b6088b8070964f699f18185c5179c98c": {
      "model_module": "jupyter-js-widgets",
      "model_module_version": "~2.1.4",
      "model_name": "LayoutModel",
      "state": {
       "_model_module_version": "~2.1.4",
       "_view_module_version": "~2.1.4"
      }
     },
     "b634213825e348c8a1d71d2550d569d2": {
      "model_module": "jupyter-js-widgets",
      "model_module_version": "~2.1.4",
      "model_name": "ProgressModel",
      "state": {
       "_model_module_version": "~2.1.4",
       "_view_module_version": "~2.1.4",
       "description": "Epoch 13: ",
       "layout": "IPY_MODEL_95c901e42d364261aca2bdc0dc93cf51",
       "max": 900,
       "style": "IPY_MODEL_8517006c0c1c4f2da6420591f5ae4910",
       "value": 900
      }
     },
     "b6d4c9ad928e44f894cf7b25b446725f": {
      "model_module": "jupyter-js-widgets",
      "model_module_version": "~2.1.4",
      "model_name": "HBoxModel",
      "state": {
       "_model_module_version": "~2.1.4",
       "_view_module_version": "~2.1.4",
       "children": [
        "IPY_MODEL_f8fca62b59b4429bb346fc862707687e",
        "IPY_MODEL_fa4f5d0289c34c329a6ac9ea7dce91c0"
       ],
       "layout": "IPY_MODEL_8b63f15a4e5f450e87d1df2ea4a1fa19"
      }
     },
     "b6e803570d2a4d4dac41d7d714031b95": {
      "model_module": "jupyter-js-widgets",
      "model_module_version": "~2.1.4",
      "model_name": "LayoutModel",
      "state": {
       "_model_module_version": "~2.1.4",
       "_view_module_version": "~2.1.4"
      }
     },
     "b74399cbfe584a6fb4652f6924f09a5f": {
      "model_module": "jupyter-js-widgets",
      "model_module_version": "~2.1.4",
      "model_name": "HTMLModel",
      "state": {
       "_model_module_version": "~2.1.4",
       "_view_module_version": "~2.1.4",
       "layout": "IPY_MODEL_11e33109129d4af9876f0a3988fb3b25",
       "value": "[loss: 0.278, acc: 0.877, val_loss: 0.319, val_acc: 0.857] 100% 363861/363861 [20:10&lt;00:00, 34.66it/s]"
      }
     },
     "b75d6e076daf4a8cb965e4ed3cba9844": {
      "model_module": "jupyter-js-widgets",
      "model_module_version": "~2.1.4",
      "model_name": "HBoxModel",
      "state": {
       "_model_module_version": "~2.1.4",
       "_view_module_version": "~2.1.4",
       "children": [
        "IPY_MODEL_b80de0d125be46da9dfa2db020854103",
        "IPY_MODEL_899f63251946426ebbed4811b92bb9f3"
       ],
       "layout": "IPY_MODEL_e347bf1352ad462e9b8d6a6caff9e018"
      }
     },
     "b76a049c79754f7894e0204110de3125": {
      "model_module": "jupyter-js-widgets",
      "model_module_version": "~2.1.4",
      "model_name": "ProgressStyleModel",
      "state": {
       "_model_module_version": "~2.1.4",
       "_view_module_version": "~2.1.4"
      }
     },
     "b7c5c1e0810c4df5bb79dce96479ae47": {
      "model_module": "jupyter-js-widgets",
      "model_module_version": "~2.1.4",
      "model_name": "LayoutModel",
      "state": {
       "_model_module_version": "~2.1.4",
       "_view_module_version": "~2.1.4"
      }
     },
     "b7e55f8c35dd4ab2ba3b618e2e193edb": {
      "model_module": "jupyter-js-widgets",
      "model_module_version": "~2.1.4",
      "model_name": "ProgressStyleModel",
      "state": {
       "_model_module_version": "~2.1.4",
       "_view_module_version": "~2.1.4"
      }
     },
     "b8055d27151947b48a439c584892cfaf": {
      "model_module": "jupyter-js-widgets",
      "model_module_version": "~2.1.4",
      "model_name": "ProgressModel",
      "state": {
       "_model_module_version": "~2.1.4",
       "_view_module_version": "~2.1.4",
       "description": "Epoch 1: ",
       "layout": "IPY_MODEL_cda746dad2cd47ddad385613d01308b5",
       "max": 363861,
       "style": "IPY_MODEL_88b960c40b52426190413a42620d80a7",
       "value": 363861
      }
     },
     "b80de0d125be46da9dfa2db020854103": {
      "model_module": "jupyter-js-widgets",
      "model_module_version": "~2.1.4",
      "model_name": "ProgressModel",
      "state": {
       "_model_module_version": "~2.1.4",
       "_view_module_version": "~2.1.4",
       "description": "Epoch 0: ",
       "layout": "IPY_MODEL_d1c99cbe87f446b2a3f5fbbb60fc39f2",
       "max": 363860,
       "style": "IPY_MODEL_af001453fedf4e10ba2af0cebb49db2d",
       "value": 363860
      }
     },
     "b851870edd78482b934f74a2e2ec4562": {
      "model_module": "jupyter-js-widgets",
      "model_module_version": "~2.1.4",
      "model_name": "LayoutModel",
      "state": {
       "_model_module_version": "~2.1.4",
       "_view_module_version": "~2.1.4"
      }
     },
     "b9aca0206c624561aad4a2bfd197bfdf": {
      "model_module": "jupyter-js-widgets",
      "model_module_version": "~2.1.4",
      "model_name": "ProgressModel",
      "state": {
       "_model_module_version": "~2.1.4",
       "_view_module_version": "~2.1.4",
       "description": "Epoch 4: ",
       "layout": "IPY_MODEL_178c968331b6470ba7b7ee5886284db5",
       "max": 363860,
       "style": "IPY_MODEL_c0a409961435485188e3a9a713b2facd",
       "value": 363860
      }
     },
     "b9bf08cb861b494a9fe9fdf39e2de8c6": {
      "model_module": "jupyter-js-widgets",
      "model_module_version": "~2.1.4",
      "model_name": "ProgressStyleModel",
      "state": {
       "_model_module_version": "~2.1.4",
       "_view_module_version": "~2.1.4"
      }
     },
     "b9c60f80116047e6b0f85545e51b25cd": {
      "model_module": "jupyter-js-widgets",
      "model_module_version": "~2.1.4",
      "model_name": "LayoutModel",
      "state": {
       "_model_module_version": "~2.1.4",
       "_view_module_version": "~2.1.4"
      }
     },
     "b9dd2aa0868c44b291fd8a41f5a65ef4": {
      "model_module": "jupyter-js-widgets",
      "model_module_version": "~2.1.4",
      "model_name": "LayoutModel",
      "state": {
       "_model_module_version": "~2.1.4",
       "_view_module_version": "~2.1.4"
      }
     },
     "b9dd6f6a932348249b4293f0533693bc": {
      "model_module": "jupyter-js-widgets",
      "model_module_version": "~2.1.4",
      "model_name": "HBoxModel",
      "state": {
       "_model_module_version": "~2.1.4",
       "_view_module_version": "~2.1.4",
       "children": [
        "IPY_MODEL_209516eeb07c4421ad3fb44526a511c1",
        "IPY_MODEL_37abd24776604b79983b51de266736a5"
       ],
       "layout": "IPY_MODEL_2cd5d242106141869e3977c8accf214d"
      }
     },
     "b9f66e909ba243a8a6876db719ed4bb6": {
      "model_module": "jupyter-js-widgets",
      "model_module_version": "~2.1.4",
      "model_name": "ProgressStyleModel",
      "state": {
       "_model_module_version": "~2.1.4",
       "_view_module_version": "~2.1.4"
      }
     },
     "babb99ba54cd495e848c48776fbcd993": {
      "model_module": "jupyter-js-widgets",
      "model_module_version": "~2.1.4",
      "model_name": "HBoxModel",
      "state": {
       "_model_module_version": "~2.1.4",
       "_view_module_version": "~2.1.4",
       "children": [
        "IPY_MODEL_d71c7ce11b184ff1a089dd9cdd546390",
        "IPY_MODEL_2d70adaf855a40cd8dd8efe3e7b5c7f1"
       ],
       "layout": "IPY_MODEL_09d747ccccc1416d927eaf014542a94b"
      }
     },
     "bb0fc9c8664a46709509c68a8d93a78d": {
      "model_module": "jupyter-js-widgets",
      "model_module_version": "~2.1.4",
      "model_name": "LayoutModel",
      "state": {
       "_model_module_version": "~2.1.4",
       "_view_module_version": "~2.1.4"
      }
     },
     "bb21aebd54e943a8b12354aa24662177": {
      "model_module": "jupyter-js-widgets",
      "model_module_version": "~2.1.4",
      "model_name": "LayoutModel",
      "state": {
       "_model_module_version": "~2.1.4",
       "_view_module_version": "~2.1.4"
      }
     },
     "bb383b45252b4f76ae4755d9b37a6228": {
      "model_module": "jupyter-js-widgets",
      "model_module_version": "~2.1.4",
      "model_name": "ProgressModel",
      "state": {
       "_model_module_version": "~2.1.4",
       "_view_module_version": "~2.1.4",
       "description": "Epoch 0: ",
       "layout": "IPY_MODEL_572ca8bbc86c43598b67592327b4ed6a",
       "max": 363860,
       "style": "IPY_MODEL_28b7eafa6f1b4829bdd8a6c58babd954",
       "value": 363860
      }
     },
     "bb46d16e9ce64dd2bc2e8df5a0535850": {
      "model_module": "jupyter-js-widgets",
      "model_module_version": "~2.1.4",
      "model_name": "ProgressStyleModel",
      "state": {
       "_model_module_version": "~2.1.4",
       "_view_module_version": "~2.1.4"
      }
     },
     "bb8280770dfb47f4a4417848e09df583": {
      "model_module": "jupyter-js-widgets",
      "model_module_version": "~2.1.4",
      "model_name": "ProgressModel",
      "state": {
       "_model_module_version": "~2.1.4",
       "_view_module_version": "~2.1.4",
       "bar_style": "danger",
       "description": "Training: ",
       "layout": "IPY_MODEL_d74948f4aecf48c5831894a759b040ae",
       "max": 50,
       "style": "IPY_MODEL_b76a049c79754f7894e0204110de3125",
       "value": 6
      }
     },
     "bb9c2089bf544b9fb6d176f1176cf4b7": {
      "model_module": "jupyter-js-widgets",
      "model_module_version": "~2.1.4",
      "model_name": "ProgressModel",
      "state": {
       "_model_module_version": "~2.1.4",
       "_view_module_version": "~2.1.4",
       "bar_style": "danger",
       "description": "Training: ",
       "layout": "IPY_MODEL_eb51aae5d8bb4306ae1a9d3ea1d7c51e",
       "max": 50,
       "style": "IPY_MODEL_c3ff7c407d9d421d8702379074832dbc"
      }
     },
     "bc1928e0a05b4597967fcad77fd82703": {
      "model_module": "jupyter-js-widgets",
      "model_module_version": "~2.1.4",
      "model_name": "LayoutModel",
      "state": {
       "_model_module_version": "~2.1.4",
       "_view_module_version": "~2.1.4"
      }
     },
     "bc5b2c6589634c37b3e34bc9fcb16ad8": {
      "model_module": "jupyter-js-widgets",
      "model_module_version": "~2.1.4",
      "model_name": "ProgressModel",
      "state": {
       "_model_module_version": "~2.1.4",
       "_view_module_version": "~2.1.4",
       "description": "Epoch 2: ",
       "layout": "IPY_MODEL_4c59432d44ac44bcb128583c2aa91dec",
       "max": 363862,
       "style": "IPY_MODEL_29eafdd4078142b1b74dc58517cda1a2",
       "value": 363862
      }
     },
     "bd65c353433f446ba97ac0fc3707216a": {
      "model_module": "jupyter-js-widgets",
      "model_module_version": "~2.1.4",
      "model_name": "ProgressStyleModel",
      "state": {
       "_model_module_version": "~2.1.4",
       "_view_module_version": "~2.1.4"
      }
     },
     "bda738aedda44588853733fc3e987eb0": {
      "model_module": "jupyter-js-widgets",
      "model_module_version": "~2.1.4",
      "model_name": "LayoutModel",
      "state": {
       "_model_module_version": "~2.1.4",
       "_view_module_version": "~2.1.4"
      }
     },
     "bea60457ebad4ed0a3126dbbfd7ebc3f": {
      "model_module": "jupyter-js-widgets",
      "model_module_version": "~2.1.4",
      "model_name": "LayoutModel",
      "state": {
       "_model_module_version": "~2.1.4",
       "_view_module_version": "~2.1.4"
      }
     },
     "bf03ee50a2484edcb2f17454e6702b79": {
      "model_module": "jupyter-js-widgets",
      "model_module_version": "~2.1.4",
      "model_name": "LayoutModel",
      "state": {
       "_model_module_version": "~2.1.4",
       "_view_module_version": "~2.1.4"
      }
     },
     "c0515693064840068da18f9fdaee9cc3": {
      "model_module": "jupyter-js-widgets",
      "model_module_version": "~2.1.4",
      "model_name": "LayoutModel",
      "state": {
       "_model_module_version": "~2.1.4",
       "_view_module_version": "~2.1.4"
      }
     },
     "c070d9623b6740f6a1c1cfb3d7aeaa30": {
      "model_module": "jupyter-js-widgets",
      "model_module_version": "~2.1.4",
      "model_name": "ProgressModel",
      "state": {
       "_model_module_version": "~2.1.4",
       "_view_module_version": "~2.1.4",
       "description": "Training: ",
       "layout": "IPY_MODEL_050a0a78cc4e4890bec783f45be69c2c",
       "max": 50,
       "style": "IPY_MODEL_0cdbd03841314dbeabb59059aa61a69f",
       "value": 3
      }
     },
     "c0a409961435485188e3a9a713b2facd": {
      "model_module": "jupyter-js-widgets",
      "model_module_version": "~2.1.4",
      "model_name": "ProgressStyleModel",
      "state": {
       "_model_module_version": "~2.1.4",
       "_view_module_version": "~2.1.4"
      }
     },
     "c0a8dd3e68a942e395d3cabaae75eaa5": {
      "model_module": "jupyter-js-widgets",
      "model_module_version": "~2.1.4",
      "model_name": "HTMLModel",
      "state": {
       "_model_module_version": "~2.1.4",
       "_view_module_version": "~2.1.4",
       "layout": "IPY_MODEL_d0d658b94dc64a919cd4b7c2ac9f5840",
       "value": "[loss: 0.352, acc: 0.836, val_loss: 0.418, val_acc: 0.803] 100% 363860/363860 [20:49&lt;00:00, 32.99it/s]"
      }
     },
     "c0c1149aea3640c183a3bb403809ab93": {
      "model_module": "jupyter-js-widgets",
      "model_module_version": "~2.1.4",
      "model_name": "HBoxModel",
      "state": {
       "_model_module_version": "~2.1.4",
       "_view_module_version": "~2.1.4",
       "children": [
        "IPY_MODEL_71134e0b24f54d998da488b3a0332160",
        "IPY_MODEL_328fb81085c749298441bbe0fb7750ff"
       ],
       "layout": "IPY_MODEL_d2a4c48fc9fc43259e7653041c3e4620"
      }
     },
     "c15f28e6bb05484692ee8a913b8198cc": {
      "model_module": "jupyter-js-widgets",
      "model_module_version": "~2.1.4",
      "model_name": "LayoutModel",
      "state": {
       "_model_module_version": "~2.1.4",
       "_view_module_version": "~2.1.4"
      }
     },
     "c16151109a914632add50ff2a88b5716": {
      "model_module": "jupyter-js-widgets",
      "model_module_version": "~2.1.4",
      "model_name": "LayoutModel",
      "state": {
       "_model_module_version": "~2.1.4",
       "_view_module_version": "~2.1.4"
      }
     },
     "c17d9d0014b242beadefd5d3f26524c2": {
      "model_module": "jupyter-js-widgets",
      "model_module_version": "~2.1.4",
      "model_name": "ProgressStyleModel",
      "state": {
       "_model_module_version": "~2.1.4",
       "_view_module_version": "~2.1.4"
      }
     },
     "c1997fcd8b6d4511972608f31cbb5ced": {
      "model_module": "jupyter-js-widgets",
      "model_module_version": "~2.1.4",
      "model_name": "HTMLModel",
      "state": {
       "_model_module_version": "~2.1.4",
       "_view_module_version": "~2.1.4",
       "layout": "IPY_MODEL_ade60ff4552c4f4484f9c8aa8deccc6a",
       "value": "[loss: 0.278, acc: 0.877, val_loss: 0.337, val_acc: 0.852] 100% 363861/363861 [20:07&lt;00:00, 34.79it/s]"
      }
     },
     "c210b546d60f4735bf725e14ef30776f": {
      "model_module": "jupyter-js-widgets",
      "model_module_version": "~2.1.4",
      "model_name": "HTMLModel",
      "state": {
       "_model_module_version": "~2.1.4",
       "_view_module_version": "~2.1.4",
       "layout": "IPY_MODEL_fe5fd3fac64f4b318713c7cae1b26137",
       "value": "[loss: 0.478, acc: 0.761, val_loss: 0.487, val_acc: 0.757] 100% 363860/363860 [19:50&lt;00:00, 33.48it/s]"
      }
     },
     "c22570e90f1e4aedb615ab8597a3dea6": {
      "model_module": "jupyter-js-widgets",
      "model_module_version": "~2.1.4",
      "model_name": "HBoxModel",
      "state": {
       "_model_module_version": "~2.1.4",
       "_view_module_version": "~2.1.4",
       "children": [
        "IPY_MODEL_f4e9fdfb33c14a4e9641826a7d100c1e",
        "IPY_MODEL_c0a8dd3e68a942e395d3cabaae75eaa5"
       ],
       "layout": "IPY_MODEL_23b1dbe9061b4cedb78352c5718fd4e1"
      }
     },
     "c23eab22e52745629a8b84e4162bd758": {
      "model_module": "jupyter-js-widgets",
      "model_module_version": "~2.1.4",
      "model_name": "LayoutModel",
      "state": {
       "_model_module_version": "~2.1.4",
       "_view_module_version": "~2.1.4"
      }
     },
     "c24c07401e274e148fd27d628e73acd6": {
      "model_module": "jupyter-js-widgets",
      "model_module_version": "~2.1.4",
      "model_name": "ProgressModel",
      "state": {
       "_model_module_version": "~2.1.4",
       "_view_module_version": "~2.1.4",
       "description": "Epoch 0: ",
       "layout": "IPY_MODEL_8d7ddfd1dd844e9e8752dfb070a83699",
       "max": 363862,
       "style": "IPY_MODEL_3e9f88e7c8ab42b2b326bad1beaafc14",
       "value": 363862
      }
     },
     "c2704de66bf94541b92ea94f3a785186": {
      "model_module": "jupyter-js-widgets",
      "model_module_version": "~2.1.4",
      "model_name": "LayoutModel",
      "state": {
       "_model_module_version": "~2.1.4",
       "_view_module_version": "~2.1.4"
      }
     },
     "c2b651f7c3ea474c9f8d374c718ef605": {
      "model_module": "jupyter-js-widgets",
      "model_module_version": "~2.1.4",
      "model_name": "LayoutModel",
      "state": {
       "_model_module_version": "~2.1.4",
       "_view_module_version": "~2.1.4"
      }
     },
     "c2cfb45b31034281a6841adfeb1601a2": {
      "model_module": "jupyter-js-widgets",
      "model_module_version": "~2.1.4",
      "model_name": "ProgressModel",
      "state": {
       "_model_module_version": "~2.1.4",
       "_view_module_version": "~2.1.4",
       "description": "Epoch 1: ",
       "layout": "IPY_MODEL_7256fc1baa694d9dade86e2e78a09442",
       "max": 363862,
       "style": "IPY_MODEL_96012a757c564c12b9df0b45fd9989f2",
       "value": 363862
      }
     },
     "c2f24ef850174352a74ef8497e62ba3a": {
      "model_module": "jupyter-js-widgets",
      "model_module_version": "~2.1.4",
      "model_name": "HBoxModel",
      "state": {
       "_model_module_version": "~2.1.4",
       "_view_module_version": "~2.1.4",
       "children": [
        "IPY_MODEL_53358cae5a9146ffa6323a714d513b13",
        "IPY_MODEL_f4074dc1c79c41dfa05d5678ef1ba037"
       ],
       "layout": "IPY_MODEL_72487e35066948f88dd99bcff250d74f"
      }
     },
     "c3d1ae85dae14ae28b95373390de278f": {
      "model_module": "jupyter-js-widgets",
      "model_module_version": "~2.1.4",
      "model_name": "HTMLModel",
      "state": {
       "_model_module_version": "~2.1.4",
       "_view_module_version": "~2.1.4",
       "layout": "IPY_MODEL_cc4245b0cd674043bf104268f99ba9bc",
       "value": "[loss: 0.234, acc: 0.899]  12% 43008/363860 [02:29&lt;17:43, 301.69it/s]"
      }
     },
     "c3da0d40048a4111bffb951e86e5a15d": {
      "model_module": "jupyter-js-widgets",
      "model_module_version": "~2.1.4",
      "model_name": "HBoxModel",
      "state": {
       "_model_module_version": "~2.1.4",
       "_view_module_version": "~2.1.4",
       "children": [
        "IPY_MODEL_5950f81f112147859e3e2cdad44c8274",
        "IPY_MODEL_81a29d5aa77243b2bc09012d2fda7008"
       ],
       "layout": "IPY_MODEL_a2b9a7e12868403db6db0ced5003a598"
      }
     },
     "c3ff7c407d9d421d8702379074832dbc": {
      "model_module": "jupyter-js-widgets",
      "model_module_version": "~2.1.4",
      "model_name": "ProgressStyleModel",
      "state": {
       "_model_module_version": "~2.1.4",
       "_view_module_version": "~2.1.4"
      }
     },
     "c460c6ecea9d4920ae42fa639b8c13cd": {
      "model_module": "jupyter-js-widgets",
      "model_module_version": "~2.1.4",
      "model_name": "LayoutModel",
      "state": {
       "_model_module_version": "~2.1.4",
       "_view_module_version": "~2.1.4"
      }
     },
     "c491b9f052374948bca75859126b9bca": {
      "model_module": "jupyter-js-widgets",
      "model_module_version": "~2.1.4",
      "model_name": "ProgressStyleModel",
      "state": {
       "_model_module_version": "~2.1.4",
       "_view_module_version": "~2.1.4"
      }
     },
     "c49ca43bf9c341848f7e4f121a758bff": {
      "model_module": "jupyter-js-widgets",
      "model_module_version": "~2.1.4",
      "model_name": "HTMLModel",
      "state": {
       "_model_module_version": "~2.1.4",
       "_view_module_version": "~2.1.4",
       "layout": "IPY_MODEL_cf8b6337dda34025baaa0b23e382ebfa",
       "value": "[loss: 0.192, acc: 0.919, val_loss: 0.339, val_acc: 0.865] 100% 363862/363862 [18:16&lt;00:00, 35.25it/s]"
      }
     },
     "c4d538a8d4fd490c98d805499defef21": {
      "model_module": "jupyter-js-widgets",
      "model_module_version": "~2.1.4",
      "model_name": "LayoutModel",
      "state": {
       "_model_module_version": "~2.1.4",
       "_view_module_version": "~2.1.4"
      }
     },
     "c4ef77661c884671be79a3bebb5de17a": {
      "model_module": "jupyter-js-widgets",
      "model_module_version": "~2.1.4",
      "model_name": "ProgressModel",
      "state": {
       "_model_module_version": "~2.1.4",
       "_view_module_version": "~2.1.4",
       "description": "Epoch 10: ",
       "layout": "IPY_MODEL_033b828d403a49dd945ade39ae3197db",
       "max": 900,
       "style": "IPY_MODEL_8b8221d54a0f4b8f849236ed51429e6e",
       "value": 900
      }
     },
     "c540374d3f3e4225b287869d6b98ad84": {
      "model_module": "jupyter-js-widgets",
      "model_module_version": "~2.1.4",
      "model_name": "ProgressStyleModel",
      "state": {
       "_model_module_version": "~2.1.4",
       "_view_module_version": "~2.1.4"
      }
     },
     "c54c89e750c2414497b800ae3459d1e2": {
      "model_module": "jupyter-js-widgets",
      "model_module_version": "~2.1.4",
      "model_name": "LayoutModel",
      "state": {
       "_model_module_version": "~2.1.4",
       "_view_module_version": "~2.1.4"
      }
     },
     "c559777be758429c8675d2bf1dc7ad88": {
      "model_module": "jupyter-js-widgets",
      "model_module_version": "~2.1.4",
      "model_name": "LayoutModel",
      "state": {
       "_model_module_version": "~2.1.4",
       "_view_module_version": "~2.1.4"
      }
     },
     "c5cafc8f4f1143da995d917b4966ca5b": {
      "model_module": "jupyter-js-widgets",
      "model_module_version": "~2.1.4",
      "model_name": "ProgressStyleModel",
      "state": {
       "_model_module_version": "~2.1.4",
       "_view_module_version": "~2.1.4"
      }
     },
     "c624a1ccbf504be1b280598a35cfc4ed": {
      "model_module": "jupyter-js-widgets",
      "model_module_version": "~2.1.4",
      "model_name": "ProgressStyleModel",
      "state": {
       "_model_module_version": "~2.1.4",
       "_view_module_version": "~2.1.4"
      }
     },
     "c6a8994b975a4ec7b706388d24d885b5": {
      "model_module": "jupyter-js-widgets",
      "model_module_version": "~2.1.4",
      "model_name": "LayoutModel",
      "state": {
       "_model_module_version": "~2.1.4",
       "_view_module_version": "~2.1.4"
      }
     },
     "c79dc86e436d4b819bec8a40b5d09413": {
      "model_module": "jupyter-js-widgets",
      "model_module_version": "~2.1.4",
      "model_name": "LayoutModel",
      "state": {
       "_model_module_version": "~2.1.4",
       "_view_module_version": "~2.1.4"
      }
     },
     "c85a6e4e6dbc4ca8b50a86437a9a2c8b": {
      "model_module": "jupyter-js-widgets",
      "model_module_version": "~2.1.4",
      "model_name": "LayoutModel",
      "state": {
       "_model_module_version": "~2.1.4",
       "_view_module_version": "~2.1.4"
      }
     },
     "c87c1150cd06448a8d7a25440cb234d6": {
      "model_module": "jupyter-js-widgets",
      "model_module_version": "~2.1.4",
      "model_name": "HBoxModel",
      "state": {
       "_model_module_version": "~2.1.4",
       "_view_module_version": "~2.1.4",
       "children": [
        "IPY_MODEL_d153e08a55c548a8816f0a4548e66771",
        "IPY_MODEL_cc5157a1686d472eb58e259c2369ab84"
       ],
       "layout": "IPY_MODEL_ff18068407f14663a88f5303cdb1d705"
      }
     },
     "c892d62193bc4801adbc0b282be9b623": {
      "model_module": "jupyter-js-widgets",
      "model_module_version": "~2.1.4",
      "model_name": "LayoutModel",
      "state": {
       "_model_module_version": "~2.1.4",
       "_view_module_version": "~2.1.4"
      }
     },
     "c8ae406fedb44cee83c53440894db976": {
      "model_module": "jupyter-js-widgets",
      "model_module_version": "~2.1.4",
      "model_name": "ProgressStyleModel",
      "state": {
       "_model_module_version": "~2.1.4",
       "_view_module_version": "~2.1.4"
      }
     },
     "c8ccc1890049462db6dff578af4b7aba": {
      "model_module": "jupyter-js-widgets",
      "model_module_version": "~2.1.4",
      "model_name": "HTMLModel",
      "state": {
       "_model_module_version": "~2.1.4",
       "_view_module_version": "~2.1.4",
       "layout": "IPY_MODEL_e724a03aa6e644dfa59cdbec0c4ff1bd",
       "value": "[loss: 0.333, acc: 0.847, val_loss: 0.340, val_acc: 0.845] 100% 363861/363861 [20:29&lt;00:00, 34.72it/s]"
      }
     },
     "c8dfa9ef8e204f9fa7d5cb400738fb50": {
      "model_module": "jupyter-js-widgets",
      "model_module_version": "~2.1.4",
      "model_name": "LayoutModel",
      "state": {
       "_model_module_version": "~2.1.4",
       "_view_module_version": "~2.1.4"
      }
     },
     "c8f32e5b92824d968d46181ab71ff582": {
      "model_module": "jupyter-js-widgets",
      "model_module_version": "~2.1.4",
      "model_name": "LayoutModel",
      "state": {
       "_model_module_version": "~2.1.4",
       "_view_module_version": "~2.1.4"
      }
     },
     "c9402ece52c24af987f3cf57267adcfc": {
      "model_module": "jupyter-js-widgets",
      "model_module_version": "~2.1.4",
      "model_name": "LayoutModel",
      "state": {
       "_model_module_version": "~2.1.4",
       "_view_module_version": "~2.1.4"
      }
     },
     "c9b0c21df77f47c0bb6cd786d57d30b8": {
      "model_module": "jupyter-js-widgets",
      "model_module_version": "~2.1.4",
      "model_name": "ProgressModel",
      "state": {
       "_model_module_version": "~2.1.4",
       "_view_module_version": "~2.1.4",
       "bar_style": "danger",
       "description": "Training: ",
       "layout": "IPY_MODEL_01c85cce42b946c8bc791dcd7a621d63",
       "max": 50,
       "style": "IPY_MODEL_229914f9b2c448cdb8a88d838cd5a9c9",
       "value": 6
      }
     },
     "c9fc115b5cb046399c64a3f72af2805d": {
      "model_module": "jupyter-js-widgets",
      "model_module_version": "~2.1.4",
      "model_name": "LayoutModel",
      "state": {
       "_model_module_version": "~2.1.4",
       "_view_module_version": "~2.1.4"
      }
     },
     "ca9f484da3044c82ad32698114849a2b": {
      "model_module": "jupyter-js-widgets",
      "model_module_version": "~2.1.4",
      "model_name": "LayoutModel",
      "state": {
       "_model_module_version": "~2.1.4",
       "_view_module_version": "~2.1.4"
      }
     },
     "cabf17d51ddc4e1bbe41f954040dea38": {
      "model_module": "jupyter-js-widgets",
      "model_module_version": "~2.1.4",
      "model_name": "ProgressStyleModel",
      "state": {
       "_model_module_version": "~2.1.4",
       "_view_module_version": "~2.1.4"
      }
     },
     "caf15df3e9aa420e8896162613ab4a5d": {
      "model_module": "jupyter-js-widgets",
      "model_module_version": "~2.1.4",
      "model_name": "ProgressModel",
      "state": {
       "_model_module_version": "~2.1.4",
       "_view_module_version": "~2.1.4",
       "description": "Epoch 3: ",
       "layout": "IPY_MODEL_40dd5fd521cc48f9a1c6c250b42449a6",
       "max": 363861,
       "style": "IPY_MODEL_115c639d834a4d1b98689607cf0bf8a2",
       "value": 363861
      }
     },
     "cb0127aac42947249498fb46350ae6b5": {
      "model_module": "jupyter-js-widgets",
      "model_module_version": "~2.1.4",
      "model_name": "ProgressModel",
      "state": {
       "_model_module_version": "~2.1.4",
       "_view_module_version": "~2.1.4",
       "description": "Epoch 3: ",
       "layout": "IPY_MODEL_3252a6e95a664dea9a4df4fe5988ed46",
       "max": 363862,
       "style": "IPY_MODEL_d219baa61b7143fb8d509a6c6a595eec",
       "value": 363862
      }
     },
     "cc1b627b008e4ccb8e7e1ca20b03b9de": {
      "model_module": "jupyter-js-widgets",
      "model_module_version": "~2.1.4",
      "model_name": "ProgressStyleModel",
      "state": {
       "_model_module_version": "~2.1.4",
       "_view_module_version": "~2.1.4"
      }
     },
     "cc4245b0cd674043bf104268f99ba9bc": {
      "model_module": "jupyter-js-widgets",
      "model_module_version": "~2.1.4",
      "model_name": "LayoutModel",
      "state": {
       "_model_module_version": "~2.1.4",
       "_view_module_version": "~2.1.4"
      }
     },
     "cc5157a1686d472eb58e259c2369ab84": {
      "model_module": "jupyter-js-widgets",
      "model_module_version": "~2.1.4",
      "model_name": "HTMLModel",
      "state": {
       "_model_module_version": "~2.1.4",
       "_view_module_version": "~2.1.4",
       "layout": "IPY_MODEL_c85a6e4e6dbc4ca8b50a86437a9a2c8b",
       "value": "[loss: 0.233, acc: 0.899, val_loss: 0.320, val_acc: 0.866] 100% 363862/363862 [18:17&lt;00:00, 35.23it/s]"
      }
     },
     "cc6b26fba03f4cc7b631ee29e1be115d": {
      "model_module": "jupyter-js-widgets",
      "model_module_version": "~2.1.4",
      "model_name": "LayoutModel",
      "state": {
       "_model_module_version": "~2.1.4",
       "_view_module_version": "~2.1.4"
      }
     },
     "ccffa26570784a9c8d24a07a2dabefac": {
      "model_module": "jupyter-js-widgets",
      "model_module_version": "~2.1.4",
      "model_name": "LayoutModel",
      "state": {
       "_model_module_version": "~2.1.4",
       "_view_module_version": "~2.1.4"
      }
     },
     "cda746dad2cd47ddad385613d01308b5": {
      "model_module": "jupyter-js-widgets",
      "model_module_version": "~2.1.4",
      "model_name": "LayoutModel",
      "state": {
       "_model_module_version": "~2.1.4",
       "_view_module_version": "~2.1.4"
      }
     },
     "cdda6e95d26745e3a55879ee92fe6030": {
      "model_module": "jupyter-js-widgets",
      "model_module_version": "~2.1.4",
      "model_name": "HTMLModel",
      "state": {
       "_model_module_version": "~2.1.4",
       "_view_module_version": "~2.1.4",
       "layout": "IPY_MODEL_60c432bf74ea4757b296262e9af9f7f6",
       "value": "[loss: 0.427, acc: 0.793, val_loss: 0.387, val_acc: 0.814] 100% 363862/363862 [18:36&lt;00:00, 34.62it/s]"
      }
     },
     "ce34540432a54127846171c04b4dd710": {
      "model_module": "jupyter-js-widgets",
      "model_module_version": "~2.1.4",
      "model_name": "ProgressStyleModel",
      "state": {
       "_model_module_version": "~2.1.4",
       "_view_module_version": "~2.1.4"
      }
     },
     "ce89c7964baa4d90a726368e5ad93640": {
      "model_module": "jupyter-js-widgets",
      "model_module_version": "~2.1.4",
      "model_name": "ProgressStyleModel",
      "state": {
       "_model_module_version": "~2.1.4",
       "_view_module_version": "~2.1.4"
      }
     },
     "ce8fbfb07c674101bc50355345058f42": {
      "model_module": "jupyter-js-widgets",
      "model_module_version": "~2.1.4",
      "model_name": "LayoutModel",
      "state": {
       "_model_module_version": "~2.1.4",
       "_view_module_version": "~2.1.4"
      }
     },
     "cee7c7189dc84a3c91ea092a87e8352f": {
      "model_module": "jupyter-js-widgets",
      "model_module_version": "~2.1.4",
      "model_name": "HBoxModel",
      "state": {
       "_model_module_version": "~2.1.4",
       "_view_module_version": "~2.1.4",
       "children": [
        "IPY_MODEL_4aaed5f237f94d8d8e0e5bdc0a0ce837",
        "IPY_MODEL_6da39a1f7d1843a0beff8360441c1939"
       ],
       "layout": "IPY_MODEL_381adfae4cd14e2da3bb9843b462001e"
      }
     },
     "cf8b6337dda34025baaa0b23e382ebfa": {
      "model_module": "jupyter-js-widgets",
      "model_module_version": "~2.1.4",
      "model_name": "LayoutModel",
      "state": {
       "_model_module_version": "~2.1.4",
       "_view_module_version": "~2.1.4"
      }
     },
     "cfd1d73a49f24556bca93d5f2d5f9ffc": {
      "model_module": "jupyter-js-widgets",
      "model_module_version": "~2.1.4",
      "model_name": "HTMLModel",
      "state": {
       "_model_module_version": "~2.1.4",
       "_view_module_version": "~2.1.4",
       "layout": "IPY_MODEL_645d7bf464b64a61beeaaa01a1f81a18",
       "value": "[loss: 0.232, acc: 0.900, val_loss: 0.322, val_acc: 0.861] 100% 363861/363861 [19:55&lt;00:00, 34.84it/s]"
      }
     },
     "d0a077fcefb4408a95a0bafb453642c7": {
      "model_module": "jupyter-js-widgets",
      "model_module_version": "~2.1.4",
      "model_name": "ProgressStyleModel",
      "state": {
       "_model_module_version": "~2.1.4",
       "_view_module_version": "~2.1.4"
      }
     },
     "d0d658b94dc64a919cd4b7c2ac9f5840": {
      "model_module": "jupyter-js-widgets",
      "model_module_version": "~2.1.4",
      "model_name": "LayoutModel",
      "state": {
       "_model_module_version": "~2.1.4",
       "_view_module_version": "~2.1.4"
      }
     },
     "d11962031d5846da92f006c63275bada": {
      "model_module": "jupyter-js-widgets",
      "model_module_version": "~2.1.4",
      "model_name": "ProgressModel",
      "state": {
       "_model_module_version": "~2.1.4",
       "_view_module_version": "~2.1.4",
       "description": "Epoch 8: ",
       "layout": "IPY_MODEL_dfacfa4d9fa44920ae923a01dfd6f89b",
       "max": 900,
       "style": "IPY_MODEL_7802c0a0c64c4d139d411795f8b848a0",
       "value": 900
      }
     },
     "d14cc254a9484ecf857b7e9d57f9ba85": {
      "model_module": "jupyter-js-widgets",
      "model_module_version": "~2.1.4",
      "model_name": "LayoutModel",
      "state": {
       "_model_module_version": "~2.1.4",
       "_view_module_version": "~2.1.4"
      }
     },
     "d153e08a55c548a8816f0a4548e66771": {
      "model_module": "jupyter-js-widgets",
      "model_module_version": "~2.1.4",
      "model_name": "ProgressModel",
      "state": {
       "_model_module_version": "~2.1.4",
       "_view_module_version": "~2.1.4",
       "description": "Epoch 3: ",
       "layout": "IPY_MODEL_81e5efe08cb54bbd88a9ba15a0fb9f49",
       "max": 363862,
       "style": "IPY_MODEL_d40ca5efd5ab47488aefff00f9cf0ea4",
       "value": 363862
      }
     },
     "d1b5716226174e049d4652eb01226fbb": {
      "model_module": "jupyter-js-widgets",
      "model_module_version": "~2.1.4",
      "model_name": "LayoutModel",
      "state": {
       "_model_module_version": "~2.1.4",
       "_view_module_version": "~2.1.4"
      }
     },
     "d1c99cbe87f446b2a3f5fbbb60fc39f2": {
      "model_module": "jupyter-js-widgets",
      "model_module_version": "~2.1.4",
      "model_name": "LayoutModel",
      "state": {
       "_model_module_version": "~2.1.4",
       "_view_module_version": "~2.1.4"
      }
     },
     "d219baa61b7143fb8d509a6c6a595eec": {
      "model_module": "jupyter-js-widgets",
      "model_module_version": "~2.1.4",
      "model_name": "ProgressStyleModel",
      "state": {
       "_model_module_version": "~2.1.4",
       "_view_module_version": "~2.1.4"
      }
     },
     "d229e0055eda4f16b106c8fb52a56c4b": {
      "model_module": "jupyter-js-widgets",
      "model_module_version": "~2.1.4",
      "model_name": "LayoutModel",
      "state": {
       "_model_module_version": "~2.1.4",
       "_view_module_version": "~2.1.4"
      }
     },
     "d2a4c48fc9fc43259e7653041c3e4620": {
      "model_module": "jupyter-js-widgets",
      "model_module_version": "~2.1.4",
      "model_name": "LayoutModel",
      "state": {
       "_model_module_version": "~2.1.4",
       "_view_module_version": "~2.1.4"
      }
     },
     "d31e38ed60434da8a61342937921fd99": {
      "model_module": "jupyter-js-widgets",
      "model_module_version": "~2.1.4",
      "model_name": "ProgressStyleModel",
      "state": {
       "_model_module_version": "~2.1.4",
       "_view_module_version": "~2.1.4"
      }
     },
     "d3eca1a24468485a8096c0676995998e": {
      "model_module": "jupyter-js-widgets",
      "model_module_version": "~2.1.4",
      "model_name": "HTMLModel",
      "state": {
       "_model_module_version": "~2.1.4",
       "_view_module_version": "~2.1.4",
       "layout": "IPY_MODEL_628e7f7d58ba4580ac5c6404734090de",
       "value": "[loss: 0.192, acc: 0.919, val_loss: 0.334, val_acc: 0.864] 100% 363861/363861 [20:10&lt;00:00, 34.76it/s]"
      }
     },
     "d3fb149940224885bd3f691467a02c92": {
      "model_module": "jupyter-js-widgets",
      "model_module_version": "~2.1.4",
      "model_name": "HBoxModel",
      "state": {
       "_model_module_version": "~2.1.4",
       "_view_module_version": "~2.1.4",
       "children": [
        "IPY_MODEL_a34d0d5eace4408f8b7b0f3f6e52a8a8",
        "IPY_MODEL_5e2b55517fed4919889fa7997bae7274"
       ],
       "layout": "IPY_MODEL_865f5d84493b45e2ad9d50fee94bb145"
      }
     },
     "d40ca5efd5ab47488aefff00f9cf0ea4": {
      "model_module": "jupyter-js-widgets",
      "model_module_version": "~2.1.4",
      "model_name": "ProgressStyleModel",
      "state": {
       "_model_module_version": "~2.1.4",
       "_view_module_version": "~2.1.4"
      }
     },
     "d43a8f251664495e9689e895a5b3b48f": {
      "model_module": "jupyter-js-widgets",
      "model_module_version": "~2.1.4",
      "model_name": "HBoxModel",
      "state": {
       "_model_module_version": "~2.1.4",
       "_view_module_version": "~2.1.4",
       "children": [
        "IPY_MODEL_caf15df3e9aa420e8896162613ab4a5d",
        "IPY_MODEL_71ef9aef3d0040ee98033773c312c759"
       ],
       "layout": "IPY_MODEL_466d9b5b2e9b45a292bfafa90cf7c32a"
      }
     },
     "d43a92a8ee4740d3ba4e8a986f310d44": {
      "model_module": "jupyter-js-widgets",
      "model_module_version": "~2.1.4",
      "model_name": "ProgressModel",
      "state": {
       "_model_module_version": "~2.1.4",
       "_view_module_version": "~2.1.4",
       "description": "Epoch 0: ",
       "layout": "IPY_MODEL_8e2f29334526417c8684bb91d359a4d3",
       "max": 363862,
       "style": "IPY_MODEL_0607e33726264a01a5cdda3ed7936189",
       "value": 363862
      }
     },
     "d49463b6a92649ae9d7255e7e04761de": {
      "model_module": "jupyter-js-widgets",
      "model_module_version": "~2.1.4",
      "model_name": "ProgressStyleModel",
      "state": {
       "_model_module_version": "~2.1.4",
       "_view_module_version": "~2.1.4"
      }
     },
     "d4c8e03867654f43a8ff3d93a830e459": {
      "model_module": "jupyter-js-widgets",
      "model_module_version": "~2.1.4",
      "model_name": "LayoutModel",
      "state": {
       "_model_module_version": "~2.1.4",
       "_view_module_version": "~2.1.4"
      }
     },
     "d58b4f24f9c3455482687ed22e470973": {
      "model_module": "jupyter-js-widgets",
      "model_module_version": "~2.1.4",
      "model_name": "HTMLModel",
      "state": {
       "_model_module_version": "~2.1.4",
       "_view_module_version": "~2.1.4",
       "layout": "IPY_MODEL_5d22ee30a8cf428a9c8dec73579c6566",
       "value": "[loss: 0.334, acc: 0.847, val_loss: 0.346, val_acc: 0.841] 100% 363860/363860 [19:25&lt;00:00, 33.17it/s]"
      }
     },
     "d598c0ee03f149289e99f04410901ae8": {
      "model_module": "jupyter-js-widgets",
      "model_module_version": "~2.1.4",
      "model_name": "LayoutModel",
      "state": {
       "_model_module_version": "~2.1.4",
       "_view_module_version": "~2.1.4"
      }
     },
     "d63ceab0dbfa40e9bd698be13622e6be": {
      "model_module": "jupyter-js-widgets",
      "model_module_version": "~2.1.4",
      "model_name": "LayoutModel",
      "state": {
       "_model_module_version": "~2.1.4",
       "_view_module_version": "~2.1.4"
      }
     },
     "d6420a5e1f724c2b909fcd1783398c67": {
      "model_module": "jupyter-js-widgets",
      "model_module_version": "~2.1.4",
      "model_name": "LayoutModel",
      "state": {
       "_model_module_version": "~2.1.4",
       "_view_module_version": "~2.1.4"
      }
     },
     "d64d0fcf0a124a02a980fc8ec52157a4": {
      "model_module": "jupyter-js-widgets",
      "model_module_version": "~2.1.4",
      "model_name": "LayoutModel",
      "state": {
       "_model_module_version": "~2.1.4",
       "_view_module_version": "~2.1.4"
      }
     },
     "d65bc2a9d6944db0816033a76782c1f7": {
      "model_module": "jupyter-js-widgets",
      "model_module_version": "~2.1.4",
      "model_name": "LayoutModel",
      "state": {
       "_model_module_version": "~2.1.4",
       "_view_module_version": "~2.1.4"
      }
     },
     "d69ec39a0cf64f0ea06cd6208668f7fd": {
      "model_module": "jupyter-js-widgets",
      "model_module_version": "~2.1.4",
      "model_name": "LayoutModel",
      "state": {
       "_model_module_version": "~2.1.4",
       "_view_module_version": "~2.1.4"
      }
     },
     "d6d2559e6d82428b86df305dd7a83099": {
      "model_module": "jupyter-js-widgets",
      "model_module_version": "~2.1.4",
      "model_name": "HTMLModel",
      "state": {
       "_model_module_version": "~2.1.4",
       "_view_module_version": "~2.1.4",
       "layout": "IPY_MODEL_b034cc6796cf4d0faea0a0691288f8bb",
       "value": "[loss: 0.356, acc: 0.834]  36% 130048/363860 [07:03&lt;12:38, 308.08it/s]"
      }
     },
     "d71c7ce11b184ff1a089dd9cdd546390": {
      "model_module": "jupyter-js-widgets",
      "model_module_version": "~2.1.4",
      "model_name": "ProgressModel",
      "state": {
       "_model_module_version": "~2.1.4",
       "_view_module_version": "~2.1.4",
       "description": "Epoch 0: ",
       "layout": "IPY_MODEL_dedb62ab50e34d4c8947c7f8441919ff",
       "max": 363860,
       "style": "IPY_MODEL_7b36c224e97c4ffbb02846950f382238",
       "value": 363860
      }
     },
     "d72f0fab4a2d4f2abfea69e568010acc": {
      "model_module": "jupyter-js-widgets",
      "model_module_version": "~2.1.4",
      "model_name": "ProgressModel",
      "state": {
       "_model_module_version": "~2.1.4",
       "_view_module_version": "~2.1.4",
       "description": "Epoch 4: ",
       "layout": "IPY_MODEL_4d4c01eeaa2c4045b1ff0cb13f6d76e2",
       "max": 363861,
       "style": "IPY_MODEL_6d4957211b0e47ba9881a4770dfc121e",
       "value": 363861
      }
     },
     "d74948f4aecf48c5831894a759b040ae": {
      "model_module": "jupyter-js-widgets",
      "model_module_version": "~2.1.4",
      "model_name": "LayoutModel",
      "state": {
       "_model_module_version": "~2.1.4",
       "_view_module_version": "~2.1.4"
      }
     },
     "d789382514a5409eb443c7c28ed63929": {
      "model_module": "jupyter-js-widgets",
      "model_module_version": "~2.1.4",
      "model_name": "LayoutModel",
      "state": {
       "_model_module_version": "~2.1.4",
       "_view_module_version": "~2.1.4"
      }
     },
     "d8110a6fc29a4602864012b8f524b4c1": {
      "model_module": "jupyter-js-widgets",
      "model_module_version": "~2.1.4",
      "model_name": "HBoxModel",
      "state": {
       "_model_module_version": "~2.1.4",
       "_view_module_version": "~2.1.4",
       "children": [
        "IPY_MODEL_214045ca00d0480d8353b384095543e5",
        "IPY_MODEL_93d5df50f95641dcada1e6155eef1d2f"
       ],
       "layout": "IPY_MODEL_80d08cde402e41c5895c9e72184ce14e"
      }
     },
     "d8845e7c7e954fda94cda4d34649da0d": {
      "model_module": "jupyter-js-widgets",
      "model_module_version": "~2.1.4",
      "model_name": "HTMLModel",
      "state": {
       "_model_module_version": "~2.1.4",
       "_view_module_version": "~2.1.4",
       "layout": "IPY_MODEL_f10db316fafd44188f3e2f914c454415",
       "value": "[loss: 0.430, acc: 0.791, val_loss: 0.377, val_acc: 0.821] 100% 363862/363862 [20:22&lt;00:00, 34.36it/s]"
      }
     },
     "da3b3a68e5864b658165c0e3534b5470": {
      "model_module": "jupyter-js-widgets",
      "model_module_version": "~2.1.4",
      "model_name": "LayoutModel",
      "state": {
       "_model_module_version": "~2.1.4",
       "_view_module_version": "~2.1.4"
      }
     },
     "da8de8ee10c74c0db2c459c198f8da3e": {
      "model_module": "jupyter-js-widgets",
      "model_module_version": "~2.1.4",
      "model_name": "LayoutModel",
      "state": {
       "_model_module_version": "~2.1.4",
       "_view_module_version": "~2.1.4"
      }
     },
     "db65745a099946f8b2bd0195c7dc5c34": {
      "model_module": "jupyter-js-widgets",
      "model_module_version": "~2.1.4",
      "model_name": "HTMLModel",
      "state": {
       "_model_module_version": "~2.1.4",
       "_view_module_version": "~2.1.4",
       "layout": "IPY_MODEL_ca9f484da3044c82ad32698114849a2b",
       "value": "  4% 2/50 [40:56&lt;16:26:41, 1233.36s/it]"
      }
     },
     "dba308379d56417cb2dc8f5d27bbdaff": {
      "model_module": "jupyter-js-widgets",
      "model_module_version": "~2.1.4",
      "model_name": "HBoxModel",
      "state": {
       "_model_module_version": "~2.1.4",
       "_view_module_version": "~2.1.4",
       "children": [
        "IPY_MODEL_14c289158ed24df9b473b62d49faae43",
        "IPY_MODEL_8c4c25394ee04d6d8f09defd77055f3b"
       ],
       "layout": "IPY_MODEL_9363a833f43a485cb66a281e10be272f"
      }
     },
     "dba49759e44741b3a0d7a15bd940bd77": {
      "model_module": "jupyter-js-widgets",
      "model_module_version": "~2.1.4",
      "model_name": "HTMLModel",
      "state": {
       "_model_module_version": "~2.1.4",
       "_view_module_version": "~2.1.4",
       "layout": "IPY_MODEL_e9ea170dbf3f47a4afe7c11024d430d6",
       "value": " 10% 5/50 [1:41:06&lt;15:09:55, 1213.23s/it]"
      }
     },
     "dc2a27758d21480ba1e96eed06514500": {
      "model_module": "jupyter-js-widgets",
      "model_module_version": "~2.1.4",
      "model_name": "LayoutModel",
      "state": {
       "_model_module_version": "~2.1.4",
       "_view_module_version": "~2.1.4"
      }
     },
     "dc534155adde41949431a45453656871": {
      "model_module": "jupyter-js-widgets",
      "model_module_version": "~2.1.4",
      "model_name": "HTMLModel",
      "state": {
       "_model_module_version": "~2.1.4",
       "_view_module_version": "~2.1.4",
       "layout": "IPY_MODEL_9a5165daeac64d349101eecddc6c1f6c",
       "value": " 12% 6/50 [2:00:00&lt;14:38:27, 1197.91s/it]"
      }
     },
     "dcb56a11afda46fa840ab429a785736b": {
      "model_module": "jupyter-js-widgets",
      "model_module_version": "~2.1.4",
      "model_name": "ProgressModel",
      "state": {
       "_model_module_version": "~2.1.4",
       "_view_module_version": "~2.1.4",
       "bar_style": "danger",
       "description": "Training: ",
       "layout": "IPY_MODEL_62c26e6df4bc4e00820f656d9109b43d",
       "max": 50,
       "style": "IPY_MODEL_afcdc48b079048b0a494d8a44e3382a6",
       "value": 5
      }
     },
     "dcd802b5f55143c2a1511644b5a2774e": {
      "model_module": "jupyter-js-widgets",
      "model_module_version": "~2.1.4",
      "model_name": "LayoutModel",
      "state": {
       "_model_module_version": "~2.1.4",
       "_view_module_version": "~2.1.4"
      }
     },
     "dce1d478a02d4554a6b08bae6d5317a0": {
      "model_module": "jupyter-js-widgets",
      "model_module_version": "~2.1.4",
      "model_name": "HBoxModel",
      "state": {
       "_model_module_version": "~2.1.4",
       "_view_module_version": "~2.1.4",
       "children": [
        "IPY_MODEL_a71ae3b243d74bd891c957eaeacd90cf",
        "IPY_MODEL_1751d5db21f44e329c7e8f44754e3c0c"
       ],
       "layout": "IPY_MODEL_8311c07cd1c34b6b8edbff34ad542ba3"
      }
     },
     "dd3592e344ed4d80b6f32aa42a8f0a1f": {
      "model_module": "jupyter-js-widgets",
      "model_module_version": "~2.1.4",
      "model_name": "HBoxModel",
      "state": {
       "_model_module_version": "~2.1.4",
       "_view_module_version": "~2.1.4",
       "children": [
        "IPY_MODEL_1a1e364238894a55916eb11b22dee84d",
        "IPY_MODEL_9d22a18034a44c708c526bd3a12db628"
       ],
       "layout": "IPY_MODEL_b4f86a30197c404497944b3c6a802bdc"
      }
     },
     "dd5a22a3f18b405aa27a56d208fc2b48": {
      "model_module": "jupyter-js-widgets",
      "model_module_version": "~2.1.4",
      "model_name": "ProgressStyleModel",
      "state": {
       "_model_module_version": "~2.1.4",
       "_view_module_version": "~2.1.4"
      }
     },
     "ddc6a6926bee4d13b080c298896773b4": {
      "model_module": "jupyter-js-widgets",
      "model_module_version": "~2.1.4",
      "model_name": "HBoxModel",
      "state": {
       "_model_module_version": "~2.1.4",
       "_view_module_version": "~2.1.4",
       "children": [
        "IPY_MODEL_c2cfb45b31034281a6841adfeb1601a2",
        "IPY_MODEL_ab5c45c002aa4775bdec8ac30a9d1c16"
       ],
       "layout": "IPY_MODEL_ea0e62d2de28481599ce1e599f4caf6e"
      }
     },
     "de1e13f30cd54420a8dea198e42fd6ac": {
      "model_module": "jupyter-js-widgets",
      "model_module_version": "~2.1.4",
      "model_name": "HTMLModel",
      "state": {
       "_model_module_version": "~2.1.4",
       "_view_module_version": "~2.1.4",
       "layout": "IPY_MODEL_4c122b171ea6426a87769cea0f1de8b3",
       "value": "[loss: 0.394, acc: 0.811]  67% 244736/363860 [13:44&lt;06:30, 304.68it/s]"
      }
     },
     "de6782c34d3d4190851501b0b34877b8": {
      "model_module": "jupyter-js-widgets",
      "model_module_version": "~2.1.4",
      "model_name": "LayoutModel",
      "state": {
       "_model_module_version": "~2.1.4",
       "_view_module_version": "~2.1.4"
      }
     },
     "de8ab4614cb84c11b28aa4022e4de28d": {
      "model_module": "jupyter-js-widgets",
      "model_module_version": "~2.1.4",
      "model_name": "LayoutModel",
      "state": {
       "_model_module_version": "~2.1.4",
       "_view_module_version": "~2.1.4"
      }
     },
     "dedb62ab50e34d4c8947c7f8441919ff": {
      "model_module": "jupyter-js-widgets",
      "model_module_version": "~2.1.4",
      "model_name": "LayoutModel",
      "state": {
       "_model_module_version": "~2.1.4",
       "_view_module_version": "~2.1.4"
      }
     },
     "df5c01f3a2b14241a480820d79409d38": {
      "model_module": "jupyter-js-widgets",
      "model_module_version": "~2.1.4",
      "model_name": "LayoutModel",
      "state": {
       "_model_module_version": "~2.1.4",
       "_view_module_version": "~2.1.4"
      }
     },
     "dfacfa4d9fa44920ae923a01dfd6f89b": {
      "model_module": "jupyter-js-widgets",
      "model_module_version": "~2.1.4",
      "model_name": "LayoutModel",
      "state": {
       "_model_module_version": "~2.1.4",
       "_view_module_version": "~2.1.4"
      }
     },
     "dfeba3c717574ca1ae0803db5a2a7f72": {
      "model_module": "jupyter-js-widgets",
      "model_module_version": "~2.1.4",
      "model_name": "HTMLModel",
      "state": {
       "_model_module_version": "~2.1.4",
       "_view_module_version": "~2.1.4",
       "layout": "IPY_MODEL_58f3e7a0d59b4d819f2b012ccbba87ff",
       "value": "[loss: 0.389, acc: 0.814, val_loss: 0.424, val_acc: 0.799] 100% 363860/363860 [20:33&lt;00:00, 33.13it/s]"
      }
     },
     "e000da500c3842a8aa55e99d10a30767": {
      "model_module": "jupyter-js-widgets",
      "model_module_version": "~2.1.4",
      "model_name": "LayoutModel",
      "state": {
       "_model_module_version": "~2.1.4",
       "_view_module_version": "~2.1.4"
      }
     },
     "e01dc19bd298450f8b431c48fa7656f8": {
      "model_module": "jupyter-js-widgets",
      "model_module_version": "~2.1.4",
      "model_name": "ProgressStyleModel",
      "state": {
       "_model_module_version": "~2.1.4",
       "_view_module_version": "~2.1.4"
      }
     },
     "e09d0c52bb074f019ac3ee0bc4748022": {
      "model_module": "jupyter-js-widgets",
      "model_module_version": "~2.1.4",
      "model_name": "HTMLModel",
      "state": {
       "_model_module_version": "~2.1.4",
       "_view_module_version": "~2.1.4",
       "layout": "IPY_MODEL_76e638e2a05644258ef01e4f78b0178f",
       "value": "[loss: 0.234, acc: 0.899, val_loss: 0.312, val_acc: 0.864] 100% 363860/363860 [20:08&lt;00:00, 33.87it/s]"
      }
     },
     "e0acbcf61acc44a492f490ff40bc8bb7": {
      "model_module": "jupyter-js-widgets",
      "model_module_version": "~2.1.4",
      "model_name": "HTMLModel",
      "state": {
       "_model_module_version": "~2.1.4",
       "_view_module_version": "~2.1.4",
       "layout": "IPY_MODEL_da3b3a68e5864b658165c0e3534b5470",
       "value": "[loss: 0.392, acc: 0.813, val_loss: 0.446, val_acc: 0.781] 100% 363860/363860 [20:13&lt;00:00, 32.58it/s]"
      }
     },
     "e0d4e661e62a4c908bece95dc6741a3a": {
      "model_module": "jupyter-js-widgets",
      "model_module_version": "~2.1.4",
      "model_name": "ProgressModel",
      "state": {
       "_model_module_version": "~2.1.4",
       "_view_module_version": "~2.1.4",
       "description": "Epoch 2: ",
       "layout": "IPY_MODEL_2006daa70d5c447082bf72cae0991646",
       "max": 900,
       "style": "IPY_MODEL_9988e1910bc6491a96390b8c2d3a1eaf",
       "value": 900
      }
     },
     "e0e5eb7074c9482890fded7225486d17": {
      "model_module": "jupyter-js-widgets",
      "model_module_version": "~2.1.4",
      "model_name": "HTMLModel",
      "state": {
       "_model_module_version": "~2.1.4",
       "_view_module_version": "~2.1.4",
       "layout": "IPY_MODEL_b045c06722ea478daca1a6855e220336",
       "value": "[loss: 0.191, acc: 0.920, val_loss: 0.338, val_acc: 0.863] 100% 363860/363860 [19:48&lt;00:00, 34.47it/s]"
      }
     },
     "e1507d7dbc6647bca4bfab7229b25453": {
      "model_module": "jupyter-js-widgets",
      "model_module_version": "~2.1.4",
      "model_name": "ProgressStyleModel",
      "state": {
       "_model_module_version": "~2.1.4",
       "_view_module_version": "~2.1.4"
      }
     },
     "e210c519edcc4864b715d8b98a77a43c": {
      "model_module": "jupyter-js-widgets",
      "model_module_version": "~2.1.4",
      "model_name": "LayoutModel",
      "state": {
       "_model_module_version": "~2.1.4",
       "_view_module_version": "~2.1.4"
      }
     },
     "e2e46561d69347f58c43aff89d3afb12": {
      "model_module": "jupyter-js-widgets",
      "model_module_version": "~2.1.4",
      "model_name": "LayoutModel",
      "state": {
       "_model_module_version": "~2.1.4",
       "_view_module_version": "~2.1.4"
      }
     },
     "e32219464ac640a88966a490fd6c3adb": {
      "model_module": "jupyter-js-widgets",
      "model_module_version": "~2.1.4",
      "model_name": "HBoxModel",
      "state": {
       "_model_module_version": "~2.1.4",
       "_view_module_version": "~2.1.4",
       "children": [
        "IPY_MODEL_405588daec674269bb76162ef63c5956",
        "IPY_MODEL_d8845e7c7e954fda94cda4d34649da0d"
       ],
       "layout": "IPY_MODEL_252d8a342d0c43809f7079bd113a90a4"
      }
     },
     "e347bf1352ad462e9b8d6a6caff9e018": {
      "model_module": "jupyter-js-widgets",
      "model_module_version": "~2.1.4",
      "model_name": "LayoutModel",
      "state": {
       "_model_module_version": "~2.1.4",
       "_view_module_version": "~2.1.4"
      }
     },
     "e367150689e9441ba2c63656cb526842": {
      "model_module": "jupyter-js-widgets",
      "model_module_version": "~2.1.4",
      "model_name": "ProgressStyleModel",
      "state": {
       "_model_module_version": "~2.1.4",
       "_view_module_version": "~2.1.4"
      }
     },
     "e37a61538b1e441b95e7c06387b05645": {
      "model_module": "jupyter-js-widgets",
      "model_module_version": "~2.1.4",
      "model_name": "LayoutModel",
      "state": {
       "_model_module_version": "~2.1.4",
       "_view_module_version": "~2.1.4"
      }
     },
     "e38eaaab1f764ae7a52b2916aa1c5d35": {
      "model_module": "jupyter-js-widgets",
      "model_module_version": "~2.1.4",
      "model_name": "LayoutModel",
      "state": {
       "_model_module_version": "~2.1.4",
       "_view_module_version": "~2.1.4"
      }
     },
     "e3f04cc2d94747e58fac2e6edc89c4ad": {
      "model_module": "jupyter-js-widgets",
      "model_module_version": "~2.1.4",
      "model_name": "ProgressStyleModel",
      "state": {
       "_model_module_version": "~2.1.4",
       "_view_module_version": "~2.1.4"
      }
     },
     "e40551caa46e41cbb7e02932ca6a64f1": {
      "model_module": "jupyter-js-widgets",
      "model_module_version": "~2.1.4",
      "model_name": "LayoutModel",
      "state": {
       "_model_module_version": "~2.1.4",
       "_view_module_version": "~2.1.4"
      }
     },
     "e462411621b24e4fa0770efa52f00a61": {
      "model_module": "jupyter-js-widgets",
      "model_module_version": "~2.1.4",
      "model_name": "ProgressModel",
      "state": {
       "_model_module_version": "~2.1.4",
       "_view_module_version": "~2.1.4",
       "description": "Epoch 3: ",
       "layout": "IPY_MODEL_ed64dd2e376242caad72806bddb8358e",
       "max": 363861,
       "style": "IPY_MODEL_61b31c7494724500a49f07b3853f11ce",
       "value": 363861
      }
     },
     "e4b3c3134cbf436f8267d8398fbd7c21": {
      "model_module": "jupyter-js-widgets",
      "model_module_version": "~2.1.4",
      "model_name": "LayoutModel",
      "state": {
       "_model_module_version": "~2.1.4",
       "_view_module_version": "~2.1.4"
      }
     },
     "e4e618c740bd4b57970ff1e16086ea12": {
      "model_module": "jupyter-js-widgets",
      "model_module_version": "~2.1.4",
      "model_name": "LayoutModel",
      "state": {
       "_model_module_version": "~2.1.4",
       "_view_module_version": "~2.1.4"
      }
     },
     "e4f5ff9ad6034ca38fff2b03489a1095": {
      "model_module": "jupyter-js-widgets",
      "model_module_version": "~2.1.4",
      "model_name": "LayoutModel",
      "state": {
       "_model_module_version": "~2.1.4",
       "_view_module_version": "~2.1.4"
      }
     },
     "e53e5369ff2d4c368f234c663cd4e3cc": {
      "model_module": "jupyter-js-widgets",
      "model_module_version": "~2.1.4",
      "model_name": "LayoutModel",
      "state": {
       "_model_module_version": "~2.1.4",
       "_view_module_version": "~2.1.4"
      }
     },
     "e577e0e9d7eb4320bb5eedadd597d3f9": {
      "model_module": "jupyter-js-widgets",
      "model_module_version": "~2.1.4",
      "model_name": "ProgressStyleModel",
      "state": {
       "_model_module_version": "~2.1.4",
       "_view_module_version": "~2.1.4"
      }
     },
     "e58dfb63019b411981bfc0fb56a8d4cf": {
      "model_module": "jupyter-js-widgets",
      "model_module_version": "~2.1.4",
      "model_name": "LayoutModel",
      "state": {
       "_model_module_version": "~2.1.4",
       "_view_module_version": "~2.1.4"
      }
     },
     "e618d87efa164da8884a3e35c18b6b5a": {
      "model_module": "jupyter-js-widgets",
      "model_module_version": "~2.1.4",
      "model_name": "ProgressModel",
      "state": {
       "_model_module_version": "~2.1.4",
       "_view_module_version": "~2.1.4",
       "description": "Epoch 2: ",
       "layout": "IPY_MODEL_1d3b8bb101a7453480b4bc0d1b696326",
       "max": 363861,
       "style": "IPY_MODEL_e01dc19bd298450f8b431c48fa7656f8",
       "value": 363861
      }
     },
     "e61c30c72eb840d3a752bdd3c4abe33c": {
      "model_module": "jupyter-js-widgets",
      "model_module_version": "~2.1.4",
      "model_name": "LayoutModel",
      "state": {
       "_model_module_version": "~2.1.4",
       "_view_module_version": "~2.1.4"
      }
     },
     "e6326edde3034879ad4a3c5e6d544630": {
      "model_module": "jupyter-js-widgets",
      "model_module_version": "~2.1.4",
      "model_name": "HTMLModel",
      "state": {
       "_model_module_version": "~2.1.4",
       "_view_module_version": "~2.1.4",
       "layout": "IPY_MODEL_6dc1d304db5e42e4a22c51ffdc7c47e7",
       "value": "[loss: 0.429, acc: 0.792, val_loss: 0.378, val_acc: 0.820] 100% 363860/363860 [19:32&lt;00:00, 33.87it/s]"
      }
     },
     "e64eadff4f1944518800b58ad9bfeb76": {
      "model_module": "jupyter-js-widgets",
      "model_module_version": "~2.1.4",
      "model_name": "LayoutModel",
      "state": {
       "_model_module_version": "~2.1.4",
       "_view_module_version": "~2.1.4"
      }
     },
     "e6c6adee034649f5b46db8b6a32a1d8b": {
      "model_module": "jupyter-js-widgets",
      "model_module_version": "~2.1.4",
      "model_name": "ProgressModel",
      "state": {
       "_model_module_version": "~2.1.4",
       "_view_module_version": "~2.1.4",
       "bar_style": "danger",
       "description": "Training: ",
       "layout": "IPY_MODEL_c2704de66bf94541b92ea94f3a785186",
       "max": 50,
       "style": "IPY_MODEL_b7e55f8c35dd4ab2ba3b618e2e193edb",
       "value": 14
      }
     },
     "e6eb974a214c4ec28b3297df706823b2": {
      "model_module": "jupyter-js-widgets",
      "model_module_version": "~2.1.4",
      "model_name": "LayoutModel",
      "state": {
       "_model_module_version": "~2.1.4",
       "_view_module_version": "~2.1.4"
      }
     },
     "e70c74d28a0f4b9bb9887efce07bcb77": {
      "model_module": "jupyter-js-widgets",
      "model_module_version": "~2.1.4",
      "model_name": "ProgressModel",
      "state": {
       "_model_module_version": "~2.1.4",
       "_view_module_version": "~2.1.4",
       "description": "Epoch 1: ",
       "layout": "IPY_MODEL_d229e0055eda4f16b106c8fb52a56c4b",
       "max": 363860,
       "style": "IPY_MODEL_778e7b4f507241d382e8a1451441b62a",
       "value": 363860
      }
     },
     "e724a03aa6e644dfa59cdbec0c4ff1bd": {
      "model_module": "jupyter-js-widgets",
      "model_module_version": "~2.1.4",
      "model_name": "LayoutModel",
      "state": {
       "_model_module_version": "~2.1.4",
       "_view_module_version": "~2.1.4"
      }
     },
     "e811283f025d48b2b25f0b17dcbc9c5f": {
      "model_module": "jupyter-js-widgets",
      "model_module_version": "~2.1.4",
      "model_name": "LayoutModel",
      "state": {
       "_model_module_version": "~2.1.4",
       "_view_module_version": "~2.1.4"
      }
     },
     "e83000846840482e88b0947116c87507": {
      "model_module": "jupyter-js-widgets",
      "model_module_version": "~2.1.4",
      "model_name": "LayoutModel",
      "state": {
       "_model_module_version": "~2.1.4",
       "_view_module_version": "~2.1.4"
      }
     },
     "e850acebf5694a73978ddeb43b3b0d2c": {
      "model_module": "jupyter-js-widgets",
      "model_module_version": "~2.1.4",
      "model_name": "LayoutModel",
      "state": {
       "_model_module_version": "~2.1.4",
       "_view_module_version": "~2.1.4"
      }
     },
     "e8c7b880113d49bfbeb608ba9a590c8c": {
      "model_module": "jupyter-js-widgets",
      "model_module_version": "~2.1.4",
      "model_name": "HBoxModel",
      "state": {
       "_model_module_version": "~2.1.4",
       "_view_module_version": "~2.1.4",
       "children": [
        "IPY_MODEL_c070d9623b6740f6a1c1cfb3d7aeaa30",
        "IPY_MODEL_aa821ca1cd4c4d178f3e3db21488f28b"
       ],
       "layout": "IPY_MODEL_37c6172afd254b8691962c64b09bd725"
      }
     },
     "e91ffb1d6425489486094e6aae2a128b": {
      "model_module": "jupyter-js-widgets",
      "model_module_version": "~2.1.4",
      "model_name": "HBoxModel",
      "state": {
       "_model_module_version": "~2.1.4",
       "_view_module_version": "~2.1.4",
       "children": [
        "IPY_MODEL_35fcc51ea5b24eb68a28812b0ee08f78",
        "IPY_MODEL_2b3290c2238345f886c2cafedddcd60c"
       ],
       "layout": "IPY_MODEL_c8dfa9ef8e204f9fa7d5cb400738fb50"
      }
     },
     "e9e3bddbd6a24a21b22e08ad4cd2e481": {
      "model_module": "jupyter-js-widgets",
      "model_module_version": "~2.1.4",
      "model_name": "HTMLModel",
      "state": {
       "_model_module_version": "~2.1.4",
       "_view_module_version": "~2.1.4",
       "layout": "IPY_MODEL_81d44cef6abe4b719ccea0451aa355fb",
       "value": " 12% 6/50 [2:02:54&lt;15:01:12, 1228.92s/it]"
      }
     },
     "e9ea170dbf3f47a4afe7c11024d430d6": {
      "model_module": "jupyter-js-widgets",
      "model_module_version": "~2.1.4",
      "model_name": "LayoutModel",
      "state": {
       "_model_module_version": "~2.1.4",
       "_view_module_version": "~2.1.4"
      }
     },
     "e9efd9531e5148989c3b9e96f5ada949": {
      "model_module": "jupyter-js-widgets",
      "model_module_version": "~2.1.4",
      "model_name": "HTMLModel",
      "state": {
       "_model_module_version": "~2.1.4",
       "_view_module_version": "~2.1.4",
       "layout": "IPY_MODEL_05600268b0544d69b795d948eb314c1d",
       "value": "[loss: 0.156, acc: 0.936, val_loss: 0.338, val_acc: 0.872] 100% 363861/363861 [20:28&lt;00:00, 34.71it/s]"
      }
     },
     "ea00faff64464626bb69615c69a385e3": {
      "model_module": "jupyter-js-widgets",
      "model_module_version": "~2.1.4",
      "model_name": "HBoxModel",
      "state": {
       "_model_module_version": "~2.1.4",
       "_view_module_version": "~2.1.4",
       "children": [
        "IPY_MODEL_a2e2901a161840ad8c4b2fd564eced25",
        "IPY_MODEL_7bfc0f1020f943e1ab73eaf81aeb74c5"
       ],
       "layout": "IPY_MODEL_61df1ab1fc084fc9abc020c56a2dfc90"
      }
     },
     "ea0e62d2de28481599ce1e599f4caf6e": {
      "model_module": "jupyter-js-widgets",
      "model_module_version": "~2.1.4",
      "model_name": "LayoutModel",
      "state": {
       "_model_module_version": "~2.1.4",
       "_view_module_version": "~2.1.4"
      }
     },
     "ea53fc9d09154ef79036146354152c4c": {
      "model_module": "jupyter-js-widgets",
      "model_module_version": "~2.1.4",
      "model_name": "LayoutModel",
      "state": {
       "_model_module_version": "~2.1.4",
       "_view_module_version": "~2.1.4"
      }
     },
     "ea5b303f9f084a18a16241cd117479aa": {
      "model_module": "jupyter-js-widgets",
      "model_module_version": "~2.1.4",
      "model_name": "LayoutModel",
      "state": {
       "_model_module_version": "~2.1.4",
       "_view_module_version": "~2.1.4"
      }
     },
     "ea72fcb1b8b747fcb6955971b425c73b": {
      "model_module": "jupyter-js-widgets",
      "model_module_version": "~2.1.4",
      "model_name": "LayoutModel",
      "state": {
       "_model_module_version": "~2.1.4",
       "_view_module_version": "~2.1.4"
      }
     },
     "ea95c32555344138af358ca88e409c90": {
      "model_module": "jupyter-js-widgets",
      "model_module_version": "~2.1.4",
      "model_name": "LayoutModel",
      "state": {
       "_model_module_version": "~2.1.4",
       "_view_module_version": "~2.1.4"
      }
     },
     "eab45cc528c14ea78998ba20d880fedd": {
      "model_module": "jupyter-js-widgets",
      "model_module_version": "~2.1.4",
      "model_name": "ProgressModel",
      "state": {
       "_model_module_version": "~2.1.4",
       "_view_module_version": "~2.1.4",
       "bar_style": "danger",
       "description": "Training: ",
       "layout": "IPY_MODEL_37cdbe953dc3475bab21e56c30093ab1",
       "max": 50,
       "style": "IPY_MODEL_4617197a0e6546c4b1713885aae8bc8a",
       "value": 2
      }
     },
     "ead9b3a7d64b4fcfa4daa18f37b4f275": {
      "model_module": "jupyter-js-widgets",
      "model_module_version": "~2.1.4",
      "model_name": "HBoxModel",
      "state": {
       "_model_module_version": "~2.1.4",
       "_view_module_version": "~2.1.4",
       "children": [
        "IPY_MODEL_52ba865d53694953bcbf9dd8da2d36f7",
        "IPY_MODEL_995a6fa008834056bc9d1826500f760c"
       ],
       "layout": "IPY_MODEL_3a7f0f902e674e80b82454c4cc5d556b"
      }
     },
     "eafb24fb300e4930b225e7cec9581d82": {
      "model_module": "jupyter-js-widgets",
      "model_module_version": "~2.1.4",
      "model_name": "ProgressModel",
      "state": {
       "_model_module_version": "~2.1.4",
       "_view_module_version": "~2.1.4",
       "description": "Epoch 0: ",
       "layout": "IPY_MODEL_df5c01f3a2b14241a480820d79409d38",
       "max": 363860,
       "style": "IPY_MODEL_9429247338bf45219811aa6f76cafa29",
       "value": 363860
      }
     },
     "eb51aae5d8bb4306ae1a9d3ea1d7c51e": {
      "model_module": "jupyter-js-widgets",
      "model_module_version": "~2.1.4",
      "model_name": "LayoutModel",
      "state": {
       "_model_module_version": "~2.1.4",
       "_view_module_version": "~2.1.4"
      }
     },
     "ec1a4d78a1314111894abe78340f48d7": {
      "model_module": "jupyter-js-widgets",
      "model_module_version": "~2.1.4",
      "model_name": "HTMLModel",
      "state": {
       "_model_module_version": "~2.1.4",
       "_view_module_version": "~2.1.4",
       "layout": "IPY_MODEL_0319109ba90343308a7b57dd3a21fcfb",
       "value": "[loss: 0.331, acc: 0.848, val_loss: 0.339, val_acc: 0.843] 100% 363861/363861 [20:09&lt;00:00, 34.73it/s]"
      }
     },
     "ec1d4a9ed4eb42299fc98aaa5785cdfc": {
      "model_module": "jupyter-js-widgets",
      "model_module_version": "~2.1.4",
      "model_name": "LayoutModel",
      "state": {
       "_model_module_version": "~2.1.4",
       "_view_module_version": "~2.1.4"
      }
     },
     "ec25e51d20b144868a0ee2cd13f27352": {
      "model_module": "jupyter-js-widgets",
      "model_module_version": "~2.1.4",
      "model_name": "HBoxModel",
      "state": {
       "_model_module_version": "~2.1.4",
       "_view_module_version": "~2.1.4",
       "children": [
        "IPY_MODEL_eed950659dda43e1a364c1f8cc336d1e",
        "IPY_MODEL_5d0a90759baa420bbd7e8e3964de660c"
       ],
       "layout": "IPY_MODEL_3f1005394aa540bda76e3cc53b2cdc9f"
      }
     },
     "ec8de2e848a44759914af167b0558a2b": {
      "model_module": "jupyter-js-widgets",
      "model_module_version": "~2.1.4",
      "model_name": "ProgressModel",
      "state": {
       "_model_module_version": "~2.1.4",
       "_view_module_version": "~2.1.4",
       "description": "Training: ",
       "layout": "IPY_MODEL_8a66452dbd02456cba5e64ce0ad55737",
       "max": 50,
       "style": "IPY_MODEL_ce89c7964baa4d90a726368e5ad93640",
       "value": 7
      }
     },
     "ecf8a726da17434e8030917612c61c87": {
      "model_module": "jupyter-js-widgets",
      "model_module_version": "~2.1.4",
      "model_name": "ProgressModel",
      "state": {
       "_model_module_version": "~2.1.4",
       "_view_module_version": "~2.1.4",
       "description": "Epoch 1: ",
       "layout": "IPY_MODEL_8b6d10ee2c9742ed93c01d4bc931fa70",
       "max": 363862,
       "style": "IPY_MODEL_c8ae406fedb44cee83c53440894db976",
       "value": 363862
      }
     },
     "ed14e9b40c7f44f6b972927287464f2f": {
      "model_module": "jupyter-js-widgets",
      "model_module_version": "~2.1.4",
      "model_name": "HTMLModel",
      "state": {
       "_model_module_version": "~2.1.4",
       "_view_module_version": "~2.1.4",
       "layout": "IPY_MODEL_8e53db0b01d04baea60781683a44ad24",
       "value": "[loss: 0.324, acc: 0.852, val_loss: 0.413, val_acc: 0.810] 100% 363860/363860 [22:04&lt;00:00, 32.58it/s]"
      }
     },
     "ed64dd2e376242caad72806bddb8358e": {
      "model_module": "jupyter-js-widgets",
      "model_module_version": "~2.1.4",
      "model_name": "LayoutModel",
      "state": {
       "_model_module_version": "~2.1.4",
       "_view_module_version": "~2.1.4"
      }
     },
     "ee26b43562ba463cba34ea39ea550d92": {
      "model_module": "jupyter-js-widgets",
      "model_module_version": "~2.1.4",
      "model_name": "ProgressModel",
      "state": {
       "_model_module_version": "~2.1.4",
       "_view_module_version": "~2.1.4",
       "description": "Epoch 4: ",
       "layout": "IPY_MODEL_84f441635dc84a848f907af5070a816b",
       "max": 363860,
       "style": "IPY_MODEL_7df8cd3e41304dce90d4f7d123fbb346",
       "value": 363860
      }
     },
     "ee5867744b2e4218b8afb14a710890e6": {
      "model_module": "jupyter-js-widgets",
      "model_module_version": "~2.1.4",
      "model_name": "HTMLModel",
      "state": {
       "_model_module_version": "~2.1.4",
       "_view_module_version": "~2.1.4",
       "layout": "IPY_MODEL_ccffa26570784a9c8d24a07a2dabefac",
       "value": "[loss: 0.334, acc: 0.846, val_loss: 0.338, val_acc: 0.848] 100% 363862/363862 [20:17&lt;00:00, 34.73it/s]"
      }
     },
     "ee6a8b980ebc41dd8f90de0bfbb910bd": {
      "model_module": "jupyter-js-widgets",
      "model_module_version": "~2.1.4",
      "model_name": "HBoxModel",
      "state": {
       "_model_module_version": "~2.1.4",
       "_view_module_version": "~2.1.4",
       "children": [
        "IPY_MODEL_e0d4e661e62a4c908bece95dc6741a3a",
        "IPY_MODEL_b23b44d174924e38bf52af4a170cbf69"
       ],
       "layout": "IPY_MODEL_e61c30c72eb840d3a752bdd3c4abe33c"
      }
     },
     "eed950659dda43e1a364c1f8cc336d1e": {
      "model_module": "jupyter-js-widgets",
      "model_module_version": "~2.1.4",
      "model_name": "ProgressModel",
      "state": {
       "_model_module_version": "~2.1.4",
       "_view_module_version": "~2.1.4",
       "description": "Epoch 0: ",
       "layout": "IPY_MODEL_6b49a7e3e87f453f9dacbd4f4c63dcf4",
       "max": 363860,
       "style": "IPY_MODEL_65b7e4181fb74b3d91a4f009e640dbeb",
       "value": 363860
      }
     },
     "ef05845b9c1e4a8cae8a8951a83f1deb": {
      "model_module": "jupyter-js-widgets",
      "model_module_version": "~2.1.4",
      "model_name": "ProgressModel",
      "state": {
       "_model_module_version": "~2.1.4",
       "_view_module_version": "~2.1.4",
       "description": "Epoch 4: ",
       "layout": "IPY_MODEL_7931ebdf4a53401ea3edcd3f5b709dd3",
       "max": 363861,
       "style": "IPY_MODEL_fc6744fa4c3c4d68a60c5d2d39402dc3",
       "value": 363861
      }
     },
     "f0764f3c131d4d02949f48c62e86eb3c": {
      "model_module": "jupyter-js-widgets",
      "model_module_version": "~2.1.4",
      "model_name": "HBoxModel",
      "state": {
       "_model_module_version": "~2.1.4",
       "_view_module_version": "~2.1.4",
       "children": [
        "IPY_MODEL_0d659ca9e67e441999c9c8afba513351",
        "IPY_MODEL_2b356aa549274eadb948dd23dca8fd2a"
       ],
       "layout": "IPY_MODEL_18454dc82aa44539b4ec51f53b1b9871"
      }
     },
     "f0798596c64b4e79b1f340f2b423ce72": {
      "model_module": "jupyter-js-widgets",
      "model_module_version": "~2.1.4",
      "model_name": "ProgressStyleModel",
      "state": {
       "_model_module_version": "~2.1.4",
       "_view_module_version": "~2.1.4"
      }
     },
     "f08f74d2357d4688ae39e82b0607676a": {
      "model_module": "jupyter-js-widgets",
      "model_module_version": "~2.1.4",
      "model_name": "ProgressStyleModel",
      "state": {
       "_model_module_version": "~2.1.4",
       "_view_module_version": "~2.1.4"
      }
     },
     "f10db316fafd44188f3e2f914c454415": {
      "model_module": "jupyter-js-widgets",
      "model_module_version": "~2.1.4",
      "model_name": "LayoutModel",
      "state": {
       "_model_module_version": "~2.1.4",
       "_view_module_version": "~2.1.4"
      }
     },
     "f12fa114807f4dfab886ab3cc8859612": {
      "model_module": "jupyter-js-widgets",
      "model_module_version": "~2.1.4",
      "model_name": "ProgressStyleModel",
      "state": {
       "_model_module_version": "~2.1.4",
       "_view_module_version": "~2.1.4"
      }
     },
     "f1b1448dbbf2415fafa0cf8136317363": {
      "model_module": "jupyter-js-widgets",
      "model_module_version": "~2.1.4",
      "model_name": "HTMLModel",
      "state": {
       "_model_module_version": "~2.1.4",
       "_view_module_version": "~2.1.4",
       "layout": "IPY_MODEL_146799eddb914ff7b22332e25532d397",
       "value": "[loss: 0.222, acc: 0.906]  26% 93184/363860 [04:42&lt;13:40, 329.89it/s]"
      }
     },
     "f1d96ae4f5774e609f838034cfa42550": {
      "model_module": "jupyter-js-widgets",
      "model_module_version": "~2.1.4",
      "model_name": "LayoutModel",
      "state": {
       "_model_module_version": "~2.1.4",
       "_view_module_version": "~2.1.4"
      }
     },
     "f22b1772e66a45649a06e3baebbeeae4": {
      "model_module": "jupyter-js-widgets",
      "model_module_version": "~2.1.4",
      "model_name": "HTMLModel",
      "state": {
       "_model_module_version": "~2.1.4",
       "_view_module_version": "~2.1.4",
       "layout": "IPY_MODEL_e811283f025d48b2b25f0b17dcbc9c5f",
       "value": "[loss: 0.827, acc: 0.518, val_loss: 0.688, val_acc: 0.530] 100% 900/900 [00:09&lt;00:00, 84.15it/s]"
      }
     },
     "f252af0c24684a0e8d509590f94bcbe6": {
      "model_module": "jupyter-js-widgets",
      "model_module_version": "~2.1.4",
      "model_name": "HTMLModel",
      "state": {
       "_model_module_version": "~2.1.4",
       "_view_module_version": "~2.1.4",
       "layout": "IPY_MODEL_d69ec39a0cf64f0ea06cd6208668f7fd",
       "value": "[loss: 0.233, acc: 0.899, val_loss: 0.323, val_acc: 0.862] 100% 363861/363861 [20:04&lt;00:00, 34.66it/s]"
      }
     },
     "f2a95e1456dc4a2e9fbb9ced974028b7": {
      "model_module": "jupyter-js-widgets",
      "model_module_version": "~2.1.4",
      "model_name": "ProgressStyleModel",
      "state": {
       "_model_module_version": "~2.1.4",
       "_view_module_version": "~2.1.4"
      }
     },
     "f2c4bde60f1742c6a562a744fcd5b620": {
      "model_module": "jupyter-js-widgets",
      "model_module_version": "~2.1.4",
      "model_name": "ProgressModel",
      "state": {
       "_model_module_version": "~2.1.4",
       "_view_module_version": "~2.1.4",
       "description": "Epoch 7: ",
       "layout": "IPY_MODEL_a55245533e6b4fad886910e092bdf03c",
       "max": 363860,
       "style": "IPY_MODEL_579ca2e176e142149f27957de6aeac4f",
       "value": 43008
      }
     },
     "f2f9b82ae84f42fe96695134652a34b0": {
      "model_module": "jupyter-js-widgets",
      "model_module_version": "~2.1.4",
      "model_name": "LayoutModel",
      "state": {
       "_model_module_version": "~2.1.4",
       "_view_module_version": "~2.1.4"
      }
     },
     "f343e34f180b4cb3a4fd20ed1600cce4": {
      "model_module": "jupyter-js-widgets",
      "model_module_version": "~2.1.4",
      "model_name": "ProgressModel",
      "state": {
       "_model_module_version": "~2.1.4",
       "_view_module_version": "~2.1.4",
       "description": "Epoch 0: ",
       "layout": "IPY_MODEL_1e71c83c7b3c468c9a83517f0e74db7b",
       "max": 363860,
       "style": "IPY_MODEL_1fbb135bbfde4697b5c70fbbaeafa373",
       "value": 363860
      }
     },
     "f36fe13d0fec4c8581e8ccd396c072de": {
      "model_module": "jupyter-js-widgets",
      "model_module_version": "~2.1.4",
      "model_name": "HTMLModel",
      "state": {
       "_model_module_version": "~2.1.4",
       "_view_module_version": "~2.1.4",
       "layout": "IPY_MODEL_8247e94236314808aa73544417c910cc",
       "value": "[loss: 0.280, acc: 0.876, val_loss: 0.314, val_acc: 0.860] 100% 363860/363860 [18:49&lt;00:00, 34.70it/s]"
      }
     },
     "f38e9bf8d3794fe2aea8262b5925e3e5": {
      "model_module": "jupyter-js-widgets",
      "model_module_version": "~2.1.4",
      "model_name": "HBoxModel",
      "state": {
       "_model_module_version": "~2.1.4",
       "_view_module_version": "~2.1.4",
       "children": [
        "IPY_MODEL_8191698a0ee04fae8d10891f6e12eb81",
        "IPY_MODEL_442674a117834d68867559fe0579327b"
       ],
       "layout": "IPY_MODEL_fb74ea2261b44589b37f008a9892f3b2"
      }
     },
     "f4074dc1c79c41dfa05d5678ef1ba037": {
      "model_module": "jupyter-js-widgets",
      "model_module_version": "~2.1.4",
      "model_name": "HTMLModel",
      "state": {
       "_model_module_version": "~2.1.4",
       "_view_module_version": "~2.1.4",
       "layout": "IPY_MODEL_952c3b60e0ed4876b6eda546c25d144a",
       "value": "[loss: 0.332, acc: 0.848, val_loss: 0.356, val_acc: 0.838] 100% 363861/363861 [20:10&lt;00:00, 34.76it/s]"
      }
     },
     "f44636b633d94e7ea651e911d056e1a5": {
      "model_module": "jupyter-js-widgets",
      "model_module_version": "~2.1.4",
      "model_name": "ProgressStyleModel",
      "state": {
       "_model_module_version": "~2.1.4",
       "_view_module_version": "~2.1.4"
      }
     },
     "f4e8589ffc664b078c6a16e23fdf3cbc": {
      "model_module": "jupyter-js-widgets",
      "model_module_version": "~2.1.4",
      "model_name": "HBoxModel",
      "state": {
       "_model_module_version": "~2.1.4",
       "_view_module_version": "~2.1.4",
       "children": [
        "IPY_MODEL_fa449ddb2fdb418280479ce3a164de2f",
        "IPY_MODEL_38e98dc72f6945bc8f91f399433f3138"
       ],
       "layout": "IPY_MODEL_4a70ba0fde0f4867ab52745913365705"
      }
     },
     "f4e9fdfb33c14a4e9641826a7d100c1e": {
      "model_module": "jupyter-js-widgets",
      "model_module_version": "~2.1.4",
      "model_name": "ProgressModel",
      "state": {
       "_model_module_version": "~2.1.4",
       "_view_module_version": "~2.1.4",
       "description": "Epoch 2: ",
       "layout": "IPY_MODEL_e000da500c3842a8aa55e99d10a30767",
       "max": 363860,
       "style": "IPY_MODEL_dd5a22a3f18b405aa27a56d208fc2b48",
       "value": 363860
      }
     },
     "f4f102228a7044fea403dc047a52752f": {
      "model_module": "jupyter-js-widgets",
      "model_module_version": "~2.1.4",
      "model_name": "LayoutModel",
      "state": {
       "_model_module_version": "~2.1.4",
       "_view_module_version": "~2.1.4"
      }
     },
     "f514b07b750149da92993b475dde2cb5": {
      "model_module": "jupyter-js-widgets",
      "model_module_version": "~2.1.4",
      "model_name": "HBoxModel",
      "state": {
       "_model_module_version": "~2.1.4",
       "_view_module_version": "~2.1.4",
       "children": [
        "IPY_MODEL_bb9c2089bf544b9fb6d176f1176cf4b7",
        "IPY_MODEL_b147cce0b3054684895911be25a67447"
       ],
       "layout": "IPY_MODEL_34f1555a3cba4dc9b1008d3aea14a6c3"
      }
     },
     "f557dbf5d13f423cb0590cefcf640b51": {
      "model_module": "jupyter-js-widgets",
      "model_module_version": "~2.1.4",
      "model_name": "HBoxModel",
      "state": {
       "_model_module_version": "~2.1.4",
       "_view_module_version": "~2.1.4",
       "children": [
        "IPY_MODEL_9b78e8514afe4dc2b115316e9fd60985",
        "IPY_MODEL_5bffe477a75f4174a5f6a4a33dfe2a1b"
       ],
       "layout": "IPY_MODEL_c6a8994b975a4ec7b706388d24d885b5"
      }
     },
     "f5770600912f4951a75e3ec6ed666701": {
      "model_module": "jupyter-js-widgets",
      "model_module_version": "~2.1.4",
      "model_name": "LayoutModel",
      "state": {
       "_model_module_version": "~2.1.4",
       "_view_module_version": "~2.1.4"
      }
     },
     "f5a6dacdf499497ca73cd9c2bc5e71ad": {
      "model_module": "jupyter-js-widgets",
      "model_module_version": "~2.1.4",
      "model_name": "LayoutModel",
      "state": {
       "_model_module_version": "~2.1.4",
       "_view_module_version": "~2.1.4"
      }
     },
     "f5cf5059798545aa986e6079c0a3205e": {
      "model_module": "jupyter-js-widgets",
      "model_module_version": "~2.1.4",
      "model_name": "HBoxModel",
      "state": {
       "_model_module_version": "~2.1.4",
       "_view_module_version": "~2.1.4",
       "children": [
        "IPY_MODEL_193d775fcaa043ae8e6dbf0b6220e63a",
        "IPY_MODEL_824c3e9ab3084d2b8bc184a7844b2914"
       ],
       "layout": "IPY_MODEL_1c943761f9364b05a9725612ece43fd5"
      }
     },
     "f62d075197ab4dc1acccc16f9cc6c58a": {
      "model_module": "jupyter-js-widgets",
      "model_module_version": "~2.1.4",
      "model_name": "ProgressModel",
      "state": {
       "_model_module_version": "~2.1.4",
       "_view_module_version": "~2.1.4",
       "description": "Epoch 3: ",
       "layout": "IPY_MODEL_b235b2eb066b42adae5de2e24c5e02b6",
       "max": 363860,
       "style": "IPY_MODEL_a0d3fc0424984eac9a247b4484f3cc9c",
       "value": 363860
      }
     },
     "f644064f53a449f59c239a6996ac6162": {
      "model_module": "jupyter-js-widgets",
      "model_module_version": "~2.1.4",
      "model_name": "LayoutModel",
      "state": {
       "_model_module_version": "~2.1.4",
       "_view_module_version": "~2.1.4"
      }
     },
     "f6d7169fd14a461898eb8e565596a9f9": {
      "model_module": "jupyter-js-widgets",
      "model_module_version": "~2.1.4",
      "model_name": "HTMLModel",
      "state": {
       "_model_module_version": "~2.1.4",
       "_view_module_version": "~2.1.4",
       "layout": "IPY_MODEL_ce8fbfb07c674101bc50355345058f42",
       "value": "[loss: 0.280, acc: 0.876, val_loss: 0.320, val_acc: 0.856] 100% 363862/363862 [18:28&lt;00:00, 35.22it/s]"
      }
     },
     "f77dc01cc34d40dcb0de9c8ba74fe000": {
      "model_module": "jupyter-js-widgets",
      "model_module_version": "~2.1.4",
      "model_name": "HTMLModel",
      "state": {
       "_model_module_version": "~2.1.4",
       "_view_module_version": "~2.1.4",
       "layout": "IPY_MODEL_678054a7578043528b397223790985b3",
       "value": "[loss: 0.155, acc: 0.937, val_loss: 0.355, val_acc: 0.866] 100% 363860/363860 [19:31&lt;00:00, 33.22it/s]"
      }
     },
     "f7afac6631ec43d59274b1e4d13435d0": {
      "model_module": "jupyter-js-widgets",
      "model_module_version": "~2.1.4",
      "model_name": "LayoutModel",
      "state": {
       "_model_module_version": "~2.1.4",
       "_view_module_version": "~2.1.4"
      }
     },
     "f7f42ff698bc426c8aa0e893cf9161ea": {
      "model_module": "jupyter-js-widgets",
      "model_module_version": "~2.1.4",
      "model_name": "HTMLModel",
      "state": {
       "_model_module_version": "~2.1.4",
       "_view_module_version": "~2.1.4",
       "layout": "IPY_MODEL_08e729421dce4febb9310c508005f28c",
       "value": "[loss: 0.428, acc: 0.792, val_loss: 0.378, val_acc: 0.822] 100% 363861/363861 [20:29&lt;00:00, 34.56it/s]"
      }
     },
     "f80f87d0b01441e28b3ace7e4af12092": {
      "model_module": "jupyter-js-widgets",
      "model_module_version": "~2.1.4",
      "model_name": "HTMLModel",
      "state": {
       "_model_module_version": "~2.1.4",
       "_view_module_version": "~2.1.4",
       "layout": "IPY_MODEL_f5770600912f4951a75e3ec6ed666701",
       "value": " 10% 5/50 [1:31:46&lt;13:44:03, 1098.75s/it]"
      }
     },
     "f822056d617846dd8a6e5c3d6eba1fa4": {
      "model_module": "jupyter-js-widgets",
      "model_module_version": "~2.1.4",
      "model_name": "LayoutModel",
      "state": {
       "_model_module_version": "~2.1.4",
       "_view_module_version": "~2.1.4"
      }
     },
     "f89428964a85461a88eb0199962a2939": {
      "model_module": "jupyter-js-widgets",
      "model_module_version": "~2.1.4",
      "model_name": "HBoxModel",
      "state": {
       "_model_module_version": "~2.1.4",
       "_view_module_version": "~2.1.4",
       "children": [
        "IPY_MODEL_32ae2ad8a63b45db959f69a92b02fcff",
        "IPY_MODEL_1ce362aa4aff4e3ea9a9b7f4f5c6f446"
       ],
       "layout": "IPY_MODEL_f822056d617846dd8a6e5c3d6eba1fa4"
      }
     },
     "f8f00933bb064ddd9f01db3eedb4f2b9": {
      "model_module": "jupyter-js-widgets",
      "model_module_version": "~2.1.4",
      "model_name": "ProgressModel",
      "state": {
       "_model_module_version": "~2.1.4",
       "_view_module_version": "~2.1.4",
       "description": "Epoch 0: ",
       "layout": "IPY_MODEL_0b88f3b1a1db4f3181a3fa411449ca91",
       "max": 363861,
       "style": "IPY_MODEL_87a4278c83aa43ce8373ea04e637a019",
       "value": 363861
      }
     },
     "f8fca62b59b4429bb346fc862707687e": {
      "model_module": "jupyter-js-widgets",
      "model_module_version": "~2.1.4",
      "model_name": "ProgressModel",
      "state": {
       "_model_module_version": "~2.1.4",
       "_view_module_version": "~2.1.4",
       "description": "Epoch 12: ",
       "layout": "IPY_MODEL_7787ba81a65b4fa094fd72bc6650564d",
       "max": 900,
       "style": "IPY_MODEL_cc1b627b008e4ccb8e7e1ca20b03b9de",
       "value": 900
      }
     },
     "f92a3f83b7124a0fa91e8d410490ee5e": {
      "model_module": "jupyter-js-widgets",
      "model_module_version": "~2.1.4",
      "model_name": "HBoxModel",
      "state": {
       "_model_module_version": "~2.1.4",
       "_view_module_version": "~2.1.4",
       "children": [
        "IPY_MODEL_6741075eeec1456db45cc87348f722bc",
        "IPY_MODEL_24a85539f448480faf27d6af0956f67e"
       ],
       "layout": "IPY_MODEL_9163f76f00e94b7283b3138a2a211280"
      }
     },
     "f9db284358704f0e8204aaa155c68266": {
      "model_module": "jupyter-js-widgets",
      "model_module_version": "~2.1.4",
      "model_name": "ProgressModel",
      "state": {
       "_model_module_version": "~2.1.4",
       "_view_module_version": "~2.1.4",
       "description": "Epoch 6: ",
       "layout": "IPY_MODEL_c460c6ecea9d4920ae42fa639b8c13cd",
       "max": 363860,
       "style": "IPY_MODEL_5a9ec0bd07ea42f498b3ba0f6e5f04b5",
       "value": 363860
      }
     },
     "fa449ddb2fdb418280479ce3a164de2f": {
      "model_module": "jupyter-js-widgets",
      "model_module_version": "~2.1.4",
      "model_name": "ProgressModel",
      "state": {
       "_model_module_version": "~2.1.4",
       "_view_module_version": "~2.1.4",
       "description": "Epoch 3: ",
       "layout": "IPY_MODEL_804e972083234765b0ca3e67fc12b50c",
       "max": 363860,
       "style": "IPY_MODEL_a584235ff6d74ba18f5a3c3839783c9d",
       "value": 363860
      }
     },
     "fa4f5d0289c34c329a6ac9ea7dce91c0": {
      "model_module": "jupyter-js-widgets",
      "model_module_version": "~2.1.4",
      "model_name": "HTMLModel",
      "state": {
       "_model_module_version": "~2.1.4",
       "_view_module_version": "~2.1.4",
       "layout": "IPY_MODEL_6fd7356d57314956aa0e1cf59f7f4e47",
       "value": "[loss: 0.139, acc: 0.961, val_loss: 0.627, val_acc: 0.660] 100% 900/900 [00:02&lt;00:00, 306.62it/s]"
      }
     },
     "fa6aebd68da94f0b89647ff4e6c9460e": {
      "model_module": "jupyter-js-widgets",
      "model_module_version": "~2.1.4",
      "model_name": "HTMLModel",
      "state": {
       "_model_module_version": "~2.1.4",
       "_view_module_version": "~2.1.4",
       "layout": "IPY_MODEL_c79dc86e436d4b819bec8a40b5d09413",
       "value": " 12% 6/50 [2:01:45&lt;14:52:32, 1217.10s/it]"
      }
     },
     "fb02990a6304450380f1d5924c578052": {
      "model_module": "jupyter-js-widgets",
      "model_module_version": "~2.1.4",
      "model_name": "ProgressStyleModel",
      "state": {
       "_model_module_version": "~2.1.4",
       "_view_module_version": "~2.1.4"
      }
     },
     "fb74ea2261b44589b37f008a9892f3b2": {
      "model_module": "jupyter-js-widgets",
      "model_module_version": "~2.1.4",
      "model_name": "LayoutModel",
      "state": {
       "_model_module_version": "~2.1.4",
       "_view_module_version": "~2.1.4"
      }
     },
     "fb8fcca4b1644606b21d4d888268958f": {
      "model_module": "jupyter-js-widgets",
      "model_module_version": "~2.1.4",
      "model_name": "LayoutModel",
      "state": {
       "_model_module_version": "~2.1.4",
       "_view_module_version": "~2.1.4"
      }
     },
     "fc6744fa4c3c4d68a60c5d2d39402dc3": {
      "model_module": "jupyter-js-widgets",
      "model_module_version": "~2.1.4",
      "model_name": "ProgressStyleModel",
      "state": {
       "_model_module_version": "~2.1.4",
       "_view_module_version": "~2.1.4"
      }
     },
     "fd336b0f65e0498092c311dae835c122": {
      "model_module": "jupyter-js-widgets",
      "model_module_version": "~2.1.4",
      "model_name": "LayoutModel",
      "state": {
       "_model_module_version": "~2.1.4",
       "_view_module_version": "~2.1.4"
      }
     },
     "fd44f106e4394e3bb47b4c40db5da4ab": {
      "model_module": "jupyter-js-widgets",
      "model_module_version": "~2.1.4",
      "model_name": "ProgressModel",
      "state": {
       "_model_module_version": "~2.1.4",
       "_view_module_version": "~2.1.4",
       "bar_style": "danger",
       "description": "Training: ",
       "layout": "IPY_MODEL_71717f781e1c40c294deed144aad83a2",
       "max": 50,
       "style": "IPY_MODEL_967baa0a29ec4f64b52adf5b5951c247",
       "value": 6
      }
     },
     "fd4d9f48952044bf8e02089e72676020": {
      "model_module": "jupyter-js-widgets",
      "model_module_version": "~2.1.4",
      "model_name": "HBoxModel",
      "state": {
       "_model_module_version": "~2.1.4",
       "_view_module_version": "~2.1.4",
       "children": [
        "IPY_MODEL_2016f72dbbc3403c9b667852a4fa5d91",
        "IPY_MODEL_6ff1bb0256924e999389b39318d23d07"
       ],
       "layout": "IPY_MODEL_1f0d3ed418e14aaabf91f07cf118f48b"
      }
     },
     "fd953b2312d54d2490f97ebd97429a7b": {
      "model_module": "jupyter-js-widgets",
      "model_module_version": "~2.1.4",
      "model_name": "HTMLModel",
      "state": {
       "_model_module_version": "~2.1.4",
       "_view_module_version": "~2.1.4",
       "layout": "IPY_MODEL_7d28399bc6c945eda06d8f381e84fae7",
       "value": "[loss: 0.155, acc: 0.936, val_loss: 0.352, val_acc: 0.866] 100% 363861/363861 [19:01&lt;00:00, 35.49it/s]"
      }
     },
     "fe5fd3fac64f4b318713c7cae1b26137": {
      "model_module": "jupyter-js-widgets",
      "model_module_version": "~2.1.4",
      "model_name": "LayoutModel",
      "state": {
       "_model_module_version": "~2.1.4",
       "_view_module_version": "~2.1.4"
      }
     },
     "fe6d688d60bb4d7da99f4d5791d5b058": {
      "model_module": "jupyter-js-widgets",
      "model_module_version": "~2.1.4",
      "model_name": "HBoxModel",
      "state": {
       "_model_module_version": "~2.1.4",
       "_view_module_version": "~2.1.4",
       "children": [
        "IPY_MODEL_b634213825e348c8a1d71d2550d569d2",
        "IPY_MODEL_6b42daf9de264a42b4dab59c08524e1b"
       ],
       "layout": "IPY_MODEL_0da558895fc949a6a2b20b489dd13ebc"
      }
     },
     "fe87c9bb4376495b9d97df29352fc47c": {
      "model_module": "jupyter-js-widgets",
      "model_module_version": "~2.1.4",
      "model_name": "ProgressModel",
      "state": {
       "_model_module_version": "~2.1.4",
       "_view_module_version": "~2.1.4",
       "bar_style": "danger",
       "description": "Training: ",
       "layout": "IPY_MODEL_14fbb95c089c454a845715c54a907e52",
       "max": 50,
       "style": "IPY_MODEL_3e4d93d158324281aa376d242c625c20",
       "value": 5
      }
     },
     "fe93a0e83c70428ca1ae0d9577f9c589": {
      "model_module": "jupyter-js-widgets",
      "model_module_version": "~2.1.4",
      "model_name": "LayoutModel",
      "state": {
       "_model_module_version": "~2.1.4",
       "_view_module_version": "~2.1.4"
      }
     },
     "ff18068407f14663a88f5303cdb1d705": {
      "model_module": "jupyter-js-widgets",
      "model_module_version": "~2.1.4",
      "model_name": "LayoutModel",
      "state": {
       "_model_module_version": "~2.1.4",
       "_view_module_version": "~2.1.4"
      }
     },
     "ff2d19b9595c4b2f95fb48b04299aa98": {
      "model_module": "jupyter-js-widgets",
      "model_module_version": "~2.1.4",
      "model_name": "ProgressModel",
      "state": {
       "_model_module_version": "~2.1.4",
       "_view_module_version": "~2.1.4",
       "description": "Epoch 1: ",
       "layout": "IPY_MODEL_10034ede1024404187f67179e8943069",
       "max": 363860,
       "style": "IPY_MODEL_c624a1ccbf504be1b280598a35cfc4ed",
       "value": 363860
      }
     },
     "ff436c31d3284084b7f49555b5d64c3f": {
      "model_module": "jupyter-js-widgets",
      "model_module_version": "~2.1.4",
      "model_name": "HTMLModel",
      "state": {
       "_model_module_version": "~2.1.4",
       "_view_module_version": "~2.1.4",
       "layout": "IPY_MODEL_632ad3df29df48728f285ceb3f8ec066",
       "value": "[loss: 0.278, acc: 0.877, val_loss: 0.315, val_acc: 0.861] 100% 363861/363861 [19:54&lt;00:00, 34.73it/s]"
      }
     },
     "ff485964a184434685ff14ca3c7a3fab": {
      "model_module": "jupyter-js-widgets",
      "model_module_version": "~2.1.4",
      "model_name": "HTMLModel",
      "state": {
       "_model_module_version": "~2.1.4",
       "_view_module_version": "~2.1.4",
       "layout": "IPY_MODEL_995d9a991e6b4c7f86b01dd895c1c7b0",
       "value": " 12% 6/50 [1:59:59&lt;14:33:13, 1190.77s/it]"
      }
     }
    },
    "version_major": 1,
    "version_minor": 0
   }
  }
 },
 "nbformat": 4,
 "nbformat_minor": 1
}
