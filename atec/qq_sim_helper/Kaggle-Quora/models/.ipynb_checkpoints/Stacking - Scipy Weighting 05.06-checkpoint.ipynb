{
 "cells": [
  {
   "cell_type": "code",
   "execution_count": null,
   "metadata": {
    "collapsed": true
   },
   "outputs": [],
   "source": [
    "import os\n",
    "import time\n",
    "import pandas as pd\n",
    "import numpy as np\n",
    "import xgboost as xgb\n",
    "from sklearn.metrics import log_loss\n",
    "from scipy.optimize import minimize\n",
    "\n",
    "from models_utils_skf import *"
   ]
  },
  {
   "cell_type": "code",
   "execution_count": null,
   "metadata": {
    "collapsed": true
   },
   "outputs": [],
   "source": [
    "def load_oof(mode = 'train'):\n",
    "    src = '/media/w/1c392724-ecf3-4615-8f3c-79368ec36380/DS Projects/Kaggle/Quora/scripts/models/OOF_preds/'\n",
    "    oof_preds = pd.DataFrame()\n",
    "    files = sorted([x for x in os.listdir(src + '{}/'.format(mode)) if '.pkl' in x or '.csv' in x\n",
    "                   and 'stack' not in x])\n",
    "    print('\\n', 'Loading OOF preds:', files, '\\n', 'Numer of files to load:', len(files), '\\n')\n",
    "    for i in files:\n",
    "        if 'pkl'in i:\n",
    "            df_preds = pd.read_pickle('{}/{}/{}'.format(src, mode, i))\n",
    "            if 'id' in df_preds.columns:\n",
    "                df_preds.drop(['id'], axis = 1, inplace = True)\n",
    "            if 'test_id' in df_preds.columns:\n",
    "                df_preds.drop(['test_id'], axis = 1, inplace = True)\n",
    "        if '.csv'in i:\n",
    "            df_preds = pd.read_csv('{}/{}/{}'.format(src, mode, i))\n",
    "            if 'id' in df_preds.columns:\n",
    "                df_preds.drop(['id'], axis = 1, inplace = True)\n",
    "            if 'test_id' in df_preds.columns:\n",
    "                df_preds.drop(['test_id'], axis = 1, inplace = True)\n",
    "        oof_preds = pd.concat([oof_preds, df_preds], axis = 1)\n",
    "    return oof_preds\n",
    "\n",
    "def transform(x):\n",
    "    a = 0.165 / 0.369191399096\n",
    "    b =  (1 - 0.165) / (1 - 0.369191399096)\n",
    "    xt = a * x / (a * x + b * (1 - x))\n",
    "    return xt\n",
    "\n",
    "def inv_pred_transform(preds):\n",
    "    a = 0.165 / 0.369191399096\n",
    "    b = (1 - 0.165) / (1 - 0.369191399096)\n",
    "    return b * preds / (b * preds + a * (1 - preds))\n",
    "\n",
    "def testOOF_transform(X_test2, inverse = True):\n",
    "    X_test = X_test2.copy()\n",
    "    for i in range(X_test.shape[1]):\n",
    "        if inverse:\n",
    "            X_test.iloc[:, i] = X_test.iloc[:, i].apply(inv_pred_transform)\n",
    "        else:\n",
    "            X_test.iloc[:, i] = X_test.iloc[:, i].apply(transform)\n",
    "    return X_test\n",
    "\n",
    "def predict_test_lgbm(test_preds, model_name, transform_preds = True):\n",
    "    print('Predicting on test set with LightGBM.')\n",
    "    sub_src = '/media/w/1c392724-ecf3-4615-8f3c-79368ec36380/DS Projects/Kaggle/Quora/submissions/'\n",
    "    sample_sub = pd.read_csv(sub_src + 'sample_submission.csv')\n",
    "    sample_sub['is_duplicate'] = test_preds\n",
    "    if transform_preds:\n",
    "        sample_sub.is_duplicate = sample_sub.is_duplicate.apply(transform)\n",
    "        sample_sub.to_csv(sub_src + '{}_transformed.csv'.format(model_name), index = False)\n",
    "    else:\n",
    "        sample_sub.to_csv(sub_src + '{}.csv'.format(model_name), index = False)\n",
    "    return"
   ]
  },
  {
   "cell_type": "code",
   "execution_count": null,
   "metadata": {},
   "outputs": [],
   "source": [
    "def weight_stacking(X, y):\n",
    "    skf = StratifiedKFold(n_splits = 10, random_state = 111, shuffle = True)\n",
    "    if isinstance(X, pd.core.frame.DataFrame):\n",
    "        X = X.values\n",
    "    if isinstance(y, pd.core.frame.DataFrame):\n",
    "        y = y.is_duplicate.values\n",
    "    if isinstance(y, pd.core.frame.Series):\n",
    "        y = y.values\n",
    "    print('Running sciPy minimize function to find stacking weights.')\n",
    "    \n",
    "    def minimize_logloss(weights):\n",
    "        final_prediction = 0\n",
    "        for weight, prediction in zip(weights, predictions):\n",
    "                final_prediction += weight*prediction\n",
    "        return log_loss(y_tr, final_prediction)\n",
    "    \n",
    "    scores = []\n",
    "    weights = []\n",
    "    i = 1\n",
    "    for tr_index, val_index in skf.split(X, y):\n",
    "        X_tr, X_val = X[tr_index], X[val_index]\n",
    "        y_tr, y_val = y[tr_index], y[val_index]\n",
    "        \n",
    "        predictions = []\n",
    "        for i in range(X_tr.shape[1]):\n",
    "            predictions.append(np.array(X_tr[:, i]))\n",
    "        starting_values = np.random.uniform(size = X_tr.shape[1])\n",
    "        cons = ({'type':'eq','fun':lambda w: 1-sum(w)})\n",
    "        bounds = [(0,1)] * len(predictions)\n",
    "        \n",
    "        res = minimize(minimize_logloss, \n",
    "           starting_values, \n",
    "           method = 'L-BFGS-B', \n",
    "           bounds = bounds, \n",
    "           constraints = cons,\n",
    "           options={'maxiter': 10000})\n",
    "        scores.append(res['fun'])\n",
    "        weights.append(res['x'])\n",
    "        print('Score for fold {} :'.format(i), res['fun'])\n",
    "        i += 1\n",
    "    print('Mean logloss for model in 10-folds SKF:', np.array(scores).mean(axis = 0), '\\n')\n",
    "    return scores, weights"
   ]
  },
  {
   "cell_type": "code",
   "execution_count": null,
   "metadata": {},
   "outputs": [],
   "source": [
    "X_train = load_oof()\n",
    "X_test = load_oof(mode = 'test')\n",
    "y_train = pd.read_pickle('y_train.pkl')\n",
    "\n",
    "X_train = X_train.iloc[:, :4]"
   ]
  },
  {
   "cell_type": "code",
   "execution_count": null,
   "metadata": {
    "scrolled": true
   },
   "outputs": [],
   "source": [
    "sc, we = weight_stacking(X_train, y_train)"
   ]
  }
 ],
 "metadata": {
  "kernelspec": {
   "display_name": "Python 3",
   "language": "python",
   "name": "python3"
  },
  "language_info": {
   "codemirror_mode": {
    "name": "ipython",
    "version": 3
   },
   "file_extension": ".py",
   "mimetype": "text/x-python",
   "name": "python",
   "nbconvert_exporter": "python",
   "pygments_lexer": "ipython3",
   "version": "3.5.2"
  }
 },
 "nbformat": 4,
 "nbformat_minor": 2
}
