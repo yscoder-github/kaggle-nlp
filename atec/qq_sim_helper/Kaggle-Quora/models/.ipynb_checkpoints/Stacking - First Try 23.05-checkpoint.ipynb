{
 "cells": [
  {
   "cell_type": "code",
   "execution_count": 1,
   "metadata": {
    "collapsed": true
   },
   "outputs": [],
   "source": [
    "import os\n",
    "import time\n",
    "import pandas as pd\n",
    "import numpy as np\n",
    "import xgboost as xgb\n",
    "from sklearn.metrics import log_loss\n",
    "\n",
    "from models_utils_skf import *"
   ]
  },
  {
   "cell_type": "code",
   "execution_count": 5,
   "metadata": {
    "collapsed": true
   },
   "outputs": [],
   "source": [
    "def load_oof(mode = 'train'):\n",
    "    src = '/media/w/1c392724-ecf3-4615-8f3c-79368ec36380/DS Projects/Kaggle/Quora/scripts/models/OOF_preds2/'\n",
    "    oof_preds = pd.DataFrame()\n",
    "    files = sorted([x for x in os.listdir(src + '{}/'.format(mode)) if '.pkl' in x or '.csv' in x\n",
    "                   and 'stack' not in x])\n",
    "    print('\\n', 'Loading OOF preds:', files, '\\n', 'Numer of files to load:', len(files), '\\n')\n",
    "    for i in files:\n",
    "        if 'pkl'in i:\n",
    "            df_preds = pd.read_pickle('{}/{}/{}'.format(src, mode, i))\n",
    "            if 'id' in df_preds.columns:\n",
    "                df_preds.drop(['id'], axis = 1, inplace = True)\n",
    "            if 'test_id' in df_preds.columns:\n",
    "                df_preds.drop(['test_id'], axis = 1, inplace = True)\n",
    "        if '.csv'in i:\n",
    "            df_preds = pd.read_csv('{}/{}/{}'.format(src, mode, i))\n",
    "            if 'id' in df_preds.columns:\n",
    "                df_preds.drop(['id'], axis = 1, inplace = True)\n",
    "            if 'test_id' in df_preds.columns:\n",
    "                df_preds.drop(['test_id'], axis = 1, inplace = True)\n",
    "        oof_preds = pd.concat([oof_preds, df_preds], axis = 1)\n",
    "    return oof_preds\n",
    "\n",
    "def transform(x):\n",
    "    a = 0.165 / 0.37\n",
    "    b =  (1 - 0.165) / (1 - 0.37)\n",
    "    xt = a * x / (a * x + b * (1 - x))\n",
    "    return xt\n",
    "\n",
    "def inv_pred_transform(preds):\n",
    "    a = 0.165 / 0.37\n",
    "    b = (1 - 0.165) / (1 - 0.37)\n",
    "    return b * preds / (b * preds + a * (1 - preds))\n",
    "\n",
    "def testOOF_transform(X_test2):\n",
    "    X_test = X_test2.copy()\n",
    "    for i in range(X_test.shape[1]):\n",
    "        X_test.iloc[:, i] = X_test.iloc[:, i].apply(inv_pred_transform)\n",
    "    return X_test\n",
    "\n",
    "def predict_test_lgbm(test_preds, model_name, transform_preds = True):\n",
    "    print('Predicting on test set with LightGBM.')\n",
    "    sub_src = '/media/w/1c392724-ecf3-4615-8f3c-79368ec36380/DS Projects/Kaggle/Quora/submissions/'\n",
    "    sample_sub = pd.read_csv(sub_src + 'sample_submission.csv')\n",
    "    sample_sub['is_duplicate'] = test_preds\n",
    "    if transform_preds:\n",
    "        sample_sub.is_duplicate = sample_sub.is_duplicate.apply(transform)\n",
    "    sample_sub.to_csv(sub_src + '{}.csv'.format(model_name), index = False)\n",
    "    return\n",
    "\n",
    "lgb_params = {\n",
    "    'task' : 'train',\n",
    "    'boosting_type' : 'gbdt',\n",
    "    'objective' : 'binary',\n",
    "    'metric' : {'binary_logloss'},\n",
    "    'learning_rate' : 0.03,\n",
    "    'feature_fraction' : 0.62,\n",
    "    'bagging_fraction': 0.9,\n",
    "    'bagging_freq': 100,\n",
    "    'num_leaves' : 255,\n",
    "    'max_depth': 4,\n",
    "    'min_data_in_leaf': 11,\n",
    "    'subsample': 0.76,\n",
    "    'colsample_bytree': 0.69,\n",
    "    'silent': 1,\n",
    "    'random_state': 1337,\n",
    "    'verbose': 1,\n",
    "    'nthread': 4,\n",
    "}\n",
    "\n",
    "xgb_params = {\n",
    "    'seed': 1337,\n",
    "    'colsample_bytree': 0.42,\n",
    "    'silent': 1,\n",
    "    'subsample': 0.85,\n",
    "    'eta': 0.02,\n",
    "    'objective': 'binary:logistic',\n",
    "    'eval_metric': 'logloss',\n",
    "    'max_depth': 4,\n",
    "    'min_child_weight': 20,\n",
    "    'nthread': 4,\n",
    "    }"
   ]
  },
  {
   "cell_type": "markdown",
   "metadata": {},
   "source": [
    "* Mean logloss for model in 10-folds SKF: 0.174844919917 depth 2\n",
    "* stacking_MLPadded: Mean logloss for model in 10-folds SKF: 0.174714047933 "
   ]
  },
  {
   "cell_type": "code",
   "execution_count": 6,
   "metadata": {
    "scrolled": true
   },
   "outputs": [
    {
     "name": "stdout",
     "output_type": "stream",
     "text": [
      "\n",
      " Loading OOF preds: ['train_preds_866cols_xgbparams1.pkl', 'train_preds_866cols_xgbparams2.pkl', 'train_preds_866cols_xgbparams3.pkl', 'train_preds_866cols_xgbparams4.pkl', 'train_preds_newNetworks_currentBest.pkl'] \n",
      " Numer of files to load: 5 \n",
      "\n",
      "\n",
      " Loading OOF preds: ['test_preds_866cols_xgbparams1.csv', 'test_preds_866cols_xgbparams2.csv', 'test_preds_866cols_xgbparams3.csv', 'test_preds_866cols_xgbparams4.csv', 'test_preds_newNetworks_currentBest.csv'] \n",
      " Numer of files to load: 5 \n",
      "\n"
     ]
    }
   ],
   "source": [
    "X_train = load_oof()\n",
    "X_test = load_oof(mode = 'test')\n",
    "y_train = pd.read_pickle('y_train.pkl')\n",
    "#X_test = testOOF_transform(X_test)"
   ]
  },
  {
   "cell_type": "code",
   "execution_count": 10,
   "metadata": {},
   "outputs": [
    {
     "name": "stdout",
     "output_type": "stream",
     "text": [
      "Predicting on test set with LightGBM.\n"
     ]
    }
   ],
   "source": [
    "savename = '5GBMS'\n",
    "X_test2 = X_test.mean(axis = 1)\n",
    "predict_test_lgbm(X_test2, savename, transform_preds = False)"
   ]
  },
  {
   "cell_type": "code",
   "execution_count": 4,
   "metadata": {
    "collapsed": true
   },
   "outputs": [],
   "source": [
    "X_train.to_pickle('OOF_preds/Xtrain_allmodels.pkl')\n",
    "X_test.to_pickle('OOF_preds/Xtest_allmodels.pkl')"
   ]
  },
  {
   "cell_type": "raw",
   "metadata": {},
   "source": [
    "agbm = np.load('OOF_preds/h2o_gbm_test.npy')\n",
    "agbm = agbm.T\n",
    "agbm2 = np.apply_along_axis(transform, 1, agbm)\n",
    "agbm3 = agbm2.mean(axis = 1)\n",
    "agbm3 = pd.DataFrame(agbm3)\n",
    "agbm3.columns = ['is_duplicate_AlexGBM']\n",
    "agbm3.to_pickle('OOF_preds/test_preds_GBMAlex.pkl')"
   ]
  },
  {
   "cell_type": "code",
   "execution_count": null,
   "metadata": {
    "collapsed": true,
    "scrolled": true
   },
   "outputs": [],
   "source": [
    "\n",
    "oof_train, oof_test = lgb_foldrun_test(X_train, y_train, X_test, lgb_params, savename, False)\n"
   ]
  },
  {
   "cell_type": "code",
   "execution_count": null,
   "metadata": {
    "collapsed": true
   },
   "outputs": [],
   "source": []
  }
 ],
 "metadata": {
  "kernelspec": {
   "display_name": "Python 3",
   "language": "python",
   "name": "python3"
  },
  "language_info": {
   "codemirror_mode": {
    "name": "ipython",
    "version": 3
   },
   "file_extension": ".py",
   "mimetype": "text/x-python",
   "name": "python",
   "nbconvert_exporter": "python",
   "pygments_lexer": "ipython3",
   "version": "3.5.2"
  }
 },
 "nbformat": 4,
 "nbformat_minor": 2
}
