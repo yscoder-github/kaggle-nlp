{
 "cells": [
  {
   "cell_type": "code",
   "execution_count": 1,
   "metadata": {
    "collapsed": true,
    "scrolled": false
   },
   "outputs": [],
   "source": [
    "import nltk\n",
    "import difflib\n",
    "import time\n",
    "import gc\n",
    "import itertools\n",
    "import multiprocessing\n",
    "import pandas as pd\n",
    "import numpy as np\n",
    "import xgboost as xgb\n",
    "import lightgbm as lgb\n",
    "\n",
    "import warnings\n",
    "warnings.filterwarnings('ignore')\n",
    "import matplotlib.pyplot as plt\n",
    "%matplotlib inline\n",
    "import seaborn as sns\n",
    "\n",
    "from sklearn.metrics import log_loss\n",
    "from sklearn.model_selection import train_test_split, StratifiedKFold\n",
    "\n",
    "from models_utils_fe import *\n",
    "from models_utils_skf import *"
   ]
  },
  {
   "cell_type": "code",
   "execution_count": null,
   "metadata": {},
   "outputs": [],
   "source": [
    "src = '/media/w/1c392724-ecf3-4615-8f3c-79368ec36380/DS Projects/Kaggle/Quora/scripts/features/'\n",
    "feats_src = '/media/w/1c392724-ecf3-4615-8f3c-79368ec36380/DS Projects/Kaggle/Quora/data/features/uncleaned/'\n",
    "oof_src = '/media/w/1c392724-ecf3-4615-8f3c-79368ec36380/DS Projects/Kaggle/Quora/scripts/models/OOF_preds/train/'\n",
    "\n",
    "X_train = pd.read_pickle('Xtrain_866BestColsDropped.pkl')\n",
    "mlp = pd.read_pickle(oof_src + 'train_preds_MLP_1sttry.pkl')\n",
    "X_train = pd.concat([X_train, mlp], axis = 1)\n",
    "X_train = X_train.astype('float32')\n",
    "print(X_train.shape)\n",
    "\n",
    "xgb_feats = pd.read_csv(feats_src + '/the_1owl/owl_train.csv')\n",
    "y_train = xgb_feats[['is_duplicate']]\n",
    "\n",
    "del xgb_feats\n",
    "gc.collect()"
   ]
  },
  {
   "cell_type": "code",
   "execution_count": null,
   "metadata": {
    "collapsed": true
   },
   "outputs": [],
   "source": [
    "def xgb_foldrun_ooftr(X, y, params, name, save = True):\n",
    "    skf = StratifiedKFold(n_splits = 10, random_state = 111, shuffle = True)\n",
    "    if isinstance(X, pd.core.frame.DataFrame):\n",
    "        X = X.values\n",
    "    if isinstance(y, pd.core.frame.DataFrame):\n",
    "        y = y.is_duplicate.values\n",
    "    if isinstance(y, pd.core.frame.Series):\n",
    "        y = y.values\n",
    "    print('Running XGB model with parameters:', params)\n",
    "    \n",
    "    i = 0\n",
    "    losses = []\n",
    "    oof_train = np.zeros((X.shape[0]))\n",
    "    os.makedirs('saved_models/XGB/SKF/{}'.format(name), exist_ok = True)\n",
    "    for tr_index, val_index in skf.split(X, y):\n",
    "        X_tr, X_val = X[tr_index], X[val_index]\n",
    "        y_tr, y_val = y[tr_index], y[val_index]\n",
    "        t = time.time()\n",
    "        \n",
    "        dtrain = xgb.DMatrix(X_tr, label = y_tr)\n",
    "        dval = xgb.DMatrix(X_val, label = y_val)\n",
    "        watchlist = [(dtrain, 'train'), (dval, 'valid')]\n",
    "        print('Start training on fold: {}'.format(i))\n",
    "        gbm = xgb.train(params, dtrain, 10000, watchlist, \n",
    "                        early_stopping_rounds = 200, verbose_eval = 100)\n",
    "        print('Start predicting...')\n",
    "        val_pred = gbm.predict(xgb.DMatrix(X_val), ntree_limit=gbm.best_ntree_limit)\n",
    "        oof_train[val_index] = val_pred\n",
    "        score = log_loss(y_val, val_pred)\n",
    "        losses.append(score)\n",
    "        print('Final score for fold {} :'.format(i), score, '\\n',\n",
    "              'Time it took to train and predict on fold:', time.time() - t, '\\n')\n",
    "        gbm.save_model('saved_models/XGB/SKF/{}/XGB_10SKF_loss{:.5f}_fold{}.txt'.format(name, score, i))\n",
    "        i += 1\n",
    "    print('Mean logloss for model in 10-folds SKF:', np.array(losses).mean(axis = 0))\n",
    "    oof_train = pd.DataFrame(oof_train)\n",
    "    oof_train.columns = ['{}_prob'.format(name)]\n",
    "    if save:\n",
    "        oof_train.to_pickle('OOF_preds/train/train_preds_{}.pkl'.format(name))\n",
    "    return oof_train"
   ]
  },
  {
   "cell_type": "code",
   "execution_count": null,
   "metadata": {
    "collapsed": true
   },
   "outputs": [],
   "source": [
    "xgb_params1 = {\n",
    "    'seed': 1337,\n",
    "    'colsample_bytree': 0.46,\n",
    "    'silent': 1,\n",
    "    'subsample': 0.89,\n",
    "    'eta': 0.02,\n",
    "    'objective': 'binary:logistic',\n",
    "    'eval_metric': 'logloss',\n",
    "    'max_depth': 8,\n",
    "    'min_child_weight': 21,\n",
    "    'nthread': 4,\n",
    "    'tree_method': 'hist',\n",
    "    }\n",
    "\n",
    "xgb_params2 = {\n",
    "    'seed': 1337,\n",
    "    'colsample_bytree': 0.43,\n",
    "    'silent': 1,\n",
    "    'subsample': 0.88,\n",
    "    'eta': 0.02,\n",
    "    'objective': 'binary:logistic',\n",
    "    'eval_metric': 'logloss',\n",
    "    'max_depth': 5,\n",
    "    'min_child_weight': 30,\n",
    "    'nthread': 4,\n",
    "    'tree_method': 'hist',\n",
    "    }"
   ]
  },
  {
   "cell_type": "markdown",
   "metadata": {},
   "source": [
    "* 866cols_xgbparams1: Mean SKF 0.179874240765"
   ]
  },
  {
   "cell_type": "code",
   "execution_count": null,
   "metadata": {
    "scrolled": true
   },
   "outputs": [],
   "source": [
    "oof_train1 = xgb_foldrun_ooftr(X_train, y_train, xgb_params1, '866cols_xgbparams1')"
   ]
  },
  {
   "cell_type": "code",
   "execution_count": null,
   "metadata": {},
   "outputs": [],
   "source": [
    "oof_train2 = xgb_foldrun_ooftr(X_train, y_train, xgb_params2, '866cols_xgbparams2')"
   ]
  },
  {
   "cell_type": "code",
   "execution_count": null,
   "metadata": {
    "collapsed": true
   },
   "outputs": [],
   "source": [
    "xgb_params3 = {\n",
    "    'seed': 1337,\n",
    "    'colsample_bytree': 0.38,\n",
    "    'silent': 1,\n",
    "    'subsample': 0.87,\n",
    "    'eta': 0.02,\n",
    "    'objective': 'binary:logistic',\n",
    "    'eval_metric': 'logloss',\n",
    "    'max_depth': 10,\n",
    "    'min_child_weight': 16,\n",
    "    'nthread': 4,\n",
    "    'tree_method': 'hist',\n",
    "    }\n",
    "\n",
    "xgb_params4 = {\n",
    "    'seed': 1337,\n",
    "    'colsample_bytree': 0.46,\n",
    "    'silent': 1,\n",
    "    'subsample': 0.88,\n",
    "    'eta': 0.02,\n",
    "    'objective': 'binary:logistic',\n",
    "    'eval_metric': 'logloss',\n",
    "    'max_depth': 7,\n",
    "    'min_child_weight': 23,\n",
    "    'nthread': 4,\n",
    "    'tree_method': 'hist',\n",
    "    }\n",
    "\n",
    "\n",
    "oof_train3 = xgb_foldrun_ooftr(X_train, y_train, xgb_params3, '866cols_xgbparams3')\n",
    "oof_train4 = xgb_foldrun_ooftr(X_train, y_train, xgb_params4, '866cols_xgbparams4')"
   ]
  },
  {
   "cell_type": "code",
   "execution_count": null,
   "metadata": {
    "collapsed": true,
    "scrolled": true
   },
   "outputs": [],
   "source": [
    "gbm = xgb.Booster(model_file = 'saved_models/XGB/XGB_10SKF_FredFeatsGRU_loss0.17917_fold1.txt')\n",
    "dtrain = xgb.DMatrix(X_train, label = y_train)\n",
    "\n",
    "mapper = {'f{0}'.format(i): v for i, v in enumerate(dtrain.feature_names)}\n",
    "importance = {mapper[k]: v for k, v in gbm.get_fscore().items()}\n",
    "importance = sorted(importance.items(), key=lambda x:x[1], reverse=True)[:20]\n",
    "\n",
    "df_importance = pd.DataFrame(importance, columns=['feature', 'fscore'])\n",
    "df_importance['fscore'] = df_importance['fscore'] / df_importance['fscore'].sum()\n",
    "\n",
    "plt.figure()\n",
    "df_importance.plot()\n",
    "df_importance.plot(kind='barh', x='feature', y='fscore', legend=False, figsize=(10, 18))\n",
    "plt.title('XGBoost Feature Importance')\n",
    "plt.xlabel('relative importance')"
   ]
  }
 ],
 "metadata": {
  "kernelspec": {
   "display_name": "Python 3",
   "language": "python",
   "name": "python3"
  },
  "language_info": {
   "codemirror_mode": {
    "name": "ipython",
    "version": 3
   },
   "file_extension": ".py",
   "mimetype": "text/x-python",
   "name": "python",
   "nbconvert_exporter": "python",
   "pygments_lexer": "ipython3",
   "version": "3.5.2"
  }
 },
 "nbformat": 4,
 "nbformat_minor": 2
}
