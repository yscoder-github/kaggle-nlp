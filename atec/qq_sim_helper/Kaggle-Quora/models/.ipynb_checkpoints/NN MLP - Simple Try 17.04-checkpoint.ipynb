{
 "cells": [
  {
   "cell_type": "code",
   "execution_count": 10,
   "metadata": {
    "scrolled": false
   },
   "outputs": [],
   "source": [
    "import os\n",
    "os.environ[\"CUDA_DEVICE_ORDER\"]=\"PCI_BUS_ID\"\n",
    "os.environ[\"CUDA_VISIBLE_DEVICES\"]=\"0\"\n",
    "\n",
    "import pandas as pd\n",
    "import numpy as np\n",
    "import time\n",
    "\n",
    "from sklearn.metrics import log_loss\n",
    "from sklearn.model_selection import train_test_split\n",
    "from keras.preprocessing.text import Tokenizer\n",
    "from keras.preprocessing.sequence import pad_sequences\n",
    "from keras.layers import Dense, Input, LSTM, Embedding, Dropout, Activation\n",
    "from keras.layers.merge import concatenate\n",
    "from keras.models import Model\n",
    "from keras.layers.normalization import BatchNormalization\n",
    "from keras.callbacks import EarlyStopping, ModelCheckpoint\n",
    "from keras.layers.advanced_activations import PReLU\n",
    "from keras.optimizers import Adam, Nadam, SGD\n",
    "\n",
    "from models_utils_fe import *"
   ]
  },
  {
   "cell_type": "code",
   "execution_count": 5,
   "metadata": {},
   "outputs": [],
   "source": [
    "src = '/media/w/1c392724-ecf3-4615-8f3c-79368ec36380/DS Projects/Kaggle/Quora/scripts/features/'\n",
    "feats_src = '/media/w/1c392724-ecf3-4615-8f3c-79368ec36380/DS Projects/Kaggle/Quora/data/features/uncleaned/'\n",
    "\n",
    "X_train = pd.read_pickle('Xtrain_500bestCols.pkl')\n",
    "\n",
    "xgb_feats = pd.read_csv(feats_src + '/the_1owl/owl_train.csv')\n",
    "y_train = xgb_feats[['is_duplicate']]"
   ]
  },
  {
   "cell_type": "code",
   "execution_count": 15,
   "metadata": {
    "collapsed": true
   },
   "outputs": [],
   "source": [
    "def dense_model(ncols):\n",
    "    dense_input = Input(shape = (ncols,))\n",
    "    d = Dense(512, kernel_initializer = 'he_normal')(dense_input)\n",
    "    d = PReLU()(d)\n",
    "    d = BatchNormalization()(d)\n",
    "    d = Dropout(0.4)(d)\n",
    "    \n",
    "    d2 = Dense(256, kernel_initializer = 'he_normal')(d)\n",
    "    d2 = PReLU()(d2)\n",
    "    d2 = BatchNormalization()(d2)\n",
    "    d2 = Dropout(0.4)(d2)\n",
    "    \n",
    "    d3 = Dense(256, kernel_initializer = 'he_normal')(d2)\n",
    "    d3 = PReLU()(d3)\n",
    "    #d3 = BatchNormalization()(d3)\n",
    "    d3 = Dropout(0.4)(d3)\n",
    "    preds = Dense(1, activation='sigmoid')(d3)\n",
    "    \n",
    "    model = Model(inputs=[dense_input], outputs=preds)\n",
    "    model.compile(loss='binary_crossentropy', optimizer='adam', metrics=['acc'])\n",
    "    return model\n",
    "\n",
    "def nn_model():\n",
    "    model = Sequential()\n",
    "    \n",
    "    model.add(Dense(400, input_dim = xtrain.shape[1], init = 'he_normal'))\n",
    "    model.add(PReLU())\n",
    "    model.add(BatchNormalization())\n",
    "    model.add(Dropout(0.4))\n",
    "        \n",
    "    model.add(Dense(200, init = 'he_normal'))\n",
    "    model.add(PReLU())\n",
    "    model.add(BatchNormalization())    \n",
    "    model.add(Dropout(0.2))\n",
    "    \n",
    "    model.add(Dense(50, init = 'he_normal'))\n",
    "    model.add(PReLU())\n",
    "    model.add(BatchNormalization())    \n",
    "    model.add(Dropout(0.2))\n",
    "    \n",
    "    model.add(Dense(1, activation = 'sigmoid', init = 'he_normal'))\n",
    "    model.compile(loss='binary_crossentropy', optimizer='adam', metrics=['acc'])\n",
    "    return(model)\n",
    "\n",
    "def train_mlp():\n",
    "    \n",
    "    t = time.time()\n",
    "    X_tr, X_val, y_tr, y_val = train_test_split(X_train, y_train, stratify = y_train,\n",
    "                                            test_size = 0.2, random_state = 111)\n",
    "    ncols = X_train.shape[1]\n",
    "    model = dense_model(ncols)\n",
    "    \n",
    "    early_stopping = EarlyStopping(monitor='val_loss', patience = 5)\n",
    "    hist = model.fit(X_tr.values, y_tr.values, validation_data=(X_val.values, y_val.values), \n",
    "                     epochs=200, batch_size=128,\n",
    "                     verbose=1, shuffle=True, callbacks=[early_stopping])\n",
    "    val_pred = model.predict(X_val)\n",
    "    \n",
    "    score = log_loss(y_val, val_pred)\n",
    "    print('Final score:', score, '\\n', 'Time it took to train and predict:', time.time() - t)\n",
    "    return model"
   ]
  },
  {
   "cell_type": "code",
   "execution_count": null,
   "metadata": {
    "scrolled": true
   },
   "outputs": [
    {
     "name": "stdout",
     "output_type": "stream",
     "text": [
      "Train on 323432 samples, validate on 80858 samples\n",
      "Epoch 1/200\n",
      "323432/323432 [==============================] - 32s - loss: 0.6616 - acc: 0.6308 - val_loss: 0.6585 - val_acc: 0.6308\n",
      "Epoch 2/200\n",
      "323432/323432 [==============================] - 30s - loss: 0.6585 - acc: 0.6308 - val_loss: 0.6585 - val_acc: 0.6308\n",
      "Epoch 3/200\n",
      "323432/323432 [==============================] - 31s - loss: 0.6585 - acc: 0.6308 - val_loss: 0.6585 - val_acc: 0.6308\n",
      "Epoch 4/200\n",
      "323328/323432 [============================>.] - ETA: 0s - loss: 0.6585 - acc: 0.6308"
     ]
    }
   ],
   "source": [
    "mlp = train_mlp()"
   ]
  },
  {
   "cell_type": "code",
   "execution_count": null,
   "metadata": {
    "collapsed": true
   },
   "outputs": [],
   "source": []
  }
 ],
 "metadata": {
  "kernelspec": {
   "display_name": "Python 3",
   "language": "python",
   "name": "python3"
  },
  "language_info": {
   "codemirror_mode": {
    "name": "ipython",
    "version": 3
   },
   "file_extension": ".py",
   "mimetype": "text/x-python",
   "name": "python",
   "nbconvert_exporter": "python",
   "pygments_lexer": "ipython3",
   "version": "3.5.2"
  }
 },
 "nbformat": 4,
 "nbformat_minor": 2
}
