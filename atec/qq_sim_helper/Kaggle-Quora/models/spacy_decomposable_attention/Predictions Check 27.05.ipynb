{
 "cells": [
  {
   "cell_type": "code",
   "execution_count": 1,
   "metadata": {
    "collapsed": true
   },
   "outputs": [],
   "source": [
    "import pandas as pd\n",
    "import numpy as np\n",
    "import os"
   ]
  },
  {
   "cell_type": "code",
   "execution_count": 2,
   "metadata": {
    "collapsed": true
   },
   "outputs": [],
   "source": [
    "train_clean = [x for x in os.listdir('OOF_preds/') if 'train' in x and 'Clean' in x]\n",
    "test_clean = [x for x in os.listdir('OOF_preds/') if 'test' in x and 'Clean' in x]\n",
    "\n",
    "train_ner = [x for x in os.listdir('OOF_preds/') if 'train' in x and 'NER' in x]\n",
    "test_ner = [x for x in os.listdir('OOF_preds/') if 'test' in x and 'NER' in x]"
   ]
  },
  {
   "cell_type": "code",
   "execution_count": 3,
   "metadata": {
    "collapsed": true,
    "scrolled": true
   },
   "outputs": [],
   "source": [
    "def transform(x):\n",
    "    a = 0.165 / 0.37\n",
    "    b =  (1 - 0.165) / (1 - 0.37)\n",
    "    xt = a * x / (a * x + b * (1 - x))\n",
    "    return xt\n",
    "\n",
    "def load_preds(files_list):\n",
    "    df_preds = pd.DataFrame()\n",
    "    for i in files_list:\n",
    "        df_pred = pd.read_pickle('OOF_preds/' + i)\n",
    "        df_preds = pd.concat([df_preds, df_pred])\n",
    "    df_preds.sort_index(inplace = True)\n",
    "    return df_preds\n",
    "\n",
    "def load_preds_test(files_list, name):\n",
    "    df_feat1 = pd.DataFrame()\n",
    "    df_feat2 = pd.DataFrame()\n",
    "    for i in files_list:\n",
    "        df_pred = pd.read_pickle('OOF_preds/' + i)\n",
    "        df_pred.iloc[:, 0] = df_pred.iloc[:, 0].apply(transform)\n",
    "        df_pred.iloc[:, 1] = df_pred.iloc[:, 1].apply(transform)\n",
    "        df_feat1 = pd.concat([df_feat1, df_pred.iloc[:, 0]], axis = 1)\n",
    "        df_feat2 = pd.concat([df_feat2, df_pred.iloc[:, 1]], axis = 1)\n",
    "    df_feat1.sort_index(inplace = True)\n",
    "    df_feat2.sort_index(inplace = True)\n",
    "    df_feat1 = np.mean(df_feat1, axis = 1)\n",
    "    df_feat2 = np.mean(df_feat2, axis = 1)\n",
    "    df_preds = pd.concat([df_feat1, df_feat2], axis = 1)\n",
    "    df_preds.columns = ['attention_feat1_{}'.format(name), 'attention_feat2_{}'.format(name)]\n",
    "    return df_preds\n",
    "\n",
    "tr_cl = load_preds(train_clean)\n",
    "tr_ner = load_preds(train_ner)\n",
    "te_cl = load_preds_test(test_clean, 'clean')\n",
    "te_ner = load_preds_test(test_ner, 'ner')"
   ]
  },
  {
   "cell_type": "code",
   "execution_count": null,
   "metadata": {
    "collapsed": true
   },
   "outputs": [],
   "source": [
    "tr_cl.to_pickle('train_AttentionClean_preds.pkl')\n",
    "tr_ner.to_pickle('train_AttentionNER_preds.pkl')"
   ]
  },
  {
   "cell_type": "code",
   "execution_count": 6,
   "metadata": {
    "collapsed": true
   },
   "outputs": [],
   "source": [
    "te_cl.to_pickle('test_AttentionClean_preds_transformed.pkl')\n",
    "te_ner.to_pickle('test_AttentionNER_preds_transformed.pkl')"
   ]
  },
  {
   "cell_type": "code",
   "execution_count": null,
   "metadata": {
    "collapsed": true
   },
   "outputs": [],
   "source": []
  }
 ],
 "metadata": {
  "kernelspec": {
   "display_name": "Python 3",
   "language": "python",
   "name": "python3"
  },
  "language_info": {
   "codemirror_mode": {
    "name": "ipython",
    "version": 3
   },
   "file_extension": ".py",
   "mimetype": "text/x-python",
   "name": "python",
   "nbconvert_exporter": "python",
   "pygments_lexer": "ipython3",
   "version": "3.5.2"
  }
 },
 "nbformat": 4,
 "nbformat_minor": 2
}
