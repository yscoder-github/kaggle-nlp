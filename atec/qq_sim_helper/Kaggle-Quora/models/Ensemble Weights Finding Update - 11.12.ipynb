{
 "cells": [
  {
   "cell_type": "code",
   "execution_count": 1,
   "metadata": {
    "collapsed": true
   },
   "outputs": [],
   "source": [
    "import pandas as pd\n",
    "import numpy as np\n",
    "from scipy.optimize import minimize\n",
    "from sklearn.metrics import mean_absolute_error\n",
    "import os\n"
   ]
  },
  {
   "cell_type": "code",
   "execution_count": 10,
   "metadata": {
    "collapsed": true
   },
   "outputs": [],
   "source": [
    "def mae_loss_func(weights):\n",
    "    \n",
    "    ''' scipy minimize will pass the weights as a numpy array '''\n",
    "    final_prediction = 0\n",
    "    \n",
    "    for weight, prediction in zip(weights, predictions):\n",
    "            final_prediction += weight*prediction\n",
    "    return mean_absolute_error(y_train1, final_prediction)\n"
   ]
  },
  {
   "cell_type": "code",
   "execution_count": 3,
   "metadata": {},
   "outputs": [
    {
     "data": {
      "text/plain": [
       "7"
      ]
     },
     "execution_count": 3,
     "metadata": {},
     "output_type": "execute_result"
    }
   ],
   "source": [
    "xgb_tr1 = pd.read_csv('Good_preds/XGB_LGBM/train2_LGBM_30.11_10folds_0.003eta_interactions.csv')\n",
    "xgb_tr2 = pd.read_csv('Good_preds/XGB_LGBM/train2_XGBM_2&3_30.11_10folds_0.01eta_interactions.csv')\n",
    "xgb_tr3 = pd.read_csv('Good_preds/XGB_LGBM/train3_preds_XGB2&3+LGBM3_interactions_eta0.03.csv')\n",
    "xgb_tr4 = pd.read_csv('Good_preds/XGB_LGBM/train1_XGB4_eta0.01_2.12.csv')\n",
    "xgb_tr5 = pd.read_csv('Good_preds/XGB_LGBM/train3_preds_no_interactions_eta0.01_oldparams.csv')\n",
    "xgb_tr6 = pd.read_csv('Good_preds/XGB_LGBM/train1_XGBL2_stack_log+210_4.12.csv')\n",
    "xgb_tr7 = pd.read_csv('Good_preds/XGB_LGBM/train1_XGB_Alikernel.csv')['0']\n",
    "\n",
    "\n",
    "nn_tr1 = pd.read_csv('Good_preds/NN/train1_kernelbagging_log+210.csv')\n",
    "nn_tr2 = pd.read_csv('Good_preds/NN/train1_nn3_10folds_10bags_loss+1.csv')\n",
    "nn_tr3 = pd.read_csv('Good_preds/NN/train1_kernelbagging_nonlog.csv')\n",
    "nn_tr4 = pd.read_csv('Good_preds/NN/train1_nn3_10fold5bags_log+210.csv')\n",
    "nn_tr5 = pd.read_csv('Good_preds/NN/train1_nn3_10folds_10bags_loss+1.csv')\n",
    "nn_tr6 = pd.read_csv('Good_preds/NN/train1_nn4_10folds_10bags_loss+1.csv')\n",
    "nn_tr7 = pd.read_csv('Good_preds/NN/train1_nn1_log+210.csv')\n",
    "nn_tr8 = pd.read_csv('Good_preds/NN/train1_NNL2_raw_10folds3bags_6.12.csv')\n",
    "\n",
    "\n",
    "sklearn_knn = pd.read_csv('Good_preds/Sklearn/train_knn_sklearn_algos_4.12.csv')\n",
    "sklearn_sparse = pd.read_csv('Good_preds/Sklearn/train_sparse_sklearn_algos_5.12.csv')\n",
    "etrf_tr = pd.read_csv('Good_preds/Sklearn/train2_ET&RF_Faron_6.12.csv')\n",
    "vw_tr = pd.read_csv('Good_preds/Sklearn/train1_VW_interactions_7.12.csv')\n",
    "vw_quant_tr = pd.read_csv('Good_preds/Sklearn/train1_VW_Quantile_interactions_7.12.csv')\n",
    "fm_mcmc_tr = pd.read_csv('Good_preds/Sklearn/train1_FFM-MCMC_interactions_7.12.csv')\n",
    "rgf_tr = pd.read_csv('Good_preds/Sklearn/train1_RGF_13500_5fold_7.12.csv')\n",
    "\n",
    "\n",
    "\n",
    "nn_tr1.set_index('id', inplace = True)\n",
    "nn_tr1.sort_index(inplace = True)\n",
    "nn_tr1.reset_index(inplace = True)\n",
    "\n",
    "nn_tr3.set_index('id', inplace = True)\n",
    "nn_tr3.sort_index(inplace = True)\n",
    "nn_tr3.reset_index(inplace = True)\n",
    "\n",
    "nn_tr1 = nn_tr1['loss']\n",
    "nn_tr3 = nn_tr3['loss']\n",
    "\n",
    "preds_tr = pd.concat([xgb_tr1, xgb_tr2, xgb_tr3, xgb_tr4, xgb_tr5, xgb_tr7,\n",
    "                      nn_tr1, nn_tr3, nn_tr2, nn_tr4, nn_tr5, nn_tr6, nn_tr7,\n",
    "                     sklearn_knn, sklearn_sparse, etrf_tr, \n",
    "                     vw_tr, vw_quant_tr, fm_mcmc_tr, rgf_tr], 1)\n",
    "\n",
    "preds_tr.columns = xrange(preds_tr.shape[1])\n",
    "\n",
    "\n",
    "\n",
    "X_train1 = preds_tr\n",
    "y_train1 = pd.read_csv('../../train.csv')['loss']\n",
    "\n",
    "import gc\n",
    "del preds_tr\n",
    "gc.collect()"
   ]
  },
  {
   "cell_type": "code",
   "execution_count": 6,
   "metadata": {
    "collapsed": true
   },
   "outputs": [],
   "source": [
    "preds_tr = X_train1.iloc[:, [11, 17, 19, 20, 1, 21, 22,\n",
    "                             13, 24, 25, 26, 27, 31, 3, 32, 12, 34, 35, 7, 36]]\n",
    "preds_tr.columns = xrange(preds_tr.shape[1])"
   ]
  },
  {
   "cell_type": "code",
   "execution_count": 7,
   "metadata": {
    "collapsed": true,
    "scrolled": true
   },
   "outputs": [],
   "source": [
    "predictions = []\n",
    "\n",
    "for i in range(preds_tr.shape[1]):\n",
    "    predictions.append(preds_tr[i])"
   ]
  },
  {
   "cell_type": "code",
   "execution_count": 8,
   "metadata": {
    "collapsed": true
   },
   "outputs": [],
   "source": [
    "\n",
    "starting_values = np.random.uniform(size = len(predictions))\n",
    "cons = ({'type':'eq','fun':lambda w: 1-sum(w)})\n",
    "bounds = [(0,1)] * len(predictions)\n"
   ]
  },
  {
   "cell_type": "code",
   "execution_count": 11,
   "metadata": {},
   "outputs": [
    {
     "name": "stdout",
     "output_type": "stream",
     "text": [
      "Ensemble Score: 1119.2127729\n",
      "Best Weights: [ 0.0105157   0.28526925  0.          0.          0.11016722  0.          0.\n",
      "  0.01838001  0.          0.          0.          0.          0.          0.2597759\n",
      "  0.          0.1299494   0.          0.          0.19759863  0.        ]\n"
     ]
    }
   ],
   "source": [
    "res = minimize(mae_loss_func, \n",
    "           starting_values, \n",
    "           method = 'L-BFGS-B', \n",
    "           bounds = bounds, \n",
    "           constraints = cons,\n",
    "           options={'maxiter': 10000})\n",
    "\n",
    "best_score = res['fun']\n",
    "weights = res['x']\n",
    "\n",
    "print('Ensemble Score: {}'.format(best_score))\n",
    "print('Best Weights: {}'.format(weights))\n"
   ]
  },
  {
   "cell_type": "code",
   "execution_count": null,
   "metadata": {
    "collapsed": true
   },
   "outputs": [],
   "source": []
  }
 ],
 "metadata": {
  "kernelspec": {
   "display_name": "Python 3",
   "language": "python",
   "name": "python3"
  },
  "language_info": {
   "codemirror_mode": {
    "name": "ipython",
    "version": 3
   },
   "file_extension": ".py",
   "mimetype": "text/x-python",
   "name": "python",
   "nbconvert_exporter": "python",
   "pygments_lexer": "ipython3",
   "version": "3.5.2"
  }
 },
 "nbformat": 4,
 "nbformat_minor": 1
}
