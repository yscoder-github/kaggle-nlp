{
 "cells": [
  {
   "cell_type": "code",
   "execution_count": 1,
   "metadata": {
    "collapsed": true
   },
   "outputs": [],
   "source": [
    "import pandas as pd\n",
    "import numpy as np"
   ]
  },
  {
   "cell_type": "code",
   "execution_count": 11,
   "metadata": {
    "collapsed": true
   },
   "outputs": [],
   "source": [
    "def read_sub(name):\n",
    "    return pd.read_csv(sub_src + '{}.csv'.format(name))\n",
    "\n",
    "def average_sub(name1, name2, save = False):\n",
    "    s1 = read_sub(name1)\n",
    "    s2 = read_sub(name2)\n",
    "    sa = s1.copy()\n",
    "    sa['is_duplicate'] = s1.is_duplicate * 0.5 + s2.is_duplicate * 0.5\n",
    "    if save:\n",
    "        sa.to_csv(sub_src + '{}_plus_{}.csv'.format(name1, name2), index = False)\n",
    "    return s1,s2, sa\n",
    "\n",
    "sub_src = '/media/w/1c392724-ecf3-4615-8f3c-79368ec36380/DS Projects/Kaggle/Quora/submissions/'\n",
    "    \n",
    "name1 = 'test_preds_866cols_xgbparams1'\n",
    "name2 = 'test_preds_866cols_xgbparams4'\n",
    "s1, s2, sa = average_sub(name1, name2)"
   ]
  },
  {
   "cell_type": "code",
   "execution_count": 12,
   "metadata": {
    "scrolled": true
   },
   "outputs": [
    {
     "name": "stderr",
     "output_type": "stream",
     "text": [
      "/home/w/anaconda3/envs/idp3/lib/python3.5/site-packages/ipykernel_launcher.py:1: SettingWithCopyWarning: \n",
      "A value is trying to be set on a copy of a slice from a DataFrame\n",
      "\n",
      "See the caveats in the documentation: http://pandas.pydata.org/pandas-docs/stable/indexing.html#indexing-view-versus-copy\n",
      "  \"\"\"Entry point for launching an IPython kernel.\n",
      "/home/w/anaconda3/envs/idp3/lib/python3.5/site-packages/ipykernel_launcher.py:2: SettingWithCopyWarning: \n",
      "A value is trying to be set on a copy of a slice from a DataFrame\n",
      "\n",
      "See the caveats in the documentation: http://pandas.pydata.org/pandas-docs/stable/indexing.html#indexing-view-versus-copy\n",
      "  \n"
     ]
    }
   ],
   "source": [
    "sa.is_duplicate[(sa.is_duplicate <= 0.01) & (sa.is_duplicate >= 1e-5)] = 1e-5\n",
    "sa.is_duplicate[(sa.is_duplicate >= 0.98) & (sa.is_duplicate <= 0.9999)] = 0.9999"
   ]
  },
  {
   "cell_type": "code",
   "execution_count": 14,
   "metadata": {
    "collapsed": true
   },
   "outputs": [],
   "source": [
    "sa.to_csv('test_preds_866cols_xgbparams1+test_preds_866cols_xgbparams4_thresholded.csv', index = False)"
   ]
  },
  {
   "cell_type": "code",
   "execution_count": null,
   "metadata": {
    "collapsed": true
   },
   "outputs": [],
   "source": []
  }
 ],
 "metadata": {
  "kernelspec": {
   "display_name": "Python 3",
   "language": "python",
   "name": "python3"
  },
  "language_info": {
   "codemirror_mode": {
    "name": "ipython",
    "version": 3
   },
   "file_extension": ".py",
   "mimetype": "text/x-python",
   "name": "python",
   "nbconvert_exporter": "python",
   "pygments_lexer": "ipython3",
   "version": "3.5.2"
  }
 },
 "nbformat": 4,
 "nbformat_minor": 2
}
